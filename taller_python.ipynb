{
 "metadata": {
  "language_info": {
   "codemirror_mode": {
    "name": "ipython",
    "version": 3
   },
   "file_extension": ".py",
   "mimetype": "text/x-python",
   "name": "python",
   "nbconvert_exporter": "python",
   "pygments_lexer": "ipython3",
   "version": "3.8.3-final"
  },
  "orig_nbformat": 2,
  "kernelspec": {
   "name": "Python 3.8.3 64-bit ('base': conda)",
   "display_name": "Python 3.8.3 64-bit ('base': conda)",
   "metadata": {
    "interpreter": {
     "hash": "9ff26dfd9b0fc0cca3d8c400f6814bd976a81d0f03d9612ba05cf6591c88322d"
    }
   }
  }
 },
 "nbformat": 4,
 "nbformat_minor": 2,
 "cells": [
  {
   "source": [
    "# Taller de visualización de datos, \"Visualizando datos de COVID-19\"\n",
    "## Manejo y procesamiento de datos\n",
    "En esta sección del tutorial descragaremos los datos, los procesaremos, haremos algunas gráficas exploratorias y generaremos los insumos necesarios para visualizar nuestros datos en la web."
   ],
   "cell_type": "markdown",
   "metadata": {}
  },
  {
   "source": [
    "La celda que estas leyendo es una celda de texto, no es necesario que teclees todo esto en tu ejemplo. La siguiente celda es una celda de código. Para seguir el ejemplo tendras que ir tecleando cada una de ellas y ejecutandolas paso a paso. La manera más fácil de ejecutar una celda de Jupyter es después de teclearla presionar Shift+Enter, esto ejecutará el código en ella, te mosdtrará el resultado de la ejecución si es que hay algo que mostrar y te dará una celda nueva debajo de la celda actual. Probemos con la siguiente celda, escribe 2+2 y presiona Shift+Enter, la celda debería de darte el resultado de la suma y colocarte en una celda nueva."
   ],
   "cell_type": "markdown",
   "metadata": {}
  },
  {
   "cell_type": "code",
   "execution_count": 3,
   "metadata": {},
   "outputs": [
    {
     "output_type": "execute_result",
     "data": {
      "text/plain": [
       "4"
      ]
     },
     "metadata": {},
     "execution_count": 3
    }
   ],
   "source": [
    "2+2"
   ]
  },
  {
   "source": [
    "Si se ejecutó la celda y obtuviste el resultado todo está listo para continuar."
   ],
   "cell_type": "markdown",
   "metadata": {}
  },
  {
   "source": [
    "## Importando las librerías necesarias para realizar análisis de datos\n",
    "\n",
    "Lo primero que haremos es importar las librerías necesarias para hacer análisis de datos. Por lo pronto necesitaremos 2 librterías:\n",
    "\n",
    "* [Pandas](https://pandas.pydata.org/pandas-docs/stable/index.html)\n",
    "* [Bokeh](https://docs.bokeh.org/en/latest/index.html)\n",
    "\n",
    "Pandas lo usaremos para manipular de formas muy eficientes nuestra base de datos. \n",
    "\n",
    "Bokeh lo utilizaremos para graficar y realizar algunas visualizaciones de datos básicas con nuestros datos.\n",
    "\n",
    "Ambas las importaremos a nuestro notebook a traves del comando import y las guardaremos en aliases para que no tengamos que teclear tanto cuando las llamamos. Pandas la guardaremos en el alias \"pd\" y Bokeh lo guardaremos en el alias \"bpl\"\n"
   ],
   "cell_type": "markdown",
   "metadata": {}
  },
  {
   "cell_type": "code",
   "execution_count": 169,
   "metadata": {},
   "outputs": [],
   "source": [
    "import pandas as pd \n",
    "import bokeh.plotting as bpl\n",
    "import bokeh.models as bmd"
   ]
  },
  {
   "source": [
    "## Descargando los datos\n",
    "\n",
    "En este tutorial trabajaremos con los datos mexicanos reportados por la secretaría de salud relacionados al COVID19. Los datos se publican diariamente y se pueden encontrar [aquí](https://www.gob.mx/salud/documentos/datos-abiertos-152127).\n",
    "\n",
    "En específico nos concentraremos en los datos actuales, que se encuentran en un enlace en esa página. \n",
    "\n",
    "Para poder trabajar con los datos en python necesitamos \"cargarlos\" a memoria. Pandas nos permite crear una estructura de datos con ellos. A esta estructura la llamamos DataFrame.\n",
    "\n",
    "Pandas nos permite crear DataFrames a partir de una gran cantidad de formatos de datos. Los más usuales son los formatos de texto separado por comas o \"CSVs\", texto en notación de objeto tipo JavaScript o \"JSON\", hojas de cálculo de excel. Además Pandas nos permite indicar la dirección de donde está guardado nuestro archivo a utilizar, puede ser una dirección local en tu computadora, por ejemplo una carpeta donde tengas guardados los datos o una dirección URL donde estén almacenados los datos en la web.\n",
    "\n",
    "Para este ejercicio descargaremos directamente los datos de la página de la secretaría de salud pública. Los datos que liberaron están en formato zip, dentro del archivo comprimido hay un archivo de tipo CSV que podemos usar para crear un DataFrame. Pandas nos permite crear un DataFrame en nuestro notebook directamente desde la URL donde están guardados los datos, sin descargarlos y descomprimirlos a nuestra computadora previamente.\n",
    "\n",
    "Teclea y ejecuta lo siguiente en tu notebook:"
   ],
   "cell_type": "markdown",
   "metadata": {}
  },
  {
   "cell_type": "code",
   "execution_count": 5,
   "metadata": {},
   "outputs": [],
   "source": [
    "data = pd.read_csv('http://datosabiertos.salud.gob.mx/gobmx/salud/datos_abiertos/datos_abiertos_covid19.zip', compression='zip',encoding=\"latin1\")"
   ]
  },
  {
   "source": [
    "La instrucción anterior carga los últimos datos liberados por la secretaría, Si queremos los datos de un día en específico podemos cargarlos poniendo la ruta correcta..."
   ],
   "cell_type": "markdown",
   "metadata": {}
  },
  {
   "cell_type": "code",
   "execution_count": 2,
   "metadata": {},
   "outputs": [],
   "source": [
    "data = pd.read_csv('http://datosabiertos.salud.gob.mx/gobmx/salud/datos_abiertos/historicos/10/datos_abiertos_covid19_18.10.2020.zip', compression='zip',encoding=\"latin1\")"
   ]
  },
  {
   "source": [
    "Hay varias cosas importantes en la celda anterior:\n",
    "\n",
    "* Estamos ocupando la función read_csv de Pandas, por eso la invocamos como pd.read_csv() \n",
    "* El primer parámetro de la función es la ruta en la cual se encuentra nuestro archivo, en este caso es una dirección URL al archivo zip en la página de la secretaría de salud mexicana.\n",
    "* Estamos utilizando la opción \"compression\" para indicar que es un archivo tipo zip\n",
    "* Necesitamos indicar que la codificación del archivo es \"latin1\".\n",
    "* La función read_csv() crea un DataFrame listo para procesarse. Este DataFrame lo guardamos en la variable \"data\".\n",
    "\n",
    "Para poder visualizar nuestro DataFrame necesitamos ver el contenido de la variable data, nuestro DataFrame tiene la estructura de una tabla de datos, muy parecida a una hoja de cálculo. En la siguiente celda veremos que hay en esta variable"
   ],
   "cell_type": "markdown",
   "metadata": {}
  },
  {
   "cell_type": "code",
   "execution_count": 3,
   "metadata": {},
   "outputs": [
    {
     "output_type": "execute_result",
     "data": {
      "text/plain": [
       "        FECHA_ACTUALIZACION ID_REGISTRO  ORIGEN  SECTOR  ENTIDAD_UM  SEXO  \\\n",
       "0                2020-10-18      1426fb       1       4          10     1   \n",
       "1                2020-10-18      1c4583       2      12           9     2   \n",
       "2                2020-10-18      0d55c9       2      12           9     1   \n",
       "3                2020-10-18      071735       2       9          21     2   \n",
       "4                2020-10-18      1468a5       1       4           5     1   \n",
       "...                     ...         ...     ...     ...         ...   ...   \n",
       "2183267          2020-10-18      332cf5       2       4          30     1   \n",
       "2183268          2020-10-18      42c51a       2      12           9     2   \n",
       "2183269          2020-10-18      408ef1       2       6           9     2   \n",
       "2183270          2020-10-18      372368       2       9           8     2   \n",
       "2183271          2020-10-18      427b3f       2       9          19     2   \n",
       "\n",
       "         ENTIDAD_NAC  ENTIDAD_RES  MUNICIPIO_RES  TIPO_PACIENTE  ...  \\\n",
       "0                 28           10              7              1  ...   \n",
       "1                  9            9              4              1  ...   \n",
       "2                  9            9             16              1  ...   \n",
       "3                 21           21            114              1  ...   \n",
       "4                 15            5             18              1  ...   \n",
       "...              ...          ...            ...            ...  ...   \n",
       "2183267           30           30            135              1  ...   \n",
       "2183268            9            9             10              1  ...   \n",
       "2183269            9            9              5              1  ...   \n",
       "2183270            8            8             19              2  ...   \n",
       "2183271           19           19             18              2  ...   \n",
       "\n",
       "        RENAL_CRONICA TABAQUISMO OTRO_CASO  TOMA_MUESTRA  RESULTADO_LAB  \\\n",
       "0                   2          2        99             1              1   \n",
       "1                   2          2         2             1              1   \n",
       "2                   2          2         2             1              1   \n",
       "3                   2          2         2             1              1   \n",
       "4                   2          2         1             1              1   \n",
       "...               ...        ...       ...           ...            ...   \n",
       "2183267             2          2         2             1              3   \n",
       "2183268             2          2         1             1              3   \n",
       "2183269             2          2         1             2             97   \n",
       "2183270             2          2         2             1              3   \n",
       "2183271             2          2         2             1              3   \n",
       "\n",
       "         CLASIFICACION_FINAL  MIGRANTE  PAIS_NACIONALIDAD  PAIS_ORIGEN  UCI  \n",
       "0                          3        99            MÃ©xico           97   97  \n",
       "1                          3        99            MÃ©xico           97   97  \n",
       "2                          3        99            MÃ©xico           97   97  \n",
       "3                          3        99            MÃ©xico           97   97  \n",
       "4                          3        99            MÃ©xico           97   97  \n",
       "...                      ...       ...                ...          ...  ...  \n",
       "2183267                    6        99            MÃ©xico           97   97  \n",
       "2183268                    6        99            MÃ©xico           97   97  \n",
       "2183269                    1        99            MÃ©xico           97   97  \n",
       "2183270                    6        99            MÃ©xico           97    2  \n",
       "2183271                    6        99            MÃ©xico           97    2  \n",
       "\n",
       "[2183272 rows x 38 columns]"
      ],
      "text/html": "<div>\n<style scoped>\n    .dataframe tbody tr th:only-of-type {\n        vertical-align: middle;\n    }\n\n    .dataframe tbody tr th {\n        vertical-align: top;\n    }\n\n    .dataframe thead th {\n        text-align: right;\n    }\n</style>\n<table border=\"1\" class=\"dataframe\">\n  <thead>\n    <tr style=\"text-align: right;\">\n      <th></th>\n      <th>FECHA_ACTUALIZACION</th>\n      <th>ID_REGISTRO</th>\n      <th>ORIGEN</th>\n      <th>SECTOR</th>\n      <th>ENTIDAD_UM</th>\n      <th>SEXO</th>\n      <th>ENTIDAD_NAC</th>\n      <th>ENTIDAD_RES</th>\n      <th>MUNICIPIO_RES</th>\n      <th>TIPO_PACIENTE</th>\n      <th>...</th>\n      <th>RENAL_CRONICA</th>\n      <th>TABAQUISMO</th>\n      <th>OTRO_CASO</th>\n      <th>TOMA_MUESTRA</th>\n      <th>RESULTADO_LAB</th>\n      <th>CLASIFICACION_FINAL</th>\n      <th>MIGRANTE</th>\n      <th>PAIS_NACIONALIDAD</th>\n      <th>PAIS_ORIGEN</th>\n      <th>UCI</th>\n    </tr>\n  </thead>\n  <tbody>\n    <tr>\n      <th>0</th>\n      <td>2020-10-18</td>\n      <td>1426fb</td>\n      <td>1</td>\n      <td>4</td>\n      <td>10</td>\n      <td>1</td>\n      <td>28</td>\n      <td>10</td>\n      <td>7</td>\n      <td>1</td>\n      <td>...</td>\n      <td>2</td>\n      <td>2</td>\n      <td>99</td>\n      <td>1</td>\n      <td>1</td>\n      <td>3</td>\n      <td>99</td>\n      <td>MÃ©xico</td>\n      <td>97</td>\n      <td>97</td>\n    </tr>\n    <tr>\n      <th>1</th>\n      <td>2020-10-18</td>\n      <td>1c4583</td>\n      <td>2</td>\n      <td>12</td>\n      <td>9</td>\n      <td>2</td>\n      <td>9</td>\n      <td>9</td>\n      <td>4</td>\n      <td>1</td>\n      <td>...</td>\n      <td>2</td>\n      <td>2</td>\n      <td>2</td>\n      <td>1</td>\n      <td>1</td>\n      <td>3</td>\n      <td>99</td>\n      <td>MÃ©xico</td>\n      <td>97</td>\n      <td>97</td>\n    </tr>\n    <tr>\n      <th>2</th>\n      <td>2020-10-18</td>\n      <td>0d55c9</td>\n      <td>2</td>\n      <td>12</td>\n      <td>9</td>\n      <td>1</td>\n      <td>9</td>\n      <td>9</td>\n      <td>16</td>\n      <td>1</td>\n      <td>...</td>\n      <td>2</td>\n      <td>2</td>\n      <td>2</td>\n      <td>1</td>\n      <td>1</td>\n      <td>3</td>\n      <td>99</td>\n      <td>MÃ©xico</td>\n      <td>97</td>\n      <td>97</td>\n    </tr>\n    <tr>\n      <th>3</th>\n      <td>2020-10-18</td>\n      <td>071735</td>\n      <td>2</td>\n      <td>9</td>\n      <td>21</td>\n      <td>2</td>\n      <td>21</td>\n      <td>21</td>\n      <td>114</td>\n      <td>1</td>\n      <td>...</td>\n      <td>2</td>\n      <td>2</td>\n      <td>2</td>\n      <td>1</td>\n      <td>1</td>\n      <td>3</td>\n      <td>99</td>\n      <td>MÃ©xico</td>\n      <td>97</td>\n      <td>97</td>\n    </tr>\n    <tr>\n      <th>4</th>\n      <td>2020-10-18</td>\n      <td>1468a5</td>\n      <td>1</td>\n      <td>4</td>\n      <td>5</td>\n      <td>1</td>\n      <td>15</td>\n      <td>5</td>\n      <td>18</td>\n      <td>1</td>\n      <td>...</td>\n      <td>2</td>\n      <td>2</td>\n      <td>1</td>\n      <td>1</td>\n      <td>1</td>\n      <td>3</td>\n      <td>99</td>\n      <td>MÃ©xico</td>\n      <td>97</td>\n      <td>97</td>\n    </tr>\n    <tr>\n      <th>...</th>\n      <td>...</td>\n      <td>...</td>\n      <td>...</td>\n      <td>...</td>\n      <td>...</td>\n      <td>...</td>\n      <td>...</td>\n      <td>...</td>\n      <td>...</td>\n      <td>...</td>\n      <td>...</td>\n      <td>...</td>\n      <td>...</td>\n      <td>...</td>\n      <td>...</td>\n      <td>...</td>\n      <td>...</td>\n      <td>...</td>\n      <td>...</td>\n      <td>...</td>\n      <td>...</td>\n    </tr>\n    <tr>\n      <th>2183267</th>\n      <td>2020-10-18</td>\n      <td>332cf5</td>\n      <td>2</td>\n      <td>4</td>\n      <td>30</td>\n      <td>1</td>\n      <td>30</td>\n      <td>30</td>\n      <td>135</td>\n      <td>1</td>\n      <td>...</td>\n      <td>2</td>\n      <td>2</td>\n      <td>2</td>\n      <td>1</td>\n      <td>3</td>\n      <td>6</td>\n      <td>99</td>\n      <td>MÃ©xico</td>\n      <td>97</td>\n      <td>97</td>\n    </tr>\n    <tr>\n      <th>2183268</th>\n      <td>2020-10-18</td>\n      <td>42c51a</td>\n      <td>2</td>\n      <td>12</td>\n      <td>9</td>\n      <td>2</td>\n      <td>9</td>\n      <td>9</td>\n      <td>10</td>\n      <td>1</td>\n      <td>...</td>\n      <td>2</td>\n      <td>2</td>\n      <td>1</td>\n      <td>1</td>\n      <td>3</td>\n      <td>6</td>\n      <td>99</td>\n      <td>MÃ©xico</td>\n      <td>97</td>\n      <td>97</td>\n    </tr>\n    <tr>\n      <th>2183269</th>\n      <td>2020-10-18</td>\n      <td>408ef1</td>\n      <td>2</td>\n      <td>6</td>\n      <td>9</td>\n      <td>2</td>\n      <td>9</td>\n      <td>9</td>\n      <td>5</td>\n      <td>1</td>\n      <td>...</td>\n      <td>2</td>\n      <td>2</td>\n      <td>1</td>\n      <td>2</td>\n      <td>97</td>\n      <td>1</td>\n      <td>99</td>\n      <td>MÃ©xico</td>\n      <td>97</td>\n      <td>97</td>\n    </tr>\n    <tr>\n      <th>2183270</th>\n      <td>2020-10-18</td>\n      <td>372368</td>\n      <td>2</td>\n      <td>9</td>\n      <td>8</td>\n      <td>2</td>\n      <td>8</td>\n      <td>8</td>\n      <td>19</td>\n      <td>2</td>\n      <td>...</td>\n      <td>2</td>\n      <td>2</td>\n      <td>2</td>\n      <td>1</td>\n      <td>3</td>\n      <td>6</td>\n      <td>99</td>\n      <td>MÃ©xico</td>\n      <td>97</td>\n      <td>2</td>\n    </tr>\n    <tr>\n      <th>2183271</th>\n      <td>2020-10-18</td>\n      <td>427b3f</td>\n      <td>2</td>\n      <td>9</td>\n      <td>19</td>\n      <td>2</td>\n      <td>19</td>\n      <td>19</td>\n      <td>18</td>\n      <td>2</td>\n      <td>...</td>\n      <td>2</td>\n      <td>2</td>\n      <td>2</td>\n      <td>1</td>\n      <td>3</td>\n      <td>6</td>\n      <td>99</td>\n      <td>MÃ©xico</td>\n      <td>97</td>\n      <td>2</td>\n    </tr>\n  </tbody>\n</table>\n<p>2183272 rows × 38 columns</p>\n</div>"
     },
     "metadata": {},
     "execution_count": 3
    }
   ],
   "source": [
    "data"
   ]
  },
  {
   "source": [
    "Podemos observar que la estructura es muy similar a una hoja de cálculo. Cada dato está identificado por una columna en la parte posterior y un índice en la parte izquierda. Cada fila representa un caso en la base de datos, cada columna una variable con datos para cada caso. En la parte inferior podemos observar que nuestro DataFrame tiene 2,183,272 filas (este número puede variar dependiendo de cuando descargas el archivo pues diariamente este archivo crece debido a los casos que se agregan) y 38 columnas."
   ],
   "cell_type": "markdown",
   "metadata": {}
  },
  {
   "source": [
    "## Explorando un DataFrame"
   ],
   "cell_type": "markdown",
   "metadata": {}
  },
  {
   "source": [
    "El primer paso para explorar una base de datos es conocer las variables que se encuentran en ella. En este caso podemos pedirle al DataFrame que nos muestre las columnas que contiene. El nombre de las columnas están guardadas en la propiedad \"columns\""
   ],
   "cell_type": "markdown",
   "metadata": {}
  },
  {
   "cell_type": "code",
   "execution_count": 4,
   "metadata": {},
   "outputs": [
    {
     "output_type": "execute_result",
     "data": {
      "text/plain": [
       "Index(['FECHA_ACTUALIZACION', 'ID_REGISTRO', 'ORIGEN', 'SECTOR', 'ENTIDAD_UM',\n",
       "       'SEXO', 'ENTIDAD_NAC', 'ENTIDAD_RES', 'MUNICIPIO_RES', 'TIPO_PACIENTE',\n",
       "       'FECHA_INGRESO', 'FECHA_SINTOMAS', 'FECHA_DEF', 'INTUBADO', 'NEUMONIA',\n",
       "       'EDAD', 'NACIONALIDAD', 'EMBARAZO', 'HABLA_LENGUA_INDIG', 'INDIGENA',\n",
       "       'DIABETES', 'EPOC', 'ASMA', 'INMUSUPR', 'HIPERTENSION', 'OTRA_COM',\n",
       "       'CARDIOVASCULAR', 'OBESIDAD', 'RENAL_CRONICA', 'TABAQUISMO',\n",
       "       'OTRO_CASO', 'TOMA_MUESTRA', 'RESULTADO_LAB', 'CLASIFICACION_FINAL',\n",
       "       'MIGRANTE', 'PAIS_NACIONALIDAD', 'PAIS_ORIGEN', 'UCI'],\n",
       "      dtype='object')"
      ]
     },
     "metadata": {},
     "execution_count": 4
    }
   ],
   "source": [
    "data.columns"
   ]
  },
  {
   "source": [
    "Existen varias maneras para poder extraer pedazos o rebanadas del DataFrame. Por ejemplo podemos pedir una rebanada que contenga solamente la columna \"FECHA_ACTUALIZACION\". Para esto utilizaremos la notación de corchete, escribimos el nombre de la variable donde tenemos guardado nuestro DataFrame y luego entre corchetes la columna que nos interesa. La estructura resultante no es un DataFrame, es una Serie (similar a un DataFrame de una columna)."
   ],
   "cell_type": "markdown",
   "metadata": {}
  },
  {
   "cell_type": "code",
   "execution_count": 5,
   "metadata": {},
   "outputs": [
    {
     "output_type": "execute_result",
     "data": {
      "text/plain": [
       "0          2020-10-18\n",
       "1          2020-10-18\n",
       "2          2020-10-18\n",
       "3          2020-10-18\n",
       "4          2020-10-18\n",
       "              ...    \n",
       "2183267    2020-10-18\n",
       "2183268    2020-10-18\n",
       "2183269    2020-10-18\n",
       "2183270    2020-10-18\n",
       "2183271    2020-10-18\n",
       "Name: FECHA_ACTUALIZACION, Length: 2183272, dtype: object"
      ]
     },
     "metadata": {},
     "execution_count": 5
    }
   ],
   "source": [
    "data[\"FECHA_ACTUALIZACION\"]"
   ]
  },
  {
   "source": [
    "Tambien podemos pedir un conjunto de columnas, para ello utilizamos la misma notación pero con una lista de las columnas que deseamos, por ejemplo pidamos las columnas relacionadas con fechas:"
   ],
   "cell_type": "markdown",
   "metadata": {}
  },
  {
   "cell_type": "code",
   "execution_count": 6,
   "metadata": {},
   "outputs": [
    {
     "output_type": "execute_result",
     "data": {
      "text/plain": [
       "        FECHA_ACTUALIZACION FECHA_INGRESO FECHA_SINTOMAS   FECHA_DEF\n",
       "0                2020-10-18    2020-03-31     2020-03-29  9999-99-99\n",
       "1                2020-10-18    2020-03-30     2020-03-30  9999-99-99\n",
       "2                2020-10-18    2020-03-26     2020-03-24  9999-99-99\n",
       "3                2020-10-18    2020-03-18     2020-03-12  9999-99-99\n",
       "4                2020-10-18    2020-04-02     2020-03-27  9999-99-99\n",
       "...                     ...           ...            ...         ...\n",
       "2183267          2020-10-18    2020-10-14     2020-10-11  9999-99-99\n",
       "2183268          2020-10-18    2020-10-09     2020-10-07  9999-99-99\n",
       "2183269          2020-10-18    2020-10-09     2020-10-02  9999-99-99\n",
       "2183270          2020-10-18    2020-10-15     2020-10-05  9999-99-99\n",
       "2183271          2020-10-18    2020-10-15     2020-10-10  9999-99-99\n",
       "\n",
       "[2183272 rows x 4 columns]"
      ],
      "text/html": "<div>\n<style scoped>\n    .dataframe tbody tr th:only-of-type {\n        vertical-align: middle;\n    }\n\n    .dataframe tbody tr th {\n        vertical-align: top;\n    }\n\n    .dataframe thead th {\n        text-align: right;\n    }\n</style>\n<table border=\"1\" class=\"dataframe\">\n  <thead>\n    <tr style=\"text-align: right;\">\n      <th></th>\n      <th>FECHA_ACTUALIZACION</th>\n      <th>FECHA_INGRESO</th>\n      <th>FECHA_SINTOMAS</th>\n      <th>FECHA_DEF</th>\n    </tr>\n  </thead>\n  <tbody>\n    <tr>\n      <th>0</th>\n      <td>2020-10-18</td>\n      <td>2020-03-31</td>\n      <td>2020-03-29</td>\n      <td>9999-99-99</td>\n    </tr>\n    <tr>\n      <th>1</th>\n      <td>2020-10-18</td>\n      <td>2020-03-30</td>\n      <td>2020-03-30</td>\n      <td>9999-99-99</td>\n    </tr>\n    <tr>\n      <th>2</th>\n      <td>2020-10-18</td>\n      <td>2020-03-26</td>\n      <td>2020-03-24</td>\n      <td>9999-99-99</td>\n    </tr>\n    <tr>\n      <th>3</th>\n      <td>2020-10-18</td>\n      <td>2020-03-18</td>\n      <td>2020-03-12</td>\n      <td>9999-99-99</td>\n    </tr>\n    <tr>\n      <th>4</th>\n      <td>2020-10-18</td>\n      <td>2020-04-02</td>\n      <td>2020-03-27</td>\n      <td>9999-99-99</td>\n    </tr>\n    <tr>\n      <th>...</th>\n      <td>...</td>\n      <td>...</td>\n      <td>...</td>\n      <td>...</td>\n    </tr>\n    <tr>\n      <th>2183267</th>\n      <td>2020-10-18</td>\n      <td>2020-10-14</td>\n      <td>2020-10-11</td>\n      <td>9999-99-99</td>\n    </tr>\n    <tr>\n      <th>2183268</th>\n      <td>2020-10-18</td>\n      <td>2020-10-09</td>\n      <td>2020-10-07</td>\n      <td>9999-99-99</td>\n    </tr>\n    <tr>\n      <th>2183269</th>\n      <td>2020-10-18</td>\n      <td>2020-10-09</td>\n      <td>2020-10-02</td>\n      <td>9999-99-99</td>\n    </tr>\n    <tr>\n      <th>2183270</th>\n      <td>2020-10-18</td>\n      <td>2020-10-15</td>\n      <td>2020-10-05</td>\n      <td>9999-99-99</td>\n    </tr>\n    <tr>\n      <th>2183271</th>\n      <td>2020-10-18</td>\n      <td>2020-10-15</td>\n      <td>2020-10-10</td>\n      <td>9999-99-99</td>\n    </tr>\n  </tbody>\n</table>\n<p>2183272 rows × 4 columns</p>\n</div>"
     },
     "metadata": {},
     "execution_count": 6
    }
   ],
   "source": [
    "data[[\"FECHA_ACTUALIZACION\",\"FECHA_INGRESO\",\"FECHA_SINTOMAS\",\"FECHA_DEF\"]]"
   ]
  },
  {
   "source": [
    "La estructura de datos obtenida es un DataFrame con todas las filas de nuestro DataFrame original pero con solo 4 columnas."
   ],
   "cell_type": "markdown",
   "metadata": {}
  },
  {
   "source": [
    "También podemos pedir filas en específico, para distinguir entre columnas y filas siempre que necesitemos filas utilizaremos la propiedad \"loc\". Su uso es muy similar, por ejemplo, si quisera la fila 10 únicamente puedo hacerlo de la siguiente manera:"
   ],
   "cell_type": "markdown",
   "metadata": {}
  },
  {
   "cell_type": "code",
   "execution_count": 7,
   "metadata": {},
   "outputs": [
    {
     "output_type": "execute_result",
     "data": {
      "text/plain": [
       "FECHA_ACTUALIZACION    2020-10-18\n",
       "ID_REGISTRO                092521\n",
       "ORIGEN                          1\n",
       "SECTOR                         12\n",
       "ENTIDAD_UM                      9\n",
       "SEXO                            1\n",
       "ENTIDAD_NAC                     9\n",
       "ENTIDAD_RES                     9\n",
       "MUNICIPIO_RES                  17\n",
       "TIPO_PACIENTE                   1\n",
       "FECHA_INGRESO          2020-03-30\n",
       "FECHA_SINTOMAS         2020-03-28\n",
       "FECHA_DEF              9999-99-99\n",
       "INTUBADO                       97\n",
       "NEUMONIA                        2\n",
       "EDAD                           49\n",
       "NACIONALIDAD                    1\n",
       "EMBARAZO                        2\n",
       "HABLA_LENGUA_INDIG              2\n",
       "INDIGENA                        2\n",
       "DIABETES                        2\n",
       "EPOC                            2\n",
       "ASMA                            2\n",
       "INMUSUPR                        2\n",
       "HIPERTENSION                    2\n",
       "OTRA_COM                        2\n",
       "CARDIOVASCULAR                  2\n",
       "OBESIDAD                        2\n",
       "RENAL_CRONICA                   2\n",
       "TABAQUISMO                      2\n",
       "OTRO_CASO                       2\n",
       "TOMA_MUESTRA                    1\n",
       "RESULTADO_LAB                   1\n",
       "CLASIFICACION_FINAL             3\n",
       "MIGRANTE                       99\n",
       "PAIS_NACIONALIDAD         MÃ©xico\n",
       "PAIS_ORIGEN                    97\n",
       "UCI                            97\n",
       "Name: 10, dtype: object"
      ]
     },
     "metadata": {},
     "execution_count": 7
    }
   ],
   "source": [
    "data.loc[10]"
   ]
  },
  {
   "source": [
    "También podemos pedir varias filas, por ejemplo hagamos un DataFrame con las filas 1,3 y 6:"
   ],
   "cell_type": "markdown",
   "metadata": {}
  },
  {
   "cell_type": "code",
   "execution_count": 8,
   "metadata": {},
   "outputs": [
    {
     "output_type": "execute_result",
     "data": {
      "text/plain": [
       "  FECHA_ACTUALIZACION ID_REGISTRO  ORIGEN  SECTOR  ENTIDAD_UM  SEXO  \\\n",
       "1          2020-10-18      1c4583       2      12           9     2   \n",
       "3          2020-10-18      071735       2       9          21     2   \n",
       "6          2020-10-18      0e07d8       1       4          15     2   \n",
       "\n",
       "   ENTIDAD_NAC  ENTIDAD_RES  MUNICIPIO_RES  TIPO_PACIENTE  ... RENAL_CRONICA  \\\n",
       "1            9            9              4              1  ...             2   \n",
       "3           21           21            114              1  ...             2   \n",
       "6           15           15            104              2  ...             2   \n",
       "\n",
       "  TABAQUISMO OTRO_CASO  TOMA_MUESTRA  RESULTADO_LAB  CLASIFICACION_FINAL  \\\n",
       "1          2         2             1              1                    3   \n",
       "3          2         2             1              1                    3   \n",
       "6          2        99             1              1                    3   \n",
       "\n",
       "   MIGRANTE  PAIS_NACIONALIDAD  PAIS_ORIGEN  UCI  \n",
       "1        99            MÃ©xico           97   97  \n",
       "3        99            MÃ©xico           97   97  \n",
       "6        99            MÃ©xico           97    2  \n",
       "\n",
       "[3 rows x 38 columns]"
      ],
      "text/html": "<div>\n<style scoped>\n    .dataframe tbody tr th:only-of-type {\n        vertical-align: middle;\n    }\n\n    .dataframe tbody tr th {\n        vertical-align: top;\n    }\n\n    .dataframe thead th {\n        text-align: right;\n    }\n</style>\n<table border=\"1\" class=\"dataframe\">\n  <thead>\n    <tr style=\"text-align: right;\">\n      <th></th>\n      <th>FECHA_ACTUALIZACION</th>\n      <th>ID_REGISTRO</th>\n      <th>ORIGEN</th>\n      <th>SECTOR</th>\n      <th>ENTIDAD_UM</th>\n      <th>SEXO</th>\n      <th>ENTIDAD_NAC</th>\n      <th>ENTIDAD_RES</th>\n      <th>MUNICIPIO_RES</th>\n      <th>TIPO_PACIENTE</th>\n      <th>...</th>\n      <th>RENAL_CRONICA</th>\n      <th>TABAQUISMO</th>\n      <th>OTRO_CASO</th>\n      <th>TOMA_MUESTRA</th>\n      <th>RESULTADO_LAB</th>\n      <th>CLASIFICACION_FINAL</th>\n      <th>MIGRANTE</th>\n      <th>PAIS_NACIONALIDAD</th>\n      <th>PAIS_ORIGEN</th>\n      <th>UCI</th>\n    </tr>\n  </thead>\n  <tbody>\n    <tr>\n      <th>1</th>\n      <td>2020-10-18</td>\n      <td>1c4583</td>\n      <td>2</td>\n      <td>12</td>\n      <td>9</td>\n      <td>2</td>\n      <td>9</td>\n      <td>9</td>\n      <td>4</td>\n      <td>1</td>\n      <td>...</td>\n      <td>2</td>\n      <td>2</td>\n      <td>2</td>\n      <td>1</td>\n      <td>1</td>\n      <td>3</td>\n      <td>99</td>\n      <td>MÃ©xico</td>\n      <td>97</td>\n      <td>97</td>\n    </tr>\n    <tr>\n      <th>3</th>\n      <td>2020-10-18</td>\n      <td>071735</td>\n      <td>2</td>\n      <td>9</td>\n      <td>21</td>\n      <td>2</td>\n      <td>21</td>\n      <td>21</td>\n      <td>114</td>\n      <td>1</td>\n      <td>...</td>\n      <td>2</td>\n      <td>2</td>\n      <td>2</td>\n      <td>1</td>\n      <td>1</td>\n      <td>3</td>\n      <td>99</td>\n      <td>MÃ©xico</td>\n      <td>97</td>\n      <td>97</td>\n    </tr>\n    <tr>\n      <th>6</th>\n      <td>2020-10-18</td>\n      <td>0e07d8</td>\n      <td>1</td>\n      <td>4</td>\n      <td>15</td>\n      <td>2</td>\n      <td>15</td>\n      <td>15</td>\n      <td>104</td>\n      <td>2</td>\n      <td>...</td>\n      <td>2</td>\n      <td>2</td>\n      <td>99</td>\n      <td>1</td>\n      <td>1</td>\n      <td>3</td>\n      <td>99</td>\n      <td>MÃ©xico</td>\n      <td>97</td>\n      <td>2</td>\n    </tr>\n  </tbody>\n</table>\n<p>3 rows × 38 columns</p>\n</div>"
     },
     "metadata": {},
     "execution_count": 8
    }
   ],
   "source": [
    "data.loc[[1,3,6]]"
   ]
  },
  {
   "source": [
    "La notación loc nos permite combinar y pedir solamente un número determinado de filas y un número determinado de columnas. Solamente tenemos que recordar que primero van las filas y luego las columnas, por ejemplo si quisieramos un mini DataFrame conformado por las filas 1,3,6 y las columnas relacionadas con fechas haríamos lo siguiente:"
   ],
   "cell_type": "markdown",
   "metadata": {}
  },
  {
   "cell_type": "code",
   "execution_count": 9,
   "metadata": {},
   "outputs": [
    {
     "output_type": "execute_result",
     "data": {
      "text/plain": [
       "  FECHA_ACTUALIZACION FECHA_INGRESO FECHA_SINTOMAS   FECHA_DEF\n",
       "1          2020-10-18    2020-03-30     2020-03-30  9999-99-99\n",
       "3          2020-10-18    2020-03-18     2020-03-12  9999-99-99\n",
       "6          2020-10-18    2020-03-28     2020-03-28  2020-04-02"
      ],
      "text/html": "<div>\n<style scoped>\n    .dataframe tbody tr th:only-of-type {\n        vertical-align: middle;\n    }\n\n    .dataframe tbody tr th {\n        vertical-align: top;\n    }\n\n    .dataframe thead th {\n        text-align: right;\n    }\n</style>\n<table border=\"1\" class=\"dataframe\">\n  <thead>\n    <tr style=\"text-align: right;\">\n      <th></th>\n      <th>FECHA_ACTUALIZACION</th>\n      <th>FECHA_INGRESO</th>\n      <th>FECHA_SINTOMAS</th>\n      <th>FECHA_DEF</th>\n    </tr>\n  </thead>\n  <tbody>\n    <tr>\n      <th>1</th>\n      <td>2020-10-18</td>\n      <td>2020-03-30</td>\n      <td>2020-03-30</td>\n      <td>9999-99-99</td>\n    </tr>\n    <tr>\n      <th>3</th>\n      <td>2020-10-18</td>\n      <td>2020-03-18</td>\n      <td>2020-03-12</td>\n      <td>9999-99-99</td>\n    </tr>\n    <tr>\n      <th>6</th>\n      <td>2020-10-18</td>\n      <td>2020-03-28</td>\n      <td>2020-03-28</td>\n      <td>2020-04-02</td>\n    </tr>\n  </tbody>\n</table>\n</div>"
     },
     "metadata": {},
     "execution_count": 9
    }
   ],
   "source": [
    "data.loc[[1,3,6],[\"FECHA_ACTUALIZACION\",\"FECHA_INGRESO\",\"FECHA_SINTOMAS\",\"FECHA_DEF\"]]"
   ]
  },
  {
   "source": [
    "Una última cosa que tenemos que saber acerca de la notación loc es que nos permite usar rangos. La notación de rangos nos permite pedir filas o columnas empezando en una y terminando en otra incluyendo todas las que estén en medio. El inicio y el final del rango se separan con el símbolo de 2 puntos. Por ejemplo, para pedir las filas 10 a 20 y columnas entre \"ENTIDAD_NAC\" y \"TIPO_PACIENTE\" usamos la siguiente instrucción:"
   ],
   "cell_type": "markdown",
   "metadata": {}
  },
  {
   "cell_type": "code",
   "execution_count": 10,
   "metadata": {},
   "outputs": [
    {
     "output_type": "execute_result",
     "data": {
      "text/plain": [
       "    ENTIDAD_NAC  ENTIDAD_RES  MUNICIPIO_RES  TIPO_PACIENTE\n",
       "10            9            9             17              1\n",
       "11           14            6             10              1\n",
       "12            9           14             67              2\n",
       "13           23           23              5              1\n",
       "14           17            9             12              1\n",
       "15           14           14            120              1\n",
       "16           11           11             20              1\n",
       "17            9            9             10              1\n",
       "18           11           11              7              1\n",
       "19           26           26             55              2\n",
       "20           21           21             85              2"
      ],
      "text/html": "<div>\n<style scoped>\n    .dataframe tbody tr th:only-of-type {\n        vertical-align: middle;\n    }\n\n    .dataframe tbody tr th {\n        vertical-align: top;\n    }\n\n    .dataframe thead th {\n        text-align: right;\n    }\n</style>\n<table border=\"1\" class=\"dataframe\">\n  <thead>\n    <tr style=\"text-align: right;\">\n      <th></th>\n      <th>ENTIDAD_NAC</th>\n      <th>ENTIDAD_RES</th>\n      <th>MUNICIPIO_RES</th>\n      <th>TIPO_PACIENTE</th>\n    </tr>\n  </thead>\n  <tbody>\n    <tr>\n      <th>10</th>\n      <td>9</td>\n      <td>9</td>\n      <td>17</td>\n      <td>1</td>\n    </tr>\n    <tr>\n      <th>11</th>\n      <td>14</td>\n      <td>6</td>\n      <td>10</td>\n      <td>1</td>\n    </tr>\n    <tr>\n      <th>12</th>\n      <td>9</td>\n      <td>14</td>\n      <td>67</td>\n      <td>2</td>\n    </tr>\n    <tr>\n      <th>13</th>\n      <td>23</td>\n      <td>23</td>\n      <td>5</td>\n      <td>1</td>\n    </tr>\n    <tr>\n      <th>14</th>\n      <td>17</td>\n      <td>9</td>\n      <td>12</td>\n      <td>1</td>\n    </tr>\n    <tr>\n      <th>15</th>\n      <td>14</td>\n      <td>14</td>\n      <td>120</td>\n      <td>1</td>\n    </tr>\n    <tr>\n      <th>16</th>\n      <td>11</td>\n      <td>11</td>\n      <td>20</td>\n      <td>1</td>\n    </tr>\n    <tr>\n      <th>17</th>\n      <td>9</td>\n      <td>9</td>\n      <td>10</td>\n      <td>1</td>\n    </tr>\n    <tr>\n      <th>18</th>\n      <td>11</td>\n      <td>11</td>\n      <td>7</td>\n      <td>1</td>\n    </tr>\n    <tr>\n      <th>19</th>\n      <td>26</td>\n      <td>26</td>\n      <td>55</td>\n      <td>2</td>\n    </tr>\n    <tr>\n      <th>20</th>\n      <td>21</td>\n      <td>21</td>\n      <td>85</td>\n      <td>2</td>\n    </tr>\n  </tbody>\n</table>\n</div>"
     },
     "metadata": {},
     "execution_count": 10
    }
   ],
   "source": [
    "data.loc[10:20,\"ENTIDAD_NAC\":\"TIPO_PACIENTE\"]"
   ]
  },
  {
   "source": [
    "## Los datos principales\n",
    "\n",
    "En el DataFrame hay variables muy interesantes, hay mucho material para hacer visualizaciones! Por el momento nos enfocaremos en los datos básicos reportados en las conferencias diarias de la secretaría de salud. La secretaría de Salud en su conferencia nocturna muestra la siguiente imagen:\n",
    "\n",
    "![Resultados covid](./imagenes/img2.png)\n",
    "\n",
    "En ella se muestran algunos datos que son importantes, principalmente el número de casos confirmados, el número de casos sospechosos, el número de casos negativos y el número de defunciones hasta la fecha. Los sospechosos los dividen en sospechosos sin muestra, sospechosos sin posibilidad de resultado y sopechosos con posibilidad de resultado."
   ],
   "cell_type": "markdown",
   "metadata": {}
  },
  {
   "source": [
    "## Obteniendo las datos principales"
   ],
   "cell_type": "markdown",
   "metadata": {}
  },
  {
   "source": [
    "Si analilzamos el diccionario de datos proporcionado por la Secretaría de Salud que se encuentra en este [enlace](http://datosabiertos.salud.gob.mx/gobmx/salud/datos_abiertos/diccionario_datos_covid19.zip) podemos observar que la variable \"CLASIFICACION_FINAL\" nos permite clasificar los casos de acuerdo a su calidad de confirmados, sospechosos o negativos. Para explorar los valores de una columna podemos utilizar la función value_counts(). Seleccionamos la columna de interes, en este caso \"CLASIFICACION_FINAL\" y ehecutamos la función value_counts()"
   ],
   "cell_type": "markdown",
   "metadata": {}
  },
  {
   "cell_type": "code",
   "execution_count": 11,
   "metadata": {},
   "outputs": [
    {
     "output_type": "execute_result",
     "data": {
      "text/plain": [
       "7    1019821\n",
       "3     826576\n",
       "6     265492\n",
       "5      40954\n",
       "1      24032\n",
       "4       5778\n",
       "2        619\n",
       "Name: CLASIFICACION_FINAL, dtype: int64"
      ]
     },
     "metadata": {},
     "execution_count": 11
    }
   ],
   "source": [
    "data[\"CLASIFICACION_FINAL\"].value_counts()"
   ]
  },
  {
   "source": [
    "Esta instrucción nos permite saber cuantos registros existen en la columna para cada uno de los valores que aparecen en ella, así podemos ver que en la columna ocurren valores del 1 al 7, los cuales se concuerdan con los valores de esa variable de acuerdo al diccionario de datos proporcionado. Además podemos ver cuantas veces aparece en la base de datos cada valor, así el valor 7 correspondiente en el diccionario a los casos \"Negativos a SARS-COV-2\" es el que aparece más veces en la base de datos. Aparece 1,019,821 veces lo cual quiere decir que la base de datos contiene ese número de casos negativos. Si comparamos con la imágen vemos que se corresponde el valor de nuestra base de datos y lo reportado por la Secretaría de Salud en su conferencia. (La imágen corresponde a los datos descargados el 18 de octubre de 2020, si estás repitiendo este ejercicio otro día el número será diferente, compáralo con lo reportado en la conferencia de ese día. Acá encuentras todas las [conferencias](https://www.youtube.com/channel/UCu2Uc7YeJmE9mvGG9OK-zbQ))."
   ],
   "cell_type": "markdown",
   "metadata": {}
  },
  {
   "source": [
    "## Filtrando el DataFrame\n",
    "\n",
    "¿Cómo le haríamos para obtener de nuestro DataFrame todos los casos negativos? Extraer todos los casos negativos equivale a obtener todas las filas para las que la columna \"CLASIFICACION_FINAL\" tiene un valor de 7. Afortunadamente Pandas nos permite seleccionarlas y generar un nuevo DataFrame solamente con nuestra selección. El procedimiento es el siguiente:"
   ],
   "cell_type": "markdown",
   "metadata": {}
  },
  {
   "source": [
    "## Casos negativos\n",
    "\n",
    "Pandas nos permite evaluar una condición en toda una columna en una sola operación, por ejemplo, para el caso que nos ocupa, queremos saber de la columna \"CLASIFICACION_FINAL\" cuales filas cumplen con la condición de tener un valor igual a 7. Podemos evaluar esta condicón seleccionando la columna e igualandola (con doble igual) al valor que queremos evaluar"
   ],
   "cell_type": "markdown",
   "metadata": {}
  },
  {
   "cell_type": "code",
   "execution_count": 12,
   "metadata": {},
   "outputs": [
    {
     "output_type": "execute_result",
     "data": {
      "text/plain": [
       "0          False\n",
       "1          False\n",
       "2          False\n",
       "3          False\n",
       "4          False\n",
       "           ...  \n",
       "2183267    False\n",
       "2183268    False\n",
       "2183269    False\n",
       "2183270    False\n",
       "2183271    False\n",
       "Name: CLASIFICACION_FINAL, Length: 2183272, dtype: bool"
      ]
     },
     "metadata": {},
     "execution_count": 12
    }
   ],
   "source": [
    "data[\"CLASIFICACION_FINAL\"]==7"
   ]
  },
  {
   "source": [
    "podemos observar que el resultado es una serie llena de valores verdaderos y falsos, guardemos esa columna con valores verdaderos y falsos en una variable, llamémosla \"condicion_negativos\":"
   ],
   "cell_type": "markdown",
   "metadata": {}
  },
  {
   "cell_type": "code",
   "execution_count": 13,
   "metadata": {},
   "outputs": [],
   "source": [
    "condicion_negativos = data[\"CLASIFICACION_FINAL\"]==7"
   ]
  },
  {
   "source": [
    "Exploremos que valores contiene la serie y cuantos registros de cada valor, para esto volvemos a utilizar la función value_counts():"
   ],
   "cell_type": "markdown",
   "metadata": {}
  },
  {
   "cell_type": "code",
   "execution_count": 14,
   "metadata": {},
   "outputs": [
    {
     "output_type": "execute_result",
     "data": {
      "text/plain": [
       "False    1163451\n",
       "True     1019821\n",
       "Name: CLASIFICACION_FINAL, dtype: int64"
      ]
     },
     "metadata": {},
     "execution_count": 14
    }
   ],
   "source": [
    "condicion_negativos.value_counts()"
   ]
  },
  {
   "source": [
    "Observamos que hay 1,163,451 registros o filas con el valor \"False\" y 1,019,821 registros o filas con el valor \"True\". Este último conteo se corresponde con nuestro número de casos negativos a SARS-COV-2 en la base de datos. Es decir, todas aquellas filas en donde el valor de la columna era 7 se transformaron en un True y todas aquellas que tenían un valor diferente a 7 se transformaron en un False."
   ],
   "cell_type": "markdown",
   "metadata": {}
  },
  {
   "source": [
    "Recordemos que en la variable condicion_negativos está guardada nuestra columna llena de True y False. Pandas nos permite usarla para filtrar el DataFrame original (que está guardado en nuestra variable \"data\"). La sintaxis es similar a cuando le pediamos una columna (lo cual es desafortunado). Se hace de la siguiente manera:"
   ],
   "cell_type": "markdown",
   "metadata": {}
  },
  {
   "cell_type": "code",
   "execution_count": 15,
   "metadata": {},
   "outputs": [
    {
     "output_type": "execute_result",
     "data": {
      "text/plain": [
       "        FECHA_ACTUALIZACION ID_REGISTRO  ORIGEN  SECTOR  ENTIDAD_UM  SEXO  \\\n",
       "3950             2020-10-18      13f641       1      12          26     1   \n",
       "3951             2020-10-18      1e20d5       1       4          16     1   \n",
       "3952             2020-10-18      01ee3f       1      12          24     2   \n",
       "3953             2020-10-18      0cf214       1      12          13     2   \n",
       "3954             2020-10-18      0b5ebb       2      12          19     1   \n",
       "...                     ...         ...     ...     ...         ...   ...   \n",
       "2134599          2020-10-18      38af8c       2       4           9     1   \n",
       "2134600          2020-10-18      390ba7       1       4          14     1   \n",
       "2134601          2020-10-18      33b9ba       2       4          21     1   \n",
       "2134602          2020-10-18      33712d       2      12           9     2   \n",
       "2134603          2020-10-18      374518       2      12           9     1   \n",
       "\n",
       "         ENTIDAD_NAC  ENTIDAD_RES  MUNICIPIO_RES  TIPO_PACIENTE  ...  \\\n",
       "3950              16           26             55              2  ...   \n",
       "3951              16           16             52              1  ...   \n",
       "3952              24           24             13              1  ...   \n",
       "3953              13           13             60              1  ...   \n",
       "3954              19           19             26              1  ...   \n",
       "...              ...          ...            ...            ...  ...   \n",
       "2134599            9            9             17              1  ...   \n",
       "2134600           14           14             39              1  ...   \n",
       "2134601           21           21            114              2  ...   \n",
       "2134602           15            9              7              1  ...   \n",
       "2134603            9            9             13              1  ...   \n",
       "\n",
       "        RENAL_CRONICA TABAQUISMO OTRO_CASO  TOMA_MUESTRA  RESULTADO_LAB  \\\n",
       "3950                2          2         2             1              2   \n",
       "3951                2          2        99             1              2   \n",
       "3952                2          2         2             1              2   \n",
       "3953                2          2         2             1              2   \n",
       "3954                2          2         2             1              2   \n",
       "...               ...        ...       ...           ...            ...   \n",
       "2134599             2          1         2             1              2   \n",
       "2134600             2          2         1             1              2   \n",
       "2134601             2          2         2             1              2   \n",
       "2134602             2          1         1             1              2   \n",
       "2134603             2          2         1             1              2   \n",
       "\n",
       "         CLASIFICACION_FINAL  MIGRANTE  PAIS_NACIONALIDAD  PAIS_ORIGEN  UCI  \n",
       "3950                       7        99            MÃ©xico           97   99  \n",
       "3951                       7        99            MÃ©xico           97   97  \n",
       "3952                       7        99            MÃ©xico           97   97  \n",
       "3953                       7        99            MÃ©xico           97   97  \n",
       "3954                       7        99            MÃ©xico           97   97  \n",
       "...                      ...       ...                ...          ...  ...  \n",
       "2134599                    7        99            MÃ©xico           97   97  \n",
       "2134600                    7        99            MÃ©xico           97   97  \n",
       "2134601                    7        99            MÃ©xico           97    2  \n",
       "2134602                    7        99            MÃ©xico           97   97  \n",
       "2134603                    7        99            MÃ©xico           97   97  \n",
       "\n",
       "[1019821 rows x 38 columns]"
      ],
      "text/html": "<div>\n<style scoped>\n    .dataframe tbody tr th:only-of-type {\n        vertical-align: middle;\n    }\n\n    .dataframe tbody tr th {\n        vertical-align: top;\n    }\n\n    .dataframe thead th {\n        text-align: right;\n    }\n</style>\n<table border=\"1\" class=\"dataframe\">\n  <thead>\n    <tr style=\"text-align: right;\">\n      <th></th>\n      <th>FECHA_ACTUALIZACION</th>\n      <th>ID_REGISTRO</th>\n      <th>ORIGEN</th>\n      <th>SECTOR</th>\n      <th>ENTIDAD_UM</th>\n      <th>SEXO</th>\n      <th>ENTIDAD_NAC</th>\n      <th>ENTIDAD_RES</th>\n      <th>MUNICIPIO_RES</th>\n      <th>TIPO_PACIENTE</th>\n      <th>...</th>\n      <th>RENAL_CRONICA</th>\n      <th>TABAQUISMO</th>\n      <th>OTRO_CASO</th>\n      <th>TOMA_MUESTRA</th>\n      <th>RESULTADO_LAB</th>\n      <th>CLASIFICACION_FINAL</th>\n      <th>MIGRANTE</th>\n      <th>PAIS_NACIONALIDAD</th>\n      <th>PAIS_ORIGEN</th>\n      <th>UCI</th>\n    </tr>\n  </thead>\n  <tbody>\n    <tr>\n      <th>3950</th>\n      <td>2020-10-18</td>\n      <td>13f641</td>\n      <td>1</td>\n      <td>12</td>\n      <td>26</td>\n      <td>1</td>\n      <td>16</td>\n      <td>26</td>\n      <td>55</td>\n      <td>2</td>\n      <td>...</td>\n      <td>2</td>\n      <td>2</td>\n      <td>2</td>\n      <td>1</td>\n      <td>2</td>\n      <td>7</td>\n      <td>99</td>\n      <td>MÃ©xico</td>\n      <td>97</td>\n      <td>99</td>\n    </tr>\n    <tr>\n      <th>3951</th>\n      <td>2020-10-18</td>\n      <td>1e20d5</td>\n      <td>1</td>\n      <td>4</td>\n      <td>16</td>\n      <td>1</td>\n      <td>16</td>\n      <td>16</td>\n      <td>52</td>\n      <td>1</td>\n      <td>...</td>\n      <td>2</td>\n      <td>2</td>\n      <td>99</td>\n      <td>1</td>\n      <td>2</td>\n      <td>7</td>\n      <td>99</td>\n      <td>MÃ©xico</td>\n      <td>97</td>\n      <td>97</td>\n    </tr>\n    <tr>\n      <th>3952</th>\n      <td>2020-10-18</td>\n      <td>01ee3f</td>\n      <td>1</td>\n      <td>12</td>\n      <td>24</td>\n      <td>2</td>\n      <td>24</td>\n      <td>24</td>\n      <td>13</td>\n      <td>1</td>\n      <td>...</td>\n      <td>2</td>\n      <td>2</td>\n      <td>2</td>\n      <td>1</td>\n      <td>2</td>\n      <td>7</td>\n      <td>99</td>\n      <td>MÃ©xico</td>\n      <td>97</td>\n      <td>97</td>\n    </tr>\n    <tr>\n      <th>3953</th>\n      <td>2020-10-18</td>\n      <td>0cf214</td>\n      <td>1</td>\n      <td>12</td>\n      <td>13</td>\n      <td>2</td>\n      <td>13</td>\n      <td>13</td>\n      <td>60</td>\n      <td>1</td>\n      <td>...</td>\n      <td>2</td>\n      <td>2</td>\n      <td>2</td>\n      <td>1</td>\n      <td>2</td>\n      <td>7</td>\n      <td>99</td>\n      <td>MÃ©xico</td>\n      <td>97</td>\n      <td>97</td>\n    </tr>\n    <tr>\n      <th>3954</th>\n      <td>2020-10-18</td>\n      <td>0b5ebb</td>\n      <td>2</td>\n      <td>12</td>\n      <td>19</td>\n      <td>1</td>\n      <td>19</td>\n      <td>19</td>\n      <td>26</td>\n      <td>1</td>\n      <td>...</td>\n      <td>2</td>\n      <td>2</td>\n      <td>2</td>\n      <td>1</td>\n      <td>2</td>\n      <td>7</td>\n      <td>99</td>\n      <td>MÃ©xico</td>\n      <td>97</td>\n      <td>97</td>\n    </tr>\n    <tr>\n      <th>...</th>\n      <td>...</td>\n      <td>...</td>\n      <td>...</td>\n      <td>...</td>\n      <td>...</td>\n      <td>...</td>\n      <td>...</td>\n      <td>...</td>\n      <td>...</td>\n      <td>...</td>\n      <td>...</td>\n      <td>...</td>\n      <td>...</td>\n      <td>...</td>\n      <td>...</td>\n      <td>...</td>\n      <td>...</td>\n      <td>...</td>\n      <td>...</td>\n      <td>...</td>\n      <td>...</td>\n    </tr>\n    <tr>\n      <th>2134599</th>\n      <td>2020-10-18</td>\n      <td>38af8c</td>\n      <td>2</td>\n      <td>4</td>\n      <td>9</td>\n      <td>1</td>\n      <td>9</td>\n      <td>9</td>\n      <td>17</td>\n      <td>1</td>\n      <td>...</td>\n      <td>2</td>\n      <td>1</td>\n      <td>2</td>\n      <td>1</td>\n      <td>2</td>\n      <td>7</td>\n      <td>99</td>\n      <td>MÃ©xico</td>\n      <td>97</td>\n      <td>97</td>\n    </tr>\n    <tr>\n      <th>2134600</th>\n      <td>2020-10-18</td>\n      <td>390ba7</td>\n      <td>1</td>\n      <td>4</td>\n      <td>14</td>\n      <td>1</td>\n      <td>14</td>\n      <td>14</td>\n      <td>39</td>\n      <td>1</td>\n      <td>...</td>\n      <td>2</td>\n      <td>2</td>\n      <td>1</td>\n      <td>1</td>\n      <td>2</td>\n      <td>7</td>\n      <td>99</td>\n      <td>MÃ©xico</td>\n      <td>97</td>\n      <td>97</td>\n    </tr>\n    <tr>\n      <th>2134601</th>\n      <td>2020-10-18</td>\n      <td>33b9ba</td>\n      <td>2</td>\n      <td>4</td>\n      <td>21</td>\n      <td>1</td>\n      <td>21</td>\n      <td>21</td>\n      <td>114</td>\n      <td>2</td>\n      <td>...</td>\n      <td>2</td>\n      <td>2</td>\n      <td>2</td>\n      <td>1</td>\n      <td>2</td>\n      <td>7</td>\n      <td>99</td>\n      <td>MÃ©xico</td>\n      <td>97</td>\n      <td>2</td>\n    </tr>\n    <tr>\n      <th>2134602</th>\n      <td>2020-10-18</td>\n      <td>33712d</td>\n      <td>2</td>\n      <td>12</td>\n      <td>9</td>\n      <td>2</td>\n      <td>15</td>\n      <td>9</td>\n      <td>7</td>\n      <td>1</td>\n      <td>...</td>\n      <td>2</td>\n      <td>1</td>\n      <td>1</td>\n      <td>1</td>\n      <td>2</td>\n      <td>7</td>\n      <td>99</td>\n      <td>MÃ©xico</td>\n      <td>97</td>\n      <td>97</td>\n    </tr>\n    <tr>\n      <th>2134603</th>\n      <td>2020-10-18</td>\n      <td>374518</td>\n      <td>2</td>\n      <td>12</td>\n      <td>9</td>\n      <td>1</td>\n      <td>9</td>\n      <td>9</td>\n      <td>13</td>\n      <td>1</td>\n      <td>...</td>\n      <td>2</td>\n      <td>2</td>\n      <td>1</td>\n      <td>1</td>\n      <td>2</td>\n      <td>7</td>\n      <td>99</td>\n      <td>MÃ©xico</td>\n      <td>97</td>\n      <td>97</td>\n    </tr>\n  </tbody>\n</table>\n<p>1019821 rows × 38 columns</p>\n</div>"
     },
     "metadata": {},
     "execution_count": 15
    }
   ],
   "source": [
    "data[condicion_negativos]"
   ]
  },
  {
   "source": [
    "En la parte inferior izquierda del resultado podemos ver que este es un nuevo DataFrame que contiene únicamente 1,019,821 filas, es decir contiene únicamente casos negativos. Contiene únicamente casos para los cuales la condición que evaluamos a la columna resultó ser verdadera o True\n",
    "\n",
    "Repitamos el ejercicio pero ahora sin guardar la condición en una variable intermedia y guardando el resultado en una variable que contenga un DataFrame con únicamente los casos negativos a SARS-COV-2:"
   ],
   "cell_type": "markdown",
   "metadata": {}
  },
  {
   "cell_type": "code",
   "execution_count": 16,
   "metadata": {},
   "outputs": [
    {
     "output_type": "execute_result",
     "data": {
      "text/plain": [
       "        FECHA_ACTUALIZACION ID_REGISTRO  ORIGEN  SECTOR  ENTIDAD_UM  SEXO  \\\n",
       "3950             2020-10-18      13f641       1      12          26     1   \n",
       "3951             2020-10-18      1e20d5       1       4          16     1   \n",
       "3952             2020-10-18      01ee3f       1      12          24     2   \n",
       "3953             2020-10-18      0cf214       1      12          13     2   \n",
       "3954             2020-10-18      0b5ebb       2      12          19     1   \n",
       "...                     ...         ...     ...     ...         ...   ...   \n",
       "2134599          2020-10-18      38af8c       2       4           9     1   \n",
       "2134600          2020-10-18      390ba7       1       4          14     1   \n",
       "2134601          2020-10-18      33b9ba       2       4          21     1   \n",
       "2134602          2020-10-18      33712d       2      12           9     2   \n",
       "2134603          2020-10-18      374518       2      12           9     1   \n",
       "\n",
       "         ENTIDAD_NAC  ENTIDAD_RES  MUNICIPIO_RES  TIPO_PACIENTE  ...  \\\n",
       "3950              16           26             55              2  ...   \n",
       "3951              16           16             52              1  ...   \n",
       "3952              24           24             13              1  ...   \n",
       "3953              13           13             60              1  ...   \n",
       "3954              19           19             26              1  ...   \n",
       "...              ...          ...            ...            ...  ...   \n",
       "2134599            9            9             17              1  ...   \n",
       "2134600           14           14             39              1  ...   \n",
       "2134601           21           21            114              2  ...   \n",
       "2134602           15            9              7              1  ...   \n",
       "2134603            9            9             13              1  ...   \n",
       "\n",
       "        RENAL_CRONICA TABAQUISMO OTRO_CASO  TOMA_MUESTRA  RESULTADO_LAB  \\\n",
       "3950                2          2         2             1              2   \n",
       "3951                2          2        99             1              2   \n",
       "3952                2          2         2             1              2   \n",
       "3953                2          2         2             1              2   \n",
       "3954                2          2         2             1              2   \n",
       "...               ...        ...       ...           ...            ...   \n",
       "2134599             2          1         2             1              2   \n",
       "2134600             2          2         1             1              2   \n",
       "2134601             2          2         2             1              2   \n",
       "2134602             2          1         1             1              2   \n",
       "2134603             2          2         1             1              2   \n",
       "\n",
       "         CLASIFICACION_FINAL  MIGRANTE  PAIS_NACIONALIDAD  PAIS_ORIGEN  UCI  \n",
       "3950                       7        99            MÃ©xico           97   99  \n",
       "3951                       7        99            MÃ©xico           97   97  \n",
       "3952                       7        99            MÃ©xico           97   97  \n",
       "3953                       7        99            MÃ©xico           97   97  \n",
       "3954                       7        99            MÃ©xico           97   97  \n",
       "...                      ...       ...                ...          ...  ...  \n",
       "2134599                    7        99            MÃ©xico           97   97  \n",
       "2134600                    7        99            MÃ©xico           97   97  \n",
       "2134601                    7        99            MÃ©xico           97    2  \n",
       "2134602                    7        99            MÃ©xico           97   97  \n",
       "2134603                    7        99            MÃ©xico           97   97  \n",
       "\n",
       "[1019821 rows x 38 columns]"
      ],
      "text/html": "<div>\n<style scoped>\n    .dataframe tbody tr th:only-of-type {\n        vertical-align: middle;\n    }\n\n    .dataframe tbody tr th {\n        vertical-align: top;\n    }\n\n    .dataframe thead th {\n        text-align: right;\n    }\n</style>\n<table border=\"1\" class=\"dataframe\">\n  <thead>\n    <tr style=\"text-align: right;\">\n      <th></th>\n      <th>FECHA_ACTUALIZACION</th>\n      <th>ID_REGISTRO</th>\n      <th>ORIGEN</th>\n      <th>SECTOR</th>\n      <th>ENTIDAD_UM</th>\n      <th>SEXO</th>\n      <th>ENTIDAD_NAC</th>\n      <th>ENTIDAD_RES</th>\n      <th>MUNICIPIO_RES</th>\n      <th>TIPO_PACIENTE</th>\n      <th>...</th>\n      <th>RENAL_CRONICA</th>\n      <th>TABAQUISMO</th>\n      <th>OTRO_CASO</th>\n      <th>TOMA_MUESTRA</th>\n      <th>RESULTADO_LAB</th>\n      <th>CLASIFICACION_FINAL</th>\n      <th>MIGRANTE</th>\n      <th>PAIS_NACIONALIDAD</th>\n      <th>PAIS_ORIGEN</th>\n      <th>UCI</th>\n    </tr>\n  </thead>\n  <tbody>\n    <tr>\n      <th>3950</th>\n      <td>2020-10-18</td>\n      <td>13f641</td>\n      <td>1</td>\n      <td>12</td>\n      <td>26</td>\n      <td>1</td>\n      <td>16</td>\n      <td>26</td>\n      <td>55</td>\n      <td>2</td>\n      <td>...</td>\n      <td>2</td>\n      <td>2</td>\n      <td>2</td>\n      <td>1</td>\n      <td>2</td>\n      <td>7</td>\n      <td>99</td>\n      <td>MÃ©xico</td>\n      <td>97</td>\n      <td>99</td>\n    </tr>\n    <tr>\n      <th>3951</th>\n      <td>2020-10-18</td>\n      <td>1e20d5</td>\n      <td>1</td>\n      <td>4</td>\n      <td>16</td>\n      <td>1</td>\n      <td>16</td>\n      <td>16</td>\n      <td>52</td>\n      <td>1</td>\n      <td>...</td>\n      <td>2</td>\n      <td>2</td>\n      <td>99</td>\n      <td>1</td>\n      <td>2</td>\n      <td>7</td>\n      <td>99</td>\n      <td>MÃ©xico</td>\n      <td>97</td>\n      <td>97</td>\n    </tr>\n    <tr>\n      <th>3952</th>\n      <td>2020-10-18</td>\n      <td>01ee3f</td>\n      <td>1</td>\n      <td>12</td>\n      <td>24</td>\n      <td>2</td>\n      <td>24</td>\n      <td>24</td>\n      <td>13</td>\n      <td>1</td>\n      <td>...</td>\n      <td>2</td>\n      <td>2</td>\n      <td>2</td>\n      <td>1</td>\n      <td>2</td>\n      <td>7</td>\n      <td>99</td>\n      <td>MÃ©xico</td>\n      <td>97</td>\n      <td>97</td>\n    </tr>\n    <tr>\n      <th>3953</th>\n      <td>2020-10-18</td>\n      <td>0cf214</td>\n      <td>1</td>\n      <td>12</td>\n      <td>13</td>\n      <td>2</td>\n      <td>13</td>\n      <td>13</td>\n      <td>60</td>\n      <td>1</td>\n      <td>...</td>\n      <td>2</td>\n      <td>2</td>\n      <td>2</td>\n      <td>1</td>\n      <td>2</td>\n      <td>7</td>\n      <td>99</td>\n      <td>MÃ©xico</td>\n      <td>97</td>\n      <td>97</td>\n    </tr>\n    <tr>\n      <th>3954</th>\n      <td>2020-10-18</td>\n      <td>0b5ebb</td>\n      <td>2</td>\n      <td>12</td>\n      <td>19</td>\n      <td>1</td>\n      <td>19</td>\n      <td>19</td>\n      <td>26</td>\n      <td>1</td>\n      <td>...</td>\n      <td>2</td>\n      <td>2</td>\n      <td>2</td>\n      <td>1</td>\n      <td>2</td>\n      <td>7</td>\n      <td>99</td>\n      <td>MÃ©xico</td>\n      <td>97</td>\n      <td>97</td>\n    </tr>\n    <tr>\n      <th>...</th>\n      <td>...</td>\n      <td>...</td>\n      <td>...</td>\n      <td>...</td>\n      <td>...</td>\n      <td>...</td>\n      <td>...</td>\n      <td>...</td>\n      <td>...</td>\n      <td>...</td>\n      <td>...</td>\n      <td>...</td>\n      <td>...</td>\n      <td>...</td>\n      <td>...</td>\n      <td>...</td>\n      <td>...</td>\n      <td>...</td>\n      <td>...</td>\n      <td>...</td>\n      <td>...</td>\n    </tr>\n    <tr>\n      <th>2134599</th>\n      <td>2020-10-18</td>\n      <td>38af8c</td>\n      <td>2</td>\n      <td>4</td>\n      <td>9</td>\n      <td>1</td>\n      <td>9</td>\n      <td>9</td>\n      <td>17</td>\n      <td>1</td>\n      <td>...</td>\n      <td>2</td>\n      <td>1</td>\n      <td>2</td>\n      <td>1</td>\n      <td>2</td>\n      <td>7</td>\n      <td>99</td>\n      <td>MÃ©xico</td>\n      <td>97</td>\n      <td>97</td>\n    </tr>\n    <tr>\n      <th>2134600</th>\n      <td>2020-10-18</td>\n      <td>390ba7</td>\n      <td>1</td>\n      <td>4</td>\n      <td>14</td>\n      <td>1</td>\n      <td>14</td>\n      <td>14</td>\n      <td>39</td>\n      <td>1</td>\n      <td>...</td>\n      <td>2</td>\n      <td>2</td>\n      <td>1</td>\n      <td>1</td>\n      <td>2</td>\n      <td>7</td>\n      <td>99</td>\n      <td>MÃ©xico</td>\n      <td>97</td>\n      <td>97</td>\n    </tr>\n    <tr>\n      <th>2134601</th>\n      <td>2020-10-18</td>\n      <td>33b9ba</td>\n      <td>2</td>\n      <td>4</td>\n      <td>21</td>\n      <td>1</td>\n      <td>21</td>\n      <td>21</td>\n      <td>114</td>\n      <td>2</td>\n      <td>...</td>\n      <td>2</td>\n      <td>2</td>\n      <td>2</td>\n      <td>1</td>\n      <td>2</td>\n      <td>7</td>\n      <td>99</td>\n      <td>MÃ©xico</td>\n      <td>97</td>\n      <td>2</td>\n    </tr>\n    <tr>\n      <th>2134602</th>\n      <td>2020-10-18</td>\n      <td>33712d</td>\n      <td>2</td>\n      <td>12</td>\n      <td>9</td>\n      <td>2</td>\n      <td>15</td>\n      <td>9</td>\n      <td>7</td>\n      <td>1</td>\n      <td>...</td>\n      <td>2</td>\n      <td>1</td>\n      <td>1</td>\n      <td>1</td>\n      <td>2</td>\n      <td>7</td>\n      <td>99</td>\n      <td>MÃ©xico</td>\n      <td>97</td>\n      <td>97</td>\n    </tr>\n    <tr>\n      <th>2134603</th>\n      <td>2020-10-18</td>\n      <td>374518</td>\n      <td>2</td>\n      <td>12</td>\n      <td>9</td>\n      <td>1</td>\n      <td>9</td>\n      <td>9</td>\n      <td>13</td>\n      <td>1</td>\n      <td>...</td>\n      <td>2</td>\n      <td>2</td>\n      <td>1</td>\n      <td>1</td>\n      <td>2</td>\n      <td>7</td>\n      <td>99</td>\n      <td>MÃ©xico</td>\n      <td>97</td>\n      <td>97</td>\n    </tr>\n  </tbody>\n</table>\n<p>1019821 rows × 38 columns</p>\n</div>"
     },
     "metadata": {},
     "execution_count": 16
    }
   ],
   "source": [
    "negativos = data[data[\"CLASIFICACION_FINAL\"]==7]\n",
    "negativos"
   ]
  },
  {
   "source": [
    "Como se puede apreciar en la instrucción anterior podemos poner la condición a evaluar directamente entre los corchetes para filtrar el DataFrame y obtener una versión con los registros que nos interesan."
   ],
   "cell_type": "markdown",
   "metadata": {}
  },
  {
   "source": [
    "## Casos confirmados\n",
    "\n",
    "De acuerdo al diccionario de datos, los casos confirmados se conforman por 3 valores: \n",
    "* el valor 1 correspondiente a casos confirmados por asociación clínica epidemiológica\n",
    "* el valor 2 correspondiente a casos confirmados por comité de dictaminación\n",
    "* el valor 3 correspondiente a casos confirmados por laboratorio\n",
    "\n",
    "Es decir, para detectar los casos confirmados necesitamos todas aquellas filas en nuestro DataFrame original que tengan los valores 1,2 o 3 en la columna \"CLASIFICACION_FINAL\". Para filtrar esas filas necesitamos armar esa condición compuesta.\n",
    "\n",
    "Podemos armar condiciones compuestas usando operadores lógicos como \"and\" y \"or\". En Pandas el operador asociado a and es \"&\" y el operador asociado a or es \"|\".\n",
    "\n",
    "La condición que queremos es: valor de la columna \"CLASIFICACION_FINAL\" igual a 1, o igual a 2 o igual a 3, en código podemos ponerla de la siguiente manera"
   ],
   "cell_type": "markdown",
   "metadata": {}
  },
  {
   "cell_type": "code",
   "execution_count": 17,
   "metadata": {},
   "outputs": [
    {
     "output_type": "execute_result",
     "data": {
      "text/plain": [
       "0           True\n",
       "1           True\n",
       "2           True\n",
       "3           True\n",
       "4           True\n",
       "           ...  \n",
       "2183267    False\n",
       "2183268    False\n",
       "2183269     True\n",
       "2183270    False\n",
       "2183271    False\n",
       "Name: CLASIFICACION_FINAL, Length: 2183272, dtype: bool"
      ]
     },
     "metadata": {},
     "execution_count": 17
    }
   ],
   "source": [
    "(data[\"CLASIFICACION_FINAL\"] == 1) | (data[\"CLASIFICACION_FINAL\"] == 2) | (data[\"CLASIFICACION_FINAL\"] == 3)"
   ]
  },
  {
   "source": [
    "El resultado es una serie llena de True y False, True en donde la fila satisface la condición y False en aquellas que no lo satisfacen. \n",
    "\n",
    "Existe una manera más compacta para evaluar esta condición. Podemos preguntarle al valor de la columna si se encuentra o no en los valores contenidos en una lista de valores. Esto lo hacemos a traves de la función isin(). El único parámetro que utiliza esta función es una lista con los valores a comparar, en este caso pasaremos una lista con los valores 1,2 y 3. En python las listas se ponen entre corchetes."
   ],
   "cell_type": "markdown",
   "metadata": {}
  },
  {
   "cell_type": "code",
   "execution_count": 18,
   "metadata": {},
   "outputs": [
    {
     "output_type": "execute_result",
     "data": {
      "text/plain": [
       "0           True\n",
       "1           True\n",
       "2           True\n",
       "3           True\n",
       "4           True\n",
       "           ...  \n",
       "2183267    False\n",
       "2183268    False\n",
       "2183269     True\n",
       "2183270    False\n",
       "2183271    False\n",
       "Name: CLASIFICACION_FINAL, Length: 2183272, dtype: bool"
      ]
     },
     "metadata": {},
     "execution_count": 18
    }
   ],
   "source": [
    "data[\"CLASIFICACION_FINAL\"].isin([1,2,3])"
   ]
  },
  {
   "source": [
    "Esta es la condición que usaremos para filtrar nuestro DataFrame original. El resultado será un nuevo DataFrame que contiene únicamente los casos confirmados. Este nuevo DataFrame lo guardaremos en la variable confirmados"
   ],
   "cell_type": "markdown",
   "metadata": {}
  },
  {
   "cell_type": "code",
   "execution_count": 19,
   "metadata": {},
   "outputs": [
    {
     "output_type": "execute_result",
     "data": {
      "text/plain": [
       "        FECHA_ACTUALIZACION ID_REGISTRO  ORIGEN  SECTOR  ENTIDAD_UM  SEXO  \\\n",
       "0                2020-10-18      1426fb       1       4          10     1   \n",
       "1                2020-10-18      1c4583       2      12           9     2   \n",
       "2                2020-10-18      0d55c9       2      12           9     1   \n",
       "3                2020-10-18      071735       2       9          21     2   \n",
       "4                2020-10-18      1468a5       1       4           5     1   \n",
       "...                     ...         ...     ...     ...         ...   ...   \n",
       "2183114          2020-10-18      2fcdc7       1      12          26     1   \n",
       "2183136          2020-10-18      3c6f4d       1      12          26     2   \n",
       "2183216          2020-10-18      373591       1       6          20     1   \n",
       "2183262          2020-10-18      365e11       1       6           9     1   \n",
       "2183269          2020-10-18      408ef1       2       6           9     2   \n",
       "\n",
       "         ENTIDAD_NAC  ENTIDAD_RES  MUNICIPIO_RES  TIPO_PACIENTE  ...  \\\n",
       "0                 28           10              7              1  ...   \n",
       "1                  9            9              4              1  ...   \n",
       "2                  9            9             16              1  ...   \n",
       "3                 21           21            114              1  ...   \n",
       "4                 15            5             18              1  ...   \n",
       "...              ...          ...            ...            ...  ...   \n",
       "2183114           26           26             30              1  ...   \n",
       "2183136           26           26             19              1  ...   \n",
       "2183216           20           20            399              1  ...   \n",
       "2183262           17           15             58              2  ...   \n",
       "2183269            9            9              5              1  ...   \n",
       "\n",
       "        RENAL_CRONICA TABAQUISMO OTRO_CASO  TOMA_MUESTRA  RESULTADO_LAB  \\\n",
       "0                   2          2        99             1              1   \n",
       "1                   2          2         2             1              1   \n",
       "2                   2          2         2             1              1   \n",
       "3                   2          2         2             1              1   \n",
       "4                   2          2         1             1              1   \n",
       "...               ...        ...       ...           ...            ...   \n",
       "2183114             2          2         1             2             97   \n",
       "2183136             2          2         1             2             97   \n",
       "2183216             2          2         2             2             97   \n",
       "2183262             2          2         2             2             97   \n",
       "2183269             2          2         1             2             97   \n",
       "\n",
       "         CLASIFICACION_FINAL  MIGRANTE  PAIS_NACIONALIDAD  PAIS_ORIGEN  UCI  \n",
       "0                          3        99            MÃ©xico           97   97  \n",
       "1                          3        99            MÃ©xico           97   97  \n",
       "2                          3        99            MÃ©xico           97   97  \n",
       "3                          3        99            MÃ©xico           97   97  \n",
       "4                          3        99            MÃ©xico           97   97  \n",
       "...                      ...       ...                ...          ...  ...  \n",
       "2183114                    1        99            MÃ©xico           97   97  \n",
       "2183136                    1        99            MÃ©xico           97   97  \n",
       "2183216                    1        99            MÃ©xico           97   97  \n",
       "2183262                    1        99            MÃ©xico           97    2  \n",
       "2183269                    1        99            MÃ©xico           97   97  \n",
       "\n",
       "[851227 rows x 38 columns]"
      ],
      "text/html": "<div>\n<style scoped>\n    .dataframe tbody tr th:only-of-type {\n        vertical-align: middle;\n    }\n\n    .dataframe tbody tr th {\n        vertical-align: top;\n    }\n\n    .dataframe thead th {\n        text-align: right;\n    }\n</style>\n<table border=\"1\" class=\"dataframe\">\n  <thead>\n    <tr style=\"text-align: right;\">\n      <th></th>\n      <th>FECHA_ACTUALIZACION</th>\n      <th>ID_REGISTRO</th>\n      <th>ORIGEN</th>\n      <th>SECTOR</th>\n      <th>ENTIDAD_UM</th>\n      <th>SEXO</th>\n      <th>ENTIDAD_NAC</th>\n      <th>ENTIDAD_RES</th>\n      <th>MUNICIPIO_RES</th>\n      <th>TIPO_PACIENTE</th>\n      <th>...</th>\n      <th>RENAL_CRONICA</th>\n      <th>TABAQUISMO</th>\n      <th>OTRO_CASO</th>\n      <th>TOMA_MUESTRA</th>\n      <th>RESULTADO_LAB</th>\n      <th>CLASIFICACION_FINAL</th>\n      <th>MIGRANTE</th>\n      <th>PAIS_NACIONALIDAD</th>\n      <th>PAIS_ORIGEN</th>\n      <th>UCI</th>\n    </tr>\n  </thead>\n  <tbody>\n    <tr>\n      <th>0</th>\n      <td>2020-10-18</td>\n      <td>1426fb</td>\n      <td>1</td>\n      <td>4</td>\n      <td>10</td>\n      <td>1</td>\n      <td>28</td>\n      <td>10</td>\n      <td>7</td>\n      <td>1</td>\n      <td>...</td>\n      <td>2</td>\n      <td>2</td>\n      <td>99</td>\n      <td>1</td>\n      <td>1</td>\n      <td>3</td>\n      <td>99</td>\n      <td>MÃ©xico</td>\n      <td>97</td>\n      <td>97</td>\n    </tr>\n    <tr>\n      <th>1</th>\n      <td>2020-10-18</td>\n      <td>1c4583</td>\n      <td>2</td>\n      <td>12</td>\n      <td>9</td>\n      <td>2</td>\n      <td>9</td>\n      <td>9</td>\n      <td>4</td>\n      <td>1</td>\n      <td>...</td>\n      <td>2</td>\n      <td>2</td>\n      <td>2</td>\n      <td>1</td>\n      <td>1</td>\n      <td>3</td>\n      <td>99</td>\n      <td>MÃ©xico</td>\n      <td>97</td>\n      <td>97</td>\n    </tr>\n    <tr>\n      <th>2</th>\n      <td>2020-10-18</td>\n      <td>0d55c9</td>\n      <td>2</td>\n      <td>12</td>\n      <td>9</td>\n      <td>1</td>\n      <td>9</td>\n      <td>9</td>\n      <td>16</td>\n      <td>1</td>\n      <td>...</td>\n      <td>2</td>\n      <td>2</td>\n      <td>2</td>\n      <td>1</td>\n      <td>1</td>\n      <td>3</td>\n      <td>99</td>\n      <td>MÃ©xico</td>\n      <td>97</td>\n      <td>97</td>\n    </tr>\n    <tr>\n      <th>3</th>\n      <td>2020-10-18</td>\n      <td>071735</td>\n      <td>2</td>\n      <td>9</td>\n      <td>21</td>\n      <td>2</td>\n      <td>21</td>\n      <td>21</td>\n      <td>114</td>\n      <td>1</td>\n      <td>...</td>\n      <td>2</td>\n      <td>2</td>\n      <td>2</td>\n      <td>1</td>\n      <td>1</td>\n      <td>3</td>\n      <td>99</td>\n      <td>MÃ©xico</td>\n      <td>97</td>\n      <td>97</td>\n    </tr>\n    <tr>\n      <th>4</th>\n      <td>2020-10-18</td>\n      <td>1468a5</td>\n      <td>1</td>\n      <td>4</td>\n      <td>5</td>\n      <td>1</td>\n      <td>15</td>\n      <td>5</td>\n      <td>18</td>\n      <td>1</td>\n      <td>...</td>\n      <td>2</td>\n      <td>2</td>\n      <td>1</td>\n      <td>1</td>\n      <td>1</td>\n      <td>3</td>\n      <td>99</td>\n      <td>MÃ©xico</td>\n      <td>97</td>\n      <td>97</td>\n    </tr>\n    <tr>\n      <th>...</th>\n      <td>...</td>\n      <td>...</td>\n      <td>...</td>\n      <td>...</td>\n      <td>...</td>\n      <td>...</td>\n      <td>...</td>\n      <td>...</td>\n      <td>...</td>\n      <td>...</td>\n      <td>...</td>\n      <td>...</td>\n      <td>...</td>\n      <td>...</td>\n      <td>...</td>\n      <td>...</td>\n      <td>...</td>\n      <td>...</td>\n      <td>...</td>\n      <td>...</td>\n      <td>...</td>\n    </tr>\n    <tr>\n      <th>2183114</th>\n      <td>2020-10-18</td>\n      <td>2fcdc7</td>\n      <td>1</td>\n      <td>12</td>\n      <td>26</td>\n      <td>1</td>\n      <td>26</td>\n      <td>26</td>\n      <td>30</td>\n      <td>1</td>\n      <td>...</td>\n      <td>2</td>\n      <td>2</td>\n      <td>1</td>\n      <td>2</td>\n      <td>97</td>\n      <td>1</td>\n      <td>99</td>\n      <td>MÃ©xico</td>\n      <td>97</td>\n      <td>97</td>\n    </tr>\n    <tr>\n      <th>2183136</th>\n      <td>2020-10-18</td>\n      <td>3c6f4d</td>\n      <td>1</td>\n      <td>12</td>\n      <td>26</td>\n      <td>2</td>\n      <td>26</td>\n      <td>26</td>\n      <td>19</td>\n      <td>1</td>\n      <td>...</td>\n      <td>2</td>\n      <td>2</td>\n      <td>1</td>\n      <td>2</td>\n      <td>97</td>\n      <td>1</td>\n      <td>99</td>\n      <td>MÃ©xico</td>\n      <td>97</td>\n      <td>97</td>\n    </tr>\n    <tr>\n      <th>2183216</th>\n      <td>2020-10-18</td>\n      <td>373591</td>\n      <td>1</td>\n      <td>6</td>\n      <td>20</td>\n      <td>1</td>\n      <td>20</td>\n      <td>20</td>\n      <td>399</td>\n      <td>1</td>\n      <td>...</td>\n      <td>2</td>\n      <td>2</td>\n      <td>2</td>\n      <td>2</td>\n      <td>97</td>\n      <td>1</td>\n      <td>99</td>\n      <td>MÃ©xico</td>\n      <td>97</td>\n      <td>97</td>\n    </tr>\n    <tr>\n      <th>2183262</th>\n      <td>2020-10-18</td>\n      <td>365e11</td>\n      <td>1</td>\n      <td>6</td>\n      <td>9</td>\n      <td>1</td>\n      <td>17</td>\n      <td>15</td>\n      <td>58</td>\n      <td>2</td>\n      <td>...</td>\n      <td>2</td>\n      <td>2</td>\n      <td>2</td>\n      <td>2</td>\n      <td>97</td>\n      <td>1</td>\n      <td>99</td>\n      <td>MÃ©xico</td>\n      <td>97</td>\n      <td>2</td>\n    </tr>\n    <tr>\n      <th>2183269</th>\n      <td>2020-10-18</td>\n      <td>408ef1</td>\n      <td>2</td>\n      <td>6</td>\n      <td>9</td>\n      <td>2</td>\n      <td>9</td>\n      <td>9</td>\n      <td>5</td>\n      <td>1</td>\n      <td>...</td>\n      <td>2</td>\n      <td>2</td>\n      <td>1</td>\n      <td>2</td>\n      <td>97</td>\n      <td>1</td>\n      <td>99</td>\n      <td>MÃ©xico</td>\n      <td>97</td>\n      <td>97</td>\n    </tr>\n  </tbody>\n</table>\n<p>851227 rows × 38 columns</p>\n</div>"
     },
     "metadata": {},
     "execution_count": 19
    }
   ],
   "source": [
    "confirmados = data[data[\"CLASIFICACION_FINAL\"].isin([1,2,3])]\n",
    "confirmados"
   ]
  },
  {
   "source": [
    "En la parte inferior izquierda del resultado podemos ver que este DataFrame contiene 851,227 filas, este número se corresponde con lo reportado por la Secretaría de Salud el 18 de octubre de 2020."
   ],
   "cell_type": "markdown",
   "metadata": {}
  },
  {
   "source": [
    "## Casos sospechosos\n",
    "\n",
    "Para filtrar los casos sospechosos podemos volver a checar el diccionario de datos. De acuerdo a la información en el diccionario los casos sospechosos están identificados con el valor 6 en la columna \"CLASIFICACION_FINAL\". Filtrémoslos y guardémoslos en una variable!"
   ],
   "cell_type": "markdown",
   "metadata": {}
  },
  {
   "cell_type": "code",
   "execution_count": 20,
   "metadata": {},
   "outputs": [
    {
     "output_type": "execute_result",
     "data": {
      "text/plain": [
       "        FECHA_ACTUALIZACION ID_REGISTRO  ORIGEN  SECTOR  ENTIDAD_UM  SEXO  \\\n",
       "39125            2020-10-18      193243       2       4          19     2   \n",
       "39126            2020-10-18      0462c9       2       4          14     1   \n",
       "39127            2020-10-18      0cafed       2       4          19     2   \n",
       "39128            2020-10-18      194bf3       2       4          11     2   \n",
       "39129            2020-10-18      1b4b5a       2       4          26     2   \n",
       "...                     ...         ...     ...     ...         ...   ...   \n",
       "2183266          2020-10-18      2edfde       2       6          28     2   \n",
       "2183267          2020-10-18      332cf5       2       4          30     1   \n",
       "2183268          2020-10-18      42c51a       2      12           9     2   \n",
       "2183270          2020-10-18      372368       2       9           8     2   \n",
       "2183271          2020-10-18      427b3f       2       9          19     2   \n",
       "\n",
       "         ENTIDAD_NAC  ENTIDAD_RES  MUNICIPIO_RES  TIPO_PACIENTE  ...  \\\n",
       "39125             10           19             46              1  ...   \n",
       "39126             14           14            120              1  ...   \n",
       "39127             19           19             26              1  ...   \n",
       "39128             11           11              7              1  ...   \n",
       "39129             26           26             55              1  ...   \n",
       "...              ...          ...            ...            ...  ...   \n",
       "2183266           28           28              9              1  ...   \n",
       "2183267           30           30            135              1  ...   \n",
       "2183268            9            9             10              1  ...   \n",
       "2183270            8            8             19              2  ...   \n",
       "2183271           19           19             18              2  ...   \n",
       "\n",
       "        RENAL_CRONICA TABAQUISMO OTRO_CASO  TOMA_MUESTRA  RESULTADO_LAB  \\\n",
       "39125               2          2        99             2             97   \n",
       "39126               2          2        99             2             97   \n",
       "39127               2          2        99             2             97   \n",
       "39128               2          2        99             2             97   \n",
       "39129               2          2        99             2             97   \n",
       "...               ...        ...       ...           ...            ...   \n",
       "2183266             2          2         2             1              3   \n",
       "2183267             2          2         2             1              3   \n",
       "2183268             2          2         1             1              3   \n",
       "2183270             2          2         2             1              3   \n",
       "2183271             2          2         2             1              3   \n",
       "\n",
       "         CLASIFICACION_FINAL  MIGRANTE  PAIS_NACIONALIDAD  PAIS_ORIGEN  UCI  \n",
       "39125                      6        99            MÃ©xico           97   97  \n",
       "39126                      6        99            MÃ©xico           97   97  \n",
       "39127                      6        99            MÃ©xico           97   97  \n",
       "39128                      6        99            MÃ©xico           97   97  \n",
       "39129                      6        99            MÃ©xico           97   97  \n",
       "...                      ...       ...                ...          ...  ...  \n",
       "2183266                    6        99            MÃ©xico           97   97  \n",
       "2183267                    6        99            MÃ©xico           97   97  \n",
       "2183268                    6        99            MÃ©xico           97   97  \n",
       "2183270                    6        99            MÃ©xico           97    2  \n",
       "2183271                    6        99            MÃ©xico           97    2  \n",
       "\n",
       "[265492 rows x 38 columns]"
      ],
      "text/html": "<div>\n<style scoped>\n    .dataframe tbody tr th:only-of-type {\n        vertical-align: middle;\n    }\n\n    .dataframe tbody tr th {\n        vertical-align: top;\n    }\n\n    .dataframe thead th {\n        text-align: right;\n    }\n</style>\n<table border=\"1\" class=\"dataframe\">\n  <thead>\n    <tr style=\"text-align: right;\">\n      <th></th>\n      <th>FECHA_ACTUALIZACION</th>\n      <th>ID_REGISTRO</th>\n      <th>ORIGEN</th>\n      <th>SECTOR</th>\n      <th>ENTIDAD_UM</th>\n      <th>SEXO</th>\n      <th>ENTIDAD_NAC</th>\n      <th>ENTIDAD_RES</th>\n      <th>MUNICIPIO_RES</th>\n      <th>TIPO_PACIENTE</th>\n      <th>...</th>\n      <th>RENAL_CRONICA</th>\n      <th>TABAQUISMO</th>\n      <th>OTRO_CASO</th>\n      <th>TOMA_MUESTRA</th>\n      <th>RESULTADO_LAB</th>\n      <th>CLASIFICACION_FINAL</th>\n      <th>MIGRANTE</th>\n      <th>PAIS_NACIONALIDAD</th>\n      <th>PAIS_ORIGEN</th>\n      <th>UCI</th>\n    </tr>\n  </thead>\n  <tbody>\n    <tr>\n      <th>39125</th>\n      <td>2020-10-18</td>\n      <td>193243</td>\n      <td>2</td>\n      <td>4</td>\n      <td>19</td>\n      <td>2</td>\n      <td>10</td>\n      <td>19</td>\n      <td>46</td>\n      <td>1</td>\n      <td>...</td>\n      <td>2</td>\n      <td>2</td>\n      <td>99</td>\n      <td>2</td>\n      <td>97</td>\n      <td>6</td>\n      <td>99</td>\n      <td>MÃ©xico</td>\n      <td>97</td>\n      <td>97</td>\n    </tr>\n    <tr>\n      <th>39126</th>\n      <td>2020-10-18</td>\n      <td>0462c9</td>\n      <td>2</td>\n      <td>4</td>\n      <td>14</td>\n      <td>1</td>\n      <td>14</td>\n      <td>14</td>\n      <td>120</td>\n      <td>1</td>\n      <td>...</td>\n      <td>2</td>\n      <td>2</td>\n      <td>99</td>\n      <td>2</td>\n      <td>97</td>\n      <td>6</td>\n      <td>99</td>\n      <td>MÃ©xico</td>\n      <td>97</td>\n      <td>97</td>\n    </tr>\n    <tr>\n      <th>39127</th>\n      <td>2020-10-18</td>\n      <td>0cafed</td>\n      <td>2</td>\n      <td>4</td>\n      <td>19</td>\n      <td>2</td>\n      <td>19</td>\n      <td>19</td>\n      <td>26</td>\n      <td>1</td>\n      <td>...</td>\n      <td>2</td>\n      <td>2</td>\n      <td>99</td>\n      <td>2</td>\n      <td>97</td>\n      <td>6</td>\n      <td>99</td>\n      <td>MÃ©xico</td>\n      <td>97</td>\n      <td>97</td>\n    </tr>\n    <tr>\n      <th>39128</th>\n      <td>2020-10-18</td>\n      <td>194bf3</td>\n      <td>2</td>\n      <td>4</td>\n      <td>11</td>\n      <td>2</td>\n      <td>11</td>\n      <td>11</td>\n      <td>7</td>\n      <td>1</td>\n      <td>...</td>\n      <td>2</td>\n      <td>2</td>\n      <td>99</td>\n      <td>2</td>\n      <td>97</td>\n      <td>6</td>\n      <td>99</td>\n      <td>MÃ©xico</td>\n      <td>97</td>\n      <td>97</td>\n    </tr>\n    <tr>\n      <th>39129</th>\n      <td>2020-10-18</td>\n      <td>1b4b5a</td>\n      <td>2</td>\n      <td>4</td>\n      <td>26</td>\n      <td>2</td>\n      <td>26</td>\n      <td>26</td>\n      <td>55</td>\n      <td>1</td>\n      <td>...</td>\n      <td>2</td>\n      <td>2</td>\n      <td>99</td>\n      <td>2</td>\n      <td>97</td>\n      <td>6</td>\n      <td>99</td>\n      <td>MÃ©xico</td>\n      <td>97</td>\n      <td>97</td>\n    </tr>\n    <tr>\n      <th>...</th>\n      <td>...</td>\n      <td>...</td>\n      <td>...</td>\n      <td>...</td>\n      <td>...</td>\n      <td>...</td>\n      <td>...</td>\n      <td>...</td>\n      <td>...</td>\n      <td>...</td>\n      <td>...</td>\n      <td>...</td>\n      <td>...</td>\n      <td>...</td>\n      <td>...</td>\n      <td>...</td>\n      <td>...</td>\n      <td>...</td>\n      <td>...</td>\n      <td>...</td>\n      <td>...</td>\n    </tr>\n    <tr>\n      <th>2183266</th>\n      <td>2020-10-18</td>\n      <td>2edfde</td>\n      <td>2</td>\n      <td>6</td>\n      <td>28</td>\n      <td>2</td>\n      <td>28</td>\n      <td>28</td>\n      <td>9</td>\n      <td>1</td>\n      <td>...</td>\n      <td>2</td>\n      <td>2</td>\n      <td>2</td>\n      <td>1</td>\n      <td>3</td>\n      <td>6</td>\n      <td>99</td>\n      <td>MÃ©xico</td>\n      <td>97</td>\n      <td>97</td>\n    </tr>\n    <tr>\n      <th>2183267</th>\n      <td>2020-10-18</td>\n      <td>332cf5</td>\n      <td>2</td>\n      <td>4</td>\n      <td>30</td>\n      <td>1</td>\n      <td>30</td>\n      <td>30</td>\n      <td>135</td>\n      <td>1</td>\n      <td>...</td>\n      <td>2</td>\n      <td>2</td>\n      <td>2</td>\n      <td>1</td>\n      <td>3</td>\n      <td>6</td>\n      <td>99</td>\n      <td>MÃ©xico</td>\n      <td>97</td>\n      <td>97</td>\n    </tr>\n    <tr>\n      <th>2183268</th>\n      <td>2020-10-18</td>\n      <td>42c51a</td>\n      <td>2</td>\n      <td>12</td>\n      <td>9</td>\n      <td>2</td>\n      <td>9</td>\n      <td>9</td>\n      <td>10</td>\n      <td>1</td>\n      <td>...</td>\n      <td>2</td>\n      <td>2</td>\n      <td>1</td>\n      <td>1</td>\n      <td>3</td>\n      <td>6</td>\n      <td>99</td>\n      <td>MÃ©xico</td>\n      <td>97</td>\n      <td>97</td>\n    </tr>\n    <tr>\n      <th>2183270</th>\n      <td>2020-10-18</td>\n      <td>372368</td>\n      <td>2</td>\n      <td>9</td>\n      <td>8</td>\n      <td>2</td>\n      <td>8</td>\n      <td>8</td>\n      <td>19</td>\n      <td>2</td>\n      <td>...</td>\n      <td>2</td>\n      <td>2</td>\n      <td>2</td>\n      <td>1</td>\n      <td>3</td>\n      <td>6</td>\n      <td>99</td>\n      <td>MÃ©xico</td>\n      <td>97</td>\n      <td>2</td>\n    </tr>\n    <tr>\n      <th>2183271</th>\n      <td>2020-10-18</td>\n      <td>427b3f</td>\n      <td>2</td>\n      <td>9</td>\n      <td>19</td>\n      <td>2</td>\n      <td>19</td>\n      <td>19</td>\n      <td>18</td>\n      <td>2</td>\n      <td>...</td>\n      <td>2</td>\n      <td>2</td>\n      <td>2</td>\n      <td>1</td>\n      <td>3</td>\n      <td>6</td>\n      <td>99</td>\n      <td>MÃ©xico</td>\n      <td>97</td>\n      <td>2</td>\n    </tr>\n  </tbody>\n</table>\n<p>265492 rows × 38 columns</p>\n</div>"
     },
     "metadata": {},
     "execution_count": 20
    }
   ],
   "source": [
    "sospechosos=data[data[\"CLASIFICACION_FINAL\"]==6]\n",
    "sospechosos"
   ]
  },
  {
   "source": [
    "En el reporte de la secretaría separan a los casos sospechosos en \"sospechosos sin muestra\", \"sospechosos con posibilidad de resultado\" y \"sospechosos sin posibilidad de resultado\". Para obtenerlos necesitamos algunos filtros compuestos mezclando los valores de dos columnas, por un lado la columna que estuvimos utilizando previamente \"CLASIFICACION_FINAL\" y además la columna con los resultados del laboratorio \"RESULTADO_LAB\""
   ],
   "cell_type": "markdown",
   "metadata": {}
  },
  {
   "source": [
    "## Sospechosos sin muestra\n",
    "\n",
    "Los casos sospechosos sin muestra podemos identificarlos como casos con valor 6 en la columna de \"CLASIFICACION_FINAL\" y valor 97 en la columna de \"RESULTADO_LAB\". Este valor corresponde con los resultados de laboratorio clasificados como \"No aplica (caso sin muestra)\" en el diccionario de datos. Para poder filtrar usaremos la notación usada previamente para cada una de las condiciones y el operador \"and\" que en Pandas es \"&\"."
   ],
   "cell_type": "markdown",
   "metadata": {}
  },
  {
   "cell_type": "code",
   "execution_count": 21,
   "metadata": {},
   "outputs": [
    {
     "output_type": "execute_result",
     "data": {
      "text/plain": [
       "        FECHA_ACTUALIZACION ID_REGISTRO  ORIGEN  SECTOR  ENTIDAD_UM  SEXO  \\\n",
       "39125            2020-10-18      193243       2       4          19     2   \n",
       "39126            2020-10-18      0462c9       2       4          14     1   \n",
       "39127            2020-10-18      0cafed       2       4          19     2   \n",
       "39128            2020-10-18      194bf3       2       4          11     2   \n",
       "39129            2020-10-18      1b4b5a       2       4          26     2   \n",
       "...                     ...         ...     ...     ...         ...   ...   \n",
       "2183248          2020-10-18      37c6a8       2      12          11     1   \n",
       "2183251          2020-10-18      28b4d5       1      12           1     2   \n",
       "2183255          2020-10-18      414a3f       1      12           1     2   \n",
       "2183263          2020-10-18      3d7bff       1       4          19     2   \n",
       "2183264          2020-10-18      2d9933       1      12          13     2   \n",
       "\n",
       "         ENTIDAD_NAC  ENTIDAD_RES  MUNICIPIO_RES  TIPO_PACIENTE  ...  \\\n",
       "39125             10           19             46              1  ...   \n",
       "39126             14           14            120              1  ...   \n",
       "39127             19           19             26              1  ...   \n",
       "39128             11           11              7              1  ...   \n",
       "39129             26           26             55              1  ...   \n",
       "...              ...          ...            ...            ...  ...   \n",
       "2183248           11           11             31              1  ...   \n",
       "2183251            1            1              1              1  ...   \n",
       "2183255            1            1              1              1  ...   \n",
       "2183263           19           19             31              1  ...   \n",
       "2183264           13           13             77              1  ...   \n",
       "\n",
       "        RENAL_CRONICA TABAQUISMO OTRO_CASO  TOMA_MUESTRA  RESULTADO_LAB  \\\n",
       "39125               2          2        99             2             97   \n",
       "39126               2          2        99             2             97   \n",
       "39127               2          2        99             2             97   \n",
       "39128               2          2        99             2             97   \n",
       "39129               2          2        99             2             97   \n",
       "...               ...        ...       ...           ...            ...   \n",
       "2183248             2          2         2             2             97   \n",
       "2183251             2          2         2             2             97   \n",
       "2183255             2          2        99             2             97   \n",
       "2183263             2          2         2             2             97   \n",
       "2183264             2          2         2             2             97   \n",
       "\n",
       "         CLASIFICACION_FINAL  MIGRANTE  PAIS_NACIONALIDAD  PAIS_ORIGEN  UCI  \n",
       "39125                      6        99            MÃ©xico           97   97  \n",
       "39126                      6        99            MÃ©xico           97   97  \n",
       "39127                      6        99            MÃ©xico           97   97  \n",
       "39128                      6        99            MÃ©xico           97   97  \n",
       "39129                      6        99            MÃ©xico           97   97  \n",
       "...                      ...       ...                ...          ...  ...  \n",
       "2183248                    6        99            MÃ©xico           97   97  \n",
       "2183251                    6        99            MÃ©xico           97   97  \n",
       "2183255                    6        99            MÃ©xico           97   97  \n",
       "2183263                    6        99            MÃ©xico           97   97  \n",
       "2183264                    6        99            MÃ©xico           97   97  \n",
       "\n",
       "[176840 rows x 38 columns]"
      ],
      "text/html": "<div>\n<style scoped>\n    .dataframe tbody tr th:only-of-type {\n        vertical-align: middle;\n    }\n\n    .dataframe tbody tr th {\n        vertical-align: top;\n    }\n\n    .dataframe thead th {\n        text-align: right;\n    }\n</style>\n<table border=\"1\" class=\"dataframe\">\n  <thead>\n    <tr style=\"text-align: right;\">\n      <th></th>\n      <th>FECHA_ACTUALIZACION</th>\n      <th>ID_REGISTRO</th>\n      <th>ORIGEN</th>\n      <th>SECTOR</th>\n      <th>ENTIDAD_UM</th>\n      <th>SEXO</th>\n      <th>ENTIDAD_NAC</th>\n      <th>ENTIDAD_RES</th>\n      <th>MUNICIPIO_RES</th>\n      <th>TIPO_PACIENTE</th>\n      <th>...</th>\n      <th>RENAL_CRONICA</th>\n      <th>TABAQUISMO</th>\n      <th>OTRO_CASO</th>\n      <th>TOMA_MUESTRA</th>\n      <th>RESULTADO_LAB</th>\n      <th>CLASIFICACION_FINAL</th>\n      <th>MIGRANTE</th>\n      <th>PAIS_NACIONALIDAD</th>\n      <th>PAIS_ORIGEN</th>\n      <th>UCI</th>\n    </tr>\n  </thead>\n  <tbody>\n    <tr>\n      <th>39125</th>\n      <td>2020-10-18</td>\n      <td>193243</td>\n      <td>2</td>\n      <td>4</td>\n      <td>19</td>\n      <td>2</td>\n      <td>10</td>\n      <td>19</td>\n      <td>46</td>\n      <td>1</td>\n      <td>...</td>\n      <td>2</td>\n      <td>2</td>\n      <td>99</td>\n      <td>2</td>\n      <td>97</td>\n      <td>6</td>\n      <td>99</td>\n      <td>MÃ©xico</td>\n      <td>97</td>\n      <td>97</td>\n    </tr>\n    <tr>\n      <th>39126</th>\n      <td>2020-10-18</td>\n      <td>0462c9</td>\n      <td>2</td>\n      <td>4</td>\n      <td>14</td>\n      <td>1</td>\n      <td>14</td>\n      <td>14</td>\n      <td>120</td>\n      <td>1</td>\n      <td>...</td>\n      <td>2</td>\n      <td>2</td>\n      <td>99</td>\n      <td>2</td>\n      <td>97</td>\n      <td>6</td>\n      <td>99</td>\n      <td>MÃ©xico</td>\n      <td>97</td>\n      <td>97</td>\n    </tr>\n    <tr>\n      <th>39127</th>\n      <td>2020-10-18</td>\n      <td>0cafed</td>\n      <td>2</td>\n      <td>4</td>\n      <td>19</td>\n      <td>2</td>\n      <td>19</td>\n      <td>19</td>\n      <td>26</td>\n      <td>1</td>\n      <td>...</td>\n      <td>2</td>\n      <td>2</td>\n      <td>99</td>\n      <td>2</td>\n      <td>97</td>\n      <td>6</td>\n      <td>99</td>\n      <td>MÃ©xico</td>\n      <td>97</td>\n      <td>97</td>\n    </tr>\n    <tr>\n      <th>39128</th>\n      <td>2020-10-18</td>\n      <td>194bf3</td>\n      <td>2</td>\n      <td>4</td>\n      <td>11</td>\n      <td>2</td>\n      <td>11</td>\n      <td>11</td>\n      <td>7</td>\n      <td>1</td>\n      <td>...</td>\n      <td>2</td>\n      <td>2</td>\n      <td>99</td>\n      <td>2</td>\n      <td>97</td>\n      <td>6</td>\n      <td>99</td>\n      <td>MÃ©xico</td>\n      <td>97</td>\n      <td>97</td>\n    </tr>\n    <tr>\n      <th>39129</th>\n      <td>2020-10-18</td>\n      <td>1b4b5a</td>\n      <td>2</td>\n      <td>4</td>\n      <td>26</td>\n      <td>2</td>\n      <td>26</td>\n      <td>26</td>\n      <td>55</td>\n      <td>1</td>\n      <td>...</td>\n      <td>2</td>\n      <td>2</td>\n      <td>99</td>\n      <td>2</td>\n      <td>97</td>\n      <td>6</td>\n      <td>99</td>\n      <td>MÃ©xico</td>\n      <td>97</td>\n      <td>97</td>\n    </tr>\n    <tr>\n      <th>...</th>\n      <td>...</td>\n      <td>...</td>\n      <td>...</td>\n      <td>...</td>\n      <td>...</td>\n      <td>...</td>\n      <td>...</td>\n      <td>...</td>\n      <td>...</td>\n      <td>...</td>\n      <td>...</td>\n      <td>...</td>\n      <td>...</td>\n      <td>...</td>\n      <td>...</td>\n      <td>...</td>\n      <td>...</td>\n      <td>...</td>\n      <td>...</td>\n      <td>...</td>\n      <td>...</td>\n    </tr>\n    <tr>\n      <th>2183248</th>\n      <td>2020-10-18</td>\n      <td>37c6a8</td>\n      <td>2</td>\n      <td>12</td>\n      <td>11</td>\n      <td>1</td>\n      <td>11</td>\n      <td>11</td>\n      <td>31</td>\n      <td>1</td>\n      <td>...</td>\n      <td>2</td>\n      <td>2</td>\n      <td>2</td>\n      <td>2</td>\n      <td>97</td>\n      <td>6</td>\n      <td>99</td>\n      <td>MÃ©xico</td>\n      <td>97</td>\n      <td>97</td>\n    </tr>\n    <tr>\n      <th>2183251</th>\n      <td>2020-10-18</td>\n      <td>28b4d5</td>\n      <td>1</td>\n      <td>12</td>\n      <td>1</td>\n      <td>2</td>\n      <td>1</td>\n      <td>1</td>\n      <td>1</td>\n      <td>1</td>\n      <td>...</td>\n      <td>2</td>\n      <td>2</td>\n      <td>2</td>\n      <td>2</td>\n      <td>97</td>\n      <td>6</td>\n      <td>99</td>\n      <td>MÃ©xico</td>\n      <td>97</td>\n      <td>97</td>\n    </tr>\n    <tr>\n      <th>2183255</th>\n      <td>2020-10-18</td>\n      <td>414a3f</td>\n      <td>1</td>\n      <td>12</td>\n      <td>1</td>\n      <td>2</td>\n      <td>1</td>\n      <td>1</td>\n      <td>1</td>\n      <td>1</td>\n      <td>...</td>\n      <td>2</td>\n      <td>2</td>\n      <td>99</td>\n      <td>2</td>\n      <td>97</td>\n      <td>6</td>\n      <td>99</td>\n      <td>MÃ©xico</td>\n      <td>97</td>\n      <td>97</td>\n    </tr>\n    <tr>\n      <th>2183263</th>\n      <td>2020-10-18</td>\n      <td>3d7bff</td>\n      <td>1</td>\n      <td>4</td>\n      <td>19</td>\n      <td>2</td>\n      <td>19</td>\n      <td>19</td>\n      <td>31</td>\n      <td>1</td>\n      <td>...</td>\n      <td>2</td>\n      <td>2</td>\n      <td>2</td>\n      <td>2</td>\n      <td>97</td>\n      <td>6</td>\n      <td>99</td>\n      <td>MÃ©xico</td>\n      <td>97</td>\n      <td>97</td>\n    </tr>\n    <tr>\n      <th>2183264</th>\n      <td>2020-10-18</td>\n      <td>2d9933</td>\n      <td>1</td>\n      <td>12</td>\n      <td>13</td>\n      <td>2</td>\n      <td>13</td>\n      <td>13</td>\n      <td>77</td>\n      <td>1</td>\n      <td>...</td>\n      <td>2</td>\n      <td>2</td>\n      <td>2</td>\n      <td>2</td>\n      <td>97</td>\n      <td>6</td>\n      <td>99</td>\n      <td>MÃ©xico</td>\n      <td>97</td>\n      <td>97</td>\n    </tr>\n  </tbody>\n</table>\n<p>176840 rows × 38 columns</p>\n</div>"
     },
     "metadata": {},
     "execution_count": 21
    }
   ],
   "source": [
    "sospechosos_sin_muestra=data[(data[\"CLASIFICACION_FINAL\"]==6)&(data[\"RESULTADO_LAB\"]==97)]\n",
    "sospechosos_sin_muestra"
   ]
  },
  {
   "source": [
    "## Sospechosos con posibilidad de resultado\n",
    "\n",
    "Para identificar los sospechosos con posibilidad de resultado necesitamos un filtro compuesto por el valor 6 en la columna \"CLASIFICACION_FINAL\" y el valor 3 en la columna \"RESULTADO_LAB\". Este valor corresponde con la clasificación \"Resultado pendiente\" en el diccionario."
   ],
   "cell_type": "markdown",
   "metadata": {}
  },
  {
   "cell_type": "code",
   "execution_count": 22,
   "metadata": {},
   "outputs": [
    {
     "output_type": "execute_result",
     "data": {
      "text/plain": [
       "        FECHA_ACTUALIZACION ID_REGISTRO  ORIGEN  SECTOR  ENTIDAD_UM  SEXO  \\\n",
       "2134604          2020-10-18      3611b6       2       4          15     2   \n",
       "2134605          2020-10-18      2ba8f7       2       4          11     2   \n",
       "2134606          2020-10-18      45a62c       2       4           9     1   \n",
       "2134607          2020-10-18      23f242       2       4           9     1   \n",
       "2134608          2020-10-18      28907e       2       4          15     1   \n",
       "...                     ...         ...     ...     ...         ...   ...   \n",
       "2183266          2020-10-18      2edfde       2       6          28     2   \n",
       "2183267          2020-10-18      332cf5       2       4          30     1   \n",
       "2183268          2020-10-18      42c51a       2      12           9     2   \n",
       "2183270          2020-10-18      372368       2       9           8     2   \n",
       "2183271          2020-10-18      427b3f       2       9          19     2   \n",
       "\n",
       "         ENTIDAD_NAC  ENTIDAD_RES  MUNICIPIO_RES  TIPO_PACIENTE  ...  \\\n",
       "2134604           15           15             50              1  ...   \n",
       "2134605           11           11              7              1  ...   \n",
       "2134606           14           15            104              1  ...   \n",
       "2134607            9            9             13              1  ...   \n",
       "2134608           15           15            120              1  ...   \n",
       "...              ...          ...            ...            ...  ...   \n",
       "2183266           28           28              9              1  ...   \n",
       "2183267           30           30            135              1  ...   \n",
       "2183268            9            9             10              1  ...   \n",
       "2183270            8            8             19              2  ...   \n",
       "2183271           19           19             18              2  ...   \n",
       "\n",
       "        RENAL_CRONICA TABAQUISMO OTRO_CASO  TOMA_MUESTRA  RESULTADO_LAB  \\\n",
       "2134604             2          2         2             1              3   \n",
       "2134605             2          2         2             1              3   \n",
       "2134606             2          2         2             1              3   \n",
       "2134607             2          2         1             1              3   \n",
       "2134608             2          2         1             1              3   \n",
       "...               ...        ...       ...           ...            ...   \n",
       "2183266             2          2         2             1              3   \n",
       "2183267             2          2         2             1              3   \n",
       "2183268             2          2         1             1              3   \n",
       "2183270             2          2         2             1              3   \n",
       "2183271             2          2         2             1              3   \n",
       "\n",
       "         CLASIFICACION_FINAL  MIGRANTE  PAIS_NACIONALIDAD  PAIS_ORIGEN  UCI  \n",
       "2134604                    6        99            MÃ©xico           97   97  \n",
       "2134605                    6        99            MÃ©xico           97   97  \n",
       "2134606                    6        99            MÃ©xico           97   97  \n",
       "2134607                    6        99            MÃ©xico           97   97  \n",
       "2134608                    6        99            MÃ©xico           97   97  \n",
       "...                      ...       ...                ...          ...  ...  \n",
       "2183266                    6        99            MÃ©xico           97   97  \n",
       "2183267                    6        99            MÃ©xico           97   97  \n",
       "2183268                    6        99            MÃ©xico           97   97  \n",
       "2183270                    6        99            MÃ©xico           97    2  \n",
       "2183271                    6        99            MÃ©xico           97    2  \n",
       "\n",
       "[37200 rows x 38 columns]"
      ],
      "text/html": "<div>\n<style scoped>\n    .dataframe tbody tr th:only-of-type {\n        vertical-align: middle;\n    }\n\n    .dataframe tbody tr th {\n        vertical-align: top;\n    }\n\n    .dataframe thead th {\n        text-align: right;\n    }\n</style>\n<table border=\"1\" class=\"dataframe\">\n  <thead>\n    <tr style=\"text-align: right;\">\n      <th></th>\n      <th>FECHA_ACTUALIZACION</th>\n      <th>ID_REGISTRO</th>\n      <th>ORIGEN</th>\n      <th>SECTOR</th>\n      <th>ENTIDAD_UM</th>\n      <th>SEXO</th>\n      <th>ENTIDAD_NAC</th>\n      <th>ENTIDAD_RES</th>\n      <th>MUNICIPIO_RES</th>\n      <th>TIPO_PACIENTE</th>\n      <th>...</th>\n      <th>RENAL_CRONICA</th>\n      <th>TABAQUISMO</th>\n      <th>OTRO_CASO</th>\n      <th>TOMA_MUESTRA</th>\n      <th>RESULTADO_LAB</th>\n      <th>CLASIFICACION_FINAL</th>\n      <th>MIGRANTE</th>\n      <th>PAIS_NACIONALIDAD</th>\n      <th>PAIS_ORIGEN</th>\n      <th>UCI</th>\n    </tr>\n  </thead>\n  <tbody>\n    <tr>\n      <th>2134604</th>\n      <td>2020-10-18</td>\n      <td>3611b6</td>\n      <td>2</td>\n      <td>4</td>\n      <td>15</td>\n      <td>2</td>\n      <td>15</td>\n      <td>15</td>\n      <td>50</td>\n      <td>1</td>\n      <td>...</td>\n      <td>2</td>\n      <td>2</td>\n      <td>2</td>\n      <td>1</td>\n      <td>3</td>\n      <td>6</td>\n      <td>99</td>\n      <td>MÃ©xico</td>\n      <td>97</td>\n      <td>97</td>\n    </tr>\n    <tr>\n      <th>2134605</th>\n      <td>2020-10-18</td>\n      <td>2ba8f7</td>\n      <td>2</td>\n      <td>4</td>\n      <td>11</td>\n      <td>2</td>\n      <td>11</td>\n      <td>11</td>\n      <td>7</td>\n      <td>1</td>\n      <td>...</td>\n      <td>2</td>\n      <td>2</td>\n      <td>2</td>\n      <td>1</td>\n      <td>3</td>\n      <td>6</td>\n      <td>99</td>\n      <td>MÃ©xico</td>\n      <td>97</td>\n      <td>97</td>\n    </tr>\n    <tr>\n      <th>2134606</th>\n      <td>2020-10-18</td>\n      <td>45a62c</td>\n      <td>2</td>\n      <td>4</td>\n      <td>9</td>\n      <td>1</td>\n      <td>14</td>\n      <td>15</td>\n      <td>104</td>\n      <td>1</td>\n      <td>...</td>\n      <td>2</td>\n      <td>2</td>\n      <td>2</td>\n      <td>1</td>\n      <td>3</td>\n      <td>6</td>\n      <td>99</td>\n      <td>MÃ©xico</td>\n      <td>97</td>\n      <td>97</td>\n    </tr>\n    <tr>\n      <th>2134607</th>\n      <td>2020-10-18</td>\n      <td>23f242</td>\n      <td>2</td>\n      <td>4</td>\n      <td>9</td>\n      <td>1</td>\n      <td>9</td>\n      <td>9</td>\n      <td>13</td>\n      <td>1</td>\n      <td>...</td>\n      <td>2</td>\n      <td>2</td>\n      <td>1</td>\n      <td>1</td>\n      <td>3</td>\n      <td>6</td>\n      <td>99</td>\n      <td>MÃ©xico</td>\n      <td>97</td>\n      <td>97</td>\n    </tr>\n    <tr>\n      <th>2134608</th>\n      <td>2020-10-18</td>\n      <td>28907e</td>\n      <td>2</td>\n      <td>4</td>\n      <td>15</td>\n      <td>1</td>\n      <td>15</td>\n      <td>15</td>\n      <td>120</td>\n      <td>1</td>\n      <td>...</td>\n      <td>2</td>\n      <td>2</td>\n      <td>1</td>\n      <td>1</td>\n      <td>3</td>\n      <td>6</td>\n      <td>99</td>\n      <td>MÃ©xico</td>\n      <td>97</td>\n      <td>97</td>\n    </tr>\n    <tr>\n      <th>...</th>\n      <td>...</td>\n      <td>...</td>\n      <td>...</td>\n      <td>...</td>\n      <td>...</td>\n      <td>...</td>\n      <td>...</td>\n      <td>...</td>\n      <td>...</td>\n      <td>...</td>\n      <td>...</td>\n      <td>...</td>\n      <td>...</td>\n      <td>...</td>\n      <td>...</td>\n      <td>...</td>\n      <td>...</td>\n      <td>...</td>\n      <td>...</td>\n      <td>...</td>\n      <td>...</td>\n    </tr>\n    <tr>\n      <th>2183266</th>\n      <td>2020-10-18</td>\n      <td>2edfde</td>\n      <td>2</td>\n      <td>6</td>\n      <td>28</td>\n      <td>2</td>\n      <td>28</td>\n      <td>28</td>\n      <td>9</td>\n      <td>1</td>\n      <td>...</td>\n      <td>2</td>\n      <td>2</td>\n      <td>2</td>\n      <td>1</td>\n      <td>3</td>\n      <td>6</td>\n      <td>99</td>\n      <td>MÃ©xico</td>\n      <td>97</td>\n      <td>97</td>\n    </tr>\n    <tr>\n      <th>2183267</th>\n      <td>2020-10-18</td>\n      <td>332cf5</td>\n      <td>2</td>\n      <td>4</td>\n      <td>30</td>\n      <td>1</td>\n      <td>30</td>\n      <td>30</td>\n      <td>135</td>\n      <td>1</td>\n      <td>...</td>\n      <td>2</td>\n      <td>2</td>\n      <td>2</td>\n      <td>1</td>\n      <td>3</td>\n      <td>6</td>\n      <td>99</td>\n      <td>MÃ©xico</td>\n      <td>97</td>\n      <td>97</td>\n    </tr>\n    <tr>\n      <th>2183268</th>\n      <td>2020-10-18</td>\n      <td>42c51a</td>\n      <td>2</td>\n      <td>12</td>\n      <td>9</td>\n      <td>2</td>\n      <td>9</td>\n      <td>9</td>\n      <td>10</td>\n      <td>1</td>\n      <td>...</td>\n      <td>2</td>\n      <td>2</td>\n      <td>1</td>\n      <td>1</td>\n      <td>3</td>\n      <td>6</td>\n      <td>99</td>\n      <td>MÃ©xico</td>\n      <td>97</td>\n      <td>97</td>\n    </tr>\n    <tr>\n      <th>2183270</th>\n      <td>2020-10-18</td>\n      <td>372368</td>\n      <td>2</td>\n      <td>9</td>\n      <td>8</td>\n      <td>2</td>\n      <td>8</td>\n      <td>8</td>\n      <td>19</td>\n      <td>2</td>\n      <td>...</td>\n      <td>2</td>\n      <td>2</td>\n      <td>2</td>\n      <td>1</td>\n      <td>3</td>\n      <td>6</td>\n      <td>99</td>\n      <td>MÃ©xico</td>\n      <td>97</td>\n      <td>2</td>\n    </tr>\n    <tr>\n      <th>2183271</th>\n      <td>2020-10-18</td>\n      <td>427b3f</td>\n      <td>2</td>\n      <td>9</td>\n      <td>19</td>\n      <td>2</td>\n      <td>19</td>\n      <td>19</td>\n      <td>18</td>\n      <td>2</td>\n      <td>...</td>\n      <td>2</td>\n      <td>2</td>\n      <td>2</td>\n      <td>1</td>\n      <td>3</td>\n      <td>6</td>\n      <td>99</td>\n      <td>MÃ©xico</td>\n      <td>97</td>\n      <td>2</td>\n    </tr>\n  </tbody>\n</table>\n<p>37200 rows × 38 columns</p>\n</div>"
     },
     "metadata": {},
     "execution_count": 22
    }
   ],
   "source": [
    "sospechosos_con_posibilidad=data[(data[\"CLASIFICACION_FINAL\"]==6)&(data[\"RESULTADO_LAB\"]==3)]\n",
    "sospechosos_con_posibilidad"
   ]
  },
  {
   "source": [
    "## Sospechosos sin posibilidad de resultado\n",
    "\n",
    "LOs casos sospechosos sin posibilidad de resultado son un poco más complejos. El filtro compuesto usado por la secretaría es el sigguiente, primero necesitamos aquellos casos que en la columna \"RESULTADO_LAB\" tienen valor 4, correspondiente a \"Resultado no adecuado\". Con respecto a la columna de \"CLASIFICACION_FINAL\" necesitamos el valor 6 correspondiente a \"Caso sospechoso\", pero además necesitamos agregar los valores 5 y 4 que se corresponden con los casos en donde la muestra no se realizó por el laboratorio o se invalidó por el laboratorio. "
   ],
   "cell_type": "markdown",
   "metadata": {}
  },
  {
   "cell_type": "code",
   "execution_count": 23,
   "metadata": {},
   "outputs": [
    {
     "output_type": "execute_result",
     "data": {
      "text/plain": [
       "        FECHA_ACTUALIZACION ID_REGISTRO  ORIGEN  SECTOR  ENTIDAD_UM  SEXO  \\\n",
       "3955             2020-10-18      15cd78       1       4          26     2   \n",
       "3957             2020-10-18      17088a       1       4           9     1   \n",
       "3960             2020-10-18      14bac7       2      12           1     1   \n",
       "3962             2020-10-18      0e98be       2       4          21     2   \n",
       "3978             2020-10-18      0385cb       2       4          19     2   \n",
       "...                     ...         ...     ...     ...         ...   ...   \n",
       "2183241          2020-10-18      43e449       2      12          15     2   \n",
       "2183246          2020-10-18      3ab0f8       1       6          10     2   \n",
       "2183247          2020-10-18      436cf1       2      12          15     1   \n",
       "2183260          2020-10-18      3b2e97       2       9           9     2   \n",
       "2183261          2020-10-18      3980f8       1      12          15     2   \n",
       "\n",
       "         ENTIDAD_NAC  ENTIDAD_RES  MUNICIPIO_RES  TIPO_PACIENTE  ...  \\\n",
       "3955              26           26             43              2  ...   \n",
       "3957               9            9              2              1  ...   \n",
       "3960               1            1              3              1  ...   \n",
       "3962              21           21             74              1  ...   \n",
       "3978              19           19              6              2  ...   \n",
       "...              ...          ...            ...            ...  ...   \n",
       "2183241           15           15            106              1  ...   \n",
       "2183246           10           10              5              1  ...   \n",
       "2183247           15           15            121              1  ...   \n",
       "2183260            9           15             76              1  ...   \n",
       "2183261           15           15             14              1  ...   \n",
       "\n",
       "        RENAL_CRONICA TABAQUISMO OTRO_CASO  TOMA_MUESTRA  RESULTADO_LAB  \\\n",
       "3955                2          2        99             1              4   \n",
       "3957                2          2         1             1              4   \n",
       "3960                2          2         2             1              4   \n",
       "3962                2          2         1             1              4   \n",
       "3978                2          2        99             1              4   \n",
       "...               ...        ...       ...           ...            ...   \n",
       "2183241             2          2         1             1              4   \n",
       "2183246             2          2         1             1              4   \n",
       "2183247             2          2         2             1              4   \n",
       "2183260             2          2         2             1              4   \n",
       "2183261             2          2         1             1              4   \n",
       "\n",
       "         CLASIFICACION_FINAL  MIGRANTE  PAIS_NACIONALIDAD  PAIS_ORIGEN  UCI  \n",
       "3955                       5        99            MÃ©xico           97    2  \n",
       "3957                       5        99            MÃ©xico           97   97  \n",
       "3960                       5        99            MÃ©xico           97   97  \n",
       "3962                       5        99            MÃ©xico           97   97  \n",
       "3978                       5        99            MÃ©xico           97    2  \n",
       "...                      ...       ...                ...          ...  ...  \n",
       "2183241                    6        99            MÃ©xico           97   97  \n",
       "2183246                    6        99            MÃ©xico           97   97  \n",
       "2183247                    6        99            MÃ©xico           97   97  \n",
       "2183260                    6        99            MÃ©xico           97   97  \n",
       "2183261                    6        99            MÃ©xico           97   97  \n",
       "\n",
       "[98184 rows x 38 columns]"
      ],
      "text/html": "<div>\n<style scoped>\n    .dataframe tbody tr th:only-of-type {\n        vertical-align: middle;\n    }\n\n    .dataframe tbody tr th {\n        vertical-align: top;\n    }\n\n    .dataframe thead th {\n        text-align: right;\n    }\n</style>\n<table border=\"1\" class=\"dataframe\">\n  <thead>\n    <tr style=\"text-align: right;\">\n      <th></th>\n      <th>FECHA_ACTUALIZACION</th>\n      <th>ID_REGISTRO</th>\n      <th>ORIGEN</th>\n      <th>SECTOR</th>\n      <th>ENTIDAD_UM</th>\n      <th>SEXO</th>\n      <th>ENTIDAD_NAC</th>\n      <th>ENTIDAD_RES</th>\n      <th>MUNICIPIO_RES</th>\n      <th>TIPO_PACIENTE</th>\n      <th>...</th>\n      <th>RENAL_CRONICA</th>\n      <th>TABAQUISMO</th>\n      <th>OTRO_CASO</th>\n      <th>TOMA_MUESTRA</th>\n      <th>RESULTADO_LAB</th>\n      <th>CLASIFICACION_FINAL</th>\n      <th>MIGRANTE</th>\n      <th>PAIS_NACIONALIDAD</th>\n      <th>PAIS_ORIGEN</th>\n      <th>UCI</th>\n    </tr>\n  </thead>\n  <tbody>\n    <tr>\n      <th>3955</th>\n      <td>2020-10-18</td>\n      <td>15cd78</td>\n      <td>1</td>\n      <td>4</td>\n      <td>26</td>\n      <td>2</td>\n      <td>26</td>\n      <td>26</td>\n      <td>43</td>\n      <td>2</td>\n      <td>...</td>\n      <td>2</td>\n      <td>2</td>\n      <td>99</td>\n      <td>1</td>\n      <td>4</td>\n      <td>5</td>\n      <td>99</td>\n      <td>MÃ©xico</td>\n      <td>97</td>\n      <td>2</td>\n    </tr>\n    <tr>\n      <th>3957</th>\n      <td>2020-10-18</td>\n      <td>17088a</td>\n      <td>1</td>\n      <td>4</td>\n      <td>9</td>\n      <td>1</td>\n      <td>9</td>\n      <td>9</td>\n      <td>2</td>\n      <td>1</td>\n      <td>...</td>\n      <td>2</td>\n      <td>2</td>\n      <td>1</td>\n      <td>1</td>\n      <td>4</td>\n      <td>5</td>\n      <td>99</td>\n      <td>MÃ©xico</td>\n      <td>97</td>\n      <td>97</td>\n    </tr>\n    <tr>\n      <th>3960</th>\n      <td>2020-10-18</td>\n      <td>14bac7</td>\n      <td>2</td>\n      <td>12</td>\n      <td>1</td>\n      <td>1</td>\n      <td>1</td>\n      <td>1</td>\n      <td>3</td>\n      <td>1</td>\n      <td>...</td>\n      <td>2</td>\n      <td>2</td>\n      <td>2</td>\n      <td>1</td>\n      <td>4</td>\n      <td>5</td>\n      <td>99</td>\n      <td>MÃ©xico</td>\n      <td>97</td>\n      <td>97</td>\n    </tr>\n    <tr>\n      <th>3962</th>\n      <td>2020-10-18</td>\n      <td>0e98be</td>\n      <td>2</td>\n      <td>4</td>\n      <td>21</td>\n      <td>2</td>\n      <td>21</td>\n      <td>21</td>\n      <td>74</td>\n      <td>1</td>\n      <td>...</td>\n      <td>2</td>\n      <td>2</td>\n      <td>1</td>\n      <td>1</td>\n      <td>4</td>\n      <td>5</td>\n      <td>99</td>\n      <td>MÃ©xico</td>\n      <td>97</td>\n      <td>97</td>\n    </tr>\n    <tr>\n      <th>3978</th>\n      <td>2020-10-18</td>\n      <td>0385cb</td>\n      <td>2</td>\n      <td>4</td>\n      <td>19</td>\n      <td>2</td>\n      <td>19</td>\n      <td>19</td>\n      <td>6</td>\n      <td>2</td>\n      <td>...</td>\n      <td>2</td>\n      <td>2</td>\n      <td>99</td>\n      <td>1</td>\n      <td>4</td>\n      <td>5</td>\n      <td>99</td>\n      <td>MÃ©xico</td>\n      <td>97</td>\n      <td>2</td>\n    </tr>\n    <tr>\n      <th>...</th>\n      <td>...</td>\n      <td>...</td>\n      <td>...</td>\n      <td>...</td>\n      <td>...</td>\n      <td>...</td>\n      <td>...</td>\n      <td>...</td>\n      <td>...</td>\n      <td>...</td>\n      <td>...</td>\n      <td>...</td>\n      <td>...</td>\n      <td>...</td>\n      <td>...</td>\n      <td>...</td>\n      <td>...</td>\n      <td>...</td>\n      <td>...</td>\n      <td>...</td>\n      <td>...</td>\n    </tr>\n    <tr>\n      <th>2183241</th>\n      <td>2020-10-18</td>\n      <td>43e449</td>\n      <td>2</td>\n      <td>12</td>\n      <td>15</td>\n      <td>2</td>\n      <td>15</td>\n      <td>15</td>\n      <td>106</td>\n      <td>1</td>\n      <td>...</td>\n      <td>2</td>\n      <td>2</td>\n      <td>1</td>\n      <td>1</td>\n      <td>4</td>\n      <td>6</td>\n      <td>99</td>\n      <td>MÃ©xico</td>\n      <td>97</td>\n      <td>97</td>\n    </tr>\n    <tr>\n      <th>2183246</th>\n      <td>2020-10-18</td>\n      <td>3ab0f8</td>\n      <td>1</td>\n      <td>6</td>\n      <td>10</td>\n      <td>2</td>\n      <td>10</td>\n      <td>10</td>\n      <td>5</td>\n      <td>1</td>\n      <td>...</td>\n      <td>2</td>\n      <td>2</td>\n      <td>1</td>\n      <td>1</td>\n      <td>4</td>\n      <td>6</td>\n      <td>99</td>\n      <td>MÃ©xico</td>\n      <td>97</td>\n      <td>97</td>\n    </tr>\n    <tr>\n      <th>2183247</th>\n      <td>2020-10-18</td>\n      <td>436cf1</td>\n      <td>2</td>\n      <td>12</td>\n      <td>15</td>\n      <td>1</td>\n      <td>15</td>\n      <td>15</td>\n      <td>121</td>\n      <td>1</td>\n      <td>...</td>\n      <td>2</td>\n      <td>2</td>\n      <td>2</td>\n      <td>1</td>\n      <td>4</td>\n      <td>6</td>\n      <td>99</td>\n      <td>MÃ©xico</td>\n      <td>97</td>\n      <td>97</td>\n    </tr>\n    <tr>\n      <th>2183260</th>\n      <td>2020-10-18</td>\n      <td>3b2e97</td>\n      <td>2</td>\n      <td>9</td>\n      <td>9</td>\n      <td>2</td>\n      <td>9</td>\n      <td>15</td>\n      <td>76</td>\n      <td>1</td>\n      <td>...</td>\n      <td>2</td>\n      <td>2</td>\n      <td>2</td>\n      <td>1</td>\n      <td>4</td>\n      <td>6</td>\n      <td>99</td>\n      <td>MÃ©xico</td>\n      <td>97</td>\n      <td>97</td>\n    </tr>\n    <tr>\n      <th>2183261</th>\n      <td>2020-10-18</td>\n      <td>3980f8</td>\n      <td>1</td>\n      <td>12</td>\n      <td>15</td>\n      <td>2</td>\n      <td>15</td>\n      <td>15</td>\n      <td>14</td>\n      <td>1</td>\n      <td>...</td>\n      <td>2</td>\n      <td>2</td>\n      <td>1</td>\n      <td>1</td>\n      <td>4</td>\n      <td>6</td>\n      <td>99</td>\n      <td>MÃ©xico</td>\n      <td>97</td>\n      <td>97</td>\n    </tr>\n  </tbody>\n</table>\n<p>98184 rows × 38 columns</p>\n</div>"
     },
     "metadata": {},
     "execution_count": 23
    }
   ],
   "source": [
    "sospechosos_sin_posibilidad=data[(data[\"CLASIFICACION_FINAL\"].isin([6,5,4]))&(data[\"RESULTADO_LAB\"].isin([4]))]\n",
    "sospechosos_sin_posibilidad"
   ]
  },
  {
   "source": [
    "## Defunciones\n",
    "\n",
    "Nos falta detectar los casos que corresponden a personas que fallecieron. Lamentablemente la base de datos no cuenta con una columna que indique de forma categórica si el caso falleció o no. Sin embargo podemos obtener este dato de forma indirecta. La base de datos cuenta con una columna que indica la fecha de defunción, esta columna es \"FECHA_DEF\". Exploremos cuales son sus valores..."
   ],
   "cell_type": "markdown",
   "metadata": {}
  },
  {
   "cell_type": "code",
   "execution_count": 24,
   "metadata": {},
   "outputs": [
    {
     "output_type": "execute_result",
     "data": {
      "text/plain": [
       "9999-99-99    2059923\n",
       "2020-07-06        980\n",
       "2020-07-07        966\n",
       "2020-06-16        956\n",
       "2020-07-13        948\n",
       "               ...   \n",
       "2020-03-16          5\n",
       "2020-01-06          3\n",
       "2020-01-05          2\n",
       "2020-01-02          1\n",
       "2020-01-04          1\n",
       "Name: FECHA_DEF, Length: 291, dtype: int64"
      ]
     },
     "metadata": {},
     "execution_count": 24
    }
   ],
   "source": [
    "data[\"FECHA_DEF\"].value_counts()"
   ]
  },
  {
   "source": [
    "Podemos observar que la columna efectivamente contiene fechas, el format de estas es \"Año-mes-día\". Además notamos que el valor más utilizado es el valor \"9999-99-99\" que no se corresponde con ninguna fecha válida. Podemos asumir que las filas que en esta columna tienen el valor \"9999-99-99\" corresponden con casos que no han fallecido.\n",
    "\n",
    "Filtrando con este valor podríamos obtener los casos que aún no han fallecido, filtrando por las filas que NO tienen este valor podemos identificar los casos que han fallecido.\n",
    "\n",
    "Para buscar un valor en específico utilizabamos el operador doble igual ==, para buscar valores diferentes usamos el operador \"diferente a\" que en Pandas es el símbolo != \n",
    "\n",
    "Para encontrar los casos fallecidos por COVID necesitamos hacer un filtro compuesto, necesitamos identificar los casos confirmados (columna \"CLASIFICACION_FINAL\" con valores 1,2 o 3) y ademas aquellos casos que fallecieron. Podríamos crear este filtro compuesto sobre nuestros datos originales, sin embargo aprovecharemos que previamente creamos el DataFrame \"confirmados\" que únicamente contiene los casos confirmados y aplicaremos el filtro de defunciones sobre este DataFrame. El DataFrame resultante lo guardamos en otra variable "
   ],
   "cell_type": "markdown",
   "metadata": {}
  },
  {
   "cell_type": "code",
   "execution_count": 25,
   "metadata": {},
   "outputs": [
    {
     "output_type": "execute_result",
     "data": {
      "text/plain": [
       "        FECHA_ACTUALIZACION ID_REGISTRO  ORIGEN  SECTOR  ENTIDAD_UM  SEXO  \\\n",
       "5                2020-10-18      043f64       2       4           9     2   \n",
       "6                2020-10-18      0e07d8       1       4          15     2   \n",
       "9                2020-10-18      11fb00       1      12           9     2   \n",
       "12               2020-10-18      1a1f12       2       4          14     2   \n",
       "20               2020-10-18      0e7853       1      13          21     1   \n",
       "...                     ...         ...     ...     ...         ...   ...   \n",
       "2176939          2020-10-18      429fc1       2      12           9     2   \n",
       "2177689          2020-10-18      2fb89e       2      10           9     2   \n",
       "2178901          2020-10-18      22b433       1       6           9     2   \n",
       "2180380          2020-10-18      36f81d       1       6           9     2   \n",
       "2183262          2020-10-18      365e11       1       6           9     1   \n",
       "\n",
       "         ENTIDAD_NAC  ENTIDAD_RES  MUNICIPIO_RES  TIPO_PACIENTE  ...  \\\n",
       "5                  9            9             10              2  ...   \n",
       "6                 15           15            104              2  ...   \n",
       "9                  9            9             15              1  ...   \n",
       "12                 9           14             67              2  ...   \n",
       "20                21           21             85              2  ...   \n",
       "...              ...          ...            ...            ...  ...   \n",
       "2176939            9            9              7              2  ...   \n",
       "2177689           16           15             60              2  ...   \n",
       "2178901            9            9             17              2  ...   \n",
       "2180380           21           15             58              2  ...   \n",
       "2183262           17           15             58              2  ...   \n",
       "\n",
       "        RENAL_CRONICA TABAQUISMO OTRO_CASO  TOMA_MUESTRA  RESULTADO_LAB  \\\n",
       "5                   1          2        99             1              1   \n",
       "6                   2          2        99             1              1   \n",
       "9                   2          2         1             1              1   \n",
       "12                  2          2         2             1              1   \n",
       "20                  2          2         2             1              1   \n",
       "...               ...        ...       ...           ...            ...   \n",
       "2176939             2          2         2             2             97   \n",
       "2177689             2          2         2             2             97   \n",
       "2178901             2          2         2             2             97   \n",
       "2180380            98         98         2             2             97   \n",
       "2183262             2          2         2             2             97   \n",
       "\n",
       "         CLASIFICACION_FINAL  MIGRANTE  PAIS_NACIONALIDAD  PAIS_ORIGEN  UCI  \n",
       "5                          3        99            MÃ©xico           97    1  \n",
       "6                          3        99            MÃ©xico           97    2  \n",
       "9                          3        99            MÃ©xico           97   97  \n",
       "12                         3        99            MÃ©xico           97    2  \n",
       "20                         3        99            MÃ©xico           97    2  \n",
       "...                      ...       ...                ...          ...  ...  \n",
       "2176939                    2        99            MÃ©xico           97    2  \n",
       "2177689                    1        99            MÃ©xico           97    2  \n",
       "2178901                    1        99            MÃ©xico           97    2  \n",
       "2180380                    1        99            MÃ©xico           97    2  \n",
       "2183262                    1        99            MÃ©xico           97    2  \n",
       "\n",
       "[86167 rows x 38 columns]"
      ],
      "text/html": "<div>\n<style scoped>\n    .dataframe tbody tr th:only-of-type {\n        vertical-align: middle;\n    }\n\n    .dataframe tbody tr th {\n        vertical-align: top;\n    }\n\n    .dataframe thead th {\n        text-align: right;\n    }\n</style>\n<table border=\"1\" class=\"dataframe\">\n  <thead>\n    <tr style=\"text-align: right;\">\n      <th></th>\n      <th>FECHA_ACTUALIZACION</th>\n      <th>ID_REGISTRO</th>\n      <th>ORIGEN</th>\n      <th>SECTOR</th>\n      <th>ENTIDAD_UM</th>\n      <th>SEXO</th>\n      <th>ENTIDAD_NAC</th>\n      <th>ENTIDAD_RES</th>\n      <th>MUNICIPIO_RES</th>\n      <th>TIPO_PACIENTE</th>\n      <th>...</th>\n      <th>RENAL_CRONICA</th>\n      <th>TABAQUISMO</th>\n      <th>OTRO_CASO</th>\n      <th>TOMA_MUESTRA</th>\n      <th>RESULTADO_LAB</th>\n      <th>CLASIFICACION_FINAL</th>\n      <th>MIGRANTE</th>\n      <th>PAIS_NACIONALIDAD</th>\n      <th>PAIS_ORIGEN</th>\n      <th>UCI</th>\n    </tr>\n  </thead>\n  <tbody>\n    <tr>\n      <th>5</th>\n      <td>2020-10-18</td>\n      <td>043f64</td>\n      <td>2</td>\n      <td>4</td>\n      <td>9</td>\n      <td>2</td>\n      <td>9</td>\n      <td>9</td>\n      <td>10</td>\n      <td>2</td>\n      <td>...</td>\n      <td>1</td>\n      <td>2</td>\n      <td>99</td>\n      <td>1</td>\n      <td>1</td>\n      <td>3</td>\n      <td>99</td>\n      <td>MÃ©xico</td>\n      <td>97</td>\n      <td>1</td>\n    </tr>\n    <tr>\n      <th>6</th>\n      <td>2020-10-18</td>\n      <td>0e07d8</td>\n      <td>1</td>\n      <td>4</td>\n      <td>15</td>\n      <td>2</td>\n      <td>15</td>\n      <td>15</td>\n      <td>104</td>\n      <td>2</td>\n      <td>...</td>\n      <td>2</td>\n      <td>2</td>\n      <td>99</td>\n      <td>1</td>\n      <td>1</td>\n      <td>3</td>\n      <td>99</td>\n      <td>MÃ©xico</td>\n      <td>97</td>\n      <td>2</td>\n    </tr>\n    <tr>\n      <th>9</th>\n      <td>2020-10-18</td>\n      <td>11fb00</td>\n      <td>1</td>\n      <td>12</td>\n      <td>9</td>\n      <td>2</td>\n      <td>9</td>\n      <td>9</td>\n      <td>15</td>\n      <td>1</td>\n      <td>...</td>\n      <td>2</td>\n      <td>2</td>\n      <td>1</td>\n      <td>1</td>\n      <td>1</td>\n      <td>3</td>\n      <td>99</td>\n      <td>MÃ©xico</td>\n      <td>97</td>\n      <td>97</td>\n    </tr>\n    <tr>\n      <th>12</th>\n      <td>2020-10-18</td>\n      <td>1a1f12</td>\n      <td>2</td>\n      <td>4</td>\n      <td>14</td>\n      <td>2</td>\n      <td>9</td>\n      <td>14</td>\n      <td>67</td>\n      <td>2</td>\n      <td>...</td>\n      <td>2</td>\n      <td>2</td>\n      <td>2</td>\n      <td>1</td>\n      <td>1</td>\n      <td>3</td>\n      <td>99</td>\n      <td>MÃ©xico</td>\n      <td>97</td>\n      <td>2</td>\n    </tr>\n    <tr>\n      <th>20</th>\n      <td>2020-10-18</td>\n      <td>0e7853</td>\n      <td>1</td>\n      <td>13</td>\n      <td>21</td>\n      <td>1</td>\n      <td>21</td>\n      <td>21</td>\n      <td>85</td>\n      <td>2</td>\n      <td>...</td>\n      <td>2</td>\n      <td>2</td>\n      <td>2</td>\n      <td>1</td>\n      <td>1</td>\n      <td>3</td>\n      <td>99</td>\n      <td>MÃ©xico</td>\n      <td>97</td>\n      <td>2</td>\n    </tr>\n    <tr>\n      <th>...</th>\n      <td>...</td>\n      <td>...</td>\n      <td>...</td>\n      <td>...</td>\n      <td>...</td>\n      <td>...</td>\n      <td>...</td>\n      <td>...</td>\n      <td>...</td>\n      <td>...</td>\n      <td>...</td>\n      <td>...</td>\n      <td>...</td>\n      <td>...</td>\n      <td>...</td>\n      <td>...</td>\n      <td>...</td>\n      <td>...</td>\n      <td>...</td>\n      <td>...</td>\n      <td>...</td>\n    </tr>\n    <tr>\n      <th>2176939</th>\n      <td>2020-10-18</td>\n      <td>429fc1</td>\n      <td>2</td>\n      <td>12</td>\n      <td>9</td>\n      <td>2</td>\n      <td>9</td>\n      <td>9</td>\n      <td>7</td>\n      <td>2</td>\n      <td>...</td>\n      <td>2</td>\n      <td>2</td>\n      <td>2</td>\n      <td>2</td>\n      <td>97</td>\n      <td>2</td>\n      <td>99</td>\n      <td>MÃ©xico</td>\n      <td>97</td>\n      <td>2</td>\n    </tr>\n    <tr>\n      <th>2177689</th>\n      <td>2020-10-18</td>\n      <td>2fb89e</td>\n      <td>2</td>\n      <td>10</td>\n      <td>9</td>\n      <td>2</td>\n      <td>16</td>\n      <td>15</td>\n      <td>60</td>\n      <td>2</td>\n      <td>...</td>\n      <td>2</td>\n      <td>2</td>\n      <td>2</td>\n      <td>2</td>\n      <td>97</td>\n      <td>1</td>\n      <td>99</td>\n      <td>MÃ©xico</td>\n      <td>97</td>\n      <td>2</td>\n    </tr>\n    <tr>\n      <th>2178901</th>\n      <td>2020-10-18</td>\n      <td>22b433</td>\n      <td>1</td>\n      <td>6</td>\n      <td>9</td>\n      <td>2</td>\n      <td>9</td>\n      <td>9</td>\n      <td>17</td>\n      <td>2</td>\n      <td>...</td>\n      <td>2</td>\n      <td>2</td>\n      <td>2</td>\n      <td>2</td>\n      <td>97</td>\n      <td>1</td>\n      <td>99</td>\n      <td>MÃ©xico</td>\n      <td>97</td>\n      <td>2</td>\n    </tr>\n    <tr>\n      <th>2180380</th>\n      <td>2020-10-18</td>\n      <td>36f81d</td>\n      <td>1</td>\n      <td>6</td>\n      <td>9</td>\n      <td>2</td>\n      <td>21</td>\n      <td>15</td>\n      <td>58</td>\n      <td>2</td>\n      <td>...</td>\n      <td>98</td>\n      <td>98</td>\n      <td>2</td>\n      <td>2</td>\n      <td>97</td>\n      <td>1</td>\n      <td>99</td>\n      <td>MÃ©xico</td>\n      <td>97</td>\n      <td>2</td>\n    </tr>\n    <tr>\n      <th>2183262</th>\n      <td>2020-10-18</td>\n      <td>365e11</td>\n      <td>1</td>\n      <td>6</td>\n      <td>9</td>\n      <td>1</td>\n      <td>17</td>\n      <td>15</td>\n      <td>58</td>\n      <td>2</td>\n      <td>...</td>\n      <td>2</td>\n      <td>2</td>\n      <td>2</td>\n      <td>2</td>\n      <td>97</td>\n      <td>1</td>\n      <td>99</td>\n      <td>MÃ©xico</td>\n      <td>97</td>\n      <td>2</td>\n    </tr>\n  </tbody>\n</table>\n<p>86167 rows × 38 columns</p>\n</div>"
     },
     "metadata": {},
     "execution_count": 25
    }
   ],
   "source": [
    "defunciones = confirmados[confirmados[\"FECHA_DEF\"]!=\"9999-99-99\"]\n",
    "defunciones"
   ]
  },
  {
   "source": [
    "Como podemos observar en el número de filas de los DataFrames creados y en la imágen de la conferencia de la secretaría, los reportes concuerdan. (Recuerda, si estás repitiendo este ejercicio tendrás otros datos y deberás comparar con la imágen correspondiente al día de tus datos. [Acá los videos de todas las conferencias](https://www.youtube.com/channel/UCu2Uc7YeJmE9mvGG9OK-zbQ))"
   ],
   "cell_type": "markdown",
   "metadata": {}
  },
  {
   "source": [
    "## Graficando los casos confirmados diarios\n",
    "\n",
    "Una vez que tenemos nuestros casos separados en categorías podemos hacer gráficas con ellos. A partir de aquí nos concentraremos en el DataFrame que creamos con casos confirmados. El proceso para hacer gráficas con los otros DataFrames es similar.\n",
    "\n",
    "La gráfica que queremos hacer es una gráfica en la cual se muestre el número de casos en función del tiempo."
   ],
   "cell_type": "markdown",
   "metadata": {}
  },
  {
   "source": [
    "## Agrupando por fechas\n",
    "\n",
    "Para realizar la gráfica necesitamos saber cuantos casos confirmados hubo por día. Anteriormente usamos la función value_counts() para saber cuantas filas se correspondían con ciertos valores en una columna. Esa función está bien para explorar los datos pero esta vez lo haremos agrupando filas de acuerdo a valores en ciertas columnas, el método de agrupar es más poderoso porque se puede hacer para varias columnas y es parte de uno de los procesos más importantes en el análisis de datos. Comencemos agrupando por los valores de una columna."
   ],
   "cell_type": "markdown",
   "metadata": {}
  },
  {
   "source": [
    "Para agrupar usaremos la función groupby(). Esta función utiliza como parámetros el nombre de una columna o una lista con las columnas que queremos utilizar para poder agrupar el DataFrame. El resultado de aplicar esta función es un grupo, los elementos de ese grupo serán estructuras de Datos similares a DataFrames, una por cada conjunto de valores únicos en las columnas que utilizamos para agrupar. Usemos la función para agrupar de acuerdo a los valores de solamente una columna. La columna que nos interesa es \"FECHA_SINTOMAS\" que indíca la fecha en la que presentó síntomas el caso.\n",
    "\n",
    "Agrupmos el DataFrame \"confirmados\" usando la función groupby() con la columna \"FECHA_SINTOMAS\", el resultado lo guardaremos en la variable grupos."
   ],
   "cell_type": "markdown",
   "metadata": {}
  },
  {
   "cell_type": "code",
   "execution_count": 26,
   "metadata": {},
   "outputs": [],
   "source": [
    "grupos = confirmados.groupby(\"FECHA_SINTOMAS\")"
   ]
  },
  {
   "source": [
    "Si exploramos que hay guardado en la variable grupos veremos que solamente obtenemos una indicación de que tenemos grupos guardados en ella. Esto es debido a que ya no es posible visualizar toda la estructura de datos. Cada elemento del grupo es similar a un DataFrame y entonces un grupo estaría hecho por muchos de estos elementos, por muchos DataFrames.\n",
    "\n",
    "No podemos verlos pero si podemos operar con ellos. Hay muchas operaciones que podemos hacer sobre cada uno de los grupos, en este ejemplo nos interesa una de las más simples. Solamente queremos saber cuantas filas quedaron en cada grupo. Para eso utilizamos la función size() sobre el grupo."
   ],
   "cell_type": "markdown",
   "metadata": {}
  },
  {
   "cell_type": "code",
   "execution_count": 27,
   "metadata": {},
   "outputs": [
    {
     "output_type": "execute_result",
     "data": {
      "text/plain": [
       "FECHA_SINTOMAS\n",
       "2020-01-13       1\n",
       "2020-01-29       1\n",
       "2020-02-06       1\n",
       "2020-02-18       1\n",
       "2020-02-19       1\n",
       "              ... \n",
       "2020-10-13    1389\n",
       "2020-10-14     671\n",
       "2020-10-15     335\n",
       "2020-10-16      63\n",
       "2020-10-17      18\n",
       "Length: 245, dtype: int64"
      ]
     },
     "metadata": {},
     "execution_count": 27
    }
   ],
   "source": [
    "grupos.size()"
   ]
  },
  {
   "source": [
    "El resultado es una serie, el índice de la serie es la fecha y los valores corresponden con el número de casos confirmados que iniciaron síntomas en la fecha correspondiente. Para graficar estos valores utilizaremos Bokeh, una librería para realizar gráficas. En bokeh es más fácil graficar si tenemos DataFrames y no series, por lo cual tenemos que cambiar nuestra Serie a un DataFrame. Podemos cambiarlo con la función to_frame() la cual puede adimitir un parámetro que nos permite ponerle un nombre a la columna. Encadenaremos la función al comando usado anteriormente"
   ],
   "cell_type": "markdown",
   "metadata": {}
  },
  {
   "cell_type": "code",
   "execution_count": 194,
   "metadata": {},
   "outputs": [
    {
     "output_type": "execute_result",
     "data": {
      "text/plain": [
       "                confirmados\n",
       "FECHA_SINTOMAS             \n",
       "2020-01-13                1\n",
       "2020-01-29                1\n",
       "2020-02-06                1\n",
       "2020-02-18                1\n",
       "2020-02-19                1\n",
       "...                     ...\n",
       "2020-10-13             1389\n",
       "2020-10-14              671\n",
       "2020-10-15              335\n",
       "2020-10-16               63\n",
       "2020-10-17               18\n",
       "\n",
       "[245 rows x 1 columns]"
      ],
      "text/html": "<div>\n<style scoped>\n    .dataframe tbody tr th:only-of-type {\n        vertical-align: middle;\n    }\n\n    .dataframe tbody tr th {\n        vertical-align: top;\n    }\n\n    .dataframe thead th {\n        text-align: right;\n    }\n</style>\n<table border=\"1\" class=\"dataframe\">\n  <thead>\n    <tr style=\"text-align: right;\">\n      <th></th>\n      <th>confirmados</th>\n    </tr>\n    <tr>\n      <th>FECHA_SINTOMAS</th>\n      <th></th>\n    </tr>\n  </thead>\n  <tbody>\n    <tr>\n      <th>2020-01-13</th>\n      <td>1</td>\n    </tr>\n    <tr>\n      <th>2020-01-29</th>\n      <td>1</td>\n    </tr>\n    <tr>\n      <th>2020-02-06</th>\n      <td>1</td>\n    </tr>\n    <tr>\n      <th>2020-02-18</th>\n      <td>1</td>\n    </tr>\n    <tr>\n      <th>2020-02-19</th>\n      <td>1</td>\n    </tr>\n    <tr>\n      <th>...</th>\n      <td>...</td>\n    </tr>\n    <tr>\n      <th>2020-10-13</th>\n      <td>1389</td>\n    </tr>\n    <tr>\n      <th>2020-10-14</th>\n      <td>671</td>\n    </tr>\n    <tr>\n      <th>2020-10-15</th>\n      <td>335</td>\n    </tr>\n    <tr>\n      <th>2020-10-16</th>\n      <td>63</td>\n    </tr>\n    <tr>\n      <th>2020-10-17</th>\n      <td>18</td>\n    </tr>\n  </tbody>\n</table>\n<p>245 rows × 1 columns</p>\n</div>"
     },
     "metadata": {},
     "execution_count": 194
    }
   ],
   "source": [
    "grupos.size().to_frame(\"confirmados\")"
   ]
  },
  {
   "source": [
    "El resultado es un DataFrame de una columna. La columna tiene como nombre \"casos confirmados\". Este DataFrame ya no tiene un índice hecho con números como los anteriores. El índice en este caso es la fecha de inicio de síntomas. Los DataFrames pueden tener indices diversos. Para graficar necesitamos tener 2 columnas en nuestro DataFrame. Para esto encadenaremos la función reset_index() para convertir el índice en una columna del DataFrame"
   ],
   "cell_type": "markdown",
   "metadata": {}
  },
  {
   "cell_type": "code",
   "execution_count": 195,
   "metadata": {},
   "outputs": [
    {
     "output_type": "execute_result",
     "data": {
      "text/plain": [
       "    FECHA_SINTOMAS  confirmados\n",
       "0       2020-01-13            1\n",
       "1       2020-01-29            1\n",
       "2       2020-02-06            1\n",
       "3       2020-02-18            1\n",
       "4       2020-02-19            1\n",
       "..             ...          ...\n",
       "240     2020-10-13         1389\n",
       "241     2020-10-14          671\n",
       "242     2020-10-15          335\n",
       "243     2020-10-16           63\n",
       "244     2020-10-17           18\n",
       "\n",
       "[245 rows x 2 columns]"
      ],
      "text/html": "<div>\n<style scoped>\n    .dataframe tbody tr th:only-of-type {\n        vertical-align: middle;\n    }\n\n    .dataframe tbody tr th {\n        vertical-align: top;\n    }\n\n    .dataframe thead th {\n        text-align: right;\n    }\n</style>\n<table border=\"1\" class=\"dataframe\">\n  <thead>\n    <tr style=\"text-align: right;\">\n      <th></th>\n      <th>FECHA_SINTOMAS</th>\n      <th>confirmados</th>\n    </tr>\n  </thead>\n  <tbody>\n    <tr>\n      <th>0</th>\n      <td>2020-01-13</td>\n      <td>1</td>\n    </tr>\n    <tr>\n      <th>1</th>\n      <td>2020-01-29</td>\n      <td>1</td>\n    </tr>\n    <tr>\n      <th>2</th>\n      <td>2020-02-06</td>\n      <td>1</td>\n    </tr>\n    <tr>\n      <th>3</th>\n      <td>2020-02-18</td>\n      <td>1</td>\n    </tr>\n    <tr>\n      <th>4</th>\n      <td>2020-02-19</td>\n      <td>1</td>\n    </tr>\n    <tr>\n      <th>...</th>\n      <td>...</td>\n      <td>...</td>\n    </tr>\n    <tr>\n      <th>240</th>\n      <td>2020-10-13</td>\n      <td>1389</td>\n    </tr>\n    <tr>\n      <th>241</th>\n      <td>2020-10-14</td>\n      <td>671</td>\n    </tr>\n    <tr>\n      <th>242</th>\n      <td>2020-10-15</td>\n      <td>335</td>\n    </tr>\n    <tr>\n      <th>243</th>\n      <td>2020-10-16</td>\n      <td>63</td>\n    </tr>\n    <tr>\n      <th>244</th>\n      <td>2020-10-17</td>\n      <td>18</td>\n    </tr>\n  </tbody>\n</table>\n<p>245 rows × 2 columns</p>\n</div>"
     },
     "metadata": {},
     "execution_count": 195
    }
   ],
   "source": [
    "grupos.size().to_frame(\"confirmados\").reset_index()"
   ]
  },
  {
   "source": [
    "El DataFrame es el que usaremos para graficar, guardémoslo en una variable y sigamos trabajando con el"
   ],
   "cell_type": "markdown",
   "metadata": {}
  },
  {
   "cell_type": "code",
   "execution_count": 196,
   "metadata": {},
   "outputs": [],
   "source": [
    "confirmados_por_fecha = grupos.size().to_frame(\"confirmados\").reset_index()"
   ]
  },
  {
   "source": [
    "## Tipos de datos en nuestros DataFrames\n",
    "\n",
    "Para poder graficar necesitamos asegurarnos que los datos en las columnas son del tipo correcto. Usualmente para graficar necesitamos datos numéricos. En este caso en el eje x tendremos fechas y en el eje y tendremos el número de casos que iniciaron síntomas en esos días. Existen diversos tipos de datos. Los más usuales son números, enteros y decimales o flotantes, cadenas de texto, fechas, valores booleanos (verdadero y falso).\n",
    "\n",
    "Antes de graficar necesitamos saber el tipo de datos que están guardados en nuestros DataFrames y convertir al tipo de datos correctos.\n",
    "\n",
    "Podemos saber el tipo de datos en cada una de las columnas de nuestro dataframe con la propiedad \"dtypes\""
   ],
   "cell_type": "markdown",
   "metadata": {}
  },
  {
   "cell_type": "code",
   "execution_count": 197,
   "metadata": {},
   "outputs": [
    {
     "output_type": "execute_result",
     "data": {
      "text/plain": [
       "FECHA_SINTOMAS    object\n",
       "confirmados        int64\n",
       "dtype: object"
      ]
     },
     "metadata": {},
     "execution_count": 197
    }
   ],
   "source": [
    "confirmados_por_fecha.dtypes"
   ]
  },
  {
   "source": [
    "Podemos observar que la columna \"FECHA_SINTOMAS\" es una columna con datos de tipo \"object\" y la columna casos confirmados es una columna de tipo \"int64\". El tipo de datos \"object\" hace referencia a una columna que está compuesta por una mezcla entre cadenas de texto y números. El tipo \"int64\" hace referencia a una columna que está compues6ta por números enteros.\n",
    "\n",
    "Necesitamos convertir nuestras fechas a fechas verdaderas pues por ahora solamente son cadenas de texto. \n",
    "\n",
    "Para esto utilizaremos la función de pandas to_datetime() aplicada a la columna que nos interesa, es importante que al hacer la conversión usemos la opción \"format\" para decirle a la función el formato en el cual están escritas nuestras fechas. Como vimos anteriormente el formato de las fechas en la base de datos es \"Año-mes-día\", Año con cuatro cifras, el mes con dos cifras y el día con dos cifras. Este formato se puede especificar con la siguiente cadena de texto \"%Y-%m-%d\", la Y hace referencia al año y es importante que está en mayúsculas (de esta manera especificamos que tiene 4 cifras), la m hace referencia al mes y la d al día.\n",
    "\n",
    "Convertimos la columna de nuestro DataFrame de la siguiente manera:"
   ],
   "cell_type": "markdown",
   "metadata": {}
  },
  {
   "cell_type": "code",
   "execution_count": 198,
   "metadata": {},
   "outputs": [
    {
     "output_type": "execute_result",
     "data": {
      "text/plain": [
       "0     2020-01-13\n",
       "1     2020-01-29\n",
       "2     2020-02-06\n",
       "3     2020-02-18\n",
       "4     2020-02-19\n",
       "         ...    \n",
       "240   2020-10-13\n",
       "241   2020-10-14\n",
       "242   2020-10-15\n",
       "243   2020-10-16\n",
       "244   2020-10-17\n",
       "Name: FECHA_SINTOMAS, Length: 245, dtype: datetime64[ns]"
      ]
     },
     "metadata": {},
     "execution_count": 198
    }
   ],
   "source": [
    "pd.to_datetime(confirmados_por_fecha[\"FECHA_SINTOMAS\"])"
   ]
  },
  {
   "source": [
    "Podemos ver en la parte inferior que esta columna es del tipo correcto \"datetime64\" que es el tipo asociado a fechas. Con ella podremos graficar sin problemas. Sin embargo esta operación no se ha realizado sobre nuestro DataFrame, solamente sobre la columna y nos ha dado como resultado una serie. Es conveniente ponerla en nuestro DataFrame para que todo quede en un mismo lugar. Con Pandas podemos agregar columnas nuevas usando series. Basta con asignarlas. Es importante mencionar que si los índices no concuerdan Pandas se encargará de empatar aquellos que si concuerden y de escribir filas nuevas con aquellos índices que no esten en el DataFrame donde queremos escribir la nueva columna. Esto es un super poder de Pandas!\n",
    "\n",
    "Escribamos la nueva columna en nuestro DataFrame \"confirmados_por_fecha\""
   ],
   "cell_type": "markdown",
   "metadata": {}
  },
  {
   "cell_type": "code",
   "execution_count": 199,
   "metadata": {},
   "outputs": [],
   "source": [
    "confirmados_por_fecha[\"fecha_sintomas\"] = pd.to_datetime(confirmados_por_fecha[\"FECHA_SINTOMAS\"])"
   ]
  },
  {
   "source": [
    "Nuestro dataframe ahora tiene 3 columnas"
   ],
   "cell_type": "markdown",
   "metadata": {}
  },
  {
   "cell_type": "code",
   "execution_count": 200,
   "metadata": {},
   "outputs": [
    {
     "output_type": "execute_result",
     "data": {
      "text/plain": [
       "    FECHA_SINTOMAS  confirmados fecha_sintomas\n",
       "0       2020-01-13            1     2020-01-13\n",
       "1       2020-01-29            1     2020-01-29\n",
       "2       2020-02-06            1     2020-02-06\n",
       "3       2020-02-18            1     2020-02-18\n",
       "4       2020-02-19            1     2020-02-19\n",
       "..             ...          ...            ...\n",
       "240     2020-10-13         1389     2020-10-13\n",
       "241     2020-10-14          671     2020-10-14\n",
       "242     2020-10-15          335     2020-10-15\n",
       "243     2020-10-16           63     2020-10-16\n",
       "244     2020-10-17           18     2020-10-17\n",
       "\n",
       "[245 rows x 3 columns]"
      ],
      "text/html": "<div>\n<style scoped>\n    .dataframe tbody tr th:only-of-type {\n        vertical-align: middle;\n    }\n\n    .dataframe tbody tr th {\n        vertical-align: top;\n    }\n\n    .dataframe thead th {\n        text-align: right;\n    }\n</style>\n<table border=\"1\" class=\"dataframe\">\n  <thead>\n    <tr style=\"text-align: right;\">\n      <th></th>\n      <th>FECHA_SINTOMAS</th>\n      <th>confirmados</th>\n      <th>fecha_sintomas</th>\n    </tr>\n  </thead>\n  <tbody>\n    <tr>\n      <th>0</th>\n      <td>2020-01-13</td>\n      <td>1</td>\n      <td>2020-01-13</td>\n    </tr>\n    <tr>\n      <th>1</th>\n      <td>2020-01-29</td>\n      <td>1</td>\n      <td>2020-01-29</td>\n    </tr>\n    <tr>\n      <th>2</th>\n      <td>2020-02-06</td>\n      <td>1</td>\n      <td>2020-02-06</td>\n    </tr>\n    <tr>\n      <th>3</th>\n      <td>2020-02-18</td>\n      <td>1</td>\n      <td>2020-02-18</td>\n    </tr>\n    <tr>\n      <th>4</th>\n      <td>2020-02-19</td>\n      <td>1</td>\n      <td>2020-02-19</td>\n    </tr>\n    <tr>\n      <th>...</th>\n      <td>...</td>\n      <td>...</td>\n      <td>...</td>\n    </tr>\n    <tr>\n      <th>240</th>\n      <td>2020-10-13</td>\n      <td>1389</td>\n      <td>2020-10-13</td>\n    </tr>\n    <tr>\n      <th>241</th>\n      <td>2020-10-14</td>\n      <td>671</td>\n      <td>2020-10-14</td>\n    </tr>\n    <tr>\n      <th>242</th>\n      <td>2020-10-15</td>\n      <td>335</td>\n      <td>2020-10-15</td>\n    </tr>\n    <tr>\n      <th>243</th>\n      <td>2020-10-16</td>\n      <td>63</td>\n      <td>2020-10-16</td>\n    </tr>\n    <tr>\n      <th>244</th>\n      <td>2020-10-17</td>\n      <td>18</td>\n      <td>2020-10-17</td>\n    </tr>\n  </tbody>\n</table>\n<p>245 rows × 3 columns</p>\n</div>"
     },
     "metadata": {},
     "execution_count": 200
    }
   ],
   "source": [
    "confirmados_por_fecha"
   ]
  },
  {
   "source": [
    "Con los tipos de datos correctos"
   ],
   "cell_type": "markdown",
   "metadata": {}
  },
  {
   "cell_type": "code",
   "execution_count": 201,
   "metadata": {},
   "outputs": [
    {
     "output_type": "execute_result",
     "data": {
      "text/plain": [
       "FECHA_SINTOMAS            object\n",
       "confirmados                int64\n",
       "fecha_sintomas    datetime64[ns]\n",
       "dtype: object"
      ]
     },
     "metadata": {},
     "execution_count": 201
    }
   ],
   "source": [
    "confirmados_por_fecha.dtypes"
   ]
  },
  {
   "source": [
    "Repitamos los pasos con los DataFrames de defunciones y de sospechosos:"
   ],
   "cell_type": "markdown",
   "metadata": {}
  },
  {
   "cell_type": "code",
   "execution_count": 202,
   "metadata": {},
   "outputs": [
    {
     "output_type": "execute_result",
     "data": {
      "text/plain": [
       "    FECHA_SINTOMAS  defunciones fecha_sintomas\n",
       "0       2020-02-06            1     2020-02-06\n",
       "1       2020-02-26            1     2020-02-26\n",
       "2       2020-02-27            1     2020-02-27\n",
       "3       2020-03-01            1     2020-03-01\n",
       "4       2020-03-02            2     2020-03-02\n",
       "..             ...          ...            ...\n",
       "223     2020-10-11           24     2020-10-11\n",
       "224     2020-10-12           22     2020-10-12\n",
       "225     2020-10-13            5     2020-10-13\n",
       "226     2020-10-14            7     2020-10-14\n",
       "227     2020-10-15            1     2020-10-15\n",
       "\n",
       "[228 rows x 3 columns]"
      ],
      "text/html": "<div>\n<style scoped>\n    .dataframe tbody tr th:only-of-type {\n        vertical-align: middle;\n    }\n\n    .dataframe tbody tr th {\n        vertical-align: top;\n    }\n\n    .dataframe thead th {\n        text-align: right;\n    }\n</style>\n<table border=\"1\" class=\"dataframe\">\n  <thead>\n    <tr style=\"text-align: right;\">\n      <th></th>\n      <th>FECHA_SINTOMAS</th>\n      <th>defunciones</th>\n      <th>fecha_sintomas</th>\n    </tr>\n  </thead>\n  <tbody>\n    <tr>\n      <th>0</th>\n      <td>2020-02-06</td>\n      <td>1</td>\n      <td>2020-02-06</td>\n    </tr>\n    <tr>\n      <th>1</th>\n      <td>2020-02-26</td>\n      <td>1</td>\n      <td>2020-02-26</td>\n    </tr>\n    <tr>\n      <th>2</th>\n      <td>2020-02-27</td>\n      <td>1</td>\n      <td>2020-02-27</td>\n    </tr>\n    <tr>\n      <th>3</th>\n      <td>2020-03-01</td>\n      <td>1</td>\n      <td>2020-03-01</td>\n    </tr>\n    <tr>\n      <th>4</th>\n      <td>2020-03-02</td>\n      <td>2</td>\n      <td>2020-03-02</td>\n    </tr>\n    <tr>\n      <th>...</th>\n      <td>...</td>\n      <td>...</td>\n      <td>...</td>\n    </tr>\n    <tr>\n      <th>223</th>\n      <td>2020-10-11</td>\n      <td>24</td>\n      <td>2020-10-11</td>\n    </tr>\n    <tr>\n      <th>224</th>\n      <td>2020-10-12</td>\n      <td>22</td>\n      <td>2020-10-12</td>\n    </tr>\n    <tr>\n      <th>225</th>\n      <td>2020-10-13</td>\n      <td>5</td>\n      <td>2020-10-13</td>\n    </tr>\n    <tr>\n      <th>226</th>\n      <td>2020-10-14</td>\n      <td>7</td>\n      <td>2020-10-14</td>\n    </tr>\n    <tr>\n      <th>227</th>\n      <td>2020-10-15</td>\n      <td>1</td>\n      <td>2020-10-15</td>\n    </tr>\n  </tbody>\n</table>\n<p>228 rows × 3 columns</p>\n</div>"
     },
     "metadata": {},
     "execution_count": 202
    }
   ],
   "source": [
    "grupos_def = defunciones.groupby(\"FECHA_SINTOMAS\")\n",
    "defunciones_por_fecha = grupos_def.size().to_frame(\"defunciones\").reset_index()\n",
    "defunciones_por_fecha[\"fecha_sintomas\"] = pd.to_datetime(defunciones_por_fecha[\"FECHA_SINTOMAS\"])\n",
    "defunciones_por_fecha"
   ]
  },
  {
   "cell_type": "code",
   "execution_count": 203,
   "metadata": {},
   "outputs": [
    {
     "output_type": "execute_result",
     "data": {
      "text/plain": [
       "    FECHA_SINTOMAS  sospechosos fecha_sintomas\n",
       "0       2020-01-01          133     2020-01-01\n",
       "1       2020-01-02          114     2020-01-02\n",
       "2       2020-01-03          113     2020-01-03\n",
       "3       2020-01-04          107     2020-01-04\n",
       "4       2020-01-05          164     2020-01-05\n",
       "..             ...          ...            ...\n",
       "287     2020-10-14         4668     2020-10-14\n",
       "288     2020-10-15         3952     2020-10-15\n",
       "289     2020-10-16         2680     2020-10-16\n",
       "290     2020-10-17          918     2020-10-17\n",
       "291     2020-10-18           26     2020-10-18\n",
       "\n",
       "[292 rows x 3 columns]"
      ],
      "text/html": "<div>\n<style scoped>\n    .dataframe tbody tr th:only-of-type {\n        vertical-align: middle;\n    }\n\n    .dataframe tbody tr th {\n        vertical-align: top;\n    }\n\n    .dataframe thead th {\n        text-align: right;\n    }\n</style>\n<table border=\"1\" class=\"dataframe\">\n  <thead>\n    <tr style=\"text-align: right;\">\n      <th></th>\n      <th>FECHA_SINTOMAS</th>\n      <th>sospechosos</th>\n      <th>fecha_sintomas</th>\n    </tr>\n  </thead>\n  <tbody>\n    <tr>\n      <th>0</th>\n      <td>2020-01-01</td>\n      <td>133</td>\n      <td>2020-01-01</td>\n    </tr>\n    <tr>\n      <th>1</th>\n      <td>2020-01-02</td>\n      <td>114</td>\n      <td>2020-01-02</td>\n    </tr>\n    <tr>\n      <th>2</th>\n      <td>2020-01-03</td>\n      <td>113</td>\n      <td>2020-01-03</td>\n    </tr>\n    <tr>\n      <th>3</th>\n      <td>2020-01-04</td>\n      <td>107</td>\n      <td>2020-01-04</td>\n    </tr>\n    <tr>\n      <th>4</th>\n      <td>2020-01-05</td>\n      <td>164</td>\n      <td>2020-01-05</td>\n    </tr>\n    <tr>\n      <th>...</th>\n      <td>...</td>\n      <td>...</td>\n      <td>...</td>\n    </tr>\n    <tr>\n      <th>287</th>\n      <td>2020-10-14</td>\n      <td>4668</td>\n      <td>2020-10-14</td>\n    </tr>\n    <tr>\n      <th>288</th>\n      <td>2020-10-15</td>\n      <td>3952</td>\n      <td>2020-10-15</td>\n    </tr>\n    <tr>\n      <th>289</th>\n      <td>2020-10-16</td>\n      <td>2680</td>\n      <td>2020-10-16</td>\n    </tr>\n    <tr>\n      <th>290</th>\n      <td>2020-10-17</td>\n      <td>918</td>\n      <td>2020-10-17</td>\n    </tr>\n    <tr>\n      <th>291</th>\n      <td>2020-10-18</td>\n      <td>26</td>\n      <td>2020-10-18</td>\n    </tr>\n  </tbody>\n</table>\n<p>292 rows × 3 columns</p>\n</div>"
     },
     "metadata": {},
     "execution_count": 203
    }
   ],
   "source": [
    "grupos_sosp = sospechosos.groupby(\"FECHA_SINTOMAS\")\n",
    "sospechosos_por_fecha = grupos_sosp.size().to_frame(\"sospechosos\").reset_index()\n",
    "sospechosos_por_fecha[\"fecha_sintomas\"] = pd.to_datetime(sospechosos_por_fecha[\"FECHA_SINTOMAS\"])\n",
    "sospechosos_por_fecha"
   ]
  },
  {
   "source": [
    "## Graficando con Bokeh\n",
    "\n",
    "Como mencionamos anteriormente para graficar usaremos Bokeh. Bokeh tiene la posibilidad de varias salidas para nuestras gráficas. Si no indicamos a Bokeh donde queremos nuestra gráfica la arrojará a una pestaña nueva de nuestro explorador. Dado que nuestra gráfica es parte de la exploración de los datos es importante tenerla en nuestro Notebook. Necesitamos indicarle a Bokeh que la salida la queremos en nuestro notebook. Recordemos que al principio del Notebook asociamos Bokeh al alias bpl. Para indicar a Bokeh la salida usamos la función ouput_notebook() de Bokeh"
   ],
   "cell_type": "markdown",
   "metadata": {}
  },
  {
   "cell_type": "code",
   "execution_count": 36,
   "metadata": {},
   "outputs": [
    {
     "output_type": "display_data",
     "data": {
      "text/html": "\n    <div class=\"bk-root\">\n        <a href=\"https://bokeh.org\" target=\"_blank\" class=\"bk-logo bk-logo-small bk-logo-notebook\"></a>\n        <span id=\"1001\">Loading BokehJS ...</span>\n    </div>"
     },
     "metadata": {}
    },
    {
     "output_type": "display_data",
     "data": {
      "application/javascript": "\n(function(root) {\n  function now() {\n    return new Date();\n  }\n\n  var force = true;\n\n  if (typeof root._bokeh_onload_callbacks === \"undefined\" || force === true) {\n    root._bokeh_onload_callbacks = [];\n    root._bokeh_is_loading = undefined;\n  }\n\n  var JS_MIME_TYPE = 'application/javascript';\n  var HTML_MIME_TYPE = 'text/html';\n  var EXEC_MIME_TYPE = 'application/vnd.bokehjs_exec.v0+json';\n  var CLASS_NAME = 'output_bokeh rendered_html';\n\n  /**\n   * Render data to the DOM node\n   */\n  function render(props, node) {\n    var script = document.createElement(\"script\");\n    node.appendChild(script);\n  }\n\n  /**\n   * Handle when an output is cleared or removed\n   */\n  function handleClearOutput(event, handle) {\n    var cell = handle.cell;\n\n    var id = cell.output_area._bokeh_element_id;\n    var server_id = cell.output_area._bokeh_server_id;\n    // Clean up Bokeh references\n    if (id != null && id in Bokeh.index) {\n      Bokeh.index[id].model.document.clear();\n      delete Bokeh.index[id];\n    }\n\n    if (server_id !== undefined) {\n      // Clean up Bokeh references\n      var cmd = \"from bokeh.io.state import curstate; print(curstate().uuid_to_server['\" + server_id + \"'].get_sessions()[0].document.roots[0]._id)\";\n      cell.notebook.kernel.execute(cmd, {\n        iopub: {\n          output: function(msg) {\n            var id = msg.content.text.trim();\n            if (id in Bokeh.index) {\n              Bokeh.index[id].model.document.clear();\n              delete Bokeh.index[id];\n            }\n          }\n        }\n      });\n      // Destroy server and session\n      var cmd = \"import bokeh.io.notebook as ion; ion.destroy_server('\" + server_id + \"')\";\n      cell.notebook.kernel.execute(cmd);\n    }\n  }\n\n  /**\n   * Handle when a new output is added\n   */\n  function handleAddOutput(event, handle) {\n    var output_area = handle.output_area;\n    var output = handle.output;\n\n    // limit handleAddOutput to display_data with EXEC_MIME_TYPE content only\n    if ((output.output_type != \"display_data\") || (!output.data.hasOwnProperty(EXEC_MIME_TYPE))) {\n      return\n    }\n\n    var toinsert = output_area.element.find(\".\" + CLASS_NAME.split(' ')[0]);\n\n    if (output.metadata[EXEC_MIME_TYPE][\"id\"] !== undefined) {\n      toinsert[toinsert.length - 1].firstChild.textContent = output.data[JS_MIME_TYPE];\n      // store reference to embed id on output_area\n      output_area._bokeh_element_id = output.metadata[EXEC_MIME_TYPE][\"id\"];\n    }\n    if (output.metadata[EXEC_MIME_TYPE][\"server_id\"] !== undefined) {\n      var bk_div = document.createElement(\"div\");\n      bk_div.innerHTML = output.data[HTML_MIME_TYPE];\n      var script_attrs = bk_div.children[0].attributes;\n      for (var i = 0; i < script_attrs.length; i++) {\n        toinsert[toinsert.length - 1].firstChild.setAttribute(script_attrs[i].name, script_attrs[i].value);\n        toinsert[toinsert.length - 1].firstChild.textContent = bk_div.children[0].textContent\n      }\n      // store reference to server id on output_area\n      output_area._bokeh_server_id = output.metadata[EXEC_MIME_TYPE][\"server_id\"];\n    }\n  }\n\n  function register_renderer(events, OutputArea) {\n\n    function append_mime(data, metadata, element) {\n      // create a DOM node to render to\n      var toinsert = this.create_output_subarea(\n        metadata,\n        CLASS_NAME,\n        EXEC_MIME_TYPE\n      );\n      this.keyboard_manager.register_events(toinsert);\n      // Render to node\n      var props = {data: data, metadata: metadata[EXEC_MIME_TYPE]};\n      render(props, toinsert[toinsert.length - 1]);\n      element.append(toinsert);\n      return toinsert\n    }\n\n    /* Handle when an output is cleared or removed */\n    events.on('clear_output.CodeCell', handleClearOutput);\n    events.on('delete.Cell', handleClearOutput);\n\n    /* Handle when a new output is added */\n    events.on('output_added.OutputArea', handleAddOutput);\n\n    /**\n     * Register the mime type and append_mime function with output_area\n     */\n    OutputArea.prototype.register_mime_type(EXEC_MIME_TYPE, append_mime, {\n      /* Is output safe? */\n      safe: true,\n      /* Index of renderer in `output_area.display_order` */\n      index: 0\n    });\n  }\n\n  // register the mime type if in Jupyter Notebook environment and previously unregistered\n  if (root.Jupyter !== undefined) {\n    var events = require('base/js/events');\n    var OutputArea = require('notebook/js/outputarea').OutputArea;\n\n    if (OutputArea.prototype.mime_types().indexOf(EXEC_MIME_TYPE) == -1) {\n      register_renderer(events, OutputArea);\n    }\n  }\n\n  \n  if (typeof (root._bokeh_timeout) === \"undefined\" || force === true) {\n    root._bokeh_timeout = Date.now() + 5000;\n    root._bokeh_failed_load = false;\n  }\n\n  var NB_LOAD_WARNING = {'data': {'text/html':\n     \"<div style='background-color: #fdd'>\\n\"+\n     \"<p>\\n\"+\n     \"BokehJS does not appear to have successfully loaded. If loading BokehJS from CDN, this \\n\"+\n     \"may be due to a slow or bad network connection. Possible fixes:\\n\"+\n     \"</p>\\n\"+\n     \"<ul>\\n\"+\n     \"<li>re-rerun `output_notebook()` to attempt to load from CDN again, or</li>\\n\"+\n     \"<li>use INLINE resources instead, as so:</li>\\n\"+\n     \"</ul>\\n\"+\n     \"<code>\\n\"+\n     \"from bokeh.resources import INLINE\\n\"+\n     \"output_notebook(resources=INLINE)\\n\"+\n     \"</code>\\n\"+\n     \"</div>\"}};\n\n  function display_loaded() {\n    var el = document.getElementById(\"1001\");\n    if (el != null) {\n      el.textContent = \"BokehJS is loading...\";\n    }\n    if (root.Bokeh !== undefined) {\n      if (el != null) {\n        el.textContent = \"BokehJS \" + root.Bokeh.version + \" successfully loaded.\";\n      }\n    } else if (Date.now() < root._bokeh_timeout) {\n      setTimeout(display_loaded, 100)\n    }\n  }\n\n\n  function run_callbacks() {\n    try {\n      root._bokeh_onload_callbacks.forEach(function(callback) {\n        if (callback != null)\n          callback();\n      });\n    } finally {\n      delete root._bokeh_onload_callbacks\n    }\n    console.debug(\"Bokeh: all callbacks have finished\");\n  }\n\n  function load_libs(css_urls, js_urls, callback) {\n    if (css_urls == null) css_urls = [];\n    if (js_urls == null) js_urls = [];\n\n    root._bokeh_onload_callbacks.push(callback);\n    if (root._bokeh_is_loading > 0) {\n      console.debug(\"Bokeh: BokehJS is being loaded, scheduling callback at\", now());\n      return null;\n    }\n    if (js_urls == null || js_urls.length === 0) {\n      run_callbacks();\n      return null;\n    }\n    console.debug(\"Bokeh: BokehJS not loaded, scheduling load and callback at\", now());\n    root._bokeh_is_loading = css_urls.length + js_urls.length;\n\n    function on_load() {\n      root._bokeh_is_loading--;\n      if (root._bokeh_is_loading === 0) {\n        console.debug(\"Bokeh: all BokehJS libraries/stylesheets loaded\");\n        run_callbacks()\n      }\n    }\n\n    function on_error() {\n      console.error(\"failed to load \" + url);\n    }\n\n    for (var i = 0; i < css_urls.length; i++) {\n      var url = css_urls[i];\n      const element = document.createElement(\"link\");\n      element.onload = on_load;\n      element.onerror = on_error;\n      element.rel = \"stylesheet\";\n      element.type = \"text/css\";\n      element.href = url;\n      console.debug(\"Bokeh: injecting link tag for BokehJS stylesheet: \", url);\n      document.body.appendChild(element);\n    }\n\n    const hashes = {\"https://cdn.bokeh.org/bokeh/release/bokeh-2.2.1.min.js\": \"qkRvDQVAIfzsJo40iRBbxt6sttt0hv4lh74DG7OK4MCHv4C5oohXYoHUM5W11uqS\", \"https://cdn.bokeh.org/bokeh/release/bokeh-widgets-2.2.1.min.js\": \"Sb7Mr06a9TNlet/GEBeKaf5xH3eb6AlCzwjtU82wNPyDrnfoiVl26qnvlKjmcAd+\", \"https://cdn.bokeh.org/bokeh/release/bokeh-tables-2.2.1.min.js\": \"HaJ15vgfmcfRtB4c4YBOI4f1MUujukqInOWVqZJZZGK7Q+ivud0OKGSTn/Vm2iso\"};\n\n    for (var i = 0; i < js_urls.length; i++) {\n      var url = js_urls[i];\n      var element = document.createElement('script');\n      element.onload = on_load;\n      element.onerror = on_error;\n      element.async = false;\n      element.src = url;\n      if (url in hashes) {\n        element.crossOrigin = \"anonymous\";\n        element.integrity = \"sha384-\" + hashes[url];\n      }\n      console.debug(\"Bokeh: injecting script tag for BokehJS library: \", url);\n      document.head.appendChild(element);\n    }\n  };\n\n  function inject_raw_css(css) {\n    const element = document.createElement(\"style\");\n    element.appendChild(document.createTextNode(css));\n    document.body.appendChild(element);\n  }\n\n  \n  var js_urls = [\"https://cdn.bokeh.org/bokeh/release/bokeh-2.2.1.min.js\", \"https://cdn.bokeh.org/bokeh/release/bokeh-widgets-2.2.1.min.js\", \"https://cdn.bokeh.org/bokeh/release/bokeh-tables-2.2.1.min.js\"];\n  var css_urls = [];\n  \n\n  var inline_js = [\n    function(Bokeh) {\n      Bokeh.set_log_level(\"info\");\n    },\n    function(Bokeh) {\n    \n    \n    }\n  ];\n\n  function run_inline_js() {\n    \n    if (root.Bokeh !== undefined || force === true) {\n      \n    for (var i = 0; i < inline_js.length; i++) {\n      inline_js[i].call(root, root.Bokeh);\n    }\n    if (force === true) {\n        display_loaded();\n      }} else if (Date.now() < root._bokeh_timeout) {\n      setTimeout(run_inline_js, 100);\n    } else if (!root._bokeh_failed_load) {\n      console.log(\"Bokeh: BokehJS failed to load within specified timeout.\");\n      root._bokeh_failed_load = true;\n    } else if (force !== true) {\n      var cell = $(document.getElementById(\"1001\")).parents('.cell').data().cell;\n      cell.output_area.append_execute_result(NB_LOAD_WARNING)\n    }\n\n  }\n\n  if (root._bokeh_is_loading === 0) {\n    console.debug(\"Bokeh: BokehJS loaded, going straight to plotting\");\n    run_inline_js();\n  } else {\n    load_libs(css_urls, js_urls, function() {\n      console.debug(\"Bokeh: BokehJS plotting callback run at\", now());\n      run_inline_js();\n    });\n  }\n}(window));",
      "application/vnd.bokehjs_load.v0+json": "\n(function(root) {\n  function now() {\n    return new Date();\n  }\n\n  var force = true;\n\n  if (typeof root._bokeh_onload_callbacks === \"undefined\" || force === true) {\n    root._bokeh_onload_callbacks = [];\n    root._bokeh_is_loading = undefined;\n  }\n\n  \n\n  \n  if (typeof (root._bokeh_timeout) === \"undefined\" || force === true) {\n    root._bokeh_timeout = Date.now() + 5000;\n    root._bokeh_failed_load = false;\n  }\n\n  var NB_LOAD_WARNING = {'data': {'text/html':\n     \"<div style='background-color: #fdd'>\\n\"+\n     \"<p>\\n\"+\n     \"BokehJS does not appear to have successfully loaded. If loading BokehJS from CDN, this \\n\"+\n     \"may be due to a slow or bad network connection. Possible fixes:\\n\"+\n     \"</p>\\n\"+\n     \"<ul>\\n\"+\n     \"<li>re-rerun `output_notebook()` to attempt to load from CDN again, or</li>\\n\"+\n     \"<li>use INLINE resources instead, as so:</li>\\n\"+\n     \"</ul>\\n\"+\n     \"<code>\\n\"+\n     \"from bokeh.resources import INLINE\\n\"+\n     \"output_notebook(resources=INLINE)\\n\"+\n     \"</code>\\n\"+\n     \"</div>\"}};\n\n  function display_loaded() {\n    var el = document.getElementById(\"1001\");\n    if (el != null) {\n      el.textContent = \"BokehJS is loading...\";\n    }\n    if (root.Bokeh !== undefined) {\n      if (el != null) {\n        el.textContent = \"BokehJS \" + root.Bokeh.version + \" successfully loaded.\";\n      }\n    } else if (Date.now() < root._bokeh_timeout) {\n      setTimeout(display_loaded, 100)\n    }\n  }\n\n\n  function run_callbacks() {\n    try {\n      root._bokeh_onload_callbacks.forEach(function(callback) {\n        if (callback != null)\n          callback();\n      });\n    } finally {\n      delete root._bokeh_onload_callbacks\n    }\n    console.debug(\"Bokeh: all callbacks have finished\");\n  }\n\n  function load_libs(css_urls, js_urls, callback) {\n    if (css_urls == null) css_urls = [];\n    if (js_urls == null) js_urls = [];\n\n    root._bokeh_onload_callbacks.push(callback);\n    if (root._bokeh_is_loading > 0) {\n      console.debug(\"Bokeh: BokehJS is being loaded, scheduling callback at\", now());\n      return null;\n    }\n    if (js_urls == null || js_urls.length === 0) {\n      run_callbacks();\n      return null;\n    }\n    console.debug(\"Bokeh: BokehJS not loaded, scheduling load and callback at\", now());\n    root._bokeh_is_loading = css_urls.length + js_urls.length;\n\n    function on_load() {\n      root._bokeh_is_loading--;\n      if (root._bokeh_is_loading === 0) {\n        console.debug(\"Bokeh: all BokehJS libraries/stylesheets loaded\");\n        run_callbacks()\n      }\n    }\n\n    function on_error() {\n      console.error(\"failed to load \" + url);\n    }\n\n    for (var i = 0; i < css_urls.length; i++) {\n      var url = css_urls[i];\n      const element = document.createElement(\"link\");\n      element.onload = on_load;\n      element.onerror = on_error;\n      element.rel = \"stylesheet\";\n      element.type = \"text/css\";\n      element.href = url;\n      console.debug(\"Bokeh: injecting link tag for BokehJS stylesheet: \", url);\n      document.body.appendChild(element);\n    }\n\n    const hashes = {\"https://cdn.bokeh.org/bokeh/release/bokeh-2.2.1.min.js\": \"qkRvDQVAIfzsJo40iRBbxt6sttt0hv4lh74DG7OK4MCHv4C5oohXYoHUM5W11uqS\", \"https://cdn.bokeh.org/bokeh/release/bokeh-widgets-2.2.1.min.js\": \"Sb7Mr06a9TNlet/GEBeKaf5xH3eb6AlCzwjtU82wNPyDrnfoiVl26qnvlKjmcAd+\", \"https://cdn.bokeh.org/bokeh/release/bokeh-tables-2.2.1.min.js\": \"HaJ15vgfmcfRtB4c4YBOI4f1MUujukqInOWVqZJZZGK7Q+ivud0OKGSTn/Vm2iso\"};\n\n    for (var i = 0; i < js_urls.length; i++) {\n      var url = js_urls[i];\n      var element = document.createElement('script');\n      element.onload = on_load;\n      element.onerror = on_error;\n      element.async = false;\n      element.src = url;\n      if (url in hashes) {\n        element.crossOrigin = \"anonymous\";\n        element.integrity = \"sha384-\" + hashes[url];\n      }\n      console.debug(\"Bokeh: injecting script tag for BokehJS library: \", url);\n      document.head.appendChild(element);\n    }\n  };\n\n  function inject_raw_css(css) {\n    const element = document.createElement(\"style\");\n    element.appendChild(document.createTextNode(css));\n    document.body.appendChild(element);\n  }\n\n  \n  var js_urls = [\"https://cdn.bokeh.org/bokeh/release/bokeh-2.2.1.min.js\", \"https://cdn.bokeh.org/bokeh/release/bokeh-widgets-2.2.1.min.js\", \"https://cdn.bokeh.org/bokeh/release/bokeh-tables-2.2.1.min.js\"];\n  var css_urls = [];\n  \n\n  var inline_js = [\n    function(Bokeh) {\n      Bokeh.set_log_level(\"info\");\n    },\n    function(Bokeh) {\n    \n    \n    }\n  ];\n\n  function run_inline_js() {\n    \n    if (root.Bokeh !== undefined || force === true) {\n      \n    for (var i = 0; i < inline_js.length; i++) {\n      inline_js[i].call(root, root.Bokeh);\n    }\n    if (force === true) {\n        display_loaded();\n      }} else if (Date.now() < root._bokeh_timeout) {\n      setTimeout(run_inline_js, 100);\n    } else if (!root._bokeh_failed_load) {\n      console.log(\"Bokeh: BokehJS failed to load within specified timeout.\");\n      root._bokeh_failed_load = true;\n    } else if (force !== true) {\n      var cell = $(document.getElementById(\"1001\")).parents('.cell').data().cell;\n      cell.output_area.append_execute_result(NB_LOAD_WARNING)\n    }\n\n  }\n\n  if (root._bokeh_is_loading === 0) {\n    console.debug(\"Bokeh: BokehJS loaded, going straight to plotting\");\n    run_inline_js();\n  } else {\n    load_libs(css_urls, js_urls, function() {\n      console.debug(\"Bokeh: BokehJS plotting callback run at\", now());\n      run_inline_js();\n    });\n  }\n}(window));"
     },
     "metadata": {}
    }
   ],
   "source": [
    "bpl.output_notebook()"
   ]
  },
  {
   "source": [
    "Bokeh funciona de fomra muy similar a la mayoría de las librerías de graficación. Se define un \"plot\" en donde graficar y luego en ese plot se van pintando símbolos y elementos gráficos para conformar la gráfica. \n",
    "\n",
    "Definiremos nuestro plot y lo guardaremos en la variable \"p\". Cuando definimos nuestro plot podemos usar algunas opciones para cambiar propiedades del plot, por ejemplo podemos definir el alto y el ancho de la zona de piuntado.\n",
    "\n",
    "Debido a que nuestra gráfica tiene un tipo de datos especial en el eje x (fechas) es necesario especificar este tipo de datos en la definición del plot, lo hacemos con la opción \"x_axis_type\".\n",
    "\n",
    "El plot se define de la siguiente manera:"
   ],
   "cell_type": "markdown",
   "metadata": {}
  },
  {
   "cell_type": "code",
   "execution_count": 205,
   "metadata": {},
   "outputs": [],
   "source": [
    "p = bpl.figure(x_axis_type=\"datetime\", plot_width=800, plot_height=600, title=\"Casos de COVID19 en México\")"
   ]
  },
  {
   "source": [
    "Una vez que hemos definido nuestrto plot podemos pintar en el elementos gráficos para conformar la gráfica. Bokeh tiene un monton de estos elementos para poder hacer gráficas, puedes verlos todos y la manera en la que se usan en la [documentación de Bokeh](https://docs.bokeh.org/en/latest/docs/user_guide/plotting.html).\n",
    "\n",
    "Comenzaremos por pintar puntos en nuestra gráfica. Queremosn un punto por cada fecha. En el eje x usaremos la columna con fechas de nuestro DataFrame y en el eje y usaremos la columna con el número de casos de nuestro DataFrame. Para gregar un tipo de elemento gráfico usamos la función correspondiente sobre nuestro plot que está guardado en \"p\". En este caso usaremos la funcion \"circle\"."
   ],
   "cell_type": "markdown",
   "metadata": {}
  },
  {
   "cell_type": "code",
   "execution_count": 207,
   "metadata": {},
   "outputs": [
    {
     "output_type": "execute_result",
     "data": {
      "text/plain": [
       "GlyphRenderer(id='77891', ...)"
      ],
      "text/html": "<div style=\"display: table;\"><div style=\"display: table-row;\"><div style=\"display: table-cell;\"><b title=\"bokeh.models.renderers.GlyphRenderer\">GlyphRenderer</b>(</div><div style=\"display: table-cell;\">id&nbsp;=&nbsp;'77891', <span id=\"77894\" style=\"cursor: pointer;\">&hellip;)</span></div></div><div class=\"77893\" style=\"display: none;\"><div style=\"display: table-cell;\"></div><div style=\"display: table-cell;\">data_source&nbsp;=&nbsp;ColumnDataSource(id='77888', ...),</div></div><div class=\"77893\" style=\"display: none;\"><div style=\"display: table-cell;\"></div><div style=\"display: table-cell;\">glyph&nbsp;=&nbsp;Circle(id='77889', ...),</div></div><div class=\"77893\" style=\"display: none;\"><div style=\"display: table-cell;\"></div><div style=\"display: table-cell;\">hover_glyph&nbsp;=&nbsp;None,</div></div><div class=\"77893\" style=\"display: none;\"><div style=\"display: table-cell;\"></div><div style=\"display: table-cell;\">js_event_callbacks&nbsp;=&nbsp;{},</div></div><div class=\"77893\" style=\"display: none;\"><div style=\"display: table-cell;\"></div><div style=\"display: table-cell;\">js_property_callbacks&nbsp;=&nbsp;{},</div></div><div class=\"77893\" style=\"display: none;\"><div style=\"display: table-cell;\"></div><div style=\"display: table-cell;\">level&nbsp;=&nbsp;'glyph',</div></div><div class=\"77893\" style=\"display: none;\"><div style=\"display: table-cell;\"></div><div style=\"display: table-cell;\">muted&nbsp;=&nbsp;False,</div></div><div class=\"77893\" style=\"display: none;\"><div style=\"display: table-cell;\"></div><div style=\"display: table-cell;\">muted_glyph&nbsp;=&nbsp;None,</div></div><div class=\"77893\" style=\"display: none;\"><div style=\"display: table-cell;\"></div><div style=\"display: table-cell;\">name&nbsp;=&nbsp;None,</div></div><div class=\"77893\" style=\"display: none;\"><div style=\"display: table-cell;\"></div><div style=\"display: table-cell;\">nonselection_glyph&nbsp;=&nbsp;Circle(id='77890', ...),</div></div><div class=\"77893\" style=\"display: none;\"><div style=\"display: table-cell;\"></div><div style=\"display: table-cell;\">selection_glyph&nbsp;=&nbsp;None,</div></div><div class=\"77893\" style=\"display: none;\"><div style=\"display: table-cell;\"></div><div style=\"display: table-cell;\">subscribed_events&nbsp;=&nbsp;[],</div></div><div class=\"77893\" style=\"display: none;\"><div style=\"display: table-cell;\"></div><div style=\"display: table-cell;\">tags&nbsp;=&nbsp;[],</div></div><div class=\"77893\" style=\"display: none;\"><div style=\"display: table-cell;\"></div><div style=\"display: table-cell;\">view&nbsp;=&nbsp;CDSView(id='77892', ...),</div></div><div class=\"77893\" style=\"display: none;\"><div style=\"display: table-cell;\"></div><div style=\"display: table-cell;\">visible&nbsp;=&nbsp;True,</div></div><div class=\"77893\" style=\"display: none;\"><div style=\"display: table-cell;\"></div><div style=\"display: table-cell;\">x_range_name&nbsp;=&nbsp;'default',</div></div><div class=\"77893\" style=\"display: none;\"><div style=\"display: table-cell;\"></div><div style=\"display: table-cell;\">y_range_name&nbsp;=&nbsp;'default')</div></div></div>\n<script>\n(function() {\n  var expanded = false;\n  var ellipsis = document.getElementById(\"77894\");\n  ellipsis.addEventListener(\"click\", function() {\n    var rows = document.getElementsByClassName(\"77893\");\n    for (var i = 0; i < rows.length; i++) {\n      var el = rows[i];\n      el.style.display = expanded ? \"none\" : \"table-row\";\n    }\n    ellipsis.innerHTML = expanded ? \"&hellip;)\" : \"&lsaquo;&lsaquo;&lsaquo;\";\n    expanded = !expanded;\n  });\n})();\n</script>\n"
     },
     "metadata": {},
     "execution_count": 207
    }
   ],
   "source": [
    "p.circle(x=confirmados_por_fecha[\"fecha_sintomas\"], y=confirmados_por_fecha[\"confirmados\"],size=7)"
   ]
  },
  {
   "source": [
    "Es importante notar que despues de ejecutar la función no obtenemos como resultado una gráfica, lo que hicimos fue agregar elementos gráficos a nuestra gráfica pero tiene vida propia. \n",
    "\n",
    "Podemos visualizar como va nuestra gráfica con la función de bokeh show() que utiliza como parámetro el plot que queremos ver.\n",
    "\n",
    "Veamos nuestra gráfica..."
   ],
   "cell_type": "markdown",
   "metadata": {}
  },
  {
   "cell_type": "code",
   "execution_count": 208,
   "metadata": {},
   "outputs": [
    {
     "output_type": "display_data",
     "data": {
      "text/html": "\n\n\n\n\n\n  <div class=\"bk-root\" id=\"b9d7ca74-948c-4908-8ab8-a8353806680f\" data-root-id=\"77855\"></div>\n"
     },
     "metadata": {}
    },
    {
     "output_type": "display_data",
     "data": {
      "application/javascript": "(function(root) {\n  function embed_document(root) {\n    \n  var docs_json = {\"b4efcb58-7e66-456e-b705-18a7cb404181\":{\"roots\":{\"references\":[{\"attributes\":{\"below\":[{\"id\":\"77866\"}],\"center\":[{\"id\":\"77869\"},{\"id\":\"77873\"}],\"left\":[{\"id\":\"77870\"}],\"plot_width\":800,\"renderers\":[{\"id\":\"77891\"}],\"title\":{\"id\":\"77856\"},\"toolbar\":{\"id\":\"77881\"},\"x_range\":{\"id\":\"77858\"},\"x_scale\":{\"id\":\"77862\"},\"y_range\":{\"id\":\"77860\"},\"y_scale\":{\"id\":\"77864\"}},\"id\":\"77855\",\"subtype\":\"Figure\",\"type\":\"Plot\"},{\"attributes\":{\"formatter\":{\"id\":\"79023\"},\"ticker\":{\"id\":\"77871\"}},\"id\":\"77870\",\"type\":\"LinearAxis\"},{\"attributes\":{},\"id\":\"77871\",\"type\":\"BasicTicker\"},{\"attributes\":{\"num_minor_ticks\":5,\"tickers\":[{\"id\":\"79027\"},{\"id\":\"79028\"},{\"id\":\"79029\"},{\"id\":\"79030\"},{\"id\":\"79031\"},{\"id\":\"79032\"},{\"id\":\"79033\"},{\"id\":\"79034\"},{\"id\":\"79035\"},{\"id\":\"79036\"},{\"id\":\"79037\"},{\"id\":\"79038\"}]},\"id\":\"77867\",\"type\":\"DatetimeTicker\"},{\"attributes\":{\"days\":[1,8,15,22]},\"id\":\"79032\",\"type\":\"DaysTicker\"},{\"attributes\":{\"active_drag\":\"auto\",\"active_inspect\":\"auto\",\"active_multi\":null,\"active_scroll\":\"auto\",\"active_tap\":\"auto\",\"tools\":[{\"id\":\"77874\"},{\"id\":\"77875\"},{\"id\":\"77876\"},{\"id\":\"77877\"},{\"id\":\"77878\"},{\"id\":\"77879\"}]},\"id\":\"77881\",\"type\":\"Toolbar\"},{\"attributes\":{\"months\":[0,2,4,6,8,10]},\"id\":\"79035\",\"type\":\"MonthsTicker\"},{\"attributes\":{},\"id\":\"77877\",\"type\":\"SaveTool\"},{\"attributes\":{\"axis\":{\"id\":\"77866\"},\"ticker\":null},\"id\":\"77869\",\"type\":\"Grid\"},{\"attributes\":{},\"id\":\"77874\",\"type\":\"PanTool\"},{\"attributes\":{\"formatter\":{\"id\":\"79021\"},\"ticker\":{\"id\":\"77867\"}},\"id\":\"77866\",\"type\":\"DatetimeAxis\"},{\"attributes\":{},\"id\":\"79025\",\"type\":\"UnionRenderers\"},{\"attributes\":{\"days\":[1,15]},\"id\":\"79033\",\"type\":\"DaysTicker\"},{\"attributes\":{},\"id\":\"77860\",\"type\":\"DataRange1d\"},{\"attributes\":{},\"id\":\"79026\",\"type\":\"Selection\"},{\"attributes\":{\"source\":{\"id\":\"77888\"}},\"id\":\"77892\",\"type\":\"CDSView\"},{\"attributes\":{\"text\":\"Casos de COVID19 en M\\u00e9xico\"},\"id\":\"77856\",\"type\":\"Title\"},{\"attributes\":{\"months\":[0,6]},\"id\":\"79037\",\"type\":\"MonthsTicker\"},{\"attributes\":{},\"id\":\"77858\",\"type\":\"DataRange1d\"},{\"attributes\":{\"axis\":{\"id\":\"77870\"},\"dimension\":1,\"ticker\":null},\"id\":\"77873\",\"type\":\"Grid\"},{\"attributes\":{},\"id\":\"79023\",\"type\":\"BasicTickFormatter\"},{\"attributes\":{},\"id\":\"79038\",\"type\":\"YearsTicker\"},{\"attributes\":{},\"id\":\"77878\",\"type\":\"ResetTool\"},{\"attributes\":{\"mantissas\":[1,2,5],\"max_interval\":500.0,\"num_minor_ticks\":0},\"id\":\"79027\",\"type\":\"AdaptiveTicker\"},{\"attributes\":{},\"id\":\"77862\",\"type\":\"LinearScale\"},{\"attributes\":{\"fill_alpha\":{\"value\":0.1},\"fill_color\":{\"value\":\"#1f77b4\"},\"line_alpha\":{\"value\":0.1},\"line_color\":{\"value\":\"#1f77b4\"},\"size\":{\"units\":\"screen\",\"value\":7},\"x\":{\"field\":\"x\"},\"y\":{\"field\":\"y\"}},\"id\":\"77890\",\"type\":\"Circle\"},{\"attributes\":{\"days\":[1,4,7,10,13,16,19,22,25,28]},\"id\":\"79031\",\"type\":\"DaysTicker\"},{\"attributes\":{},\"id\":\"77879\",\"type\":\"HelpTool\"},{\"attributes\":{\"bottom_units\":\"screen\",\"fill_alpha\":0.5,\"fill_color\":\"lightgrey\",\"left_units\":\"screen\",\"level\":\"overlay\",\"line_alpha\":1.0,\"line_color\":\"black\",\"line_dash\":[4,4],\"line_width\":2,\"right_units\":\"screen\",\"top_units\":\"screen\"},\"id\":\"77880\",\"type\":\"BoxAnnotation\"},{\"attributes\":{\"fill_color\":{\"value\":\"#1f77b4\"},\"line_color\":{\"value\":\"#1f77b4\"},\"size\":{\"units\":\"screen\",\"value\":7},\"x\":{\"field\":\"x\"},\"y\":{\"field\":\"y\"}},\"id\":\"77889\",\"type\":\"Circle\"},{\"attributes\":{\"overlay\":{\"id\":\"77880\"}},\"id\":\"77876\",\"type\":\"BoxZoomTool\"},{\"attributes\":{\"data_source\":{\"id\":\"77888\"},\"glyph\":{\"id\":\"77889\"},\"hover_glyph\":null,\"muted_glyph\":null,\"nonselection_glyph\":{\"id\":\"77890\"},\"selection_glyph\":null,\"view\":{\"id\":\"77892\"}},\"id\":\"77891\",\"type\":\"GlyphRenderer\"},{\"attributes\":{\"base\":24,\"mantissas\":[1,2,4,6,8,12],\"max_interval\":43200000.0,\"min_interval\":3600000.0,\"num_minor_ticks\":0},\"id\":\"79029\",\"type\":\"AdaptiveTicker\"},{\"attributes\":{\"days\":[1,2,3,4,5,6,7,8,9,10,11,12,13,14,15,16,17,18,19,20,21,22,23,24,25,26,27,28,29,30,31]},\"id\":\"79030\",\"type\":\"DaysTicker\"},{\"attributes\":{\"months\":[0,1,2,3,4,5,6,7,8,9,10,11]},\"id\":\"79034\",\"type\":\"MonthsTicker\"},{\"attributes\":{\"months\":[0,4,8]},\"id\":\"79036\",\"type\":\"MonthsTicker\"},{\"attributes\":{\"data\":{\"x\":{\"__ndarray__\":\"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\",\"dtype\":\"float64\",\"order\":\"little\",\"shape\":[245]},\"y\":[1,1,1,1,1,1,2,1,3,2,2,2,2,2,8,9,8,8,7,11,21,21,66,51,51,88,101,99,107,135,139,133,127,205,141,149,229,191,223,273,299,285,271,400,316,487,452,460,463,449,603,527,647,650,1002,762,805,998,938,1101,1062,1221,1307,1185,1923,1273,1311,1348,1606,1675,1495,1819,1606,1441,2009,2744,1961,1874,2385,2403,2150,2383,2780,2461,3313,3083,2776,2703,2716,4024,3052,2922,4210,3271,4508,3095,3898,3594,3382,5083,3737,3563,4059,4111,3958,3679,6691,4204,4162,4309,5339,4995,4227,5660,4571,6175,4462,5230,4655,4521,6978,5250,4521,5532,5622,7321,4667,5951,5185,5135,6156,6660,5194,6247,6595,6582,8490,6194,6645,5787,6396,7050,6461,5932,6078,9347,5971,6282,7602,6359,8021,6392,7162,7135,6395,9773,5979,5871,5808,6311,7384,5616,7233,5931,5104,5210,5497,8113,5193,6241,4828,5574,4826,5266,5480,4492,7641,4767,4773,4637,5361,5777,4519,5638,5666,4634,7286,5053,4825,4457,5859,5695,4741,4810,6000,4320,4735,5510,6957,4725,4513,4654,4979,4038,4995,4468,4185,5240,4083,3438,3293,4518,4828,3525,4245,4824,4516,5560,4736,4013,3837,3848,4918,3865,3835,4803,4081,4003,5449,4079,3733,3537,4851,3769,3641,3478,3319,3502,2113,2130,1389,671,335,63,18]},\"selected\":{\"id\":\"79026\"},\"selection_policy\":{\"id\":\"79025\"}},\"id\":\"77888\",\"type\":\"ColumnDataSource\"},{\"attributes\":{},\"id\":\"77864\",\"type\":\"LinearScale\"},{\"attributes\":{},\"id\":\"77875\",\"type\":\"WheelZoomTool\"},{\"attributes\":{},\"id\":\"79021\",\"type\":\"DatetimeTickFormatter\"},{\"attributes\":{\"base\":60,\"mantissas\":[1,2,5,10,15,20,30],\"max_interval\":1800000.0,\"min_interval\":1000.0,\"num_minor_ticks\":0},\"id\":\"79028\",\"type\":\"AdaptiveTicker\"}],\"root_ids\":[\"77855\"]},\"title\":\"Bokeh Application\",\"version\":\"2.2.1\"}};\n  var render_items = [{\"docid\":\"b4efcb58-7e66-456e-b705-18a7cb404181\",\"root_ids\":[\"77855\"],\"roots\":{\"77855\":\"b9d7ca74-948c-4908-8ab8-a8353806680f\"}}];\n  root.Bokeh.embed.embed_items_notebook(docs_json, render_items);\n\n  }\n  if (root.Bokeh !== undefined) {\n    embed_document(root);\n  } else {\n    var attempts = 0;\n    var timer = setInterval(function(root) {\n      if (root.Bokeh !== undefined) {\n        clearInterval(timer);\n        embed_document(root);\n      } else {\n        attempts++;\n        if (attempts > 100) {\n          clearInterval(timer);\n          console.log(\"Bokeh: ERROR: Unable to run BokehJS code because BokehJS library is missing\");\n        }\n      }\n    }, 10, root)\n  }\n})(window);",
      "application/vnd.bokehjs_exec.v0+json": ""
     },
     "metadata": {
      "application/vnd.bokehjs_exec.v0+json": {
       "id": "77855"
      }
     }
    }
   ],
   "source": [
    "bpl.show(p)"
   ]
  },
  {
   "source": [
    "Existen muchos tipos diferentes de marcadores:\n",
    "\n",
    "![marcadores](./imagenes/img4.png)"
   ],
   "cell_type": "markdown",
   "metadata": {}
  },
  {
   "source": [
    "Si queremos cambiar el tipo de marcador necesitamos volver a definir nuestra figure porque si no se encimarán nuestros marcadores..."
   ],
   "cell_type": "markdown",
   "metadata": {}
  },
  {
   "cell_type": "code",
   "execution_count": 209,
   "metadata": {},
   "outputs": [
    {
     "output_type": "execute_result",
     "data": {
      "text/plain": [
       "GlyphRenderer(id='79143', ...)"
      ],
      "text/html": "<div style=\"display: table;\"><div style=\"display: table-row;\"><div style=\"display: table-cell;\"><b title=\"bokeh.models.renderers.GlyphRenderer\">GlyphRenderer</b>(</div><div style=\"display: table-cell;\">id&nbsp;=&nbsp;'79143', <span id=\"80293\" style=\"cursor: pointer;\">&hellip;)</span></div></div><div class=\"80292\" style=\"display: none;\"><div style=\"display: table-cell;\"></div><div style=\"display: table-cell;\">data_source&nbsp;=&nbsp;ColumnDataSource(id='79140', ...),</div></div><div class=\"80292\" style=\"display: none;\"><div style=\"display: table-cell;\"></div><div style=\"display: table-cell;\">glyph&nbsp;=&nbsp;Cross(id='79141', ...),</div></div><div class=\"80292\" style=\"display: none;\"><div style=\"display: table-cell;\"></div><div style=\"display: table-cell;\">hover_glyph&nbsp;=&nbsp;None,</div></div><div class=\"80292\" style=\"display: none;\"><div style=\"display: table-cell;\"></div><div style=\"display: table-cell;\">js_event_callbacks&nbsp;=&nbsp;{},</div></div><div class=\"80292\" style=\"display: none;\"><div style=\"display: table-cell;\"></div><div style=\"display: table-cell;\">js_property_callbacks&nbsp;=&nbsp;{},</div></div><div class=\"80292\" style=\"display: none;\"><div style=\"display: table-cell;\"></div><div style=\"display: table-cell;\">level&nbsp;=&nbsp;'glyph',</div></div><div class=\"80292\" style=\"display: none;\"><div style=\"display: table-cell;\"></div><div style=\"display: table-cell;\">muted&nbsp;=&nbsp;False,</div></div><div class=\"80292\" style=\"display: none;\"><div style=\"display: table-cell;\"></div><div style=\"display: table-cell;\">muted_glyph&nbsp;=&nbsp;None,</div></div><div class=\"80292\" style=\"display: none;\"><div style=\"display: table-cell;\"></div><div style=\"display: table-cell;\">name&nbsp;=&nbsp;None,</div></div><div class=\"80292\" style=\"display: none;\"><div style=\"display: table-cell;\"></div><div style=\"display: table-cell;\">nonselection_glyph&nbsp;=&nbsp;Cross(id='79142', ...),</div></div><div class=\"80292\" style=\"display: none;\"><div style=\"display: table-cell;\"></div><div style=\"display: table-cell;\">selection_glyph&nbsp;=&nbsp;None,</div></div><div class=\"80292\" style=\"display: none;\"><div style=\"display: table-cell;\"></div><div style=\"display: table-cell;\">subscribed_events&nbsp;=&nbsp;[],</div></div><div class=\"80292\" style=\"display: none;\"><div style=\"display: table-cell;\"></div><div style=\"display: table-cell;\">tags&nbsp;=&nbsp;[],</div></div><div class=\"80292\" style=\"display: none;\"><div style=\"display: table-cell;\"></div><div style=\"display: table-cell;\">view&nbsp;=&nbsp;CDSView(id='79144', ...),</div></div><div class=\"80292\" style=\"display: none;\"><div style=\"display: table-cell;\"></div><div style=\"display: table-cell;\">visible&nbsp;=&nbsp;True,</div></div><div class=\"80292\" style=\"display: none;\"><div style=\"display: table-cell;\"></div><div style=\"display: table-cell;\">x_range_name&nbsp;=&nbsp;'default',</div></div><div class=\"80292\" style=\"display: none;\"><div style=\"display: table-cell;\"></div><div style=\"display: table-cell;\">y_range_name&nbsp;=&nbsp;'default')</div></div></div>\n<script>\n(function() {\n  var expanded = false;\n  var ellipsis = document.getElementById(\"80293\");\n  ellipsis.addEventListener(\"click\", function() {\n    var rows = document.getElementsByClassName(\"80292\");\n    for (var i = 0; i < rows.length; i++) {\n      var el = rows[i];\n      el.style.display = expanded ? \"none\" : \"table-row\";\n    }\n    ellipsis.innerHTML = expanded ? \"&hellip;)\" : \"&lsaquo;&lsaquo;&lsaquo;\";\n    expanded = !expanded;\n  });\n})();\n</script>\n"
     },
     "metadata": {},
     "execution_count": 209
    }
   ],
   "source": [
    "p.cross(x=confirmados_por_fecha[\"fecha_sintomas\"], y=confirmados_por_fecha[\"confirmados\"],color=\"red\",size=13)"
   ]
  },
  {
   "cell_type": "code",
   "execution_count": 210,
   "metadata": {},
   "outputs": [
    {
     "output_type": "display_data",
     "data": {
      "text/html": "\n\n\n\n\n\n  <div class=\"bk-root\" id=\"1322e42a-bbc2-4d5c-b35f-c1f9d8d3b6de\" data-root-id=\"77855\"></div>\n"
     },
     "metadata": {}
    },
    {
     "output_type": "display_data",
     "data": {
      "application/javascript": "(function(root) {\n  function embed_document(root) {\n    \n  var docs_json = {\"3f5a36a9-c620-48b7-9708-f6b738aea8e9\":{\"roots\":{\"references\":[{\"attributes\":{\"below\":[{\"id\":\"77866\"}],\"center\":[{\"id\":\"77869\"},{\"id\":\"77873\"}],\"left\":[{\"id\":\"77870\"}],\"plot_width\":800,\"renderers\":[{\"id\":\"77891\"},{\"id\":\"79143\"}],\"title\":{\"id\":\"77856\"},\"toolbar\":{\"id\":\"77881\"},\"x_range\":{\"id\":\"77858\"},\"x_scale\":{\"id\":\"77862\"},\"y_range\":{\"id\":\"77860\"},\"y_scale\":{\"id\":\"77864\"}},\"id\":\"77855\",\"subtype\":\"Figure\",\"type\":\"Plot\"},{\"attributes\":{\"formatter\":{\"id\":\"79023\"},\"ticker\":{\"id\":\"77871\"}},\"id\":\"77870\",\"type\":\"LinearAxis\"},{\"attributes\":{},\"id\":\"77871\",\"type\":\"BasicTicker\"},{\"attributes\":{\"num_minor_ticks\":5,\"tickers\":[{\"id\":\"79027\"},{\"id\":\"79028\"},{\"id\":\"79029\"},{\"id\":\"79030\"},{\"id\":\"79031\"},{\"id\":\"79032\"},{\"id\":\"79033\"},{\"id\":\"79034\"},{\"id\":\"79035\"},{\"id\":\"79036\"},{\"id\":\"79037\"},{\"id\":\"79038\"}]},\"id\":\"77867\",\"type\":\"DatetimeTicker\"},{\"attributes\":{\"days\":[1,8,15,22]},\"id\":\"79032\",\"type\":\"DaysTicker\"},{\"attributes\":{\"fill_alpha\":{\"value\":0.1},\"fill_color\":{\"value\":\"red\"},\"line_alpha\":{\"value\":0.1},\"line_color\":{\"value\":\"red\"},\"size\":{\"units\":\"screen\",\"value\":13},\"x\":{\"field\":\"x\"},\"y\":{\"field\":\"y\"}},\"id\":\"79142\",\"type\":\"Cross\"},{\"attributes\":{\"active_drag\":\"auto\",\"active_inspect\":\"auto\",\"active_multi\":null,\"active_scroll\":\"auto\",\"active_tap\":\"auto\",\"tools\":[{\"id\":\"77874\"},{\"id\":\"77875\"},{\"id\":\"77876\"},{\"id\":\"77877\"},{\"id\":\"77878\"},{\"id\":\"77879\"}]},\"id\":\"77881\",\"type\":\"Toolbar\"},{\"attributes\":{\"months\":[0,2,4,6,8,10]},\"id\":\"79035\",\"type\":\"MonthsTicker\"},{\"attributes\":{},\"id\":\"77877\",\"type\":\"SaveTool\"},{\"attributes\":{\"axis\":{\"id\":\"77866\"},\"ticker\":null},\"id\":\"77869\",\"type\":\"Grid\"},{\"attributes\":{},\"id\":\"80278\",\"type\":\"Selection\"},{\"attributes\":{},\"id\":\"77874\",\"type\":\"PanTool\"},{\"attributes\":{\"formatter\":{\"id\":\"79021\"},\"ticker\":{\"id\":\"77867\"}},\"id\":\"77866\",\"type\":\"DatetimeAxis\"},{\"attributes\":{},\"id\":\"79025\",\"type\":\"UnionRenderers\"},{\"attributes\":{\"days\":[1,15]},\"id\":\"79033\",\"type\":\"DaysTicker\"},{\"attributes\":{},\"id\":\"77860\",\"type\":\"DataRange1d\"},{\"attributes\":{},\"id\":\"79026\",\"type\":\"Selection\"},{\"attributes\":{\"source\":{\"id\":\"79140\"}},\"id\":\"79144\",\"type\":\"CDSView\"},{\"attributes\":{\"source\":{\"id\":\"77888\"}},\"id\":\"77892\",\"type\":\"CDSView\"},{\"attributes\":{},\"id\":\"80277\",\"type\":\"UnionRenderers\"},{\"attributes\":{\"data\":{\"x\":{\"__ndarray__\":\"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\",\"dtype\":\"float64\",\"order\":\"little\",\"shape\":[245]},\"y\":[1,1,1,1,1,1,2,1,3,2,2,2,2,2,8,9,8,8,7,11,21,21,66,51,51,88,101,99,107,135,139,133,127,205,141,149,229,191,223,273,299,285,271,400,316,487,452,460,463,449,603,527,647,650,1002,762,805,998,938,1101,1062,1221,1307,1185,1923,1273,1311,1348,1606,1675,1495,1819,1606,1441,2009,2744,1961,1874,2385,2403,2150,2383,2780,2461,3313,3083,2776,2703,2716,4024,3052,2922,4210,3271,4508,3095,3898,3594,3382,5083,3737,3563,4059,4111,3958,3679,6691,4204,4162,4309,5339,4995,4227,5660,4571,6175,4462,5230,4655,4521,6978,5250,4521,5532,5622,7321,4667,5951,5185,5135,6156,6660,5194,6247,6595,6582,8490,6194,6645,5787,6396,7050,6461,5932,6078,9347,5971,6282,7602,6359,8021,6392,7162,7135,6395,9773,5979,5871,5808,6311,7384,5616,7233,5931,5104,5210,5497,8113,5193,6241,4828,5574,4826,5266,5480,4492,7641,4767,4773,4637,5361,5777,4519,5638,5666,4634,7286,5053,4825,4457,5859,5695,4741,4810,6000,4320,4735,5510,6957,4725,4513,4654,4979,4038,4995,4468,4185,5240,4083,3438,3293,4518,4828,3525,4245,4824,4516,5560,4736,4013,3837,3848,4918,3865,3835,4803,4081,4003,5449,4079,3733,3537,4851,3769,3641,3478,3319,3502,2113,2130,1389,671,335,63,18]},\"selected\":{\"id\":\"80278\"},\"selection_policy\":{\"id\":\"80277\"}},\"id\":\"79140\",\"type\":\"ColumnDataSource\"},{\"attributes\":{\"text\":\"Casos de COVID19 en M\\u00e9xico\"},\"id\":\"77856\",\"type\":\"Title\"},{\"attributes\":{\"months\":[0,6]},\"id\":\"79037\",\"type\":\"MonthsTicker\"},{\"attributes\":{},\"id\":\"77858\",\"type\":\"DataRange1d\"},{\"attributes\":{\"axis\":{\"id\":\"77870\"},\"dimension\":1,\"ticker\":null},\"id\":\"77873\",\"type\":\"Grid\"},{\"attributes\":{},\"id\":\"79023\",\"type\":\"BasicTickFormatter\"},{\"attributes\":{},\"id\":\"79038\",\"type\":\"YearsTicker\"},{\"attributes\":{},\"id\":\"77878\",\"type\":\"ResetTool\"},{\"attributes\":{\"mantissas\":[1,2,5],\"max_interval\":500.0,\"num_minor_ticks\":0},\"id\":\"79027\",\"type\":\"AdaptiveTicker\"},{\"attributes\":{},\"id\":\"77862\",\"type\":\"LinearScale\"},{\"attributes\":{\"fill_color\":{\"value\":\"red\"},\"line_color\":{\"value\":\"red\"},\"size\":{\"units\":\"screen\",\"value\":13},\"x\":{\"field\":\"x\"},\"y\":{\"field\":\"y\"}},\"id\":\"79141\",\"type\":\"Cross\"},{\"attributes\":{\"fill_alpha\":{\"value\":0.1},\"fill_color\":{\"value\":\"#1f77b4\"},\"line_alpha\":{\"value\":0.1},\"line_color\":{\"value\":\"#1f77b4\"},\"size\":{\"units\":\"screen\",\"value\":7},\"x\":{\"field\":\"x\"},\"y\":{\"field\":\"y\"}},\"id\":\"77890\",\"type\":\"Circle\"},{\"attributes\":{\"days\":[1,4,7,10,13,16,19,22,25,28]},\"id\":\"79031\",\"type\":\"DaysTicker\"},{\"attributes\":{},\"id\":\"77879\",\"type\":\"HelpTool\"},{\"attributes\":{\"bottom_units\":\"screen\",\"fill_alpha\":0.5,\"fill_color\":\"lightgrey\",\"left_units\":\"screen\",\"level\":\"overlay\",\"line_alpha\":1.0,\"line_color\":\"black\",\"line_dash\":[4,4],\"line_width\":2,\"right_units\":\"screen\",\"top_units\":\"screen\"},\"id\":\"77880\",\"type\":\"BoxAnnotation\"},{\"attributes\":{\"fill_color\":{\"value\":\"#1f77b4\"},\"line_color\":{\"value\":\"#1f77b4\"},\"size\":{\"units\":\"screen\",\"value\":7},\"x\":{\"field\":\"x\"},\"y\":{\"field\":\"y\"}},\"id\":\"77889\",\"type\":\"Circle\"},{\"attributes\":{\"overlay\":{\"id\":\"77880\"}},\"id\":\"77876\",\"type\":\"BoxZoomTool\"},{\"attributes\":{\"data_source\":{\"id\":\"77888\"},\"glyph\":{\"id\":\"77889\"},\"hover_glyph\":null,\"muted_glyph\":null,\"nonselection_glyph\":{\"id\":\"77890\"},\"selection_glyph\":null,\"view\":{\"id\":\"77892\"}},\"id\":\"77891\",\"type\":\"GlyphRenderer\"},{\"attributes\":{\"base\":24,\"mantissas\":[1,2,4,6,8,12],\"max_interval\":43200000.0,\"min_interval\":3600000.0,\"num_minor_ticks\":0},\"id\":\"79029\",\"type\":\"AdaptiveTicker\"},{\"attributes\":{\"days\":[1,2,3,4,5,6,7,8,9,10,11,12,13,14,15,16,17,18,19,20,21,22,23,24,25,26,27,28,29,30,31]},\"id\":\"79030\",\"type\":\"DaysTicker\"},{\"attributes\":{\"months\":[0,1,2,3,4,5,6,7,8,9,10,11]},\"id\":\"79034\",\"type\":\"MonthsTicker\"},{\"attributes\":{\"months\":[0,4,8]},\"id\":\"79036\",\"type\":\"MonthsTicker\"},{\"attributes\":{\"data\":{\"x\":{\"__ndarray__\":\"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\",\"dtype\":\"float64\",\"order\":\"little\",\"shape\":[245]},\"y\":[1,1,1,1,1,1,2,1,3,2,2,2,2,2,8,9,8,8,7,11,21,21,66,51,51,88,101,99,107,135,139,133,127,205,141,149,229,191,223,273,299,285,271,400,316,487,452,460,463,449,603,527,647,650,1002,762,805,998,938,1101,1062,1221,1307,1185,1923,1273,1311,1348,1606,1675,1495,1819,1606,1441,2009,2744,1961,1874,2385,2403,2150,2383,2780,2461,3313,3083,2776,2703,2716,4024,3052,2922,4210,3271,4508,3095,3898,3594,3382,5083,3737,3563,4059,4111,3958,3679,6691,4204,4162,4309,5339,4995,4227,5660,4571,6175,4462,5230,4655,4521,6978,5250,4521,5532,5622,7321,4667,5951,5185,5135,6156,6660,5194,6247,6595,6582,8490,6194,6645,5787,6396,7050,6461,5932,6078,9347,5971,6282,7602,6359,8021,6392,7162,7135,6395,9773,5979,5871,5808,6311,7384,5616,7233,5931,5104,5210,5497,8113,5193,6241,4828,5574,4826,5266,5480,4492,7641,4767,4773,4637,5361,5777,4519,5638,5666,4634,7286,5053,4825,4457,5859,5695,4741,4810,6000,4320,4735,5510,6957,4725,4513,4654,4979,4038,4995,4468,4185,5240,4083,3438,3293,4518,4828,3525,4245,4824,4516,5560,4736,4013,3837,3848,4918,3865,3835,4803,4081,4003,5449,4079,3733,3537,4851,3769,3641,3478,3319,3502,2113,2130,1389,671,335,63,18]},\"selected\":{\"id\":\"79026\"},\"selection_policy\":{\"id\":\"79025\"}},\"id\":\"77888\",\"type\":\"ColumnDataSource\"},{\"attributes\":{},\"id\":\"77864\",\"type\":\"LinearScale\"},{\"attributes\":{},\"id\":\"77875\",\"type\":\"WheelZoomTool\"},{\"attributes\":{},\"id\":\"79021\",\"type\":\"DatetimeTickFormatter\"},{\"attributes\":{\"base\":60,\"mantissas\":[1,2,5,10,15,20,30],\"max_interval\":1800000.0,\"min_interval\":1000.0,\"num_minor_ticks\":0},\"id\":\"79028\",\"type\":\"AdaptiveTicker\"},{\"attributes\":{\"data_source\":{\"id\":\"79140\"},\"glyph\":{\"id\":\"79141\"},\"hover_glyph\":null,\"muted_glyph\":null,\"nonselection_glyph\":{\"id\":\"79142\"},\"selection_glyph\":null,\"view\":{\"id\":\"79144\"}},\"id\":\"79143\",\"type\":\"GlyphRenderer\"}],\"root_ids\":[\"77855\"]},\"title\":\"Bokeh Application\",\"version\":\"2.2.1\"}};\n  var render_items = [{\"docid\":\"3f5a36a9-c620-48b7-9708-f6b738aea8e9\",\"root_ids\":[\"77855\"],\"roots\":{\"77855\":\"1322e42a-bbc2-4d5c-b35f-c1f9d8d3b6de\"}}];\n  root.Bokeh.embed.embed_items_notebook(docs_json, render_items);\n\n  }\n  if (root.Bokeh !== undefined) {\n    embed_document(root);\n  } else {\n    var attempts = 0;\n    var timer = setInterval(function(root) {\n      if (root.Bokeh !== undefined) {\n        clearInterval(timer);\n        embed_document(root);\n      } else {\n        attempts++;\n        if (attempts > 100) {\n          clearInterval(timer);\n          console.log(\"Bokeh: ERROR: Unable to run BokehJS code because BokehJS library is missing\");\n        }\n      }\n    }, 10, root)\n  }\n})(window);",
      "application/vnd.bokehjs_exec.v0+json": ""
     },
     "metadata": {
      "application/vnd.bokehjs_exec.v0+json": {
       "id": "77855"
      }
     }
    }
   ],
   "source": [
    "bpl.show(p)"
   ]
  },
  {
   "cell_type": "code",
   "execution_count": 211,
   "metadata": {},
   "outputs": [
    {
     "output_type": "display_data",
     "data": {
      "text/html": "\n\n\n\n\n\n  <div class=\"bk-root\" id=\"5bfe47e9-c448-4efe-a9b2-ba7be7512861\" data-root-id=\"80404\"></div>\n"
     },
     "metadata": {}
    },
    {
     "output_type": "display_data",
     "data": {
      "application/javascript": "(function(root) {\n  function embed_document(root) {\n    \n  var docs_json = {\"3324c533-6491-4d57-9bbb-ab5a9ba9bfb1\":{\"roots\":{\"references\":[{\"attributes\":{\"below\":[{\"id\":\"80415\"}],\"center\":[{\"id\":\"80418\"},{\"id\":\"80422\"}],\"left\":[{\"id\":\"80419\"}],\"plot_width\":800,\"renderers\":[{\"id\":\"80440\"}],\"title\":{\"id\":\"80405\"},\"toolbar\":{\"id\":\"80430\"},\"x_range\":{\"id\":\"80407\"},\"x_scale\":{\"id\":\"80411\"},\"y_range\":{\"id\":\"80409\"},\"y_scale\":{\"id\":\"80413\"}},\"id\":\"80404\",\"subtype\":\"Figure\",\"type\":\"Plot\"},{\"attributes\":{\"base\":60,\"mantissas\":[1,2,5,10,15,20,30],\"max_interval\":1800000.0,\"min_interval\":1000.0,\"num_minor_ticks\":0},\"id\":\"81597\",\"type\":\"AdaptiveTicker\"},{\"attributes\":{\"axis\":{\"id\":\"80419\"},\"dimension\":1,\"ticker\":null},\"id\":\"80422\",\"type\":\"Grid\"},{\"attributes\":{\"axis\":{\"id\":\"80415\"},\"ticker\":null},\"id\":\"80418\",\"type\":\"Grid\"},{\"attributes\":{\"mantissas\":[1,2,5],\"max_interval\":500.0,\"num_minor_ticks\":0},\"id\":\"81596\",\"type\":\"AdaptiveTicker\"},{\"attributes\":{},\"id\":\"81595\",\"type\":\"Selection\"},{\"attributes\":{\"bottom_units\":\"screen\",\"fill_alpha\":0.5,\"fill_color\":\"lightgrey\",\"left_units\":\"screen\",\"level\":\"overlay\",\"line_alpha\":1.0,\"line_color\":\"black\",\"line_dash\":[4,4],\"line_width\":2,\"right_units\":\"screen\",\"top_units\":\"screen\"},\"id\":\"80429\",\"type\":\"BoxAnnotation\"},{\"attributes\":{\"days\":[1,8,15,22]},\"id\":\"81601\",\"type\":\"DaysTicker\"},{\"attributes\":{\"days\":[1,2,3,4,5,6,7,8,9,10,11,12,13,14,15,16,17,18,19,20,21,22,23,24,25,26,27,28,29,30,31]},\"id\":\"81599\",\"type\":\"DaysTicker\"},{\"attributes\":{\"months\":[0,2,4,6,8,10]},\"id\":\"81604\",\"type\":\"MonthsTicker\"},{\"attributes\":{\"formatter\":{\"id\":\"81592\"},\"ticker\":{\"id\":\"80420\"}},\"id\":\"80419\",\"type\":\"LinearAxis\"},{\"attributes\":{\"formatter\":{\"id\":\"81590\"},\"ticker\":{\"id\":\"80416\"}},\"id\":\"80415\",\"type\":\"DatetimeAxis\"},{\"attributes\":{},\"id\":\"80426\",\"type\":\"SaveTool\"},{\"attributes\":{\"source\":{\"id\":\"80437\"}},\"id\":\"80441\",\"type\":\"CDSView\"},{\"attributes\":{\"months\":[0,6]},\"id\":\"81606\",\"type\":\"MonthsTicker\"},{\"attributes\":{},\"id\":\"80409\",\"type\":\"DataRange1d\"},{\"attributes\":{},\"id\":\"80424\",\"type\":\"WheelZoomTool\"},{\"attributes\":{},\"id\":\"81594\",\"type\":\"UnionRenderers\"},{\"attributes\":{\"months\":[0,4,8]},\"id\":\"81605\",\"type\":\"MonthsTicker\"},{\"attributes\":{},\"id\":\"80423\",\"type\":\"PanTool\"},{\"attributes\":{},\"id\":\"81607\",\"type\":\"YearsTicker\"},{\"attributes\":{\"data_source\":{\"id\":\"80437\"},\"glyph\":{\"id\":\"80438\"},\"hover_glyph\":null,\"muted_glyph\":null,\"nonselection_glyph\":{\"id\":\"80439\"},\"selection_glyph\":null,\"view\":{\"id\":\"80441\"}},\"id\":\"80440\",\"type\":\"GlyphRenderer\"},{\"attributes\":{\"num_minor_ticks\":5,\"tickers\":[{\"id\":\"81596\"},{\"id\":\"81597\"},{\"id\":\"81598\"},{\"id\":\"81599\"},{\"id\":\"81600\"},{\"id\":\"81601\"},{\"id\":\"81602\"},{\"id\":\"81603\"},{\"id\":\"81604\"},{\"id\":\"81605\"},{\"id\":\"81606\"},{\"id\":\"81607\"}]},\"id\":\"80416\",\"type\":\"DatetimeTicker\"},{\"attributes\":{},\"id\":\"80427\",\"type\":\"ResetTool\"},{\"attributes\":{\"data\":{\"x\":{\"__ndarray__\":\"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\",\"dtype\":\"float64\",\"order\":\"little\",\"shape\":[245]},\"y\":[1,1,1,1,1,1,2,1,3,2,2,2,2,2,8,9,8,8,7,11,21,21,66,51,51,88,101,99,107,135,139,133,127,205,141,149,229,191,223,273,299,285,271,400,316,487,452,460,463,449,603,527,647,650,1002,762,805,998,938,1101,1062,1221,1307,1185,1923,1273,1311,1348,1606,1675,1495,1819,1606,1441,2009,2744,1961,1874,2385,2403,2150,2383,2780,2461,3313,3083,2776,2703,2716,4024,3052,2922,4210,3271,4508,3095,3898,3594,3382,5083,3737,3563,4059,4111,3958,3679,6691,4204,4162,4309,5339,4995,4227,5660,4571,6175,4462,5230,4655,4521,6978,5250,4521,5532,5622,7321,4667,5951,5185,5135,6156,6660,5194,6247,6595,6582,8490,6194,6645,5787,6396,7050,6461,5932,6078,9347,5971,6282,7602,6359,8021,6392,7162,7135,6395,9773,5979,5871,5808,6311,7384,5616,7233,5931,5104,5210,5497,8113,5193,6241,4828,5574,4826,5266,5480,4492,7641,4767,4773,4637,5361,5777,4519,5638,5666,4634,7286,5053,4825,4457,5859,5695,4741,4810,6000,4320,4735,5510,6957,4725,4513,4654,4979,4038,4995,4468,4185,5240,4083,3438,3293,4518,4828,3525,4245,4824,4516,5560,4736,4013,3837,3848,4918,3865,3835,4803,4081,4003,5449,4079,3733,3537,4851,3769,3641,3478,3319,3502,2113,2130,1389,671,335,63,18]},\"selected\":{\"id\":\"81595\"},\"selection_policy\":{\"id\":\"81594\"}},\"id\":\"80437\",\"type\":\"ColumnDataSource\"},{\"attributes\":{},\"id\":\"80428\",\"type\":\"HelpTool\"},{\"attributes\":{\"active_drag\":\"auto\",\"active_inspect\":\"auto\",\"active_multi\":null,\"active_scroll\":\"auto\",\"active_tap\":\"auto\",\"tools\":[{\"id\":\"80423\"},{\"id\":\"80424\"},{\"id\":\"80425\"},{\"id\":\"80426\"},{\"id\":\"80427\"},{\"id\":\"80428\"}]},\"id\":\"80430\",\"type\":\"Toolbar\"},{\"attributes\":{},\"id\":\"80420\",\"type\":\"BasicTicker\"},{\"attributes\":{},\"id\":\"80407\",\"type\":\"DataRange1d\"},{\"attributes\":{\"days\":[1,4,7,10,13,16,19,22,25,28]},\"id\":\"81600\",\"type\":\"DaysTicker\"},{\"attributes\":{\"text\":\"Casos de COVID19 en M\\u00e9xico\"},\"id\":\"80405\",\"type\":\"Title\"},{\"attributes\":{\"base\":24,\"mantissas\":[1,2,4,6,8,12],\"max_interval\":43200000.0,\"min_interval\":3600000.0,\"num_minor_ticks\":0},\"id\":\"81598\",\"type\":\"AdaptiveTicker\"},{\"attributes\":{\"days\":[1,15]},\"id\":\"81602\",\"type\":\"DaysTicker\"},{\"attributes\":{},\"id\":\"81590\",\"type\":\"DatetimeTickFormatter\"},{\"attributes\":{\"fill_alpha\":{\"value\":0.1},\"fill_color\":{\"value\":\"red\"},\"line_alpha\":{\"value\":0.1},\"line_color\":{\"value\":\"red\"},\"size\":{\"units\":\"screen\",\"value\":13},\"x\":{\"field\":\"x\"},\"y\":{\"field\":\"y\"}},\"id\":\"80439\",\"type\":\"Cross\"},{\"attributes\":{\"overlay\":{\"id\":\"80429\"}},\"id\":\"80425\",\"type\":\"BoxZoomTool\"},{\"attributes\":{},\"id\":\"81592\",\"type\":\"BasicTickFormatter\"},{\"attributes\":{\"fill_color\":{\"value\":\"red\"},\"line_color\":{\"value\":\"red\"},\"size\":{\"units\":\"screen\",\"value\":13},\"x\":{\"field\":\"x\"},\"y\":{\"field\":\"y\"}},\"id\":\"80438\",\"type\":\"Cross\"},{\"attributes\":{},\"id\":\"80413\",\"type\":\"LinearScale\"},{\"attributes\":{\"months\":[0,1,2,3,4,5,6,7,8,9,10,11]},\"id\":\"81603\",\"type\":\"MonthsTicker\"},{\"attributes\":{},\"id\":\"80411\",\"type\":\"LinearScale\"}],\"root_ids\":[\"80404\"]},\"title\":\"Bokeh Application\",\"version\":\"2.2.1\"}};\n  var render_items = [{\"docid\":\"3324c533-6491-4d57-9bbb-ab5a9ba9bfb1\",\"root_ids\":[\"80404\"],\"roots\":{\"80404\":\"5bfe47e9-c448-4efe-a9b2-ba7be7512861\"}}];\n  root.Bokeh.embed.embed_items_notebook(docs_json, render_items);\n\n  }\n  if (root.Bokeh !== undefined) {\n    embed_document(root);\n  } else {\n    var attempts = 0;\n    var timer = setInterval(function(root) {\n      if (root.Bokeh !== undefined) {\n        clearInterval(timer);\n        embed_document(root);\n      } else {\n        attempts++;\n        if (attempts > 100) {\n          clearInterval(timer);\n          console.log(\"Bokeh: ERROR: Unable to run BokehJS code because BokehJS library is missing\");\n        }\n      }\n    }, 10, root)\n  }\n})(window);",
      "application/vnd.bokehjs_exec.v0+json": ""
     },
     "metadata": {
      "application/vnd.bokehjs_exec.v0+json": {
       "id": "80404"
      }
     }
    }
   ],
   "source": [
    "p = bpl.figure(x_axis_type=\"datetime\", plot_width=800, plot_height=600, title=\"Casos de COVID19 en México\")\n",
    "p.cross(x=confirmados_por_fecha[\"fecha_sintomas\"], y=confirmados_por_fecha[\"confirmados\"],color=\"red\",size=13)\n",
    "bpl.show(p)"
   ]
  },
  {
   "source": [
    "Vamos a cambiar a algun marcador relleno y hablemos de las partes y colores de un marcador. Los marcadores tienen línea y relleno o fill y se pueden controlar de forma independiente. Los colores se pueden representar en varios formatos. Esencialmente cada color está compuesto por 3 números entre 0 y 255, cada uno correspondiente a los canales rojo, verde y azul además de un número que va de 0 a 1 y que controla la transparencia o alpha. Conseguir paletas de colores buenas es muy importante, existen muchos sitios para obtener palettas de colores, por ejemplo [Colorhunt](https://colorhunt.co/). Una manera compacta de escribir colores es a traves del formato hexadecimal. Es una cadena compuesta por 6 dígitos, donde  cada dos dígitos representan un número en hexadecimal que está asociado a alguno de los canales de color, para especificar que estamos usando este formato se usa el símbolo #. El formato para los canales es #RRGGBB."
   ],
   "cell_type": "markdown",
   "metadata": {}
  },
  {
   "cell_type": "code",
   "execution_count": 212,
   "metadata": {},
   "outputs": [
    {
     "output_type": "display_data",
     "data": {
      "text/html": "\n\n\n\n\n\n  <div class=\"bk-root\" id=\"746e0067-d079-466e-8f91-1bf6ccc85b57\" data-root-id=\"81709\"></div>\n"
     },
     "metadata": {}
    },
    {
     "output_type": "display_data",
     "data": {
      "application/javascript": "(function(root) {\n  function embed_document(root) {\n    \n  var docs_json = {\"f190d4a1-9e26-4e01-94c5-6a7745496f34\":{\"roots\":{\"references\":[{\"attributes\":{\"below\":[{\"id\":\"81720\"}],\"center\":[{\"id\":\"81723\"},{\"id\":\"81727\"}],\"left\":[{\"id\":\"81724\"}],\"plot_width\":800,\"renderers\":[{\"id\":\"81745\"}],\"title\":{\"id\":\"81710\"},\"toolbar\":{\"id\":\"81735\"},\"x_range\":{\"id\":\"81712\"},\"x_scale\":{\"id\":\"81716\"},\"y_range\":{\"id\":\"81714\"},\"y_scale\":{\"id\":\"81718\"}},\"id\":\"81709\",\"subtype\":\"Figure\",\"type\":\"Plot\"},{\"attributes\":{\"overlay\":{\"id\":\"81734\"}},\"id\":\"81730\",\"type\":\"BoxZoomTool\"},{\"attributes\":{},\"id\":\"82919\",\"type\":\"UnionRenderers\"},{\"attributes\":{},\"id\":\"82917\",\"type\":\"BasicTickFormatter\"},{\"attributes\":{\"data_source\":{\"id\":\"81742\"},\"glyph\":{\"id\":\"81743\"},\"hover_glyph\":null,\"muted_glyph\":null,\"nonselection_glyph\":{\"id\":\"81744\"},\"selection_glyph\":null,\"view\":{\"id\":\"81746\"}},\"id\":\"81745\",\"type\":\"GlyphRenderer\"},{\"attributes\":{\"source\":{\"id\":\"81742\"}},\"id\":\"81746\",\"type\":\"CDSView\"},{\"attributes\":{\"fill_alpha\":{\"value\":0.1},\"fill_color\":{\"value\":\"#f5a25d\"},\"line_alpha\":{\"value\":0.1},\"line_color\":{\"value\":\"#070d59\"},\"line_width\":{\"value\":2},\"size\":{\"units\":\"screen\",\"value\":20},\"x\":{\"field\":\"x\"},\"y\":{\"field\":\"y\"}},\"id\":\"81744\",\"type\":\"Circle\"},{\"attributes\":{},\"id\":\"81716\",\"type\":\"LinearScale\"},{\"attributes\":{},\"id\":\"81718\",\"type\":\"LinearScale\"},{\"attributes\":{},\"id\":\"81733\",\"type\":\"HelpTool\"},{\"attributes\":{\"active_drag\":\"auto\",\"active_inspect\":\"auto\",\"active_multi\":null,\"active_scroll\":\"auto\",\"active_tap\":\"auto\",\"tools\":[{\"id\":\"81728\"},{\"id\":\"81729\"},{\"id\":\"81730\"},{\"id\":\"81731\"},{\"id\":\"81732\"},{\"id\":\"81733\"}]},\"id\":\"81735\",\"type\":\"Toolbar\"},{\"attributes\":{\"num_minor_ticks\":5,\"tickers\":[{\"id\":\"82921\"},{\"id\":\"82922\"},{\"id\":\"82923\"},{\"id\":\"82924\"},{\"id\":\"82925\"},{\"id\":\"82926\"},{\"id\":\"82927\"},{\"id\":\"82928\"},{\"id\":\"82929\"},{\"id\":\"82930\"},{\"id\":\"82931\"},{\"id\":\"82932\"}]},\"id\":\"81721\",\"type\":\"DatetimeTicker\"},{\"attributes\":{\"text\":\"Casos de COVID19 en M\\u00e9xico\"},\"id\":\"81710\",\"type\":\"Title\"},{\"attributes\":{\"base\":60,\"mantissas\":[1,2,5,10,15,20,30],\"max_interval\":1800000.0,\"min_interval\":1000.0,\"num_minor_ticks\":0},\"id\":\"82922\",\"type\":\"AdaptiveTicker\"},{\"attributes\":{\"months\":[0,1,2,3,4,5,6,7,8,9,10,11]},\"id\":\"82928\",\"type\":\"MonthsTicker\"},{\"attributes\":{},\"id\":\"81732\",\"type\":\"ResetTool\"},{\"attributes\":{\"axis\":{\"id\":\"81724\"},\"dimension\":1,\"ticker\":null},\"id\":\"81727\",\"type\":\"Grid\"},{\"attributes\":{},\"id\":\"81729\",\"type\":\"WheelZoomTool\"},{\"attributes\":{},\"id\":\"81731\",\"type\":\"SaveTool\"},{\"attributes\":{\"days\":[1,15]},\"id\":\"82927\",\"type\":\"DaysTicker\"},{\"attributes\":{\"formatter\":{\"id\":\"82915\"},\"ticker\":{\"id\":\"81721\"}},\"id\":\"81720\",\"type\":\"DatetimeAxis\"},{\"attributes\":{\"months\":[0,6]},\"id\":\"82931\",\"type\":\"MonthsTicker\"},{\"attributes\":{},\"id\":\"81714\",\"type\":\"DataRange1d\"},{\"attributes\":{\"formatter\":{\"id\":\"82917\"},\"ticker\":{\"id\":\"81725\"}},\"id\":\"81724\",\"type\":\"LinearAxis\"},{\"attributes\":{},\"id\":\"81728\",\"type\":\"PanTool\"},{\"attributes\":{\"months\":[0,4,8]},\"id\":\"82930\",\"type\":\"MonthsTicker\"},{\"attributes\":{},\"id\":\"82920\",\"type\":\"Selection\"},{\"attributes\":{},\"id\":\"82915\",\"type\":\"DatetimeTickFormatter\"},{\"attributes\":{\"axis\":{\"id\":\"81720\"},\"ticker\":null},\"id\":\"81723\",\"type\":\"Grid\"},{\"attributes\":{\"days\":[1,4,7,10,13,16,19,22,25,28]},\"id\":\"82925\",\"type\":\"DaysTicker\"},{\"attributes\":{\"data\":{\"x\":{\"__ndarray__\":\"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\",\"dtype\":\"float64\",\"order\":\"little\",\"shape\":[245]},\"y\":[1,1,1,1,1,1,2,1,3,2,2,2,2,2,8,9,8,8,7,11,21,21,66,51,51,88,101,99,107,135,139,133,127,205,141,149,229,191,223,273,299,285,271,400,316,487,452,460,463,449,603,527,647,650,1002,762,805,998,938,1101,1062,1221,1307,1185,1923,1273,1311,1348,1606,1675,1495,1819,1606,1441,2009,2744,1961,1874,2385,2403,2150,2383,2780,2461,3313,3083,2776,2703,2716,4024,3052,2922,4210,3271,4508,3095,3898,3594,3382,5083,3737,3563,4059,4111,3958,3679,6691,4204,4162,4309,5339,4995,4227,5660,4571,6175,4462,5230,4655,4521,6978,5250,4521,5532,5622,7321,4667,5951,5185,5135,6156,6660,5194,6247,6595,6582,8490,6194,6645,5787,6396,7050,6461,5932,6078,9347,5971,6282,7602,6359,8021,6392,7162,7135,6395,9773,5979,5871,5808,6311,7384,5616,7233,5931,5104,5210,5497,8113,5193,6241,4828,5574,4826,5266,5480,4492,7641,4767,4773,4637,5361,5777,4519,5638,5666,4634,7286,5053,4825,4457,5859,5695,4741,4810,6000,4320,4735,5510,6957,4725,4513,4654,4979,4038,4995,4468,4185,5240,4083,3438,3293,4518,4828,3525,4245,4824,4516,5560,4736,4013,3837,3848,4918,3865,3835,4803,4081,4003,5449,4079,3733,3537,4851,3769,3641,3478,3319,3502,2113,2130,1389,671,335,63,18]},\"selected\":{\"id\":\"82920\"},\"selection_policy\":{\"id\":\"82919\"}},\"id\":\"81742\",\"type\":\"ColumnDataSource\"},{\"attributes\":{\"mantissas\":[1,2,5],\"max_interval\":500.0,\"num_minor_ticks\":0},\"id\":\"82921\",\"type\":\"AdaptiveTicker\"},{\"attributes\":{},\"id\":\"81712\",\"type\":\"DataRange1d\"},{\"attributes\":{},\"id\":\"81725\",\"type\":\"BasicTicker\"},{\"attributes\":{\"days\":[1,2,3,4,5,6,7,8,9,10,11,12,13,14,15,16,17,18,19,20,21,22,23,24,25,26,27,28,29,30,31]},\"id\":\"82924\",\"type\":\"DaysTicker\"},{\"attributes\":{\"base\":24,\"mantissas\":[1,2,4,6,8,12],\"max_interval\":43200000.0,\"min_interval\":3600000.0,\"num_minor_ticks\":0},\"id\":\"82923\",\"type\":\"AdaptiveTicker\"},{\"attributes\":{\"bottom_units\":\"screen\",\"fill_alpha\":0.5,\"fill_color\":\"lightgrey\",\"left_units\":\"screen\",\"level\":\"overlay\",\"line_alpha\":1.0,\"line_color\":\"black\",\"line_dash\":[4,4],\"line_width\":2,\"right_units\":\"screen\",\"top_units\":\"screen\"},\"id\":\"81734\",\"type\":\"BoxAnnotation\"},{\"attributes\":{\"months\":[0,2,4,6,8,10]},\"id\":\"82929\",\"type\":\"MonthsTicker\"},{\"attributes\":{\"fill_alpha\":{\"value\":0.5},\"fill_color\":{\"value\":\"#f5a25d\"},\"line_color\":{\"value\":\"#070d59\"},\"line_width\":{\"value\":2},\"size\":{\"units\":\"screen\",\"value\":20},\"x\":{\"field\":\"x\"},\"y\":{\"field\":\"y\"}},\"id\":\"81743\",\"type\":\"Circle\"},{\"attributes\":{\"days\":[1,8,15,22]},\"id\":\"82926\",\"type\":\"DaysTicker\"},{\"attributes\":{},\"id\":\"82932\",\"type\":\"YearsTicker\"}],\"root_ids\":[\"81709\"]},\"title\":\"Bokeh Application\",\"version\":\"2.2.1\"}};\n  var render_items = [{\"docid\":\"f190d4a1-9e26-4e01-94c5-6a7745496f34\",\"root_ids\":[\"81709\"],\"roots\":{\"81709\":\"746e0067-d079-466e-8f91-1bf6ccc85b57\"}}];\n  root.Bokeh.embed.embed_items_notebook(docs_json, render_items);\n\n  }\n  if (root.Bokeh !== undefined) {\n    embed_document(root);\n  } else {\n    var attempts = 0;\n    var timer = setInterval(function(root) {\n      if (root.Bokeh !== undefined) {\n        clearInterval(timer);\n        embed_document(root);\n      } else {\n        attempts++;\n        if (attempts > 100) {\n          clearInterval(timer);\n          console.log(\"Bokeh: ERROR: Unable to run BokehJS code because BokehJS library is missing\");\n        }\n      }\n    }, 10, root)\n  }\n})(window);",
      "application/vnd.bokehjs_exec.v0+json": ""
     },
     "metadata": {
      "application/vnd.bokehjs_exec.v0+json": {
       "id": "81709"
      }
     }
    }
   ],
   "source": [
    "p = bpl.figure(x_axis_type=\"datetime\", plot_width=800, plot_height=600, title=\"Casos de COVID19 en México\")\n",
    "p.circle(x=confirmados_por_fecha[\"fecha_sintomas\"], y=confirmados_por_fecha[\"confirmados\"],line_color=\"#070d59\",line_width=2,line_alpha=1, fill_color=\"#f5a25d\", fill_alpha=0.5,size=20)\n",
    "bpl.show(p)"
   ]
  },
  {
   "source": [
    "Podemos graficar con líneas en vez de marcadores. Cuando graficamos líneas debemos tener cuidado de que nuestros datos estén ordenados pues Bokeh los conecta de forma secuencial. Podemos ordenar un DataFrame con la función sort_values() y la opción inplace=True para reescribirlos."
   ],
   "cell_type": "markdown",
   "metadata": {}
  },
  {
   "cell_type": "code",
   "execution_count": 213,
   "metadata": {},
   "outputs": [],
   "source": [
    "confirmados_por_fecha.sort_values(\"confirmados\",inplace=True)"
   ]
  },
  {
   "source": [
    "p = bpl.figure(x_axis_type=\"datetime\", plot_width=800, plot_height=600, title=\"Casos de COVID19 en México\")\n",
    "p.line(x=confirmados_por_fecha[\"fecha_sintomas\"], y=confirmados_por_fecha[\"confirmados\"],line_color=\"#070d59\",line_width=2,line_alpha=1)\n",
    "bpl.show(p)"
   ],
   "cell_type": "code",
   "metadata": {},
   "execution_count": 214,
   "outputs": [
    {
     "output_type": "display_data",
     "data": {
      "text/html": "\n\n\n\n\n\n  <div class=\"bk-root\" id=\"79ed824d-b80a-4421-90f3-eb46862dda92\" data-root-id=\"83034\"></div>\n"
     },
     "metadata": {}
    },
    {
     "output_type": "display_data",
     "data": {
      "application/javascript": "(function(root) {\n  function embed_document(root) {\n    \n  var docs_json = {\"9c1c48df-1fcd-4961-ab5d-5843586acd21\":{\"roots\":{\"references\":[{\"attributes\":{\"below\":[{\"id\":\"83045\"}],\"center\":[{\"id\":\"83048\"},{\"id\":\"83052\"}],\"left\":[{\"id\":\"83049\"}],\"plot_width\":800,\"renderers\":[{\"id\":\"83070\"}],\"title\":{\"id\":\"83035\"},\"toolbar\":{\"id\":\"83060\"},\"x_range\":{\"id\":\"83037\"},\"x_scale\":{\"id\":\"83041\"},\"y_range\":{\"id\":\"83039\"},\"y_scale\":{\"id\":\"83043\"}},\"id\":\"83034\",\"subtype\":\"Figure\",\"type\":\"Plot\"},{\"attributes\":{\"axis\":{\"id\":\"83045\"},\"ticker\":null},\"id\":\"83048\",\"type\":\"Grid\"},{\"attributes\":{\"days\":[1,15]},\"id\":\"84272\",\"type\":\"DaysTicker\"},{\"attributes\":{\"text\":\"Casos de COVID19 en M\\u00e9xico\"},\"id\":\"83035\",\"type\":\"Title\"},{\"attributes\":{\"months\":[0,4,8]},\"id\":\"84275\",\"type\":\"MonthsTicker\"},{\"attributes\":{\"num_minor_ticks\":5,\"tickers\":[{\"id\":\"84266\"},{\"id\":\"84267\"},{\"id\":\"84268\"},{\"id\":\"84269\"},{\"id\":\"84270\"},{\"id\":\"84271\"},{\"id\":\"84272\"},{\"id\":\"84273\"},{\"id\":\"84274\"},{\"id\":\"84275\"},{\"id\":\"84276\"},{\"id\":\"84277\"}]},\"id\":\"83046\",\"type\":\"DatetimeTicker\"},{\"attributes\":{\"base\":24,\"mantissas\":[1,2,4,6,8,12],\"max_interval\":43200000.0,\"min_interval\":3600000.0,\"num_minor_ticks\":0},\"id\":\"84268\",\"type\":\"AdaptiveTicker\"},{\"attributes\":{},\"id\":\"84265\",\"type\":\"Selection\"},{\"attributes\":{\"line_alpha\":0.1,\"line_color\":\"#070d59\",\"line_width\":2,\"x\":{\"field\":\"x\"},\"y\":{\"field\":\"y\"}},\"id\":\"83069\",\"type\":\"Line\"},{\"attributes\":{},\"id\":\"83043\",\"type\":\"LinearScale\"},{\"attributes\":{},\"id\":\"83041\",\"type\":\"LinearScale\"},{\"attributes\":{\"overlay\":{\"id\":\"83059\"}},\"id\":\"83055\",\"type\":\"BoxZoomTool\"},{\"attributes\":{},\"id\":\"83057\",\"type\":\"ResetTool\"},{\"attributes\":{\"active_drag\":\"auto\",\"active_inspect\":\"auto\",\"active_multi\":null,\"active_scroll\":\"auto\",\"active_tap\":\"auto\",\"tools\":[{\"id\":\"83053\"},{\"id\":\"83054\"},{\"id\":\"83055\"},{\"id\":\"83056\"},{\"id\":\"83057\"},{\"id\":\"83058\"}]},\"id\":\"83060\",\"type\":\"Toolbar\"},{\"attributes\":{\"data_source\":{\"id\":\"83067\"},\"glyph\":{\"id\":\"83068\"},\"hover_glyph\":null,\"muted_glyph\":null,\"nonselection_glyph\":{\"id\":\"83069\"},\"selection_glyph\":null,\"view\":{\"id\":\"83071\"}},\"id\":\"83070\",\"type\":\"GlyphRenderer\"},{\"attributes\":{\"line_color\":\"#070d59\",\"line_width\":2,\"x\":{\"field\":\"x\"},\"y\":{\"field\":\"y\"}},\"id\":\"83068\",\"type\":\"Line\"},{\"attributes\":{\"source\":{\"id\":\"83067\"}},\"id\":\"83071\",\"type\":\"CDSView\"},{\"attributes\":{},\"id\":\"84264\",\"type\":\"UnionRenderers\"},{\"attributes\":{\"bottom_units\":\"screen\",\"fill_alpha\":0.5,\"fill_color\":\"lightgrey\",\"left_units\":\"screen\",\"level\":\"overlay\",\"line_alpha\":1.0,\"line_color\":\"black\",\"line_dash\":[4,4],\"line_width\":2,\"right_units\":\"screen\",\"top_units\":\"screen\"},\"id\":\"83059\",\"type\":\"BoxAnnotation\"},{\"attributes\":{},\"id\":\"84260\",\"type\":\"DatetimeTickFormatter\"},{\"attributes\":{},\"id\":\"83056\",\"type\":\"SaveTool\"},{\"attributes\":{},\"id\":\"83054\",\"type\":\"WheelZoomTool\"},{\"attributes\":{\"mantissas\":[1,2,5],\"max_interval\":500.0,\"num_minor_ticks\":0},\"id\":\"84266\",\"type\":\"AdaptiveTicker\"},{\"attributes\":{\"days\":[1,2,3,4,5,6,7,8,9,10,11,12,13,14,15,16,17,18,19,20,21,22,23,24,25,26,27,28,29,30,31]},\"id\":\"84269\",\"type\":\"DaysTicker\"},{\"attributes\":{},\"id\":\"83058\",\"type\":\"HelpTool\"},{\"attributes\":{},\"id\":\"84277\",\"type\":\"YearsTicker\"},{\"attributes\":{\"formatter\":{\"id\":\"84260\"},\"ticker\":{\"id\":\"83046\"}},\"id\":\"83045\",\"type\":\"DatetimeAxis\"},{\"attributes\":{\"days\":[1,8,15,22]},\"id\":\"84271\",\"type\":\"DaysTicker\"},{\"attributes\":{\"months\":[0,1,2,3,4,5,6,7,8,9,10,11]},\"id\":\"84273\",\"type\":\"MonthsTicker\"},{\"attributes\":{},\"id\":\"83037\",\"type\":\"DataRange1d\"},{\"attributes\":{\"base\":60,\"mantissas\":[1,2,5,10,15,20,30],\"max_interval\":1800000.0,\"min_interval\":1000.0,\"num_minor_ticks\":0},\"id\":\"84267\",\"type\":\"AdaptiveTicker\"},{\"attributes\":{},\"id\":\"84262\",\"type\":\"BasicTickFormatter\"},{\"attributes\":{\"days\":[1,4,7,10,13,16,19,22,25,28]},\"id\":\"84270\",\"type\":\"DaysTicker\"},{\"attributes\":{\"months\":[0,6]},\"id\":\"84276\",\"type\":\"MonthsTicker\"},{\"attributes\":{\"data\":{\"x\":{\"__ndarray__\":\"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\",\"dtype\":\"float64\",\"order\":\"little\",\"shape\":[245]},\"y\":[1,1,1,1,1,1,1,2,2,2,2,2,2,3,7,8,8,8,9,11,18,21,21,51,51,63,66,88,99,101,107,127,133,135,139,141,149,191,205,223,229,271,273,285,299,316,335,400,449,452,460,463,487,527,603,647,650,671,762,805,938,998,1002,1062,1101,1185,1221,1273,1307,1311,1348,1389,1441,1495,1606,1606,1675,1819,1874,1923,1961,2009,2113,2130,2150,2383,2385,2403,2461,2703,2716,2744,2776,2780,2922,3052,3083,3095,3271,3293,3313,3319,3382,3438,3478,3502,3525,3537,3563,3594,3641,3679,3733,3737,3769,3835,3837,3848,3865,3898,3958,4003,4013,4024,4038,4059,4079,4081,4083,4111,4162,4185,4204,4210,4227,4245,4309,4320,4457,4462,4468,4492,4508,4513,4516,4518,4519,4521,4521,4571,4634,4637,4654,4655,4667,4725,4735,4736,4741,4767,4773,4803,4810,4824,4825,4826,4828,4828,4851,4918,4979,4995,4995,5053,5083,5104,5135,5185,5193,5194,5210,5230,5240,5250,5266,5339,5361,5449,5480,5497,5510,5532,5560,5574,5616,5622,5638,5660,5666,5695,5777,5787,5808,5859,5871,5931,5932,5951,5971,5979,6000,6078,6156,6175,6194,6241,6247,6282,6311,6359,6392,6395,6396,6461,6582,6595,6645,6660,6691,6957,6978,7050,7135,7162,7233,7286,7321,7384,7602,7641,8021,8113,8490,9347,9773]},\"selected\":{\"id\":\"84265\"},\"selection_policy\":{\"id\":\"84264\"}},\"id\":\"83067\",\"type\":\"ColumnDataSource\"},{\"attributes\":{},\"id\":\"83039\",\"type\":\"DataRange1d\"},{\"attributes\":{},\"id\":\"83053\",\"type\":\"PanTool\"},{\"attributes\":{},\"id\":\"83050\",\"type\":\"BasicTicker\"},{\"attributes\":{\"months\":[0,2,4,6,8,10]},\"id\":\"84274\",\"type\":\"MonthsTicker\"},{\"attributes\":{\"axis\":{\"id\":\"83049\"},\"dimension\":1,\"ticker\":null},\"id\":\"83052\",\"type\":\"Grid\"},{\"attributes\":{\"formatter\":{\"id\":\"84262\"},\"ticker\":{\"id\":\"83050\"}},\"id\":\"83049\",\"type\":\"LinearAxis\"}],\"root_ids\":[\"83034\"]},\"title\":\"Bokeh Application\",\"version\":\"2.2.1\"}};\n  var render_items = [{\"docid\":\"9c1c48df-1fcd-4961-ab5d-5843586acd21\",\"root_ids\":[\"83034\"],\"roots\":{\"83034\":\"79ed824d-b80a-4421-90f3-eb46862dda92\"}}];\n  root.Bokeh.embed.embed_items_notebook(docs_json, render_items);\n\n  }\n  if (root.Bokeh !== undefined) {\n    embed_document(root);\n  } else {\n    var attempts = 0;\n    var timer = setInterval(function(root) {\n      if (root.Bokeh !== undefined) {\n        clearInterval(timer);\n        embed_document(root);\n      } else {\n        attempts++;\n        if (attempts > 100) {\n          clearInterval(timer);\n          console.log(\"Bokeh: ERROR: Unable to run BokehJS code because BokehJS library is missing\");\n        }\n      }\n    }, 10, root)\n  }\n})(window);",
      "application/vnd.bokehjs_exec.v0+json": ""
     },
     "metadata": {
      "application/vnd.bokehjs_exec.v0+json": {
       "id": "83034"
      }
     }
    }
   ]
  },
  {
   "cell_type": "code",
   "execution_count": 215,
   "metadata": {},
   "outputs": [],
   "source": [
    "confirmados_por_fecha.sort_values(\"fecha_sintomas\",inplace=True)"
   ]
  },
  {
   "cell_type": "code",
   "execution_count": 217,
   "metadata": {},
   "outputs": [
    {
     "output_type": "display_data",
     "data": {
      "text/html": "\n\n\n\n\n\n  <div class=\"bk-root\" id=\"ac407ba3-343b-4b2e-9baf-1ccd9b629408\" data-root-id=\"84412\"></div>\n"
     },
     "metadata": {}
    },
    {
     "output_type": "display_data",
     "data": {
      "application/javascript": "(function(root) {\n  function embed_document(root) {\n    \n  var docs_json = {\"8bf3669b-c303-4552-a5c7-b11bcb600c41\":{\"roots\":{\"references\":[{\"attributes\":{\"below\":[{\"id\":\"84423\"}],\"center\":[{\"id\":\"84426\"},{\"id\":\"84430\"}],\"left\":[{\"id\":\"84427\"}],\"plot_width\":800,\"renderers\":[{\"id\":\"84448\"}],\"title\":{\"id\":\"84413\"},\"toolbar\":{\"id\":\"84438\"},\"x_range\":{\"id\":\"84415\"},\"x_scale\":{\"id\":\"84419\"},\"y_range\":{\"id\":\"84417\"},\"y_scale\":{\"id\":\"84421\"}},\"id\":\"84412\",\"subtype\":\"Figure\",\"type\":\"Plot\"},{\"attributes\":{\"months\":[0,4,8]},\"id\":\"85673\",\"type\":\"MonthsTicker\"},{\"attributes\":{\"months\":[0,1,2,3,4,5,6,7,8,9,10,11]},\"id\":\"85671\",\"type\":\"MonthsTicker\"},{\"attributes\":{},\"id\":\"84428\",\"type\":\"BasicTicker\"},{\"attributes\":{\"source\":{\"id\":\"84445\"}},\"id\":\"84449\",\"type\":\"CDSView\"},{\"attributes\":{},\"id\":\"84431\",\"type\":\"PanTool\"},{\"attributes\":{\"formatter\":{\"id\":\"85658\"},\"ticker\":{\"id\":\"84424\"}},\"id\":\"84423\",\"type\":\"DatetimeAxis\"},{\"attributes\":{\"base\":24,\"mantissas\":[1,2,4,6,8,12],\"max_interval\":43200000.0,\"min_interval\":3600000.0,\"num_minor_ticks\":0},\"id\":\"85666\",\"type\":\"AdaptiveTicker\"},{\"attributes\":{},\"id\":\"84436\",\"type\":\"HelpTool\"},{\"attributes\":{\"data\":{\"x\":{\"__ndarray__\":\"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\",\"dtype\":\"float64\",\"order\":\"little\",\"shape\":[245]},\"y\":[1,1,1,1,1,1,2,1,3,2,2,2,2,2,8,9,8,8,7,11,21,21,66,51,51,88,101,99,107,135,139,133,127,205,141,149,229,191,223,273,299,285,271,400,316,487,452,460,463,449,603,527,647,650,1002,762,805,998,938,1101,1062,1221,1307,1185,1923,1273,1311,1348,1606,1675,1495,1819,1606,1441,2009,2744,1961,1874,2385,2403,2150,2383,2780,2461,3313,3083,2776,2703,2716,4024,3052,2922,4210,3271,4508,3095,3898,3594,3382,5083,3737,3563,4059,4111,3958,3679,6691,4204,4162,4309,5339,4995,4227,5660,4571,6175,4462,5230,4655,4521,6978,5250,4521,5532,5622,7321,4667,5951,5185,5135,6156,6660,5194,6247,6595,6582,8490,6194,6645,5787,6396,7050,6461,5932,6078,9347,5971,6282,7602,6359,8021,6392,7162,7135,6395,9773,5979,5871,5808,6311,7384,5616,7233,5931,5104,5210,5497,8113,5193,6241,4828,5574,4826,5266,5480,4492,7641,4767,4773,4637,5361,5777,4519,5638,5666,4634,7286,5053,4825,4457,5859,5695,4741,4810,6000,4320,4735,5510,6957,4725,4513,4654,4979,4038,4995,4468,4185,5240,4083,3438,3293,4518,4828,3525,4245,4824,4516,5560,4736,4013,3837,3848,4918,3865,3835,4803,4081,4003,5449,4079,3733,3537,4851,3769,3641,3478,3319,3502,2113,2130,1389,671,335,63,18]},\"selected\":{\"id\":\"85663\"},\"selection_policy\":{\"id\":\"85662\"}},\"id\":\"84445\",\"type\":\"ColumnDataSource\"},{\"attributes\":{\"line_alpha\":0.1,\"line_color\":\"#070d59\",\"line_width\":2,\"x\":{\"field\":\"x\"},\"y\":{\"field\":\"y\"}},\"id\":\"84447\",\"type\":\"Line\"},{\"attributes\":{},\"id\":\"84421\",\"type\":\"LinearScale\"},{\"attributes\":{\"data_source\":{\"id\":\"84445\"},\"glyph\":{\"id\":\"84446\"},\"hover_glyph\":null,\"muted_glyph\":null,\"nonselection_glyph\":{\"id\":\"84447\"},\"selection_glyph\":null,\"view\":{\"id\":\"84449\"}},\"id\":\"84448\",\"type\":\"GlyphRenderer\"},{\"attributes\":{\"days\":[1,2,3,4,5,6,7,8,9,10,11,12,13,14,15,16,17,18,19,20,21,22,23,24,25,26,27,28,29,30,31]},\"id\":\"85667\",\"type\":\"DaysTicker\"},{\"attributes\":{},\"id\":\"85660\",\"type\":\"BasicTickFormatter\"},{\"attributes\":{\"base\":60,\"mantissas\":[1,2,5,10,15,20,30],\"max_interval\":1800000.0,\"min_interval\":1000.0,\"num_minor_ticks\":0},\"id\":\"85665\",\"type\":\"AdaptiveTicker\"},{\"attributes\":{\"num_minor_ticks\":5,\"tickers\":[{\"id\":\"85664\"},{\"id\":\"85665\"},{\"id\":\"85666\"},{\"id\":\"85667\"},{\"id\":\"85668\"},{\"id\":\"85669\"},{\"id\":\"85670\"},{\"id\":\"85671\"},{\"id\":\"85672\"},{\"id\":\"85673\"},{\"id\":\"85674\"},{\"id\":\"85675\"}]},\"id\":\"84424\",\"type\":\"DatetimeTicker\"},{\"attributes\":{\"days\":[1,15]},\"id\":\"85670\",\"type\":\"DaysTicker\"},{\"attributes\":{\"line_color\":\"#070d59\",\"line_width\":2,\"x\":{\"field\":\"x\"},\"y\":{\"field\":\"y\"}},\"id\":\"84446\",\"type\":\"Line\"},{\"attributes\":{\"mantissas\":[1,2,5],\"max_interval\":500.0,\"num_minor_ticks\":0},\"id\":\"85664\",\"type\":\"AdaptiveTicker\"},{\"attributes\":{\"months\":[0,2,4,6,8,10]},\"id\":\"85672\",\"type\":\"MonthsTicker\"},{\"attributes\":{},\"id\":\"84432\",\"type\":\"WheelZoomTool\"},{\"attributes\":{\"axis\":{\"id\":\"84427\"},\"dimension\":1,\"ticker\":null},\"id\":\"84430\",\"type\":\"Grid\"},{\"attributes\":{},\"id\":\"84435\",\"type\":\"ResetTool\"},{\"attributes\":{\"axis\":{\"id\":\"84423\"},\"ticker\":null},\"id\":\"84426\",\"type\":\"Grid\"},{\"attributes\":{},\"id\":\"85663\",\"type\":\"Selection\"},{\"attributes\":{\"months\":[0,6]},\"id\":\"85674\",\"type\":\"MonthsTicker\"},{\"attributes\":{},\"id\":\"84415\",\"type\":\"DataRange1d\"},{\"attributes\":{\"days\":[1,4,7,10,13,16,19,22,25,28]},\"id\":\"85668\",\"type\":\"DaysTicker\"},{\"attributes\":{\"bottom_units\":\"screen\",\"fill_alpha\":0.5,\"fill_color\":\"lightgrey\",\"left_units\":\"screen\",\"level\":\"overlay\",\"line_alpha\":1.0,\"line_color\":\"black\",\"line_dash\":[4,4],\"line_width\":2,\"right_units\":\"screen\",\"top_units\":\"screen\"},\"id\":\"84437\",\"type\":\"BoxAnnotation\"},{\"attributes\":{},\"id\":\"84419\",\"type\":\"LinearScale\"},{\"attributes\":{\"active_drag\":\"auto\",\"active_inspect\":\"auto\",\"active_multi\":null,\"active_scroll\":\"auto\",\"active_tap\":\"auto\",\"tools\":[{\"id\":\"84431\"},{\"id\":\"84432\"},{\"id\":\"84433\"},{\"id\":\"84434\"},{\"id\":\"84435\"},{\"id\":\"84436\"}]},\"id\":\"84438\",\"type\":\"Toolbar\"},{\"attributes\":{},\"id\":\"84434\",\"type\":\"SaveTool\"},{\"attributes\":{},\"id\":\"85675\",\"type\":\"YearsTicker\"},{\"attributes\":{\"overlay\":{\"id\":\"84437\"}},\"id\":\"84433\",\"type\":\"BoxZoomTool\"},{\"attributes\":{},\"id\":\"84417\",\"type\":\"DataRange1d\"},{\"attributes\":{\"formatter\":{\"id\":\"85660\"},\"ticker\":{\"id\":\"84428\"}},\"id\":\"84427\",\"type\":\"LinearAxis\"},{\"attributes\":{},\"id\":\"85658\",\"type\":\"DatetimeTickFormatter\"},{\"attributes\":{\"text\":\"Casos de COVID19 en M\\u00e9xico\"},\"id\":\"84413\",\"type\":\"Title\"},{\"attributes\":{},\"id\":\"85662\",\"type\":\"UnionRenderers\"},{\"attributes\":{\"days\":[1,8,15,22]},\"id\":\"85669\",\"type\":\"DaysTicker\"}],\"root_ids\":[\"84412\"]},\"title\":\"Bokeh Application\",\"version\":\"2.2.1\"}};\n  var render_items = [{\"docid\":\"8bf3669b-c303-4552-a5c7-b11bcb600c41\",\"root_ids\":[\"84412\"],\"roots\":{\"84412\":\"ac407ba3-343b-4b2e-9baf-1ccd9b629408\"}}];\n  root.Bokeh.embed.embed_items_notebook(docs_json, render_items);\n\n  }\n  if (root.Bokeh !== undefined) {\n    embed_document(root);\n  } else {\n    var attempts = 0;\n    var timer = setInterval(function(root) {\n      if (root.Bokeh !== undefined) {\n        clearInterval(timer);\n        embed_document(root);\n      } else {\n        attempts++;\n        if (attempts > 100) {\n          clearInterval(timer);\n          console.log(\"Bokeh: ERROR: Unable to run BokehJS code because BokehJS library is missing\");\n        }\n      }\n    }, 10, root)\n  }\n})(window);",
      "application/vnd.bokehjs_exec.v0+json": ""
     },
     "metadata": {
      "application/vnd.bokehjs_exec.v0+json": {
       "id": "84412"
      }
     }
    }
   ],
   "source": [
    "p = bpl.figure(x_axis_type=\"datetime\", plot_width=800, plot_height=600, title=\"Casos de COVID19 en México\")\n",
    "p.line(x=confirmados_por_fecha[\"fecha_sintomas\"], y=confirmados_por_fecha[\"confirmados\"],line_color=\"#070d59\",line_width=2,line_alpha=1)\n",
    "bpl.show(p)"
   ]
  },
  {
   "source": [
    "Podemos agregar líneas para otros DataFrames, por ejemplo podemos hacer una gráfica compuesta con los casos confirmados, los casos sospechosos y las defunciones. Solamente necesitamos agregar 3 glifos de tipo línea. También podemos agregar a cada uno la leyenda que lo identifique."
   ],
   "cell_type": "markdown",
   "metadata": {}
  },
  {
   "cell_type": "code",
   "execution_count": 218,
   "metadata": {},
   "outputs": [
    {
     "output_type": "display_data",
     "data": {
      "text/html": "\n\n\n\n\n\n  <div class=\"bk-root\" id=\"8d02e21b-3401-4320-9184-c49b50265408\" data-root-id=\"85777\"></div>\n"
     },
     "metadata": {}
    },
    {
     "output_type": "display_data",
     "data": {
      "application/javascript": "(function(root) {\n  function embed_document(root) {\n    \n  var docs_json = {\"0e1fb407-b0cc-499c-808d-177dbe6f2579\":{\"roots\":{\"references\":[{\"attributes\":{\"below\":[{\"id\":\"85788\"}],\"center\":[{\"id\":\"85791\"},{\"id\":\"85795\"},{\"id\":\"85835\"}],\"left\":[{\"id\":\"85792\"}],\"plot_width\":800,\"renderers\":[{\"id\":\"85813\"},{\"id\":\"85840\"},{\"id\":\"85868\"}],\"title\":{\"id\":\"85778\"},\"toolbar\":{\"id\":\"85803\"},\"x_range\":{\"id\":\"85780\"},\"x_scale\":{\"id\":\"85784\"},\"y_range\":{\"id\":\"85782\"},\"y_scale\":{\"id\":\"85786\"}},\"id\":\"85777\",\"subtype\":\"Figure\",\"type\":\"Plot\"},{\"attributes\":{\"formatter\":{\"id\":\"85816\"},\"ticker\":{\"id\":\"85789\"}},\"id\":\"85788\",\"type\":\"DatetimeAxis\"},{\"attributes\":{\"months\":[0,6]},\"id\":\"85832\",\"type\":\"MonthsTicker\"},{\"attributes\":{},\"id\":\"85793\",\"type\":\"BasicTicker\"},{\"attributes\":{\"mantissas\":[1,2,5],\"max_interval\":500.0,\"num_minor_ticks\":0},\"id\":\"85822\",\"type\":\"AdaptiveTicker\"},{\"attributes\":{},\"id\":\"85879\",\"type\":\"UnionRenderers\"},{\"attributes\":{\"base\":24,\"mantissas\":[1,2,4,6,8,12],\"max_interval\":43200000.0,\"min_interval\":3600000.0,\"num_minor_ticks\":0},\"id\":\"85824\",\"type\":\"AdaptiveTicker\"},{\"attributes\":{\"axis\":{\"id\":\"85788\"},\"ticker\":null},\"id\":\"85791\",\"type\":\"Grid\"},{\"attributes\":{\"data_source\":{\"id\":\"85865\"},\"glyph\":{\"id\":\"85866\"},\"hover_glyph\":null,\"muted_glyph\":null,\"nonselection_glyph\":{\"id\":\"85867\"},\"selection_glyph\":null,\"view\":{\"id\":\"85869\"}},\"id\":\"85868\",\"type\":\"GlyphRenderer\"},{\"attributes\":{\"line_alpha\":0.1,\"line_color\":\"#edc988\",\"line_width\":2,\"x\":{\"field\":\"x\"},\"y\":{\"field\":\"y\"}},\"id\":\"85867\",\"type\":\"Line\"},{\"attributes\":{\"months\":[0,2,4,6,8,10]},\"id\":\"85830\",\"type\":\"MonthsTicker\"},{\"attributes\":{\"num_minor_ticks\":5,\"tickers\":[{\"id\":\"85822\"},{\"id\":\"85823\"},{\"id\":\"85824\"},{\"id\":\"85825\"},{\"id\":\"85826\"},{\"id\":\"85827\"},{\"id\":\"85828\"},{\"id\":\"85829\"},{\"id\":\"85830\"},{\"id\":\"85831\"},{\"id\":\"85832\"},{\"id\":\"85833\"}]},\"id\":\"85789\",\"type\":\"DatetimeTicker\"},{\"attributes\":{},\"id\":\"85833\",\"type\":\"YearsTicker\"},{\"attributes\":{},\"id\":\"85784\",\"type\":\"LinearScale\"},{\"attributes\":{\"line_color\":\"#edc988\",\"line_width\":2,\"x\":{\"field\":\"x\"},\"y\":{\"field\":\"y\"}},\"id\":\"85866\",\"type\":\"Line\"},{\"attributes\":{\"months\":[0,4,8]},\"id\":\"85831\",\"type\":\"MonthsTicker\"},{\"attributes\":{\"formatter\":{\"id\":\"85818\"},\"ticker\":{\"id\":\"85793\"}},\"id\":\"85792\",\"type\":\"LinearAxis\"},{\"attributes\":{\"source\":{\"id\":\"85865\"}},\"id\":\"85869\",\"type\":\"CDSView\"},{\"attributes\":{},\"id\":\"85797\",\"type\":\"WheelZoomTool\"},{\"attributes\":{},\"id\":\"85801\",\"type\":\"HelpTool\"},{\"attributes\":{\"active_drag\":\"auto\",\"active_inspect\":\"auto\",\"active_multi\":null,\"active_scroll\":\"auto\",\"active_tap\":\"auto\",\"tools\":[{\"id\":\"85796\"},{\"id\":\"85797\"},{\"id\":\"85798\"},{\"id\":\"85799\"},{\"id\":\"85800\"},{\"id\":\"85801\"}]},\"id\":\"85803\",\"type\":\"Toolbar\"},{\"attributes\":{},\"id\":\"85821\",\"type\":\"Selection\"},{\"attributes\":{\"source\":{\"id\":\"85837\"}},\"id\":\"85841\",\"type\":\"CDSView\"},{\"attributes\":{},\"id\":\"85786\",\"type\":\"LinearScale\"},{\"attributes\":{},\"id\":\"85820\",\"type\":\"UnionRenderers\"},{\"attributes\":{\"base\":60,\"mantissas\":[1,2,5,10,15,20,30],\"max_interval\":1800000.0,\"min_interval\":1000.0,\"num_minor_ticks\":0},\"id\":\"85823\",\"type\":\"AdaptiveTicker\"},{\"attributes\":{\"days\":[1,8,15,22]},\"id\":\"85827\",\"type\":\"DaysTicker\"},{\"attributes\":{},\"id\":\"85816\",\"type\":\"DatetimeTickFormatter\"},{\"attributes\":{},\"id\":\"85780\",\"type\":\"DataRange1d\"},{\"attributes\":{\"days\":[1,4,7,10,13,16,19,22,25,28]},\"id\":\"85826\",\"type\":\"DaysTicker\"},{\"attributes\":{\"source\":{\"id\":\"85810\"}},\"id\":\"85814\",\"type\":\"CDSView\"},{\"attributes\":{\"line_alpha\":0.1,\"line_color\":\"#070d59\",\"line_width\":2,\"x\":{\"field\":\"x\"},\"y\":{\"field\":\"y\"}},\"id\":\"85839\",\"type\":\"Line\"},{\"attributes\":{},\"id\":\"85818\",\"type\":\"BasicTickFormatter\"},{\"attributes\":{\"days\":[1,15]},\"id\":\"85828\",\"type\":\"DaysTicker\"},{\"attributes\":{},\"id\":\"85782\",\"type\":\"DataRange1d\"},{\"attributes\":{\"label\":{\"value\":\"Casos sospechosos\"},\"renderers\":[{\"id\":\"85868\"}]},\"id\":\"85894\",\"type\":\"LegendItem\"},{\"attributes\":{\"data_source\":{\"id\":\"85837\"},\"glyph\":{\"id\":\"85838\"},\"hover_glyph\":null,\"muted_glyph\":null,\"nonselection_glyph\":{\"id\":\"85839\"},\"selection_glyph\":null,\"view\":{\"id\":\"85841\"}},\"id\":\"85840\",\"type\":\"GlyphRenderer\"},{\"attributes\":{},\"id\":\"85880\",\"type\":\"Selection\"},{\"attributes\":{\"line_color\":\"#070d59\",\"line_width\":2,\"x\":{\"field\":\"x\"},\"y\":{\"field\":\"y\"}},\"id\":\"85838\",\"type\":\"Line\"},{\"attributes\":{\"days\":[1,2,3,4,5,6,7,8,9,10,11,12,13,14,15,16,17,18,19,20,21,22,23,24,25,26,27,28,29,30,31]},\"id\":\"85825\",\"type\":\"DaysTicker\"},{\"attributes\":{},\"id\":\"85796\",\"type\":\"PanTool\"},{\"attributes\":{},\"id\":\"85850\",\"type\":\"Selection\"},{\"attributes\":{\"data\":{\"x\":{\"__ndarray__\":\"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\",\"dtype\":\"float64\",\"order\":\"little\",\"shape\":[245]},\"y\":[1,1,1,1,1,1,2,1,3,2,2,2,2,2,8,9,8,8,7,11,21,21,66,51,51,88,101,99,107,135,139,133,127,205,141,149,229,191,223,273,299,285,271,400,316,487,452,460,463,449,603,527,647,650,1002,762,805,998,938,1101,1062,1221,1307,1185,1923,1273,1311,1348,1606,1675,1495,1819,1606,1441,2009,2744,1961,1874,2385,2403,2150,2383,2780,2461,3313,3083,2776,2703,2716,4024,3052,2922,4210,3271,4508,3095,3898,3594,3382,5083,3737,3563,4059,4111,3958,3679,6691,4204,4162,4309,5339,4995,4227,5660,4571,6175,4462,5230,4655,4521,6978,5250,4521,5532,5622,7321,4667,5951,5185,5135,6156,6660,5194,6247,6595,6582,8490,6194,6645,5787,6396,7050,6461,5932,6078,9347,5971,6282,7602,6359,8021,6392,7162,7135,6395,9773,5979,5871,5808,6311,7384,5616,7233,5931,5104,5210,5497,8113,5193,6241,4828,5574,4826,5266,5480,4492,7641,4767,4773,4637,5361,5777,4519,5638,5666,4634,7286,5053,4825,4457,5859,5695,4741,4810,6000,4320,4735,5510,6957,4725,4513,4654,4979,4038,4995,4468,4185,5240,4083,3438,3293,4518,4828,3525,4245,4824,4516,5560,4736,4013,3837,3848,4918,3865,3835,4803,4081,4003,5449,4079,3733,3537,4851,3769,3641,3478,3319,3502,2113,2130,1389,671,335,63,18]},\"selected\":{\"id\":\"85821\"},\"selection_policy\":{\"id\":\"85820\"}},\"id\":\"85810\",\"type\":\"ColumnDataSource\"},{\"attributes\":{\"line_alpha\":0.1,\"line_color\":\"#d7385e\",\"line_width\":2,\"x\":{\"field\":\"x\"},\"y\":{\"field\":\"y\"}},\"id\":\"85812\",\"type\":\"Line\"},{\"attributes\":{\"label\":{\"value\":\"Casos confirmados\"},\"renderers\":[{\"id\":\"85813\"}]},\"id\":\"85836\",\"type\":\"LegendItem\"},{\"attributes\":{},\"id\":\"85849\",\"type\":\"UnionRenderers\"},{\"attributes\":{\"bottom_units\":\"screen\",\"fill_alpha\":0.5,\"fill_color\":\"lightgrey\",\"left_units\":\"screen\",\"level\":\"overlay\",\"line_alpha\":1.0,\"line_color\":\"black\",\"line_dash\":[4,4],\"line_width\":2,\"right_units\":\"screen\",\"top_units\":\"screen\"},\"id\":\"85802\",\"type\":\"BoxAnnotation\"},{\"attributes\":{\"data\":{\"x\":{\"__ndarray__\":\"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\",\"dtype\":\"float64\",\"order\":\"little\",\"shape\":[228]},\"y\":[1,1,1,1,2,3,2,3,2,3,1,7,6,11,15,14,14,16,30,25,27,43,34,42,51,49,54,60,74,68,100,99,103,90,81,121,122,156,124,203,149,183,221,192,247,228,264,309,268,400,265,270,286,357,351,314,376,322,285,404,551,337,335,432,486,404,436,508,425,682,540,438,447,451,590,468,464,607,507,686,456,559,547,520,713,532,521,595,531,550,610,1010,593,550,593,650,651,564,708,629,778,527,661,523,580,823,586,540,635,643,805,558,672,573,620,649,697,575,714,672,717,994,724,713,635,679,710,719,647,593,897,590,658,689,620,760,632,697,666,635,972,537,592,594,610,685,552,693,544,490,489,502,752,441,607,443,496,435,451,478,394,634,413,363,418,459,479,372,448,426,385,589,359,358,345,413,400,347,357,445,279,352,400,483,331,304,351,346,301,325,315,269,394,277,246,235,282,280,277,240,259,234,308,282,219,211,186,240,167,197,207,170,148,223,134,117,114,88,82,80,58,53,45,24,22,5,7,1]},\"selected\":{\"id\":\"85850\"},\"selection_policy\":{\"id\":\"85849\"}},\"id\":\"85837\",\"type\":\"ColumnDataSource\"},{\"attributes\":{\"data\":{\"x\":{\"__ndarray__\":\"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\",\"dtype\":\"float64\",\"order\":\"little\",\"shape\":[292]},\"y\":[133,114,113,107,164,182,174,147,152,154,147,217,312,260,253,206,162,179,281,312,246,211,193,211,210,268,323,250,217,152,157,199,225,267,280,217,146,166,204,247,306,205,176,154,166,236,252,262,247,211,173,166,222,241,274,240,198,168,187,271,349,321,256,231,189,137,146,248,282,276,225,151,189,203,342,371,365,357,296,450,408,513,897,882,968,895,931,966,1064,1305,1059,1252,863,911,860,856,1053,912,956,868,1096,979,971,1323,1092,1139,1105,1119,1060,1148,1530,1008,921,899,868,858,751,854,702,593,650,948,682,681,734,822,710,669,779,694,994,866,773,776,791,1049,711,812,1141,830,1102,733,821,785,836,1138,804,824,972,813,815,746,1388,928,971,847,989,955,891,1155,915,1225,886,1125,980,960,1486,1165,1007,1322,1307,1940,1438,1892,1510,1681,1586,1828,1409,1387,1645,1547,1848,1345,1205,1014,1246,1420,1233,1110,1097,1492,1198,1012,1275,1153,1292,1145,1154,1053,1063,1565,1070,1052,998,1078,1090,968,1260,953,920,872,975,1342,905,1133,877,1157,855,962,940,882,1555,911,966,936,906,1121,932,1078,1131,733,1156,949,822,808,1065,1123,964,871,1140,787,1015,1271,1437,973,985,934,969,786,1080,874,909,1045,801,792,753,1098,1005,787,989,996,1078,1391,1189,953,867,925,1144,855,981,1287,1235,1418,1809,1365,1173,1251,2089,1640,2132,2324,2705,4882,3446,4868,4381,4668,3952,2680,918,26]},\"selected\":{\"id\":\"85880\"},\"selection_policy\":{\"id\":\"85879\"}},\"id\":\"85865\",\"type\":\"ColumnDataSource\"},{\"attributes\":{\"items\":[{\"id\":\"85836\"},{\"id\":\"85864\"},{\"id\":\"85894\"}]},\"id\":\"85835\",\"type\":\"Legend\"},{\"attributes\":{\"overlay\":{\"id\":\"85802\"}},\"id\":\"85798\",\"type\":\"BoxZoomTool\"},{\"attributes\":{},\"id\":\"85800\",\"type\":\"ResetTool\"},{\"attributes\":{\"axis\":{\"id\":\"85792\"},\"dimension\":1,\"ticker\":null},\"id\":\"85795\",\"type\":\"Grid\"},{\"attributes\":{\"text\":\"Casos de COVID19 en M\\u00e9xico\"},\"id\":\"85778\",\"type\":\"Title\"},{\"attributes\":{\"label\":{\"value\":\"Defunciones\"},\"renderers\":[{\"id\":\"85840\"}]},\"id\":\"85864\",\"type\":\"LegendItem\"},{\"attributes\":{\"months\":[0,1,2,3,4,5,6,7,8,9,10,11]},\"id\":\"85829\",\"type\":\"MonthsTicker\"},{\"attributes\":{\"data_source\":{\"id\":\"85810\"},\"glyph\":{\"id\":\"85811\"},\"hover_glyph\":null,\"muted_glyph\":null,\"nonselection_glyph\":{\"id\":\"85812\"},\"selection_glyph\":null,\"view\":{\"id\":\"85814\"}},\"id\":\"85813\",\"type\":\"GlyphRenderer\"},{\"attributes\":{\"line_color\":\"#d7385e\",\"line_width\":2,\"x\":{\"field\":\"x\"},\"y\":{\"field\":\"y\"}},\"id\":\"85811\",\"type\":\"Line\"},{\"attributes\":{},\"id\":\"85799\",\"type\":\"SaveTool\"}],\"root_ids\":[\"85777\"]},\"title\":\"Bokeh Application\",\"version\":\"2.2.1\"}};\n  var render_items = [{\"docid\":\"0e1fb407-b0cc-499c-808d-177dbe6f2579\",\"root_ids\":[\"85777\"],\"roots\":{\"85777\":\"8d02e21b-3401-4320-9184-c49b50265408\"}}];\n  root.Bokeh.embed.embed_items_notebook(docs_json, render_items);\n\n  }\n  if (root.Bokeh !== undefined) {\n    embed_document(root);\n  } else {\n    var attempts = 0;\n    var timer = setInterval(function(root) {\n      if (root.Bokeh !== undefined) {\n        clearInterval(timer);\n        embed_document(root);\n      } else {\n        attempts++;\n        if (attempts > 100) {\n          clearInterval(timer);\n          console.log(\"Bokeh: ERROR: Unable to run BokehJS code because BokehJS library is missing\");\n        }\n      }\n    }, 10, root)\n  }\n})(window);",
      "application/vnd.bokehjs_exec.v0+json": ""
     },
     "metadata": {
      "application/vnd.bokehjs_exec.v0+json": {
       "id": "85777"
      }
     }
    }
   ],
   "source": [
    "p = bpl.figure(x_axis_type=\"datetime\", plot_width=800, plot_height=600, title=\"Casos de COVID19 en México\")\n",
    "p.line(x=confirmados_por_fecha[\"fecha_sintomas\"], y=confirmados_por_fecha[\"confirmados\"],line_color=\"#d7385e\",line_width=2,line_alpha=1,legend_label=\"Casos confirmados\")\n",
    "p.line(x=defunciones_por_fecha[\"fecha_sintomas\"], y=defunciones_por_fecha[\"defunciones\"],line_color=\"#070d59\",line_width=2,line_alpha=1,legend_label=\"Defunciones\")\n",
    "p.line(x=sospechosos_por_fecha[\"fecha_sintomas\"], y=sospechosos_por_fecha[\"sospechosos\"],line_color=\"#edc988\",line_width=2,line_alpha=1,legend_label=\"Casos sospechosos\")\n",
    "bpl.show(p)"
   ]
  },
  {
   "source": [
    "Agreguemos etiquetas en los ejes"
   ],
   "cell_type": "markdown",
   "metadata": {}
  },
  {
   "cell_type": "code",
   "execution_count": 219,
   "metadata": {},
   "outputs": [],
   "source": [
    "p.xaxis.axis_label = 'Fecha'\n",
    "p.yaxis.axis_label = 'Casos'"
   ]
  },
  {
   "cell_type": "code",
   "execution_count": 220,
   "metadata": {},
   "outputs": [
    {
     "output_type": "display_data",
     "data": {
      "text/html": "\n\n\n\n\n\n  <div class=\"bk-root\" id=\"6a1fa1af-9a5d-4fba-9848-2b3584def800\" data-root-id=\"85777\"></div>\n"
     },
     "metadata": {}
    },
    {
     "output_type": "display_data",
     "data": {
      "application/javascript": "(function(root) {\n  function embed_document(root) {\n    \n  var docs_json = {\"61ab7faa-488d-44bf-9ff1-ab193ea2ab5b\":{\"roots\":{\"references\":[{\"attributes\":{\"below\":[{\"id\":\"85788\"}],\"center\":[{\"id\":\"85791\"},{\"id\":\"85795\"},{\"id\":\"85835\"}],\"left\":[{\"id\":\"85792\"}],\"plot_width\":800,\"renderers\":[{\"id\":\"85813\"},{\"id\":\"85840\"},{\"id\":\"85868\"}],\"title\":{\"id\":\"85778\"},\"toolbar\":{\"id\":\"85803\"},\"x_range\":{\"id\":\"85780\"},\"x_scale\":{\"id\":\"85784\"},\"y_range\":{\"id\":\"85782\"},\"y_scale\":{\"id\":\"85786\"}},\"id\":\"85777\",\"subtype\":\"Figure\",\"type\":\"Plot\"},{\"attributes\":{\"axis_label\":\"Fecha\",\"formatter\":{\"id\":\"85816\"},\"ticker\":{\"id\":\"85789\"}},\"id\":\"85788\",\"type\":\"DatetimeAxis\"},{\"attributes\":{\"months\":[0,6]},\"id\":\"85832\",\"type\":\"MonthsTicker\"},{\"attributes\":{},\"id\":\"85793\",\"type\":\"BasicTicker\"},{\"attributes\":{\"mantissas\":[1,2,5],\"max_interval\":500.0,\"num_minor_ticks\":0},\"id\":\"85822\",\"type\":\"AdaptiveTicker\"},{\"attributes\":{},\"id\":\"85879\",\"type\":\"UnionRenderers\"},{\"attributes\":{\"base\":24,\"mantissas\":[1,2,4,6,8,12],\"max_interval\":43200000.0,\"min_interval\":3600000.0,\"num_minor_ticks\":0},\"id\":\"85824\",\"type\":\"AdaptiveTicker\"},{\"attributes\":{\"axis\":{\"id\":\"85788\"},\"ticker\":null},\"id\":\"85791\",\"type\":\"Grid\"},{\"attributes\":{\"data_source\":{\"id\":\"85865\"},\"glyph\":{\"id\":\"85866\"},\"hover_glyph\":null,\"muted_glyph\":null,\"nonselection_glyph\":{\"id\":\"85867\"},\"selection_glyph\":null,\"view\":{\"id\":\"85869\"}},\"id\":\"85868\",\"type\":\"GlyphRenderer\"},{\"attributes\":{\"line_alpha\":0.1,\"line_color\":\"#edc988\",\"line_width\":2,\"x\":{\"field\":\"x\"},\"y\":{\"field\":\"y\"}},\"id\":\"85867\",\"type\":\"Line\"},{\"attributes\":{\"months\":[0,2,4,6,8,10]},\"id\":\"85830\",\"type\":\"MonthsTicker\"},{\"attributes\":{\"num_minor_ticks\":5,\"tickers\":[{\"id\":\"85822\"},{\"id\":\"85823\"},{\"id\":\"85824\"},{\"id\":\"85825\"},{\"id\":\"85826\"},{\"id\":\"85827\"},{\"id\":\"85828\"},{\"id\":\"85829\"},{\"id\":\"85830\"},{\"id\":\"85831\"},{\"id\":\"85832\"},{\"id\":\"85833\"}]},\"id\":\"85789\",\"type\":\"DatetimeTicker\"},{\"attributes\":{},\"id\":\"85833\",\"type\":\"YearsTicker\"},{\"attributes\":{},\"id\":\"85784\",\"type\":\"LinearScale\"},{\"attributes\":{\"line_color\":\"#edc988\",\"line_width\":2,\"x\":{\"field\":\"x\"},\"y\":{\"field\":\"y\"}},\"id\":\"85866\",\"type\":\"Line\"},{\"attributes\":{\"months\":[0,4,8]},\"id\":\"85831\",\"type\":\"MonthsTicker\"},{\"attributes\":{\"axis_label\":\"Casos\",\"formatter\":{\"id\":\"85818\"},\"ticker\":{\"id\":\"85793\"}},\"id\":\"85792\",\"type\":\"LinearAxis\"},{\"attributes\":{\"source\":{\"id\":\"85865\"}},\"id\":\"85869\",\"type\":\"CDSView\"},{\"attributes\":{},\"id\":\"85797\",\"type\":\"WheelZoomTool\"},{\"attributes\":{},\"id\":\"85801\",\"type\":\"HelpTool\"},{\"attributes\":{\"active_drag\":\"auto\",\"active_inspect\":\"auto\",\"active_multi\":null,\"active_scroll\":\"auto\",\"active_tap\":\"auto\",\"tools\":[{\"id\":\"85796\"},{\"id\":\"85797\"},{\"id\":\"85798\"},{\"id\":\"85799\"},{\"id\":\"85800\"},{\"id\":\"85801\"}]},\"id\":\"85803\",\"type\":\"Toolbar\"},{\"attributes\":{},\"id\":\"85821\",\"type\":\"Selection\"},{\"attributes\":{\"source\":{\"id\":\"85837\"}},\"id\":\"85841\",\"type\":\"CDSView\"},{\"attributes\":{},\"id\":\"85786\",\"type\":\"LinearScale\"},{\"attributes\":{},\"id\":\"85820\",\"type\":\"UnionRenderers\"},{\"attributes\":{\"base\":60,\"mantissas\":[1,2,5,10,15,20,30],\"max_interval\":1800000.0,\"min_interval\":1000.0,\"num_minor_ticks\":0},\"id\":\"85823\",\"type\":\"AdaptiveTicker\"},{\"attributes\":{\"days\":[1,8,15,22]},\"id\":\"85827\",\"type\":\"DaysTicker\"},{\"attributes\":{},\"id\":\"85816\",\"type\":\"DatetimeTickFormatter\"},{\"attributes\":{},\"id\":\"85780\",\"type\":\"DataRange1d\"},{\"attributes\":{\"days\":[1,4,7,10,13,16,19,22,25,28]},\"id\":\"85826\",\"type\":\"DaysTicker\"},{\"attributes\":{\"source\":{\"id\":\"85810\"}},\"id\":\"85814\",\"type\":\"CDSView\"},{\"attributes\":{\"line_alpha\":0.1,\"line_color\":\"#070d59\",\"line_width\":2,\"x\":{\"field\":\"x\"},\"y\":{\"field\":\"y\"}},\"id\":\"85839\",\"type\":\"Line\"},{\"attributes\":{},\"id\":\"85818\",\"type\":\"BasicTickFormatter\"},{\"attributes\":{\"days\":[1,15]},\"id\":\"85828\",\"type\":\"DaysTicker\"},{\"attributes\":{},\"id\":\"85782\",\"type\":\"DataRange1d\"},{\"attributes\":{\"label\":{\"value\":\"Casos sospechosos\"},\"renderers\":[{\"id\":\"85868\"}]},\"id\":\"85894\",\"type\":\"LegendItem\"},{\"attributes\":{\"data_source\":{\"id\":\"85837\"},\"glyph\":{\"id\":\"85838\"},\"hover_glyph\":null,\"muted_glyph\":null,\"nonselection_glyph\":{\"id\":\"85839\"},\"selection_glyph\":null,\"view\":{\"id\":\"85841\"}},\"id\":\"85840\",\"type\":\"GlyphRenderer\"},{\"attributes\":{},\"id\":\"85880\",\"type\":\"Selection\"},{\"attributes\":{\"line_color\":\"#070d59\",\"line_width\":2,\"x\":{\"field\":\"x\"},\"y\":{\"field\":\"y\"}},\"id\":\"85838\",\"type\":\"Line\"},{\"attributes\":{\"days\":[1,2,3,4,5,6,7,8,9,10,11,12,13,14,15,16,17,18,19,20,21,22,23,24,25,26,27,28,29,30,31]},\"id\":\"85825\",\"type\":\"DaysTicker\"},{\"attributes\":{},\"id\":\"85796\",\"type\":\"PanTool\"},{\"attributes\":{},\"id\":\"85850\",\"type\":\"Selection\"},{\"attributes\":{\"data\":{\"x\":{\"__ndarray__\":\"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\",\"dtype\":\"float64\",\"order\":\"little\",\"shape\":[245]},\"y\":[1,1,1,1,1,1,2,1,3,2,2,2,2,2,8,9,8,8,7,11,21,21,66,51,51,88,101,99,107,135,139,133,127,205,141,149,229,191,223,273,299,285,271,400,316,487,452,460,463,449,603,527,647,650,1002,762,805,998,938,1101,1062,1221,1307,1185,1923,1273,1311,1348,1606,1675,1495,1819,1606,1441,2009,2744,1961,1874,2385,2403,2150,2383,2780,2461,3313,3083,2776,2703,2716,4024,3052,2922,4210,3271,4508,3095,3898,3594,3382,5083,3737,3563,4059,4111,3958,3679,6691,4204,4162,4309,5339,4995,4227,5660,4571,6175,4462,5230,4655,4521,6978,5250,4521,5532,5622,7321,4667,5951,5185,5135,6156,6660,5194,6247,6595,6582,8490,6194,6645,5787,6396,7050,6461,5932,6078,9347,5971,6282,7602,6359,8021,6392,7162,7135,6395,9773,5979,5871,5808,6311,7384,5616,7233,5931,5104,5210,5497,8113,5193,6241,4828,5574,4826,5266,5480,4492,7641,4767,4773,4637,5361,5777,4519,5638,5666,4634,7286,5053,4825,4457,5859,5695,4741,4810,6000,4320,4735,5510,6957,4725,4513,4654,4979,4038,4995,4468,4185,5240,4083,3438,3293,4518,4828,3525,4245,4824,4516,5560,4736,4013,3837,3848,4918,3865,3835,4803,4081,4003,5449,4079,3733,3537,4851,3769,3641,3478,3319,3502,2113,2130,1389,671,335,63,18]},\"selected\":{\"id\":\"85821\"},\"selection_policy\":{\"id\":\"85820\"}},\"id\":\"85810\",\"type\":\"ColumnDataSource\"},{\"attributes\":{\"line_alpha\":0.1,\"line_color\":\"#d7385e\",\"line_width\":2,\"x\":{\"field\":\"x\"},\"y\":{\"field\":\"y\"}},\"id\":\"85812\",\"type\":\"Line\"},{\"attributes\":{\"label\":{\"value\":\"Casos confirmados\"},\"renderers\":[{\"id\":\"85813\"}]},\"id\":\"85836\",\"type\":\"LegendItem\"},{\"attributes\":{},\"id\":\"85849\",\"type\":\"UnionRenderers\"},{\"attributes\":{\"bottom_units\":\"screen\",\"fill_alpha\":0.5,\"fill_color\":\"lightgrey\",\"left_units\":\"screen\",\"level\":\"overlay\",\"line_alpha\":1.0,\"line_color\":\"black\",\"line_dash\":[4,4],\"line_width\":2,\"right_units\":\"screen\",\"top_units\":\"screen\"},\"id\":\"85802\",\"type\":\"BoxAnnotation\"},{\"attributes\":{\"data\":{\"x\":{\"__ndarray__\":\"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\",\"dtype\":\"float64\",\"order\":\"little\",\"shape\":[228]},\"y\":[1,1,1,1,2,3,2,3,2,3,1,7,6,11,15,14,14,16,30,25,27,43,34,42,51,49,54,60,74,68,100,99,103,90,81,121,122,156,124,203,149,183,221,192,247,228,264,309,268,400,265,270,286,357,351,314,376,322,285,404,551,337,335,432,486,404,436,508,425,682,540,438,447,451,590,468,464,607,507,686,456,559,547,520,713,532,521,595,531,550,610,1010,593,550,593,650,651,564,708,629,778,527,661,523,580,823,586,540,635,643,805,558,672,573,620,649,697,575,714,672,717,994,724,713,635,679,710,719,647,593,897,590,658,689,620,760,632,697,666,635,972,537,592,594,610,685,552,693,544,490,489,502,752,441,607,443,496,435,451,478,394,634,413,363,418,459,479,372,448,426,385,589,359,358,345,413,400,347,357,445,279,352,400,483,331,304,351,346,301,325,315,269,394,277,246,235,282,280,277,240,259,234,308,282,219,211,186,240,167,197,207,170,148,223,134,117,114,88,82,80,58,53,45,24,22,5,7,1]},\"selected\":{\"id\":\"85850\"},\"selection_policy\":{\"id\":\"85849\"}},\"id\":\"85837\",\"type\":\"ColumnDataSource\"},{\"attributes\":{\"data\":{\"x\":{\"__ndarray__\":\"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\",\"dtype\":\"float64\",\"order\":\"little\",\"shape\":[292]},\"y\":[133,114,113,107,164,182,174,147,152,154,147,217,312,260,253,206,162,179,281,312,246,211,193,211,210,268,323,250,217,152,157,199,225,267,280,217,146,166,204,247,306,205,176,154,166,236,252,262,247,211,173,166,222,241,274,240,198,168,187,271,349,321,256,231,189,137,146,248,282,276,225,151,189,203,342,371,365,357,296,450,408,513,897,882,968,895,931,966,1064,1305,1059,1252,863,911,860,856,1053,912,956,868,1096,979,971,1323,1092,1139,1105,1119,1060,1148,1530,1008,921,899,868,858,751,854,702,593,650,948,682,681,734,822,710,669,779,694,994,866,773,776,791,1049,711,812,1141,830,1102,733,821,785,836,1138,804,824,972,813,815,746,1388,928,971,847,989,955,891,1155,915,1225,886,1125,980,960,1486,1165,1007,1322,1307,1940,1438,1892,1510,1681,1586,1828,1409,1387,1645,1547,1848,1345,1205,1014,1246,1420,1233,1110,1097,1492,1198,1012,1275,1153,1292,1145,1154,1053,1063,1565,1070,1052,998,1078,1090,968,1260,953,920,872,975,1342,905,1133,877,1157,855,962,940,882,1555,911,966,936,906,1121,932,1078,1131,733,1156,949,822,808,1065,1123,964,871,1140,787,1015,1271,1437,973,985,934,969,786,1080,874,909,1045,801,792,753,1098,1005,787,989,996,1078,1391,1189,953,867,925,1144,855,981,1287,1235,1418,1809,1365,1173,1251,2089,1640,2132,2324,2705,4882,3446,4868,4381,4668,3952,2680,918,26]},\"selected\":{\"id\":\"85880\"},\"selection_policy\":{\"id\":\"85879\"}},\"id\":\"85865\",\"type\":\"ColumnDataSource\"},{\"attributes\":{\"items\":[{\"id\":\"85836\"},{\"id\":\"85864\"},{\"id\":\"85894\"}]},\"id\":\"85835\",\"type\":\"Legend\"},{\"attributes\":{\"overlay\":{\"id\":\"85802\"}},\"id\":\"85798\",\"type\":\"BoxZoomTool\"},{\"attributes\":{},\"id\":\"85800\",\"type\":\"ResetTool\"},{\"attributes\":{\"axis\":{\"id\":\"85792\"},\"dimension\":1,\"ticker\":null},\"id\":\"85795\",\"type\":\"Grid\"},{\"attributes\":{\"text\":\"Casos de COVID19 en M\\u00e9xico\"},\"id\":\"85778\",\"type\":\"Title\"},{\"attributes\":{\"label\":{\"value\":\"Defunciones\"},\"renderers\":[{\"id\":\"85840\"}]},\"id\":\"85864\",\"type\":\"LegendItem\"},{\"attributes\":{\"months\":[0,1,2,3,4,5,6,7,8,9,10,11]},\"id\":\"85829\",\"type\":\"MonthsTicker\"},{\"attributes\":{\"data_source\":{\"id\":\"85810\"},\"glyph\":{\"id\":\"85811\"},\"hover_glyph\":null,\"muted_glyph\":null,\"nonselection_glyph\":{\"id\":\"85812\"},\"selection_glyph\":null,\"view\":{\"id\":\"85814\"}},\"id\":\"85813\",\"type\":\"GlyphRenderer\"},{\"attributes\":{\"line_color\":\"#d7385e\",\"line_width\":2,\"x\":{\"field\":\"x\"},\"y\":{\"field\":\"y\"}},\"id\":\"85811\",\"type\":\"Line\"},{\"attributes\":{},\"id\":\"85799\",\"type\":\"SaveTool\"}],\"root_ids\":[\"85777\"]},\"title\":\"Bokeh Application\",\"version\":\"2.2.1\"}};\n  var render_items = [{\"docid\":\"61ab7faa-488d-44bf-9ff1-ab193ea2ab5b\",\"root_ids\":[\"85777\"],\"roots\":{\"85777\":\"6a1fa1af-9a5d-4fba-9848-2b3584def800\"}}];\n  root.Bokeh.embed.embed_items_notebook(docs_json, render_items);\n\n  }\n  if (root.Bokeh !== undefined) {\n    embed_document(root);\n  } else {\n    var attempts = 0;\n    var timer = setInterval(function(root) {\n      if (root.Bokeh !== undefined) {\n        clearInterval(timer);\n        embed_document(root);\n      } else {\n        attempts++;\n        if (attempts > 100) {\n          clearInterval(timer);\n          console.log(\"Bokeh: ERROR: Unable to run BokehJS code because BokehJS library is missing\");\n        }\n      }\n    }, 10, root)\n  }\n})(window);",
      "application/vnd.bokehjs_exec.v0+json": ""
     },
     "metadata": {
      "application/vnd.bokehjs_exec.v0+json": {
       "id": "85777"
      }
     }
    }
   ],
   "source": [
    "bpl.show(p)"
   ]
  },
  {
   "source": [
    "## Fuentes de datos on DataSources\n",
    "\n",
    "Para realizar visualizaciones más complejas necesitamos estructuras de datos más complejos. Bokeh permite crearlas a traves de su especificación de modelos. La principal estructura de datos es el ColumnDataSource, esencialmente es un diccionario con nombres de columnas y datos asociados a ellas, como un DataFrame. De hecho, la manera más fácil de construir estas estructuras de datos es a partir de DataFrames, sin embargo tenemos que poner todos los datos que nos interesa usar en el mismo DataFrame. También es importante que nuestras columnas tengan nombres simples y específicos, de preferencia sin espacios entre ellos. \n",
    "\n",
    "Construyamos un DataSource con nuestros 3 DataFrames. Para ello necesitamos mezclarlos"
   ],
   "cell_type": "markdown",
   "metadata": {}
  },
  {
   "source": [
    "## Mezclando dos DataFrames\n",
    "\n",
    "Pandas nos permite mezclar dos DataFrames de acuerdo a los valores que existan en alguna columna que tenga valores en común. En este caso nuestros DataFrames tienen como columnas en común la columna de fechas. Esta operación se llama \"merge\".\n",
    "\n",
    "Si nos fijamos con atención algunos de los valores en estas columnas se corresponden y existen otros que solamente están en una columna o en otra. Un merge se hace entre dos DataFrames, de acuerdo a donde lo colocamos en la función les llamamos \"left\" al que ponemos a la izquierda y \"right\" al que ponemos a la derecha. Cuando hacemos un merge podemos decidir que filas queremos mantener, las del DataFrame de la izquierda (left), las filas del DataFrame de la derecha (right), todas las filas de ambos DataFrames (outer) o solamente las filas que en ambos DataFrames existen. \n",
    "\n",
    "Al hacer un merge tenemos que indicar dentro de la función los DataFrames a mezclar, la manera en la que los vamos a mezclar, y las columnas que usaremos para mezclarlas.\n",
    "\n",
    "Juntemos primero los DataFrames de confirmados y de defunciones. En estos DataFrames tenemos columnas que no nos interesan así que seleccionaremos solamente las columnas de la fecha y de casos. Guardémoslos en variables temporales"
   ],
   "cell_type": "markdown",
   "metadata": {}
  },
  {
   "cell_type": "code",
   "execution_count": 221,
   "metadata": {},
   "outputs": [],
   "source": [
    "conf_temp = confirmados_por_fecha[[\"confirmados\",\"fecha_sintomas\"]]\n",
    "defun_temp = defunciones_por_fecha[[\"defunciones\",\"fecha_sintomas\"]]\n",
    "sosp_temp = sospechosos_por_fecha[[\"sospechosos\",\"fecha_sintomas\"]]"
   ]
  },
  {
   "source": [
    "Después los mezclamos con la función merge. Queremos que el DataFrame resultante no pierda filas de ningúno de los dos DataFrames por lo cual haremos un merge de tipo \"outer\", afortunadamente la columna en común tiene el mismo nombre por lo cual solamente tenemos que especificarla una sola vez usando la opción \"on\". El resultado lo guardaremos en un frame temporal pues aún nos falta mezclarlo con los casos sospechosos."
   ],
   "cell_type": "markdown",
   "metadata": {}
  },
  {
   "cell_type": "code",
   "execution_count": 222,
   "metadata": {},
   "outputs": [
    {
     "output_type": "execute_result",
     "data": {
      "text/plain": [
       "     confirmados fecha_sintomas  defunciones\n",
       "0              1     2020-01-13          NaN\n",
       "1              1     2020-01-29          NaN\n",
       "2              1     2020-02-06          1.0\n",
       "3              1     2020-02-18          NaN\n",
       "4              1     2020-02-19          NaN\n",
       "..           ...            ...          ...\n",
       "240         1389     2020-10-13          5.0\n",
       "241          671     2020-10-14          7.0\n",
       "242          335     2020-10-15          1.0\n",
       "243           63     2020-10-16          NaN\n",
       "244           18     2020-10-17          NaN\n",
       "\n",
       "[245 rows x 3 columns]"
      ],
      "text/html": "<div>\n<style scoped>\n    .dataframe tbody tr th:only-of-type {\n        vertical-align: middle;\n    }\n\n    .dataframe tbody tr th {\n        vertical-align: top;\n    }\n\n    .dataframe thead th {\n        text-align: right;\n    }\n</style>\n<table border=\"1\" class=\"dataframe\">\n  <thead>\n    <tr style=\"text-align: right;\">\n      <th></th>\n      <th>confirmados</th>\n      <th>fecha_sintomas</th>\n      <th>defunciones</th>\n    </tr>\n  </thead>\n  <tbody>\n    <tr>\n      <th>0</th>\n      <td>1</td>\n      <td>2020-01-13</td>\n      <td>NaN</td>\n    </tr>\n    <tr>\n      <th>1</th>\n      <td>1</td>\n      <td>2020-01-29</td>\n      <td>NaN</td>\n    </tr>\n    <tr>\n      <th>2</th>\n      <td>1</td>\n      <td>2020-02-06</td>\n      <td>1.0</td>\n    </tr>\n    <tr>\n      <th>3</th>\n      <td>1</td>\n      <td>2020-02-18</td>\n      <td>NaN</td>\n    </tr>\n    <tr>\n      <th>4</th>\n      <td>1</td>\n      <td>2020-02-19</td>\n      <td>NaN</td>\n    </tr>\n    <tr>\n      <th>...</th>\n      <td>...</td>\n      <td>...</td>\n      <td>...</td>\n    </tr>\n    <tr>\n      <th>240</th>\n      <td>1389</td>\n      <td>2020-10-13</td>\n      <td>5.0</td>\n    </tr>\n    <tr>\n      <th>241</th>\n      <td>671</td>\n      <td>2020-10-14</td>\n      <td>7.0</td>\n    </tr>\n    <tr>\n      <th>242</th>\n      <td>335</td>\n      <td>2020-10-15</td>\n      <td>1.0</td>\n    </tr>\n    <tr>\n      <th>243</th>\n      <td>63</td>\n      <td>2020-10-16</td>\n      <td>NaN</td>\n    </tr>\n    <tr>\n      <th>244</th>\n      <td>18</td>\n      <td>2020-10-17</td>\n      <td>NaN</td>\n    </tr>\n  </tbody>\n</table>\n<p>245 rows × 3 columns</p>\n</div>"
     },
     "metadata": {},
     "execution_count": 222
    }
   ],
   "source": [
    "mezcla_temporal = pd.merge(conf_temp,defun_temp,how=\"outer\",on=\"fecha_sintomas\")\n",
    "mezcla_temporal"
   ]
  },
  {
   "source": [
    "Como podemos observar el DataFrame resultante tiene 3 columnas, una de fechas, una de casos confirmados y una de defunciones. Podemos ver que hay fechas para las que si existe un valor de casos confirmados pero no para defunciones, en estos casos los huecos se llenan con valores nulos o NaN.\n",
    "\n",
    "Mezclemos este DataFrame resultante con los casos sospechosos y guardémoslo en un DataFrame final mezclado:"
   ],
   "cell_type": "markdown",
   "metadata": {}
  },
  {
   "cell_type": "code",
   "execution_count": 223,
   "metadata": {},
   "outputs": [
    {
     "output_type": "execute_result",
     "data": {
      "text/plain": [
       "     confirmados fecha_sintomas  defunciones  sospechosos\n",
       "0            1.0     2020-01-13          NaN          312\n",
       "1            1.0     2020-01-29          NaN          217\n",
       "2            1.0     2020-02-06          1.0          146\n",
       "3            1.0     2020-02-18          NaN          247\n",
       "4            1.0     2020-02-19          NaN          211\n",
       "..           ...            ...          ...          ...\n",
       "287          NaN     2020-02-15          NaN          236\n",
       "288          NaN     2020-02-16          NaN          252\n",
       "289          NaN     2020-02-17          NaN          262\n",
       "290          NaN     2020-02-20          NaN          173\n",
       "291          NaN     2020-10-18          NaN           26\n",
       "\n",
       "[292 rows x 4 columns]"
      ],
      "text/html": "<div>\n<style scoped>\n    .dataframe tbody tr th:only-of-type {\n        vertical-align: middle;\n    }\n\n    .dataframe tbody tr th {\n        vertical-align: top;\n    }\n\n    .dataframe thead th {\n        text-align: right;\n    }\n</style>\n<table border=\"1\" class=\"dataframe\">\n  <thead>\n    <tr style=\"text-align: right;\">\n      <th></th>\n      <th>confirmados</th>\n      <th>fecha_sintomas</th>\n      <th>defunciones</th>\n      <th>sospechosos</th>\n    </tr>\n  </thead>\n  <tbody>\n    <tr>\n      <th>0</th>\n      <td>1.0</td>\n      <td>2020-01-13</td>\n      <td>NaN</td>\n      <td>312</td>\n    </tr>\n    <tr>\n      <th>1</th>\n      <td>1.0</td>\n      <td>2020-01-29</td>\n      <td>NaN</td>\n      <td>217</td>\n    </tr>\n    <tr>\n      <th>2</th>\n      <td>1.0</td>\n      <td>2020-02-06</td>\n      <td>1.0</td>\n      <td>146</td>\n    </tr>\n    <tr>\n      <th>3</th>\n      <td>1.0</td>\n      <td>2020-02-18</td>\n      <td>NaN</td>\n      <td>247</td>\n    </tr>\n    <tr>\n      <th>4</th>\n      <td>1.0</td>\n      <td>2020-02-19</td>\n      <td>NaN</td>\n      <td>211</td>\n    </tr>\n    <tr>\n      <th>...</th>\n      <td>...</td>\n      <td>...</td>\n      <td>...</td>\n      <td>...</td>\n    </tr>\n    <tr>\n      <th>287</th>\n      <td>NaN</td>\n      <td>2020-02-15</td>\n      <td>NaN</td>\n      <td>236</td>\n    </tr>\n    <tr>\n      <th>288</th>\n      <td>NaN</td>\n      <td>2020-02-16</td>\n      <td>NaN</td>\n      <td>252</td>\n    </tr>\n    <tr>\n      <th>289</th>\n      <td>NaN</td>\n      <td>2020-02-17</td>\n      <td>NaN</td>\n      <td>262</td>\n    </tr>\n    <tr>\n      <th>290</th>\n      <td>NaN</td>\n      <td>2020-02-20</td>\n      <td>NaN</td>\n      <td>173</td>\n    </tr>\n    <tr>\n      <th>291</th>\n      <td>NaN</td>\n      <td>2020-10-18</td>\n      <td>NaN</td>\n      <td>26</td>\n    </tr>\n  </tbody>\n</table>\n<p>292 rows × 4 columns</p>\n</div>"
     },
     "metadata": {},
     "execution_count": 223
    }
   ],
   "source": [
    "casos = pd.merge(mezcla_temporal,sosp_temp,how=\"outer\", on=\"fecha_sintomas\")\n",
    "casos"
   ]
  },
  {
   "source": [
    "Mezcla DataFrames puede modificar el orden de nuestras filas en ocasiones. Es buena práctica siempre ordenar nuestro dataFrame antes de crear un ColumnDataSource"
   ],
   "cell_type": "markdown",
   "metadata": {}
  },
  {
   "cell_type": "code",
   "execution_count": 224,
   "metadata": {},
   "outputs": [],
   "source": [
    "casos.sort_values(\"fecha_sintomas\", inplace=True)"
   ]
  },
  {
   "source": [
    "## Definiendo el DataSource\n",
    "\n",
    "Para crear un DataSource usaremos el módulo de bokeh correspondiente a modelos que al principio del notebook guardamos en el alias bmd y usamos como parámetro nuestro DataFrame"
   ],
   "cell_type": "markdown",
   "metadata": {}
  },
  {
   "cell_type": "code",
   "execution_count": 225,
   "metadata": {},
   "outputs": [],
   "source": [
    "source = bmd.ColumnDataSource(casos)"
   ]
  },
  {
   "source": [
    "Caundo definimos un DataSource entonces podemos usar los nombres de las columnas en la definición de nuestro glifos, solo basta con indicar que DataSource estamos usando. Volvamos a hacer la gráfica anterior pero usando nuestro DataSource"
   ],
   "cell_type": "markdown",
   "metadata": {}
  },
  {
   "cell_type": "code",
   "execution_count": 262,
   "metadata": {},
   "outputs": [
    {
     "output_type": "display_data",
     "data": {
      "text/html": "\n\n\n\n\n\n  <div class=\"bk-root\" id=\"e61fcdca-1801-4d61-aa69-3139b8c2bb11\" data-root-id=\"207327\"></div>\n"
     },
     "metadata": {}
    },
    {
     "output_type": "display_data",
     "data": {
      "application/javascript": "(function(root) {\n  function embed_document(root) {\n    \n  var docs_json = {\"60a6930c-32fa-44ae-ab0c-36b5d7046e4f\":{\"roots\":{\"references\":[{\"attributes\":{\"below\":[{\"id\":\"207338\"}],\"center\":[{\"id\":\"207341\"},{\"id\":\"207345\"},{\"id\":\"207385\"}],\"left\":[{\"id\":\"207342\"}],\"plot_width\":800,\"renderers\":[{\"id\":\"207363\"},{\"id\":\"207390\"},{\"id\":\"207416\"}],\"title\":{\"id\":\"207328\"},\"toolbar\":{\"id\":\"207353\"},\"x_range\":{\"id\":\"207330\"},\"x_scale\":{\"id\":\"207334\"},\"y_range\":{\"id\":\"207332\"},\"y_scale\":{\"id\":\"207336\"}},\"id\":\"207327\",\"subtype\":\"Figure\",\"type\":\"Plot\"},{\"attributes\":{\"days\":[1,2,3,4,5,6,7,8,9,10,11,12,13,14,15,16,17,18,19,20,21,22,23,24,25,26,27,28,29,30,31]},\"id\":\"207375\",\"type\":\"DaysTicker\"},{\"attributes\":{\"base\":24,\"mantissas\":[1,2,4,6,8,12],\"max_interval\":43200000.0,\"min_interval\":3600000.0,\"num_minor_ticks\":0},\"id\":\"207374\",\"type\":\"AdaptiveTicker\"},{\"attributes\":{\"items\":[{\"id\":\"207386\"},{\"id\":\"207412\"},{\"id\":\"207438\"}]},\"id\":\"207385\",\"type\":\"Legend\"},{\"attributes\":{\"months\":[0,2,4,6,8,10]},\"id\":\"207380\",\"type\":\"MonthsTicker\"},{\"attributes\":{\"line_alpha\":0.1,\"line_color\":\"#070d59\",\"line_width\":2,\"x\":{\"field\":\"fecha_sintomas\"},\"y\":{\"field\":\"defunciones\"}},\"id\":\"207389\",\"type\":\"Line\"},{\"attributes\":{\"num_minor_ticks\":5,\"tickers\":[{\"id\":\"207372\"},{\"id\":\"207373\"},{\"id\":\"207374\"},{\"id\":\"207375\"},{\"id\":\"207376\"},{\"id\":\"207377\"},{\"id\":\"207378\"},{\"id\":\"207379\"},{\"id\":\"207380\"},{\"id\":\"207381\"},{\"id\":\"207382\"},{\"id\":\"207383\"}]},\"id\":\"207339\",\"type\":\"DatetimeTicker\"},{\"attributes\":{\"line_color\":\"#d7385e\",\"line_width\":2,\"x\":{\"field\":\"fecha_sintomas\"},\"y\":{\"field\":\"confirmados\"}},\"id\":\"207361\",\"type\":\"Line\"},{\"attributes\":{\"bottom_units\":\"screen\",\"fill_alpha\":0.5,\"fill_color\":\"lightgrey\",\"left_units\":\"screen\",\"level\":\"overlay\",\"line_alpha\":1.0,\"line_color\":\"black\",\"line_dash\":[4,4],\"line_width\":2,\"right_units\":\"screen\",\"top_units\":\"screen\"},\"id\":\"207352\",\"type\":\"BoxAnnotation\"},{\"attributes\":{},\"id\":\"207334\",\"type\":\"LinearScale\"},{\"attributes\":{\"mantissas\":[1,2,5],\"max_interval\":500.0,\"num_minor_ticks\":0},\"id\":\"207372\",\"type\":\"AdaptiveTicker\"},{\"attributes\":{\"months\":[0,1,2,3,4,5,6,7,8,9,10,11]},\"id\":\"207379\",\"type\":\"MonthsTicker\"},{\"attributes\":{\"axis\":{\"id\":\"207342\"},\"dimension\":1,\"ticker\":null},\"id\":\"207345\",\"type\":\"Grid\"},{\"attributes\":{\"text\":\"Casos de COVID19 en M\\u00e9xico\"},\"id\":\"207328\",\"type\":\"Title\"},{\"attributes\":{\"label\":{\"value\":\"Casos confirmados\"},\"renderers\":[{\"id\":\"207363\"}]},\"id\":\"207386\",\"type\":\"LegendItem\"},{\"attributes\":{\"data_source\":{\"id\":\"87386\"},\"glyph\":{\"id\":\"207414\"},\"hover_glyph\":null,\"muted_glyph\":null,\"nonselection_glyph\":{\"id\":\"207415\"},\"selection_glyph\":null,\"view\":{\"id\":\"207417\"}},\"id\":\"207416\",\"type\":\"GlyphRenderer\"},{\"attributes\":{},\"id\":\"207330\",\"type\":\"DataRange1d\"},{\"attributes\":{\"label\":{\"value\":\"Casos sospechosos\"},\"renderers\":[{\"id\":\"207416\"}]},\"id\":\"207438\",\"type\":\"LegendItem\"},{\"attributes\":{\"line_alpha\":0.1,\"line_color\":\"#d7385e\",\"line_width\":2,\"x\":{\"field\":\"fecha_sintomas\"},\"y\":{\"field\":\"confirmados\"}},\"id\":\"207362\",\"type\":\"Line\"},{\"attributes\":{\"label\":{\"value\":\"Defunciones\"},\"renderers\":[{\"id\":\"207390\"}]},\"id\":\"207412\",\"type\":\"LegendItem\"},{\"attributes\":{},\"id\":\"207346\",\"type\":\"PanTool\"},{\"attributes\":{},\"id\":\"207351\",\"type\":\"HelpTool\"},{\"attributes\":{\"base\":60,\"mantissas\":[1,2,5,10,15,20,30],\"max_interval\":1800000.0,\"min_interval\":1000.0,\"num_minor_ticks\":0},\"id\":\"207373\",\"type\":\"AdaptiveTicker\"},{\"attributes\":{},\"id\":\"207383\",\"type\":\"YearsTicker\"},{\"attributes\":{},\"id\":\"207332\",\"type\":\"DataRange1d\"},{\"attributes\":{\"months\":[0,4,8]},\"id\":\"207381\",\"type\":\"MonthsTicker\"},{\"attributes\":{\"line_color\":\"#070d59\",\"line_width\":2,\"x\":{\"field\":\"fecha_sintomas\"},\"y\":{\"field\":\"defunciones\"}},\"id\":\"207388\",\"type\":\"Line\"},{\"attributes\":{\"months\":[0,6]},\"id\":\"207382\",\"type\":\"MonthsTicker\"},{\"attributes\":{},\"id\":\"207349\",\"type\":\"SaveTool\"},{\"attributes\":{},\"id\":\"207343\",\"type\":\"BasicTicker\"},{\"attributes\":{\"line_color\":\"#edc988\",\"line_width\":2,\"x\":{\"field\":\"fecha_sintomas\"},\"y\":{\"field\":\"sospechosos\"}},\"id\":\"207414\",\"type\":\"Line\"},{\"attributes\":{\"formatter\":{\"id\":\"207368\"},\"ticker\":{\"id\":\"207343\"}},\"id\":\"207342\",\"type\":\"LinearAxis\"},{\"attributes\":{\"source\":{\"id\":\"87386\"}},\"id\":\"207364\",\"type\":\"CDSView\"},{\"attributes\":{},\"id\":\"207350\",\"type\":\"ResetTool\"},{\"attributes\":{\"data\":{\"confirmados\":{\"__ndarray__\":\"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\",\"dtype\":\"float64\",\"order\":\"little\",\"shape\":[292]},\"defunciones\":{\"__ndarray__\":\"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\",\"dtype\":\"float64\",\"order\":\"little\",\"shape\":[292]},\"fecha_sintomas\":{\"__ndarray__\":\"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\",\"dtype\":\"float64\",\"order\":\"little\",\"shape\":[292]},\"index\":[245,246,247,248,249,250,251,252,253,254,255,256,0,257,258,259,260,261,262,263,264,265,266,267,268,269,270,271,1,272,273,274,275,276,277,278,2,279,280,281,282,283,284,285,286,287,288,289,3,4,290,5,6,7,8,9,10,11,12,13,14,15,16,17,18,19,20,21,22,23,24,25,26,27,28,29,30,31,32,33,34,35,36,37,38,39,40,41,42,43,44,45,46,47,48,49,50,51,52,53,54,55,56,57,58,59,60,61,62,63,64,65,66,67,68,69,70,71,72,73,74,75,76,77,78,79,80,81,82,83,84,85,86,87,88,89,90,91,92,93,94,95,96,97,98,99,100,101,102,103,104,105,106,107,108,109,110,111,112,113,114,115,116,117,118,119,120,121,122,123,124,125,126,127,128,129,130,131,132,133,134,135,136,137,138,139,140,141,142,143,144,145,146,147,148,149,150,151,152,153,154,155,156,157,158,159,160,161,162,163,164,165,166,167,168,169,170,171,172,173,174,175,176,177,178,179,180,181,182,183,184,185,186,187,188,189,190,191,192,193,194,195,196,197,198,199,200,201,202,203,204,205,206,207,208,209,210,211,212,213,214,215,216,217,218,219,220,221,222,223,224,225,226,227,228,229,230,231,232,233,234,235,236,237,238,239,240,241,242,243,244,291],\"sospechosos\":[133,114,113,107,164,182,174,147,152,154,147,217,312,260,253,206,162,179,281,312,246,211,193,211,210,268,323,250,217,152,157,199,225,267,280,217,146,166,204,247,306,205,176,154,166,236,252,262,247,211,173,166,222,241,274,240,198,168,187,271,349,321,256,231,189,137,146,248,282,276,225,151,189,203,342,371,365,357,296,450,408,513,897,882,968,895,931,966,1064,1305,1059,1252,863,911,860,856,1053,912,956,868,1096,979,971,1323,1092,1139,1105,1119,1060,1148,1530,1008,921,899,868,858,751,854,702,593,650,948,682,681,734,822,710,669,779,694,994,866,773,776,791,1049,711,812,1141,830,1102,733,821,785,836,1138,804,824,972,813,815,746,1388,928,971,847,989,955,891,1155,915,1225,886,1125,980,960,1486,1165,1007,1322,1307,1940,1438,1892,1510,1681,1586,1828,1409,1387,1645,1547,1848,1345,1205,1014,1246,1420,1233,1110,1097,1492,1198,1012,1275,1153,1292,1145,1154,1053,1063,1565,1070,1052,998,1078,1090,968,1260,953,920,872,975,1342,905,1133,877,1157,855,962,940,882,1555,911,966,936,906,1121,932,1078,1131,733,1156,949,822,808,1065,1123,964,871,1140,787,1015,1271,1437,973,985,934,969,786,1080,874,909,1045,801,792,753,1098,1005,787,989,996,1078,1391,1189,953,867,925,1144,855,981,1287,1235,1418,1809,1365,1173,1251,2089,1640,2132,2324,2705,4882,3446,4868,4381,4668,3952,2680,918,26]},\"selected\":{\"id\":\"87431\"},\"selection_policy\":{\"id\":\"87430\"}},\"id\":\"87386\",\"type\":\"ColumnDataSource\"},{\"attributes\":{},\"id\":\"87430\",\"type\":\"UnionRenderers\"},{\"attributes\":{\"days\":[1,15]},\"id\":\"207378\",\"type\":\"DaysTicker\"},{\"attributes\":{\"data_source\":{\"id\":\"87386\"},\"glyph\":{\"id\":\"207388\"},\"hover_glyph\":null,\"muted_glyph\":null,\"nonselection_glyph\":{\"id\":\"207389\"},\"selection_glyph\":null,\"view\":{\"id\":\"207391\"}},\"id\":\"207390\",\"type\":\"GlyphRenderer\"},{\"attributes\":{},\"id\":\"207366\",\"type\":\"DatetimeTickFormatter\"},{\"attributes\":{},\"id\":\"207347\",\"type\":\"WheelZoomTool\"},{\"attributes\":{\"axis\":{\"id\":\"207338\"},\"ticker\":null},\"id\":\"207341\",\"type\":\"Grid\"},{\"attributes\":{},\"id\":\"87431\",\"type\":\"Selection\"},{\"attributes\":{\"line_alpha\":0.1,\"line_color\":\"#edc988\",\"line_width\":2,\"x\":{\"field\":\"fecha_sintomas\"},\"y\":{\"field\":\"sospechosos\"}},\"id\":\"207415\",\"type\":\"Line\"},{\"attributes\":{\"active_drag\":\"auto\",\"active_inspect\":\"auto\",\"active_multi\":null,\"active_scroll\":\"auto\",\"active_tap\":\"auto\",\"tools\":[{\"id\":\"207346\"},{\"id\":\"207347\"},{\"id\":\"207348\"},{\"id\":\"207349\"},{\"id\":\"207350\"},{\"id\":\"207351\"}]},\"id\":\"207353\",\"type\":\"Toolbar\"},{\"attributes\":{\"source\":{\"id\":\"87386\"}},\"id\":\"207417\",\"type\":\"CDSView\"},{\"attributes\":{},\"id\":\"207368\",\"type\":\"BasicTickFormatter\"},{\"attributes\":{\"source\":{\"id\":\"87386\"}},\"id\":\"207391\",\"type\":\"CDSView\"},{\"attributes\":{},\"id\":\"207336\",\"type\":\"LinearScale\"},{\"attributes\":{\"overlay\":{\"id\":\"207352\"}},\"id\":\"207348\",\"type\":\"BoxZoomTool\"},{\"attributes\":{\"data_source\":{\"id\":\"87386\"},\"glyph\":{\"id\":\"207361\"},\"hover_glyph\":null,\"muted_glyph\":null,\"nonselection_glyph\":{\"id\":\"207362\"},\"selection_glyph\":null,\"view\":{\"id\":\"207364\"}},\"id\":\"207363\",\"type\":\"GlyphRenderer\"},{\"attributes\":{\"formatter\":{\"id\":\"207366\"},\"ticker\":{\"id\":\"207339\"}},\"id\":\"207338\",\"type\":\"DatetimeAxis\"},{\"attributes\":{\"days\":[1,4,7,10,13,16,19,22,25,28]},\"id\":\"207376\",\"type\":\"DaysTicker\"},{\"attributes\":{\"days\":[1,8,15,22]},\"id\":\"207377\",\"type\":\"DaysTicker\"}],\"root_ids\":[\"207327\"]},\"title\":\"Bokeh Application\",\"version\":\"2.2.1\"}};\n  var render_items = [{\"docid\":\"60a6930c-32fa-44ae-ab0c-36b5d7046e4f\",\"root_ids\":[\"207327\"],\"roots\":{\"207327\":\"e61fcdca-1801-4d61-aa69-3139b8c2bb11\"}}];\n  root.Bokeh.embed.embed_items_notebook(docs_json, render_items);\n\n  }\n  if (root.Bokeh !== undefined) {\n    embed_document(root);\n  } else {\n    var attempts = 0;\n    var timer = setInterval(function(root) {\n      if (root.Bokeh !== undefined) {\n        clearInterval(timer);\n        embed_document(root);\n      } else {\n        attempts++;\n        if (attempts > 100) {\n          clearInterval(timer);\n          console.log(\"Bokeh: ERROR: Unable to run BokehJS code because BokehJS library is missing\");\n        }\n      }\n    }, 10, root)\n  }\n})(window);",
      "application/vnd.bokehjs_exec.v0+json": ""
     },
     "metadata": {
      "application/vnd.bokehjs_exec.v0+json": {
       "id": "207327"
      }
     }
    }
   ],
   "source": [
    "p = bpl.figure(x_axis_type=\"datetime\", plot_width=800, plot_height=600, title=\"Casos de COVID19 en México\")\n",
    "p.line(x=\"fecha_sintomas\", y=\"confirmados\",line_color=\"#d7385e\",line_width=2,line_alpha=1,legend_label=\"Casos confirmados\",source=source)\n",
    "p.line(x=\"fecha_sintomas\", y=\"defunciones\",line_color=\"#070d59\",line_width=2,line_alpha=1,legend_label=\"Defunciones\",source=source)\n",
    "p.line(x=\"fecha_sintomas\", y=\"sospechosos\",line_color=\"#edc988\",line_width=2,line_alpha=1,legend_label=\"Casos sospechosos\",source=source)\n",
    "bpl.show(p)"
   ]
  },
  {
   "source": [
    "## Agregar un tooltip\n",
    "\n",
    "Usar DataSourceColumnes nos permite tener todos nuestros datos enlazados. Es posible usar todos los datos de forma cruzada para realizar operaciones, filtrar, enlazar gráficas, poner interactividad, poner tooltips.\n",
    "\n",
    "Agreguemos en nuestra gráfica un tooltip que nos permita ver los valores en cada fecha.\n",
    "\n",
    "Los tooltips siempre van amarrados a glifos, en este caso tenemos 3 glifos en nuestra gráfica solamente, las 3 líneas. Si quisieramos amarrar un tooltip solo podríamos amarrarlo a las líneas, sin embargo quisieramos que nuestros tooltips estén amarrados a cada momento temporal no a cada línea. Una técnica usual es agregar glifos invisibles a los cuales amarraremos el tooltip. En este caso agregaremos un glifo de círculos que sigan la línea de casos confirmados. Para hacerlo invisible simplemente le ponemos un valor de alpha de cero. \n",
    "\n",
    "La definición del nuevo glifo lo guardaremos en una variable, a la definición de un glifo se le llama \"renderer\"."
   ],
   "cell_type": "markdown",
   "metadata": {}
  },
  {
   "cell_type": "code",
   "execution_count": 263,
   "metadata": {},
   "outputs": [
    {
     "output_type": "display_data",
     "data": {
      "text/html": "\n\n\n\n\n\n  <div class=\"bk-root\" id=\"c7ae040a-82fd-4b59-b5fd-fb659dcf0aab\" data-root-id=\"207327\"></div>\n"
     },
     "metadata": {}
    },
    {
     "output_type": "display_data",
     "data": {
      "application/javascript": "(function(root) {\n  function embed_document(root) {\n    \n  var docs_json = {\"75c7c1db-4a8b-4941-bb90-f34392556532\":{\"roots\":{\"references\":[{\"attributes\":{\"below\":[{\"id\":\"207338\"}],\"center\":[{\"id\":\"207341\"},{\"id\":\"207345\"},{\"id\":\"207385\"}],\"left\":[{\"id\":\"207342\"}],\"plot_width\":800,\"renderers\":[{\"id\":\"207363\"},{\"id\":\"207390\"},{\"id\":\"207416\"},{\"id\":\"209073\"}],\"title\":{\"id\":\"207328\"},\"toolbar\":{\"id\":\"207353\"},\"x_range\":{\"id\":\"207330\"},\"x_scale\":{\"id\":\"207334\"},\"y_range\":{\"id\":\"207332\"},\"y_scale\":{\"id\":\"207336\"}},\"id\":\"207327\",\"subtype\":\"Figure\",\"type\":\"Plot\"},{\"attributes\":{\"days\":[1,2,3,4,5,6,7,8,9,10,11,12,13,14,15,16,17,18,19,20,21,22,23,24,25,26,27,28,29,30,31]},\"id\":\"207375\",\"type\":\"DaysTicker\"},{\"attributes\":{\"base\":24,\"mantissas\":[1,2,4,6,8,12],\"max_interval\":43200000.0,\"min_interval\":3600000.0,\"num_minor_ticks\":0},\"id\":\"207374\",\"type\":\"AdaptiveTicker\"},{\"attributes\":{\"items\":[{\"id\":\"207386\"},{\"id\":\"207412\"},{\"id\":\"207438\"}]},\"id\":\"207385\",\"type\":\"Legend\"},{\"attributes\":{\"months\":[0,2,4,6,8,10]},\"id\":\"207380\",\"type\":\"MonthsTicker\"},{\"attributes\":{\"line_alpha\":0.1,\"line_color\":\"#070d59\",\"line_width\":2,\"x\":{\"field\":\"fecha_sintomas\"},\"y\":{\"field\":\"defunciones\"}},\"id\":\"207389\",\"type\":\"Line\"},{\"attributes\":{\"num_minor_ticks\":5,\"tickers\":[{\"id\":\"207372\"},{\"id\":\"207373\"},{\"id\":\"207374\"},{\"id\":\"207375\"},{\"id\":\"207376\"},{\"id\":\"207377\"},{\"id\":\"207378\"},{\"id\":\"207379\"},{\"id\":\"207380\"},{\"id\":\"207381\"},{\"id\":\"207382\"},{\"id\":\"207383\"}]},\"id\":\"207339\",\"type\":\"DatetimeTicker\"},{\"attributes\":{\"line_color\":\"#d7385e\",\"line_width\":2,\"x\":{\"field\":\"fecha_sintomas\"},\"y\":{\"field\":\"confirmados\"}},\"id\":\"207361\",\"type\":\"Line\"},{\"attributes\":{\"bottom_units\":\"screen\",\"fill_alpha\":0.5,\"fill_color\":\"lightgrey\",\"left_units\":\"screen\",\"level\":\"overlay\",\"line_alpha\":1.0,\"line_color\":\"black\",\"line_dash\":[4,4],\"line_width\":2,\"right_units\":\"screen\",\"top_units\":\"screen\"},\"id\":\"207352\",\"type\":\"BoxAnnotation\"},{\"attributes\":{},\"id\":\"207334\",\"type\":\"LinearScale\"},{\"attributes\":{\"mantissas\":[1,2,5],\"max_interval\":500.0,\"num_minor_ticks\":0},\"id\":\"207372\",\"type\":\"AdaptiveTicker\"},{\"attributes\":{\"months\":[0,1,2,3,4,5,6,7,8,9,10,11]},\"id\":\"207379\",\"type\":\"MonthsTicker\"},{\"attributes\":{\"axis\":{\"id\":\"207342\"},\"dimension\":1,\"ticker\":null},\"id\":\"207345\",\"type\":\"Grid\"},{\"attributes\":{\"text\":\"Casos de COVID19 en M\\u00e9xico\"},\"id\":\"207328\",\"type\":\"Title\"},{\"attributes\":{\"label\":{\"value\":\"Casos confirmados\"},\"renderers\":[{\"id\":\"207363\"}]},\"id\":\"207386\",\"type\":\"LegendItem\"},{\"attributes\":{\"data_source\":{\"id\":\"87386\"},\"glyph\":{\"id\":\"207414\"},\"hover_glyph\":null,\"muted_glyph\":null,\"nonselection_glyph\":{\"id\":\"207415\"},\"selection_glyph\":null,\"view\":{\"id\":\"207417\"}},\"id\":\"207416\",\"type\":\"GlyphRenderer\"},{\"attributes\":{},\"id\":\"207330\",\"type\":\"DataRange1d\"},{\"attributes\":{\"label\":{\"value\":\"Casos sospechosos\"},\"renderers\":[{\"id\":\"207416\"}]},\"id\":\"207438\",\"type\":\"LegendItem\"},{\"attributes\":{\"line_alpha\":0.1,\"line_color\":\"#d7385e\",\"line_width\":2,\"x\":{\"field\":\"fecha_sintomas\"},\"y\":{\"field\":\"confirmados\"}},\"id\":\"207362\",\"type\":\"Line\"},{\"attributes\":{\"label\":{\"value\":\"Defunciones\"},\"renderers\":[{\"id\":\"207390\"}]},\"id\":\"207412\",\"type\":\"LegendItem\"},{\"attributes\":{},\"id\":\"207346\",\"type\":\"PanTool\"},{\"attributes\":{},\"id\":\"207351\",\"type\":\"HelpTool\"},{\"attributes\":{\"base\":60,\"mantissas\":[1,2,5,10,15,20,30],\"max_interval\":1800000.0,\"min_interval\":1000.0,\"num_minor_ticks\":0},\"id\":\"207373\",\"type\":\"AdaptiveTicker\"},{\"attributes\":{},\"id\":\"207383\",\"type\":\"YearsTicker\"},{\"attributes\":{},\"id\":\"207332\",\"type\":\"DataRange1d\"},{\"attributes\":{\"months\":[0,4,8]},\"id\":\"207381\",\"type\":\"MonthsTicker\"},{\"attributes\":{\"line_color\":\"#070d59\",\"line_width\":2,\"x\":{\"field\":\"fecha_sintomas\"},\"y\":{\"field\":\"defunciones\"}},\"id\":\"207388\",\"type\":\"Line\"},{\"attributes\":{\"months\":[0,6]},\"id\":\"207382\",\"type\":\"MonthsTicker\"},{\"attributes\":{},\"id\":\"207349\",\"type\":\"SaveTool\"},{\"attributes\":{\"data_source\":{\"id\":\"87386\"},\"glyph\":{\"id\":\"209071\"},\"hover_glyph\":null,\"muted_glyph\":null,\"nonselection_glyph\":{\"id\":\"209072\"},\"selection_glyph\":null,\"view\":{\"id\":\"209074\"}},\"id\":\"209073\",\"type\":\"GlyphRenderer\"},{\"attributes\":{},\"id\":\"207343\",\"type\":\"BasicTicker\"},{\"attributes\":{\"line_color\":\"#edc988\",\"line_width\":2,\"x\":{\"field\":\"fecha_sintomas\"},\"y\":{\"field\":\"sospechosos\"}},\"id\":\"207414\",\"type\":\"Line\"},{\"attributes\":{\"formatter\":{\"id\":\"207368\"},\"ticker\":{\"id\":\"207343\"}},\"id\":\"207342\",\"type\":\"LinearAxis\"},{\"attributes\":{\"source\":{\"id\":\"87386\"}},\"id\":\"207364\",\"type\":\"CDSView\"},{\"attributes\":{},\"id\":\"207350\",\"type\":\"ResetTool\"},{\"attributes\":{\"data\":{\"confirmados\":{\"__ndarray__\":\"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\",\"dtype\":\"float64\",\"order\":\"little\",\"shape\":[292]},\"defunciones\":{\"__ndarray__\":\"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\",\"dtype\":\"float64\",\"order\":\"little\",\"shape\":[292]},\"fecha_sintomas\":{\"__ndarray__\":\"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\",\"dtype\":\"float64\",\"order\":\"little\",\"shape\":[292]},\"index\":[245,246,247,248,249,250,251,252,253,254,255,256,0,257,258,259,260,261,262,263,264,265,266,267,268,269,270,271,1,272,273,274,275,276,277,278,2,279,280,281,282,283,284,285,286,287,288,289,3,4,290,5,6,7,8,9,10,11,12,13,14,15,16,17,18,19,20,21,22,23,24,25,26,27,28,29,30,31,32,33,34,35,36,37,38,39,40,41,42,43,44,45,46,47,48,49,50,51,52,53,54,55,56,57,58,59,60,61,62,63,64,65,66,67,68,69,70,71,72,73,74,75,76,77,78,79,80,81,82,83,84,85,86,87,88,89,90,91,92,93,94,95,96,97,98,99,100,101,102,103,104,105,106,107,108,109,110,111,112,113,114,115,116,117,118,119,120,121,122,123,124,125,126,127,128,129,130,131,132,133,134,135,136,137,138,139,140,141,142,143,144,145,146,147,148,149,150,151,152,153,154,155,156,157,158,159,160,161,162,163,164,165,166,167,168,169,170,171,172,173,174,175,176,177,178,179,180,181,182,183,184,185,186,187,188,189,190,191,192,193,194,195,196,197,198,199,200,201,202,203,204,205,206,207,208,209,210,211,212,213,214,215,216,217,218,219,220,221,222,223,224,225,226,227,228,229,230,231,232,233,234,235,236,237,238,239,240,241,242,243,244,291],\"sospechosos\":[133,114,113,107,164,182,174,147,152,154,147,217,312,260,253,206,162,179,281,312,246,211,193,211,210,268,323,250,217,152,157,199,225,267,280,217,146,166,204,247,306,205,176,154,166,236,252,262,247,211,173,166,222,241,274,240,198,168,187,271,349,321,256,231,189,137,146,248,282,276,225,151,189,203,342,371,365,357,296,450,408,513,897,882,968,895,931,966,1064,1305,1059,1252,863,911,860,856,1053,912,956,868,1096,979,971,1323,1092,1139,1105,1119,1060,1148,1530,1008,921,899,868,858,751,854,702,593,650,948,682,681,734,822,710,669,779,694,994,866,773,776,791,1049,711,812,1141,830,1102,733,821,785,836,1138,804,824,972,813,815,746,1388,928,971,847,989,955,891,1155,915,1225,886,1125,980,960,1486,1165,1007,1322,1307,1940,1438,1892,1510,1681,1586,1828,1409,1387,1645,1547,1848,1345,1205,1014,1246,1420,1233,1110,1097,1492,1198,1012,1275,1153,1292,1145,1154,1053,1063,1565,1070,1052,998,1078,1090,968,1260,953,920,872,975,1342,905,1133,877,1157,855,962,940,882,1555,911,966,936,906,1121,932,1078,1131,733,1156,949,822,808,1065,1123,964,871,1140,787,1015,1271,1437,973,985,934,969,786,1080,874,909,1045,801,792,753,1098,1005,787,989,996,1078,1391,1189,953,867,925,1144,855,981,1287,1235,1418,1809,1365,1173,1251,2089,1640,2132,2324,2705,4882,3446,4868,4381,4668,3952,2680,918,26]},\"selected\":{\"id\":\"87431\"},\"selection_policy\":{\"id\":\"87430\"}},\"id\":\"87386\",\"type\":\"ColumnDataSource\"},{\"attributes\":{},\"id\":\"87430\",\"type\":\"UnionRenderers\"},{\"attributes\":{\"days\":[1,15]},\"id\":\"207378\",\"type\":\"DaysTicker\"},{\"attributes\":{\"data_source\":{\"id\":\"87386\"},\"glyph\":{\"id\":\"207388\"},\"hover_glyph\":null,\"muted_glyph\":null,\"nonselection_glyph\":{\"id\":\"207389\"},\"selection_glyph\":null,\"view\":{\"id\":\"207391\"}},\"id\":\"207390\",\"type\":\"GlyphRenderer\"},{\"attributes\":{\"fill_alpha\":{\"value\":0},\"fill_color\":{\"value\":\"#d7385e\"},\"line_alpha\":{\"value\":0},\"line_color\":{\"value\":\"#d7385e\"},\"size\":{\"units\":\"screen\",\"value\":2},\"x\":{\"field\":\"fecha_sintomas\"},\"y\":{\"field\":\"confirmados\"}},\"id\":\"209071\",\"type\":\"Circle\"},{\"attributes\":{},\"id\":\"207366\",\"type\":\"DatetimeTickFormatter\"},{\"attributes\":{},\"id\":\"207347\",\"type\":\"WheelZoomTool\"},{\"attributes\":{\"axis\":{\"id\":\"207338\"},\"ticker\":null},\"id\":\"207341\",\"type\":\"Grid\"},{\"attributes\":{},\"id\":\"87431\",\"type\":\"Selection\"},{\"attributes\":{\"line_alpha\":0.1,\"line_color\":\"#edc988\",\"line_width\":2,\"x\":{\"field\":\"fecha_sintomas\"},\"y\":{\"field\":\"sospechosos\"}},\"id\":\"207415\",\"type\":\"Line\"},{\"attributes\":{\"active_drag\":\"auto\",\"active_inspect\":\"auto\",\"active_multi\":null,\"active_scroll\":\"auto\",\"active_tap\":\"auto\",\"tools\":[{\"id\":\"207346\"},{\"id\":\"207347\"},{\"id\":\"207348\"},{\"id\":\"207349\"},{\"id\":\"207350\"},{\"id\":\"207351\"}]},\"id\":\"207353\",\"type\":\"Toolbar\"},{\"attributes\":{\"source\":{\"id\":\"87386\"}},\"id\":\"207417\",\"type\":\"CDSView\"},{\"attributes\":{},\"id\":\"207368\",\"type\":\"BasicTickFormatter\"},{\"attributes\":{\"source\":{\"id\":\"87386\"}},\"id\":\"207391\",\"type\":\"CDSView\"},{\"attributes\":{\"fill_alpha\":{\"value\":0.1},\"fill_color\":{\"value\":\"#d7385e\"},\"line_alpha\":{\"value\":0.1},\"line_color\":{\"value\":\"#d7385e\"},\"size\":{\"units\":\"screen\",\"value\":2},\"x\":{\"field\":\"fecha_sintomas\"},\"y\":{\"field\":\"confirmados\"}},\"id\":\"209072\",\"type\":\"Circle\"},{\"attributes\":{},\"id\":\"207336\",\"type\":\"LinearScale\"},{\"attributes\":{\"source\":{\"id\":\"87386\"}},\"id\":\"209074\",\"type\":\"CDSView\"},{\"attributes\":{\"overlay\":{\"id\":\"207352\"}},\"id\":\"207348\",\"type\":\"BoxZoomTool\"},{\"attributes\":{\"data_source\":{\"id\":\"87386\"},\"glyph\":{\"id\":\"207361\"},\"hover_glyph\":null,\"muted_glyph\":null,\"nonselection_glyph\":{\"id\":\"207362\"},\"selection_glyph\":null,\"view\":{\"id\":\"207364\"}},\"id\":\"207363\",\"type\":\"GlyphRenderer\"},{\"attributes\":{\"formatter\":{\"id\":\"207366\"},\"ticker\":{\"id\":\"207339\"}},\"id\":\"207338\",\"type\":\"DatetimeAxis\"},{\"attributes\":{\"days\":[1,4,7,10,13,16,19,22,25,28]},\"id\":\"207376\",\"type\":\"DaysTicker\"},{\"attributes\":{\"days\":[1,8,15,22]},\"id\":\"207377\",\"type\":\"DaysTicker\"}],\"root_ids\":[\"207327\"]},\"title\":\"Bokeh Application\",\"version\":\"2.2.1\"}};\n  var render_items = [{\"docid\":\"75c7c1db-4a8b-4941-bb90-f34392556532\",\"root_ids\":[\"207327\"],\"roots\":{\"207327\":\"c7ae040a-82fd-4b59-b5fd-fb659dcf0aab\"}}];\n  root.Bokeh.embed.embed_items_notebook(docs_json, render_items);\n\n  }\n  if (root.Bokeh !== undefined) {\n    embed_document(root);\n  } else {\n    var attempts = 0;\n    var timer = setInterval(function(root) {\n      if (root.Bokeh !== undefined) {\n        clearInterval(timer);\n        embed_document(root);\n      } else {\n        attempts++;\n        if (attempts > 100) {\n          clearInterval(timer);\n          console.log(\"Bokeh: ERROR: Unable to run BokehJS code because BokehJS library is missing\");\n        }\n      }\n    }, 10, root)\n  }\n})(window);",
      "application/vnd.bokehjs_exec.v0+json": ""
     },
     "metadata": {
      "application/vnd.bokehjs_exec.v0+json": {
       "id": "207327"
      }
     }
    }
   ],
   "source": [
    "cr1 = p.circle(x=\"fecha_sintomas\", y=\"confirmados\",color=\"#d7385e\",size=2,alpha=0,source=source)\n",
    "bpl.show(p)"
   ]
  },
  {
   "source": [
    "Una vez que tenemos los glifos invisibles podemos agregar la herramienta de \"hover\" a nuestra gráfica y agregar el tooltip en nuestro glifo. \n",
    "\n",
    "Para agregar herramientas nuevas lo hacemos sobre la gráfica completa y con la función add_tools(). En este caso agregaremos la herramienta hover que está definida en la parte de modelos de bokeh.\n",
    "\n",
    "La herramienta HoverTool requiere como parámetros el tooltip a agregar y el \"renderer\" sobre el cual se va a aplicar la herramienta. Además podemos agregar formato para los textos del tooltip y el modo de hover el cual puede ser directo sobre el elemento gráfico, o solamente detectando la coordenada x o y.\n",
    "\n",
    "En este caso agregaremos un tooltip con la fecha y con el número de casos confirmados, sospechosos y las defunciones de ese día. Lo aplicaremos sobre el \"renderer\" que definimos anteriormente. Para la fecha necesitamos indicar que requerimos formato de fecha. Además usaremos el modo \"vline\" para que detecte nuestra posición en x."
   ],
   "cell_type": "markdown",
   "metadata": {}
  },
  {
   "cell_type": "code",
   "execution_count": 264,
   "metadata": {},
   "outputs": [],
   "source": [
    "p.add_tools(bmd.HoverTool(tooltips=[('Fecha de síntomas', '@fecha_sintomas{%F}'),(\"Confirmados\",\"@confirmados\"),(\"Sospechosos\",\"@sospechosos\"),(\"Defunciones\",\"@defunciones\")],formatters={'@fecha_sintomas': 'datetime'}, renderers=[cr1], mode='vline'))"
   ]
  },
  {
   "cell_type": "code",
   "execution_count": 265,
   "metadata": {},
   "outputs": [
    {
     "output_type": "display_data",
     "data": {
      "text/html": "\n\n\n\n\n\n  <div class=\"bk-root\" id=\"e380ec91-403c-4bf1-9436-789dc51c0938\" data-root-id=\"207327\"></div>\n"
     },
     "metadata": {}
    },
    {
     "output_type": "display_data",
     "data": {
      "application/javascript": "(function(root) {\n  function embed_document(root) {\n    \n  var docs_json = {\"15e4da09-9ea8-462a-bbd4-cb8501fbc49f\":{\"roots\":{\"references\":[{\"attributes\":{\"below\":[{\"id\":\"207338\"}],\"center\":[{\"id\":\"207341\"},{\"id\":\"207345\"},{\"id\":\"207385\"}],\"left\":[{\"id\":\"207342\"}],\"plot_width\":800,\"renderers\":[{\"id\":\"207363\"},{\"id\":\"207390\"},{\"id\":\"207416\"},{\"id\":\"209073\"}],\"title\":{\"id\":\"207328\"},\"toolbar\":{\"id\":\"207353\"},\"x_range\":{\"id\":\"207330\"},\"x_scale\":{\"id\":\"207334\"},\"y_range\":{\"id\":\"207332\"},\"y_scale\":{\"id\":\"207336\"}},\"id\":\"207327\",\"subtype\":\"Figure\",\"type\":\"Plot\"},{\"attributes\":{\"days\":[1,2,3,4,5,6,7,8,9,10,11,12,13,14,15,16,17,18,19,20,21,22,23,24,25,26,27,28,29,30,31]},\"id\":\"207375\",\"type\":\"DaysTicker\"},{\"attributes\":{\"base\":24,\"mantissas\":[1,2,4,6,8,12],\"max_interval\":43200000.0,\"min_interval\":3600000.0,\"num_minor_ticks\":0},\"id\":\"207374\",\"type\":\"AdaptiveTicker\"},{\"attributes\":{\"items\":[{\"id\":\"207386\"},{\"id\":\"207412\"},{\"id\":\"207438\"}]},\"id\":\"207385\",\"type\":\"Legend\"},{\"attributes\":{\"months\":[0,2,4,6,8,10]},\"id\":\"207380\",\"type\":\"MonthsTicker\"},{\"attributes\":{\"line_alpha\":0.1,\"line_color\":\"#070d59\",\"line_width\":2,\"x\":{\"field\":\"fecha_sintomas\"},\"y\":{\"field\":\"defunciones\"}},\"id\":\"207389\",\"type\":\"Line\"},{\"attributes\":{\"num_minor_ticks\":5,\"tickers\":[{\"id\":\"207372\"},{\"id\":\"207373\"},{\"id\":\"207374\"},{\"id\":\"207375\"},{\"id\":\"207376\"},{\"id\":\"207377\"},{\"id\":\"207378\"},{\"id\":\"207379\"},{\"id\":\"207380\"},{\"id\":\"207381\"},{\"id\":\"207382\"},{\"id\":\"207383\"}]},\"id\":\"207339\",\"type\":\"DatetimeTicker\"},{\"attributes\":{\"line_color\":\"#d7385e\",\"line_width\":2,\"x\":{\"field\":\"fecha_sintomas\"},\"y\":{\"field\":\"confirmados\"}},\"id\":\"207361\",\"type\":\"Line\"},{\"attributes\":{\"bottom_units\":\"screen\",\"fill_alpha\":0.5,\"fill_color\":\"lightgrey\",\"left_units\":\"screen\",\"level\":\"overlay\",\"line_alpha\":1.0,\"line_color\":\"black\",\"line_dash\":[4,4],\"line_width\":2,\"right_units\":\"screen\",\"top_units\":\"screen\"},\"id\":\"207352\",\"type\":\"BoxAnnotation\"},{\"attributes\":{},\"id\":\"207334\",\"type\":\"LinearScale\"},{\"attributes\":{\"mantissas\":[1,2,5],\"max_interval\":500.0,\"num_minor_ticks\":0},\"id\":\"207372\",\"type\":\"AdaptiveTicker\"},{\"attributes\":{\"months\":[0,1,2,3,4,5,6,7,8,9,10,11]},\"id\":\"207379\",\"type\":\"MonthsTicker\"},{\"attributes\":{\"axis\":{\"id\":\"207342\"},\"dimension\":1,\"ticker\":null},\"id\":\"207345\",\"type\":\"Grid\"},{\"attributes\":{\"text\":\"Casos de COVID19 en M\\u00e9xico\"},\"id\":\"207328\",\"type\":\"Title\"},{\"attributes\":{\"label\":{\"value\":\"Casos confirmados\"},\"renderers\":[{\"id\":\"207363\"}]},\"id\":\"207386\",\"type\":\"LegendItem\"},{\"attributes\":{\"data_source\":{\"id\":\"87386\"},\"glyph\":{\"id\":\"207414\"},\"hover_glyph\":null,\"muted_glyph\":null,\"nonselection_glyph\":{\"id\":\"207415\"},\"selection_glyph\":null,\"view\":{\"id\":\"207417\"}},\"id\":\"207416\",\"type\":\"GlyphRenderer\"},{\"attributes\":{},\"id\":\"207330\",\"type\":\"DataRange1d\"},{\"attributes\":{\"label\":{\"value\":\"Casos sospechosos\"},\"renderers\":[{\"id\":\"207416\"}]},\"id\":\"207438\",\"type\":\"LegendItem\"},{\"attributes\":{\"line_alpha\":0.1,\"line_color\":\"#d7385e\",\"line_width\":2,\"x\":{\"field\":\"fecha_sintomas\"},\"y\":{\"field\":\"confirmados\"}},\"id\":\"207362\",\"type\":\"Line\"},{\"attributes\":{\"label\":{\"value\":\"Defunciones\"},\"renderers\":[{\"id\":\"207390\"}]},\"id\":\"207412\",\"type\":\"LegendItem\"},{\"attributes\":{},\"id\":\"207346\",\"type\":\"PanTool\"},{\"attributes\":{},\"id\":\"207351\",\"type\":\"HelpTool\"},{\"attributes\":{\"base\":60,\"mantissas\":[1,2,5,10,15,20,30],\"max_interval\":1800000.0,\"min_interval\":1000.0,\"num_minor_ticks\":0},\"id\":\"207373\",\"type\":\"AdaptiveTicker\"},{\"attributes\":{},\"id\":\"207383\",\"type\":\"YearsTicker\"},{\"attributes\":{},\"id\":\"207332\",\"type\":\"DataRange1d\"},{\"attributes\":{\"months\":[0,4,8]},\"id\":\"207381\",\"type\":\"MonthsTicker\"},{\"attributes\":{\"line_color\":\"#070d59\",\"line_width\":2,\"x\":{\"field\":\"fecha_sintomas\"},\"y\":{\"field\":\"defunciones\"}},\"id\":\"207388\",\"type\":\"Line\"},{\"attributes\":{\"months\":[0,6]},\"id\":\"207382\",\"type\":\"MonthsTicker\"},{\"attributes\":{},\"id\":\"207349\",\"type\":\"SaveTool\"},{\"attributes\":{\"data_source\":{\"id\":\"87386\"},\"glyph\":{\"id\":\"209071\"},\"hover_glyph\":null,\"muted_glyph\":null,\"nonselection_glyph\":{\"id\":\"209072\"},\"selection_glyph\":null,\"view\":{\"id\":\"209074\"}},\"id\":\"209073\",\"type\":\"GlyphRenderer\"},{\"attributes\":{},\"id\":\"207343\",\"type\":\"BasicTicker\"},{\"attributes\":{\"line_color\":\"#edc988\",\"line_width\":2,\"x\":{\"field\":\"fecha_sintomas\"},\"y\":{\"field\":\"sospechosos\"}},\"id\":\"207414\",\"type\":\"Line\"},{\"attributes\":{\"formatter\":{\"id\":\"207368\"},\"ticker\":{\"id\":\"207343\"}},\"id\":\"207342\",\"type\":\"LinearAxis\"},{\"attributes\":{\"source\":{\"id\":\"87386\"}},\"id\":\"207364\",\"type\":\"CDSView\"},{\"attributes\":{},\"id\":\"207350\",\"type\":\"ResetTool\"},{\"attributes\":{\"data\":{\"confirmados\":{\"__ndarray__\":\"AAAAAAAA+H8AAAAAAAD4fwAAAAAAAPh/AAAAAAAA+H8AAAAAAAD4fwAAAAAAAPh/AAAAAAAA+H8AAAAAAAD4fwAAAAAAAPh/AAAAAAAA+H8AAAAAAAD4fwAAAAAAAPh/AAAAAAAA8D8AAAAAAAD4fwAAAAAAAPh/AAAAAAAA+H8AAAAAAAD4fwAAAAAAAPh/AAAAAAAA+H8AAAAAAAD4fwAAAAAAAPh/AAAAAAAA+H8AAAAAAAD4fwAAAAAAAPh/AAAAAAAA+H8AAAAAAAD4fwAAAAAAAPh/AAAAAAAA+H8AAAAAAADwPwAAAAAAAPh/AAAAAAAA+H8AAAAAAAD4fwAAAAAAAPh/AAAAAAAA+H8AAAAAAAD4fwAAAAAAAPh/AAAAAAAA8D8AAAAAAAD4fwAAAAAAAPh/AAAAAAAA+H8AAAAAAAD4fwAAAAAAAPh/AAAAAAAA+H8AAAAAAAD4fwAAAAAAAPh/AAAAAAAA+H8AAAAAAAD4fwAAAAAAAPh/AAAAAAAA8D8AAAAAAADwPwAAAAAAAPh/AAAAAAAA8D8AAAAAAAAAQAAAAAAAAPA/AAAAAAAACEAAAAAAAAAAQAAAAAAAAABAAAAAAAAAAEAAAAAAAAAAQAAAAAAAAABAAAAAAAAAIEAAAAAAAAAiQAAAAAAAACBAAAAAAAAAIEAAAAAAAAAcQAAAAAAAACZAAAAAAAAANUAAAAAAAAA1QAAAAAAAgFBAAAAAAACASUAAAAAAAIBJQAAAAAAAAFZAAAAAAABAWUAAAAAAAMBYQAAAAAAAwFpAAAAAAADgYEAAAAAAAGBhQAAAAAAAoGBAAAAAAADAX0AAAAAAAKBpQAAAAAAAoGFAAAAAAACgYkAAAAAAAKBsQAAAAAAA4GdAAAAAAADga0AAAAAAABBxQAAAAAAAsHJAAAAAAADQcUAAAAAAAPBwQAAAAAAAAHlAAAAAAADAc0AAAAAAAHB+QAAAAAAAQHxAAAAAAADAfEAAAAAAAPB8QAAAAAAAEHxAAAAAAADYgkAAAAAAAHiAQAAAAAAAOIRAAAAAAABQhEAAAAAAAFCPQAAAAAAA0IdAAAAAAAAoiUAAAAAAADCPQAAAAAAAUI1AAAAAAAA0kUAAAAAAAJiQQAAAAAAAFJNAAAAAAABslEAAAAAAAISSQAAAAAAADJ5AAAAAAADkk0AAAAAAAHyUQAAAAAAAEJVAAAAAAAAYmUAAAAAAACyaQAAAAAAAXJdAAAAAAABsnEAAAAAAABiZQAAAAAAAhJZAAAAAAABkn0AAAAAAAHClQAAAAAAApJ5AAAAAAABInUAAAAAAAKKiQAAAAAAAxqJAAAAAAADMoEAAAAAAAJ6iQAAAAAAAuKVAAAAAAAA6o0AAAAAAAOKpQAAAAAAAFqhAAAAAAACwpUAAAAAAAB6lQAAAAAAAOKVAAAAAAABwr0AAAAAAANinQAAAAAAA1KZAAAAAAABysEAAAAAAAI6pQAAAAAAAnLFAAAAAAAAuqEAAAAAAAHSuQAAAAAAAFKxAAAAAAABsqkAAAAAAANuzQAAAAAAAMq1AAAAAAADWq0AAAAAAALavQAAAAAAAD7BAAAAAAADsrkAAAAAAAL6sQAAAAAAAI7pAAAAAAABssEAAAAAAAEKwQAAAAAAA1bBAAAAAAADbtEAAAAAAAIOzQAAAAAAAg7BAAAAAAAActkAAAAAAANuxQAAAAAAAH7hAAAAAAABusUAAAAAAAG60QAAAAAAAL7JAAAAAAACpsUAAAAAAAEK7QAAAAAAAgrRAAAAAAACpsUAAAAAAAJy1QAAAAAAA9rVAAAAAAACZvEAAAAAAADuyQAAAAAAAP7dAAAAAAABBtEAAAAAAAA+0QAAAAAAADLhAAAAAAAAEukAAAAAAAEq0QAAAAAAAZ7hAAAAAAADDuUAAAAAAALa5QAAAAAAAlcBAAAAAAAAyuEAAAAAAAPW5QAAAAAAAm7ZAAAAAAAD8uEAAAAAAAIq7QAAAAAAAPblAAAAAAAAst0AAAAAAAL63QAAAAACAQcJAAAAAAABTt0AAAAAAAIq4QAAAAAAAsr1AAAAAAADXuEAAAAAAAFW/QAAAAAAA+LhAAAAAAAD6u0AAAAAAAN+7QAAAAAAA+7hAAAAAAIAWw0AAAAAAAFu3QAAAAAAA77ZAAAAAAACwtkAAAAAAAKe4QAAAAAAA2LxAAAAAAADwtUAAAAAAAEG8QAAAAAAAK7dAAAAAAADws0AAAAAAAFq0QAAAAAAAebVAAAAAAACxv0AAAAAAAEm0QAAAAAAAYbhAAAAAAADcskAAAAAAAMa1QAAAAAAA2rJAAAAAAACStEAAAAAAAGi1QAAAAAAAjLFAAAAAAADZvUAAAAAAAJ+yQAAAAAAApbJAAAAAAAAdskAAAAAAAPG0QAAAAAAAkbZAAAAAAACnsUAAAAAAAAa2QAAAAAAAIrZAAAAAAAAaskAAAAAAAHa8QAAAAAAAvbNAAAAAAADZskAAAAAAAGmxQAAAAAAA47ZAAAAAAAA/tkAAAAAAAIWyQAAAAAAAyrJAAAAAAABwt0AAAAAAAOCwQAAAAAAAf7JAAAAAAACGtUAAAAAAAC27QAAAAAAAdbJAAAAAAAChsUAAAAAAAC6yQAAAAAAAc7NAAAAAAACMr0AAAAAAAIOzQAAAAAAAdLFAAAAAAABZsEAAAAAAAHi0QAAAAAAA5q9AAAAAAADcqkAAAAAAALqpQAAAAAAAprFAAAAAAADcskAAAAAAAIqrQAAAAAAAlbBAAAAAAADYskAAAAAAAKSxQAAAAAAAuLVAAAAAAACAskAAAAAAAFqvQAAAAAAA+q1AAAAAAAAQrkAAAAAAADazQAAAAAAAMq5AAAAAAAD2rUAAAAAAAMOyQAAAAAAA4q9AAAAAAABGr0AAAAAAAEm1QAAAAAAA3q9AAAAAAAAqrUAAAAAAAKKrQAAAAAAA87JAAAAAAAByrUAAAAAAAHKsQAAAAAAALKtAAAAAAADuqUAAAAAAAFyrQAAAAAAAgqBAAAAAAACkoEAAAAAAALSVQAAAAAAA+IRAAAAAAADwdEAAAAAAAIBPQAAAAAAAADJAAAAAAAAA+H8=\",\"dtype\":\"float64\",\"order\":\"little\",\"shape\":[292]},\"defunciones\":{\"__ndarray__\":\"AAAAAAAA+H8AAAAAAAD4fwAAAAAAAPh/AAAAAAAA+H8AAAAAAAD4fwAAAAAAAPh/AAAAAAAA+H8AAAAAAAD4fwAAAAAAAPh/AAAAAAAA+H8AAAAAAAD4fwAAAAAAAPh/AAAAAAAA+H8AAAAAAAD4fwAAAAAAAPh/AAAAAAAA+H8AAAAAAAD4fwAAAAAAAPh/AAAAAAAA+H8AAAAAAAD4fwAAAAAAAPh/AAAAAAAA+H8AAAAAAAD4fwAAAAAAAPh/AAAAAAAA+H8AAAAAAAD4fwAAAAAAAPh/AAAAAAAA+H8AAAAAAAD4fwAAAAAAAPh/AAAAAAAA+H8AAAAAAAD4fwAAAAAAAPh/AAAAAAAA+H8AAAAAAAD4fwAAAAAAAPh/AAAAAAAA8D8AAAAAAAD4fwAAAAAAAPh/AAAAAAAA+H8AAAAAAAD4fwAAAAAAAPh/AAAAAAAA+H8AAAAAAAD4fwAAAAAAAPh/AAAAAAAA+H8AAAAAAAD4fwAAAAAAAPh/AAAAAAAA+H8AAAAAAAD4fwAAAAAAAPh/AAAAAAAA+H8AAAAAAAD4fwAAAAAAAPh/AAAAAAAA+H8AAAAAAAD4fwAAAAAAAPA/AAAAAAAA8D8AAAAAAAD4fwAAAAAAAPh/AAAAAAAA8D8AAAAAAAAAQAAAAAAAAAhAAAAAAAAAAEAAAAAAAAD4fwAAAAAAAAhAAAAAAAAA+H8AAAAAAAAAQAAAAAAAAAhAAAAAAAAA8D8AAAAAAAD4fwAAAAAAAPh/AAAAAAAAHEAAAAAAAAAYQAAAAAAAACZAAAAAAAAALkAAAAAAAAAsQAAAAAAAACxAAAAAAAAAMEAAAAAAAAA+QAAAAAAAADlAAAAAAAAAO0AAAAAAAIBFQAAAAAAAAEFAAAAAAAAARUAAAAAAAIBJQAAAAAAAgEhAAAAAAAAAS0AAAAAAAABOQAAAAAAAgFJAAAAAAAAAUUAAAAAAAABZQAAAAAAAwFhAAAAAAADAWUAAAAAAAIBWQAAAAAAAQFRAAAAAAABAXkAAAAAAAIBeQAAAAAAAgGNAAAAAAAAAX0AAAAAAAGBpQAAAAAAAoGJAAAAAAADgZkAAAAAAAKBrQAAAAAAAAGhAAAAAAADgbkAAAAAAAIBsQAAAAAAAgHBAAAAAAABQc0AAAAAAAMBwQAAAAAAAAHlAAAAAAACQcEAAAAAAAOBwQAAAAAAA4HFAAAAAAABQdkAAAAAAAPB1QAAAAAAAoHNAAAAAAACAd0AAAAAAACB0QAAAAAAA0HFAAAAAAABAeUAAAAAAADiBQAAAAAAAEHVAAAAAAADwdEAAAAAAAAB7QAAAAAAAYH5AAAAAAABAeUAAAAAAAEB7QAAAAAAAwH9AAAAAAACQekAAAAAAAFCFQAAAAAAA4IBAAAAAAABge0AAAAAAAPB7QAAAAAAAMHxAAAAAAABwgkAAAAAAAEB9QAAAAAAAAH1AAAAAAAD4gkAAAAAAALB/QAAAAAAAcIVAAAAAAACAfEAAAAAAAHiBQAAAAAAAGIFAAAAAAABAgEAAAAAAAEiGQAAAAAAAoIBAAAAAAABIgEAAAAAAAJiCQAAAAAAAmIBAAAAAAAAwgUAAAAAAABCDQAAAAAAAkI9AAAAAAACIgkAAAAAAADCBQAAAAAAAiIJAAAAAAABQhEAAAAAAAFiEQAAAAAAAoIFAAAAAAAAghkAAAAAAAKiDQAAAAAAAUIhAAAAAAAB4gEAAAAAAAKiEQAAAAAAAWIBAAAAAAAAggkAAAAAAALiJQAAAAAAAUIJAAAAAAADggEAAAAAAANiDQAAAAAAAGIRAAAAAAAAoiUAAAAAAAHCBQAAAAAAAAIVAAAAAAADogUAAAAAAAGCDQAAAAAAASIRAAAAAAADIhUAAAAAAAPiBQAAAAAAAUIZAAAAAAAAAhUAAAAAAAGiGQAAAAAAAEI9AAAAAAACghkAAAAAAAEiGQAAAAAAA2INAAAAAAAA4hUAAAAAAADCGQAAAAAAAeIZAAAAAAAA4hEAAAAAAAIiCQAAAAAAACIxAAAAAAABwgkAAAAAAAJCEQAAAAAAAiIVAAAAAAABgg0AAAAAAAMCHQAAAAAAAwINAAAAAAADIhUAAAAAAANCEQAAAAAAA2INAAAAAAABgjkAAAAAAAMiAQAAAAAAAgIJAAAAAAACQgkAAAAAAABCDQAAAAAAAaIVAAAAAAABAgUAAAAAAAKiFQAAAAAAAAIFAAAAAAACgfkAAAAAAAJB+QAAAAAAAYH9AAAAAAACAh0AAAAAAAJB7QAAAAAAA+IJAAAAAAACwe0AAAAAAAAB/QAAAAAAAMHtAAAAAAAAwfEAAAAAAAOB9QAAAAAAAoHhAAAAAAADQg0AAAAAAANB5QAAAAAAAsHZAAAAAAAAgekAAAAAAALB8QAAAAAAA8H1AAAAAAABAd0AAAAAAAAB8QAAAAAAAoHpAAAAAAAAQeEAAAAAAAGiCQAAAAAAAcHZAAAAAAABgdkAAAAAAAJB1QAAAAAAA0HlAAAAAAAAAeUAAAAAAALB1QAAAAAAAUHZAAAAAAADQe0AAAAAAAHBxQAAAAAAAAHZAAAAAAAAAeUAAAAAAADB+QAAAAAAAsHRAAAAAAAAAc0AAAAAAAPB1QAAAAAAAoHVAAAAAAADQckAAAAAAAFB0QAAAAAAAsHNAAAAAAADQcEAAAAAAAKB4QAAAAAAAUHFAAAAAAADAbkAAAAAAAGBtQAAAAAAAoHFAAAAAAACAcUAAAAAAAFBxQAAAAAAAAG5AAAAAAAAwcEAAAAAAAEBtQAAAAAAAQHNAAAAAAACgcUAAAAAAAGBrQAAAAAAAYGpAAAAAAABAZ0AAAAAAAABuQAAAAAAA4GRAAAAAAACgaEAAAAAAAOBpQAAAAAAAQGVAAAAAAACAYkAAAAAAAOBrQAAAAAAAwGBAAAAAAABAXUAAAAAAAIBcQAAAAAAAAFZAAAAAAACAVEAAAAAAAABUQAAAAAAAAE1AAAAAAACASkAAAAAAAIBGQAAAAAAAADhAAAAAAAAANkAAAAAAAAAUQAAAAAAAABxAAAAAAAAA8D8AAAAAAAD4fwAAAAAAAPh/AAAAAAAA+H8=\",\"dtype\":\"float64\",\"order\":\"little\",\"shape\":[292]},\"fecha_sintomas\":{\"__ndarray__\":\"AACAbub1dkIAAEDUOPZ2QgAAADqL9nZCAADAn932dkIAAIAFMPd2QgAAQGuC93ZCAAAA0dT3dkIAAMA2J/h2QgAAgJx5+HZCAABAAsz4dkIAAABoHvl2QgAAwM1w+XZCAACAM8P5dkIAAECZFfp2QgAAAP9n+nZCAADAZLr6dkIAAIDKDPt2QgAAQDBf+3ZCAAAAlrH7dkIAAMD7A/x2QgAAgGFW/HZCAABAx6j8dkIAAAAt+/x2QgAAwJJN/XZCAACA+J/9dkIAAEBe8v12QgAAAMRE/nZCAADAKZf+dkIAAICP6f52QgAAQPU7/3ZCAAAAW47/dkIAAMDA4P92QgAAgCYzAHdCAABAjIUAd0IAAADy1wB3QgAAwFcqAXdCAACAvXwBd0IAAEAjzwF3QgAAAIkhAndCAADA7nMCd0IAAIBUxgJ3QgAAQLoYA3dCAAAAIGsDd0IAAMCFvQN3QgAAgOsPBHdCAABAUWIEd0IAAAC3tAR3QgAAwBwHBXdCAACAglkFd0IAAEDoqwV3QgAAAE7+BXdCAADAs1AGd0IAAIAZowZ3QgAAQH/1BndCAAAA5UcHd0IAAMBKmgd3QgAAgLDsB3dCAABAFj8Id0IAAAB8kQh3QgAAwOHjCHdCAACARzYJd0IAAECtiAl3QgAAABPbCXdCAADAeC0Kd0IAAIDefwp3QgAAQETSCndCAAAAqiQLd0IAAMAPdwt3QgAAgHXJC3dCAABA2xsMd0IAAABBbgx3QgAAwKbADHdCAACADBMNd0IAAEByZQ13QgAAANi3DXdCAADAPQoOd0IAAICjXA53QgAAQAmvDndCAAAAbwEPd0IAAMDUUw93QgAAgDqmD3dCAABAoPgPd0IAAAAGSxB3QgAAwGudEHdCAACA0e8Qd0IAAEA3QhF3QgAAAJ2UEXdCAADAAucRd0IAAIBoORJ3QgAAQM6LEndCAAAANN4Sd0IAAMCZMBN3QgAAgP+CE3dCAABAZdUTd0IAAADLJxR3QgAAwDB6FHdCAACAlswUd0IAAED8HhV3QgAAAGJxFXdCAADAx8MVd0IAAIAtFhZ3QgAAQJNoFndCAAAA+boWd0IAAMBeDRd3QgAAgMRfF3dCAABAKrIXd0IAAACQBBh3QgAAwPVWGHdCAACAW6kYd0IAAEDB+xh3QgAAACdOGXdCAADAjKAZd0IAAIDy8hl3QgAAQFhFGndCAAAAvpcad0IAAMAj6hp3QgAAgIk8G3dCAABA744bd0IAAABV4Rt3QgAAwLozHHdCAACAIIYcd0IAAECG2Bx3QgAAAOwqHXdCAADAUX0dd0IAAIC3zx13QgAAQB0iHndCAAAAg3Qed0IAAMDoxh53QgAAgE4ZH3dCAABAtGsfd0IAAAAavh93QgAAwH8QIHdCAACA5WIgd0IAAEBLtSB3QgAAALEHIXdCAADAFlohd0IAAIB8rCF3QgAAQOL+IXdCAAAASFEid0IAAMCtoyJ3QgAAgBP2IndCAABAeUgjd0IAAADfmiN3QgAAwETtI3dCAACAqj8kd0IAAEAQkiR3QgAAAHbkJHdCAADA2zYld0IAAIBBiSV3QgAAQKfbJXdCAAAADS4md0IAAMBygCZ3QgAAgNjSJndCAABAPiUnd0IAAACkdyd3QgAAwAnKJ3dCAACAbxwod0IAAEDVbih3QgAAADvBKHdCAADAoBMpd0IAAIAGZil3QgAAQGy4KXdCAAAA0goqd0IAAMA3XSp3QgAAgJ2vKndCAABAAwIrd0IAAABpVCt3QgAAwM6mK3dCAACANPkrd0IAAECaSyx3QgAAAACeLHdCAADAZfAsd0IAAIDLQi13QgAAQDGVLXdCAAAAl+ctd0IAAMD8OS53QgAAgGKMLndCAABAyN4ud0IAAAAuMS93QgAAwJODL3dCAACA+dUvd0IAAEBfKDB3QgAAAMV6MHdCAADAKs0wd0IAAICQHzF3QgAAQPZxMXdCAAAAXMQxd0IAAMDBFjJ3QgAAgCdpMndCAABAjbsyd0IAAADzDTN3QgAAwFhgM3dCAACAvrIzd0IAAEAkBTR3QgAAAIpXNHdCAADA76k0d0IAAIBV/DR3QgAAQLtONXdCAAAAIaE1d0IAAMCG8zV3QgAAgOxFNndCAABAUpg2d0IAAAC46jZ3QgAAwB09N3dCAACAg483d0IAAEDp4Td3QgAAAE80OHdCAADAtIY4d0IAAIAa2Th3QgAAQIArOXdCAAAA5n05d0IAAMBL0Dl3QgAAgLEiOndCAABAF3U6d0IAAAB9xzp3QgAAwOIZO3dCAACASGw7d0IAAECuvjt3QgAAABQRPHdCAADAeWM8d0IAAIDftTx3QgAAQEUIPXdCAAAAq1o9d0IAAMAQrT13QgAAgHb/PXdCAABA3FE+d0IAAABCpD53QgAAwKf2PndCAACADUk/d0IAAEBzmz93QgAAANntP3dCAADAPkBAd0IAAICkkkB3QgAAQArlQHdCAAAAcDdBd0IAAMDViUF3QgAAgDvcQXdCAABAoS5Cd0IAAAAHgUJ3QgAAwGzTQndCAACA0iVDd0IAAEA4eEN3QgAAAJ7KQ3dCAADAAx1Ed0IAAIBpb0R3QgAAQM/BRHdCAAAANRRFd0IAAMCaZkV3QgAAgAC5RXdCAABAZgtGd0IAAADMXUZ3QgAAwDGwRndCAACAlwJHd0IAAED9VEd3QgAAAGOnR3dCAADAyPlHd0IAAIAuTEh3QgAAQJSeSHdCAAAA+vBId0IAAMBfQ0l3QgAAgMWVSXdCAABAK+hJd0IAAACROkp3QgAAwPaMSndCAACAXN9Kd0IAAEDCMUt3QgAAACiES3dCAADAjdZLd0IAAIDzKEx3QgAAQFl7THdCAAAAv81Md0IAAMAkIE13QgAAgIpyTXdCAABA8MRNd0IAAABWF053QgAAwLtpTndCAACAIbxOd0IAAECHDk93QgAAAO1gT3dCAADAUrNPd0IAAIC4BVB3QgAAQB5YUHdCAAAAhKpQd0IAAMDp/FB3QgAAgE9PUXdCAABAtaFRd0IAAAAb9FF3QgAAwIBGUndCAACA5phSd0IAAEBM61J3QgAAALI9U3dCAADAF5BTd0I=\",\"dtype\":\"float64\",\"order\":\"little\",\"shape\":[292]},\"index\":[245,246,247,248,249,250,251,252,253,254,255,256,0,257,258,259,260,261,262,263,264,265,266,267,268,269,270,271,1,272,273,274,275,276,277,278,2,279,280,281,282,283,284,285,286,287,288,289,3,4,290,5,6,7,8,9,10,11,12,13,14,15,16,17,18,19,20,21,22,23,24,25,26,27,28,29,30,31,32,33,34,35,36,37,38,39,40,41,42,43,44,45,46,47,48,49,50,51,52,53,54,55,56,57,58,59,60,61,62,63,64,65,66,67,68,69,70,71,72,73,74,75,76,77,78,79,80,81,82,83,84,85,86,87,88,89,90,91,92,93,94,95,96,97,98,99,100,101,102,103,104,105,106,107,108,109,110,111,112,113,114,115,116,117,118,119,120,121,122,123,124,125,126,127,128,129,130,131,132,133,134,135,136,137,138,139,140,141,142,143,144,145,146,147,148,149,150,151,152,153,154,155,156,157,158,159,160,161,162,163,164,165,166,167,168,169,170,171,172,173,174,175,176,177,178,179,180,181,182,183,184,185,186,187,188,189,190,191,192,193,194,195,196,197,198,199,200,201,202,203,204,205,206,207,208,209,210,211,212,213,214,215,216,217,218,219,220,221,222,223,224,225,226,227,228,229,230,231,232,233,234,235,236,237,238,239,240,241,242,243,244,291],\"sospechosos\":[133,114,113,107,164,182,174,147,152,154,147,217,312,260,253,206,162,179,281,312,246,211,193,211,210,268,323,250,217,152,157,199,225,267,280,217,146,166,204,247,306,205,176,154,166,236,252,262,247,211,173,166,222,241,274,240,198,168,187,271,349,321,256,231,189,137,146,248,282,276,225,151,189,203,342,371,365,357,296,450,408,513,897,882,968,895,931,966,1064,1305,1059,1252,863,911,860,856,1053,912,956,868,1096,979,971,1323,1092,1139,1105,1119,1060,1148,1530,1008,921,899,868,858,751,854,702,593,650,948,682,681,734,822,710,669,779,694,994,866,773,776,791,1049,711,812,1141,830,1102,733,821,785,836,1138,804,824,972,813,815,746,1388,928,971,847,989,955,891,1155,915,1225,886,1125,980,960,1486,1165,1007,1322,1307,1940,1438,1892,1510,1681,1586,1828,1409,1387,1645,1547,1848,1345,1205,1014,1246,1420,1233,1110,1097,1492,1198,1012,1275,1153,1292,1145,1154,1053,1063,1565,1070,1052,998,1078,1090,968,1260,953,920,872,975,1342,905,1133,877,1157,855,962,940,882,1555,911,966,936,906,1121,932,1078,1131,733,1156,949,822,808,1065,1123,964,871,1140,787,1015,1271,1437,973,985,934,969,786,1080,874,909,1045,801,792,753,1098,1005,787,989,996,1078,1391,1189,953,867,925,1144,855,981,1287,1235,1418,1809,1365,1173,1251,2089,1640,2132,2324,2705,4882,3446,4868,4381,4668,3952,2680,918,26]},\"selected\":{\"id\":\"87431\"},\"selection_policy\":{\"id\":\"87430\"}},\"id\":\"87386\",\"type\":\"ColumnDataSource\"},{\"attributes\":{},\"id\":\"87430\",\"type\":\"UnionRenderers\"},{\"attributes\":{\"days\":[1,15]},\"id\":\"207378\",\"type\":\"DaysTicker\"},{\"attributes\":{\"data_source\":{\"id\":\"87386\"},\"glyph\":{\"id\":\"207388\"},\"hover_glyph\":null,\"muted_glyph\":null,\"nonselection_glyph\":{\"id\":\"207389\"},\"selection_glyph\":null,\"view\":{\"id\":\"207391\"}},\"id\":\"207390\",\"type\":\"GlyphRenderer\"},{\"attributes\":{\"fill_alpha\":{\"value\":0},\"fill_color\":{\"value\":\"#d7385e\"},\"line_alpha\":{\"value\":0},\"line_color\":{\"value\":\"#d7385e\"},\"size\":{\"units\":\"screen\",\"value\":2},\"x\":{\"field\":\"fecha_sintomas\"},\"y\":{\"field\":\"confirmados\"}},\"id\":\"209071\",\"type\":\"Circle\"},{\"attributes\":{},\"id\":\"207366\",\"type\":\"DatetimeTickFormatter\"},{\"attributes\":{},\"id\":\"207347\",\"type\":\"WheelZoomTool\"},{\"attributes\":{\"axis\":{\"id\":\"207338\"},\"ticker\":null},\"id\":\"207341\",\"type\":\"Grid\"},{\"attributes\":{},\"id\":\"87431\",\"type\":\"Selection\"},{\"attributes\":{\"line_alpha\":0.1,\"line_color\":\"#edc988\",\"line_width\":2,\"x\":{\"field\":\"fecha_sintomas\"},\"y\":{\"field\":\"sospechosos\"}},\"id\":\"207415\",\"type\":\"Line\"},{\"attributes\":{\"active_drag\":\"auto\",\"active_inspect\":\"auto\",\"active_multi\":null,\"active_scroll\":\"auto\",\"active_tap\":\"auto\",\"tools\":[{\"id\":\"207346\"},{\"id\":\"207347\"},{\"id\":\"207348\"},{\"id\":\"207349\"},{\"id\":\"207350\"},{\"id\":\"207351\"},{\"id\":\"210706\"}]},\"id\":\"207353\",\"type\":\"Toolbar\"},{\"attributes\":{\"source\":{\"id\":\"87386\"}},\"id\":\"207417\",\"type\":\"CDSView\"},{\"attributes\":{\"callback\":null,\"formatters\":{\"@fecha_sintomas\":\"datetime\"},\"mode\":\"vline\",\"renderers\":[{\"id\":\"209073\"}],\"tooltips\":[[\"Fecha de s\\u00edntomas\",\"@fecha_sintomas{%F}\"],[\"Confirmados\",\"@confirmados\"],[\"Sospechosos\",\"@sospechosos\"],[\"Defunciones\",\"@defunciones\"]]},\"id\":\"210706\",\"type\":\"HoverTool\"},{\"attributes\":{},\"id\":\"207368\",\"type\":\"BasicTickFormatter\"},{\"attributes\":{\"source\":{\"id\":\"87386\"}},\"id\":\"207391\",\"type\":\"CDSView\"},{\"attributes\":{\"fill_alpha\":{\"value\":0.1},\"fill_color\":{\"value\":\"#d7385e\"},\"line_alpha\":{\"value\":0.1},\"line_color\":{\"value\":\"#d7385e\"},\"size\":{\"units\":\"screen\",\"value\":2},\"x\":{\"field\":\"fecha_sintomas\"},\"y\":{\"field\":\"confirmados\"}},\"id\":\"209072\",\"type\":\"Circle\"},{\"attributes\":{},\"id\":\"207336\",\"type\":\"LinearScale\"},{\"attributes\":{\"source\":{\"id\":\"87386\"}},\"id\":\"209074\",\"type\":\"CDSView\"},{\"attributes\":{\"overlay\":{\"id\":\"207352\"}},\"id\":\"207348\",\"type\":\"BoxZoomTool\"},{\"attributes\":{\"data_source\":{\"id\":\"87386\"},\"glyph\":{\"id\":\"207361\"},\"hover_glyph\":null,\"muted_glyph\":null,\"nonselection_glyph\":{\"id\":\"207362\"},\"selection_glyph\":null,\"view\":{\"id\":\"207364\"}},\"id\":\"207363\",\"type\":\"GlyphRenderer\"},{\"attributes\":{\"formatter\":{\"id\":\"207366\"},\"ticker\":{\"id\":\"207339\"}},\"id\":\"207338\",\"type\":\"DatetimeAxis\"},{\"attributes\":{\"days\":[1,4,7,10,13,16,19,22,25,28]},\"id\":\"207376\",\"type\":\"DaysTicker\"},{\"attributes\":{\"days\":[1,8,15,22]},\"id\":\"207377\",\"type\":\"DaysTicker\"}],\"root_ids\":[\"207327\"]},\"title\":\"Bokeh Application\",\"version\":\"2.2.1\"}};\n  var render_items = [{\"docid\":\"15e4da09-9ea8-462a-bbd4-cb8501fbc49f\",\"root_ids\":[\"207327\"],\"roots\":{\"207327\":\"e380ec91-403c-4bf1-9436-789dc51c0938\"}}];\n  root.Bokeh.embed.embed_items_notebook(docs_json, render_items);\n\n  }\n  if (root.Bokeh !== undefined) {\n    embed_document(root);\n  } else {\n    var attempts = 0;\n    var timer = setInterval(function(root) {\n      if (root.Bokeh !== undefined) {\n        clearInterval(timer);\n        embed_document(root);\n      } else {\n        attempts++;\n        if (attempts > 100) {\n          clearInterval(timer);\n          console.log(\"Bokeh: ERROR: Unable to run BokehJS code because BokehJS library is missing\");\n        }\n      }\n    }, 10, root)\n  }\n})(window);",
      "application/vnd.bokehjs_exec.v0+json": ""
     },
     "metadata": {
      "application/vnd.bokehjs_exec.v0+json": {
       "id": "207327"
      }
     }
    }
   ],
   "source": [
    "bpl.show(p)"
   ]
  },
  {
   "source": [
    "## Graficando la distribución por estado\n",
    "\n",
    "Hagamos otra gráfica, veamos como es la distribución de casos por estado. Regresemos a nuestro DataFrame de casos confirmados"
   ],
   "cell_type": "markdown",
   "metadata": {}
  },
  {
   "cell_type": "code",
   "execution_count": 44,
   "metadata": {},
   "outputs": [
    {
     "output_type": "execute_result",
     "data": {
      "text/plain": [
       "        FECHA_ACTUALIZACION ID_REGISTRO  ORIGEN  SECTOR  ENTIDAD_UM  SEXO  \\\n",
       "0                2020-10-18      1426fb       1       4          10     1   \n",
       "1                2020-10-18      1c4583       2      12           9     2   \n",
       "2                2020-10-18      0d55c9       2      12           9     1   \n",
       "3                2020-10-18      071735       2       9          21     2   \n",
       "4                2020-10-18      1468a5       1       4           5     1   \n",
       "...                     ...         ...     ...     ...         ...   ...   \n",
       "2183114          2020-10-18      2fcdc7       1      12          26     1   \n",
       "2183136          2020-10-18      3c6f4d       1      12          26     2   \n",
       "2183216          2020-10-18      373591       1       6          20     1   \n",
       "2183262          2020-10-18      365e11       1       6           9     1   \n",
       "2183269          2020-10-18      408ef1       2       6           9     2   \n",
       "\n",
       "         ENTIDAD_NAC  ENTIDAD_RES  MUNICIPIO_RES  TIPO_PACIENTE  ...  \\\n",
       "0                 28           10              7              1  ...   \n",
       "1                  9            9              4              1  ...   \n",
       "2                  9            9             16              1  ...   \n",
       "3                 21           21            114              1  ...   \n",
       "4                 15            5             18              1  ...   \n",
       "...              ...          ...            ...            ...  ...   \n",
       "2183114           26           26             30              1  ...   \n",
       "2183136           26           26             19              1  ...   \n",
       "2183216           20           20            399              1  ...   \n",
       "2183262           17           15             58              2  ...   \n",
       "2183269            9            9              5              1  ...   \n",
       "\n",
       "        RENAL_CRONICA TABAQUISMO OTRO_CASO  TOMA_MUESTRA  RESULTADO_LAB  \\\n",
       "0                   2          2        99             1              1   \n",
       "1                   2          2         2             1              1   \n",
       "2                   2          2         2             1              1   \n",
       "3                   2          2         2             1              1   \n",
       "4                   2          2         1             1              1   \n",
       "...               ...        ...       ...           ...            ...   \n",
       "2183114             2          2         1             2             97   \n",
       "2183136             2          2         1             2             97   \n",
       "2183216             2          2         2             2             97   \n",
       "2183262             2          2         2             2             97   \n",
       "2183269             2          2         1             2             97   \n",
       "\n",
       "         CLASIFICACION_FINAL  MIGRANTE  PAIS_NACIONALIDAD  PAIS_ORIGEN  UCI  \n",
       "0                          3        99            MÃ©xico           97   97  \n",
       "1                          3        99            MÃ©xico           97   97  \n",
       "2                          3        99            MÃ©xico           97   97  \n",
       "3                          3        99            MÃ©xico           97   97  \n",
       "4                          3        99            MÃ©xico           97   97  \n",
       "...                      ...       ...                ...          ...  ...  \n",
       "2183114                    1        99            MÃ©xico           97   97  \n",
       "2183136                    1        99            MÃ©xico           97   97  \n",
       "2183216                    1        99            MÃ©xico           97   97  \n",
       "2183262                    1        99            MÃ©xico           97    2  \n",
       "2183269                    1        99            MÃ©xico           97   97  \n",
       "\n",
       "[851227 rows x 38 columns]"
      ],
      "text/html": "<div>\n<style scoped>\n    .dataframe tbody tr th:only-of-type {\n        vertical-align: middle;\n    }\n\n    .dataframe tbody tr th {\n        vertical-align: top;\n    }\n\n    .dataframe thead th {\n        text-align: right;\n    }\n</style>\n<table border=\"1\" class=\"dataframe\">\n  <thead>\n    <tr style=\"text-align: right;\">\n      <th></th>\n      <th>FECHA_ACTUALIZACION</th>\n      <th>ID_REGISTRO</th>\n      <th>ORIGEN</th>\n      <th>SECTOR</th>\n      <th>ENTIDAD_UM</th>\n      <th>SEXO</th>\n      <th>ENTIDAD_NAC</th>\n      <th>ENTIDAD_RES</th>\n      <th>MUNICIPIO_RES</th>\n      <th>TIPO_PACIENTE</th>\n      <th>...</th>\n      <th>RENAL_CRONICA</th>\n      <th>TABAQUISMO</th>\n      <th>OTRO_CASO</th>\n      <th>TOMA_MUESTRA</th>\n      <th>RESULTADO_LAB</th>\n      <th>CLASIFICACION_FINAL</th>\n      <th>MIGRANTE</th>\n      <th>PAIS_NACIONALIDAD</th>\n      <th>PAIS_ORIGEN</th>\n      <th>UCI</th>\n    </tr>\n  </thead>\n  <tbody>\n    <tr>\n      <th>0</th>\n      <td>2020-10-18</td>\n      <td>1426fb</td>\n      <td>1</td>\n      <td>4</td>\n      <td>10</td>\n      <td>1</td>\n      <td>28</td>\n      <td>10</td>\n      <td>7</td>\n      <td>1</td>\n      <td>...</td>\n      <td>2</td>\n      <td>2</td>\n      <td>99</td>\n      <td>1</td>\n      <td>1</td>\n      <td>3</td>\n      <td>99</td>\n      <td>MÃ©xico</td>\n      <td>97</td>\n      <td>97</td>\n    </tr>\n    <tr>\n      <th>1</th>\n      <td>2020-10-18</td>\n      <td>1c4583</td>\n      <td>2</td>\n      <td>12</td>\n      <td>9</td>\n      <td>2</td>\n      <td>9</td>\n      <td>9</td>\n      <td>4</td>\n      <td>1</td>\n      <td>...</td>\n      <td>2</td>\n      <td>2</td>\n      <td>2</td>\n      <td>1</td>\n      <td>1</td>\n      <td>3</td>\n      <td>99</td>\n      <td>MÃ©xico</td>\n      <td>97</td>\n      <td>97</td>\n    </tr>\n    <tr>\n      <th>2</th>\n      <td>2020-10-18</td>\n      <td>0d55c9</td>\n      <td>2</td>\n      <td>12</td>\n      <td>9</td>\n      <td>1</td>\n      <td>9</td>\n      <td>9</td>\n      <td>16</td>\n      <td>1</td>\n      <td>...</td>\n      <td>2</td>\n      <td>2</td>\n      <td>2</td>\n      <td>1</td>\n      <td>1</td>\n      <td>3</td>\n      <td>99</td>\n      <td>MÃ©xico</td>\n      <td>97</td>\n      <td>97</td>\n    </tr>\n    <tr>\n      <th>3</th>\n      <td>2020-10-18</td>\n      <td>071735</td>\n      <td>2</td>\n      <td>9</td>\n      <td>21</td>\n      <td>2</td>\n      <td>21</td>\n      <td>21</td>\n      <td>114</td>\n      <td>1</td>\n      <td>...</td>\n      <td>2</td>\n      <td>2</td>\n      <td>2</td>\n      <td>1</td>\n      <td>1</td>\n      <td>3</td>\n      <td>99</td>\n      <td>MÃ©xico</td>\n      <td>97</td>\n      <td>97</td>\n    </tr>\n    <tr>\n      <th>4</th>\n      <td>2020-10-18</td>\n      <td>1468a5</td>\n      <td>1</td>\n      <td>4</td>\n      <td>5</td>\n      <td>1</td>\n      <td>15</td>\n      <td>5</td>\n      <td>18</td>\n      <td>1</td>\n      <td>...</td>\n      <td>2</td>\n      <td>2</td>\n      <td>1</td>\n      <td>1</td>\n      <td>1</td>\n      <td>3</td>\n      <td>99</td>\n      <td>MÃ©xico</td>\n      <td>97</td>\n      <td>97</td>\n    </tr>\n    <tr>\n      <th>...</th>\n      <td>...</td>\n      <td>...</td>\n      <td>...</td>\n      <td>...</td>\n      <td>...</td>\n      <td>...</td>\n      <td>...</td>\n      <td>...</td>\n      <td>...</td>\n      <td>...</td>\n      <td>...</td>\n      <td>...</td>\n      <td>...</td>\n      <td>...</td>\n      <td>...</td>\n      <td>...</td>\n      <td>...</td>\n      <td>...</td>\n      <td>...</td>\n      <td>...</td>\n      <td>...</td>\n    </tr>\n    <tr>\n      <th>2183114</th>\n      <td>2020-10-18</td>\n      <td>2fcdc7</td>\n      <td>1</td>\n      <td>12</td>\n      <td>26</td>\n      <td>1</td>\n      <td>26</td>\n      <td>26</td>\n      <td>30</td>\n      <td>1</td>\n      <td>...</td>\n      <td>2</td>\n      <td>2</td>\n      <td>1</td>\n      <td>2</td>\n      <td>97</td>\n      <td>1</td>\n      <td>99</td>\n      <td>MÃ©xico</td>\n      <td>97</td>\n      <td>97</td>\n    </tr>\n    <tr>\n      <th>2183136</th>\n      <td>2020-10-18</td>\n      <td>3c6f4d</td>\n      <td>1</td>\n      <td>12</td>\n      <td>26</td>\n      <td>2</td>\n      <td>26</td>\n      <td>26</td>\n      <td>19</td>\n      <td>1</td>\n      <td>...</td>\n      <td>2</td>\n      <td>2</td>\n      <td>1</td>\n      <td>2</td>\n      <td>97</td>\n      <td>1</td>\n      <td>99</td>\n      <td>MÃ©xico</td>\n      <td>97</td>\n      <td>97</td>\n    </tr>\n    <tr>\n      <th>2183216</th>\n      <td>2020-10-18</td>\n      <td>373591</td>\n      <td>1</td>\n      <td>6</td>\n      <td>20</td>\n      <td>1</td>\n      <td>20</td>\n      <td>20</td>\n      <td>399</td>\n      <td>1</td>\n      <td>...</td>\n      <td>2</td>\n      <td>2</td>\n      <td>2</td>\n      <td>2</td>\n      <td>97</td>\n      <td>1</td>\n      <td>99</td>\n      <td>MÃ©xico</td>\n      <td>97</td>\n      <td>97</td>\n    </tr>\n    <tr>\n      <th>2183262</th>\n      <td>2020-10-18</td>\n      <td>365e11</td>\n      <td>1</td>\n      <td>6</td>\n      <td>9</td>\n      <td>1</td>\n      <td>17</td>\n      <td>15</td>\n      <td>58</td>\n      <td>2</td>\n      <td>...</td>\n      <td>2</td>\n      <td>2</td>\n      <td>2</td>\n      <td>2</td>\n      <td>97</td>\n      <td>1</td>\n      <td>99</td>\n      <td>MÃ©xico</td>\n      <td>97</td>\n      <td>2</td>\n    </tr>\n    <tr>\n      <th>2183269</th>\n      <td>2020-10-18</td>\n      <td>408ef1</td>\n      <td>2</td>\n      <td>6</td>\n      <td>9</td>\n      <td>2</td>\n      <td>9</td>\n      <td>9</td>\n      <td>5</td>\n      <td>1</td>\n      <td>...</td>\n      <td>2</td>\n      <td>2</td>\n      <td>1</td>\n      <td>2</td>\n      <td>97</td>\n      <td>1</td>\n      <td>99</td>\n      <td>MÃ©xico</td>\n      <td>97</td>\n      <td>97</td>\n    </tr>\n  </tbody>\n</table>\n<p>851227 rows × 38 columns</p>\n</div>"
     },
     "metadata": {},
     "execution_count": 44
    }
   ],
   "source": [
    "confirmados"
   ]
  },
  {
   "source": [
    "## Agrupando por estado\n",
    "\n",
    "La base de datos tiene codificado para cada caso tres estados, la entidad de nacimiento en la columna \"ENTIDAD_NAC\", la entidad de residencia en la columna \"ENTIDAD_RES\" y la entidad de la unidad médica en la columna \"ENTIDAD_UM\". Nos concentraremos en la entidad de residencia. Necesitamos saber cuantos casos están asociados a cada entidad. Podemos volver a agrupar con la función groupby(), esta vez con la columna \"ENTIDAD_RES\""
   ],
   "cell_type": "markdown",
   "metadata": {}
  },
  {
   "cell_type": "code",
   "execution_count": 45,
   "metadata": {},
   "outputs": [],
   "source": [
    "grupos_estado = confirmados.groupby(\"ENTIDAD_RES\")"
   ]
  },
  {
   "source": [
    "Podemos preguntarle a cada grupo cuantos elementos tiene y crear un DataFrame con esta información de manera similar a como lo hicimos anteriormente:"
   ],
   "cell_type": "markdown",
   "metadata": {}
  },
  {
   "cell_type": "code",
   "execution_count": 46,
   "metadata": {},
   "outputs": [
    {
     "output_type": "execute_result",
     "data": {
      "text/plain": [
       "    ENTIDAD_RES  casos confirmados\n",
       "0             1               8406\n",
       "1             2              21767\n",
       "2             3              11578\n",
       "3             4               6336\n",
       "4             5              30211\n",
       "5             6               6113\n",
       "6             7               7428\n",
       "7             8              14366\n",
       "8             9             146952\n",
       "9            10              11126\n",
       "10           11              44965\n",
       "11           12              21206\n",
       "12           13              14552\n",
       "13           14              31093\n",
       "14           15              91571\n",
       "15           16              23094\n",
       "16           17               6532\n",
       "17           18               6480\n",
       "18           19              47793\n",
       "19           20              19831\n",
       "20           21              33942\n",
       "21           22              11425\n",
       "22           23              13028\n",
       "23           24              26190\n",
       "24           25              20779\n",
       "25           26              36414\n",
       "26           27              33587\n",
       "27           28              30828\n",
       "28           29               8156\n",
       "29           30              35818\n",
       "30           31              20318\n",
       "31           32               9342"
      ],
      "text/html": "<div>\n<style scoped>\n    .dataframe tbody tr th:only-of-type {\n        vertical-align: middle;\n    }\n\n    .dataframe tbody tr th {\n        vertical-align: top;\n    }\n\n    .dataframe thead th {\n        text-align: right;\n    }\n</style>\n<table border=\"1\" class=\"dataframe\">\n  <thead>\n    <tr style=\"text-align: right;\">\n      <th></th>\n      <th>ENTIDAD_RES</th>\n      <th>casos confirmados</th>\n    </tr>\n  </thead>\n  <tbody>\n    <tr>\n      <th>0</th>\n      <td>1</td>\n      <td>8406</td>\n    </tr>\n    <tr>\n      <th>1</th>\n      <td>2</td>\n      <td>21767</td>\n    </tr>\n    <tr>\n      <th>2</th>\n      <td>3</td>\n      <td>11578</td>\n    </tr>\n    <tr>\n      <th>3</th>\n      <td>4</td>\n      <td>6336</td>\n    </tr>\n    <tr>\n      <th>4</th>\n      <td>5</td>\n      <td>30211</td>\n    </tr>\n    <tr>\n      <th>5</th>\n      <td>6</td>\n      <td>6113</td>\n    </tr>\n    <tr>\n      <th>6</th>\n      <td>7</td>\n      <td>7428</td>\n    </tr>\n    <tr>\n      <th>7</th>\n      <td>8</td>\n      <td>14366</td>\n    </tr>\n    <tr>\n      <th>8</th>\n      <td>9</td>\n      <td>146952</td>\n    </tr>\n    <tr>\n      <th>9</th>\n      <td>10</td>\n      <td>11126</td>\n    </tr>\n    <tr>\n      <th>10</th>\n      <td>11</td>\n      <td>44965</td>\n    </tr>\n    <tr>\n      <th>11</th>\n      <td>12</td>\n      <td>21206</td>\n    </tr>\n    <tr>\n      <th>12</th>\n      <td>13</td>\n      <td>14552</td>\n    </tr>\n    <tr>\n      <th>13</th>\n      <td>14</td>\n      <td>31093</td>\n    </tr>\n    <tr>\n      <th>14</th>\n      <td>15</td>\n      <td>91571</td>\n    </tr>\n    <tr>\n      <th>15</th>\n      <td>16</td>\n      <td>23094</td>\n    </tr>\n    <tr>\n      <th>16</th>\n      <td>17</td>\n      <td>6532</td>\n    </tr>\n    <tr>\n      <th>17</th>\n      <td>18</td>\n      <td>6480</td>\n    </tr>\n    <tr>\n      <th>18</th>\n      <td>19</td>\n      <td>47793</td>\n    </tr>\n    <tr>\n      <th>19</th>\n      <td>20</td>\n      <td>19831</td>\n    </tr>\n    <tr>\n      <th>20</th>\n      <td>21</td>\n      <td>33942</td>\n    </tr>\n    <tr>\n      <th>21</th>\n      <td>22</td>\n      <td>11425</td>\n    </tr>\n    <tr>\n      <th>22</th>\n      <td>23</td>\n      <td>13028</td>\n    </tr>\n    <tr>\n      <th>23</th>\n      <td>24</td>\n      <td>26190</td>\n    </tr>\n    <tr>\n      <th>24</th>\n      <td>25</td>\n      <td>20779</td>\n    </tr>\n    <tr>\n      <th>25</th>\n      <td>26</td>\n      <td>36414</td>\n    </tr>\n    <tr>\n      <th>26</th>\n      <td>27</td>\n      <td>33587</td>\n    </tr>\n    <tr>\n      <th>27</th>\n      <td>28</td>\n      <td>30828</td>\n    </tr>\n    <tr>\n      <th>28</th>\n      <td>29</td>\n      <td>8156</td>\n    </tr>\n    <tr>\n      <th>29</th>\n      <td>30</td>\n      <td>35818</td>\n    </tr>\n    <tr>\n      <th>30</th>\n      <td>31</td>\n      <td>20318</td>\n    </tr>\n    <tr>\n      <th>31</th>\n      <td>32</td>\n      <td>9342</td>\n    </tr>\n  </tbody>\n</table>\n</div>"
     },
     "metadata": {},
     "execution_count": 46
    }
   ],
   "source": [
    "confirmados_por_estado = grupos_estado.size().to_frame(\"casos confirmados\").reset_index()\n",
    "confirmados_por_estado"
   ]
  },
  {
   "source": [
    "## Cargando los diccionarios\n",
    "\n",
    "Los estados vienen codificados de acuerdo a su clave de estado (una clave que el INEGI les ha asignado a cada estado). Usando el diccionario podemos saber a que estado pertenece cada clave. Si queremos que el nombre de los estados aparezca en nuestra gráfica necesitamos cargar esa información. El diccionario de datos se puede descargar de [aquí](http://datosabiertos.salud.gob.mx/gobmx/salud/datos_abiertos/diccionario_datos_covid19.zip). La Secretaría lo proporciona en un archivo Zip, dentro de ese archivo viene además el archivo descriptor de la base de datos por lo cual no podremos cargar directamente el archivo a nuestro Notebook. Tendrás que ir por el y descomprimirlo. Este repositorio tiene una copia del diccionario en la carpeta \"diccionarios\".\n",
    "\n",
    "El diccionario es un archivo de excel. Pandas tiene la capacidad de cargar archivos de excel. Usaremos la función read_excel. El primer parámetro es la ruta a donde está el archivo, además podemos usar algunas opciones. Los archivos de excel usualmente tienen varias hojas, para poder cargarlas todas usaremos la opción \"sheet_name=None\".\n",
    "\n",
    "Si descargaste los diccionarios desde la secretaría de salud colócalos en una subcarpeta llamada diccionarios en la misma carpeta en donde está este notebook o coloca la ruta correcta."
   ],
   "cell_type": "markdown",
   "metadata": {}
  },
  {
   "cell_type": "code",
   "execution_count": 47,
   "metadata": {},
   "outputs": [],
   "source": [
    "dics = pd.read_excel(\"./diccionarios/Catalogos_071020.xlsx\", sheet_name=None)"
   ]
  },
  {
   "source": [
    "El archivo de diccionarios es un archivo que tiene muchas hojas, por cada hoja Pandas ha creado un DataFrame. Están guardados en una estructura de datos de python llamada diccionario que a su vez nosotros hemos guardado en la variable dics. Los diccionarios de python pueden acceder a su contenido de acuerdo a una llave. Podemos conocer las llaves existentes en dics con la función keys()"
   ],
   "cell_type": "markdown",
   "metadata": {}
  },
  {
   "cell_type": "code",
   "execution_count": 48,
   "metadata": {},
   "outputs": [
    {
     "output_type": "execute_result",
     "data": {
      "text/plain": [
       "dict_keys(['Catálogo ORIGEN', 'Catálogo SECTOR', 'Catálogo SEXO', 'Catálogo TIPO_PACIENTE', 'Catálogo SI_NO', 'Catálogo NACIONALIDAD', 'Catálogo RESULTADO_LAB', 'Catálogo CLASIFICACION_FINAL', 'Catálogo de ENTIDADES', 'Catálogo MUNICIPIOS'])"
      ]
     },
     "metadata": {},
     "execution_count": 48
    }
   ],
   "source": [
    "dics.keys()"
   ]
  },
  {
   "source": [
    "De las llaves existentes nos interesa la que se llama \"Catálogo de ENTIDADES\". Ahí está guardado el DataFrame que nos interesa. Accedemos a el de manera similar a como lo hacemos con las columnas de los DataFrames. Guardamos este DataFrame en la variable dic_estados"
   ],
   "cell_type": "markdown",
   "metadata": {}
  },
  {
   "cell_type": "code",
   "execution_count": 49,
   "metadata": {},
   "outputs": [
    {
     "output_type": "execute_result",
     "data": {
      "text/plain": [
       "    CLAVE_ENTIDAD               ENTIDAD_FEDERATIVA ABREVIATURA\n",
       "0               1                   AGUASCALIENTES          AS\n",
       "1               2                  BAJA CALIFORNIA          BC\n",
       "2               3              BAJA CALIFORNIA SUR          BS\n",
       "3               4                         CAMPECHE          CC\n",
       "4               5             COAHUILA DE ZARAGOZA          CL\n",
       "5               6                           COLIMA          CM\n",
       "6               7                          CHIAPAS          CS\n",
       "7               8                        CHIHUAHUA          CH\n",
       "8               9                 CIUDAD DE MÉXICO          DF\n",
       "9              10                          DURANGO          DG\n",
       "10             11                       GUANAJUATO          GT\n",
       "11             12                         GUERRERO          GR\n",
       "12             13                          HIDALGO          HG\n",
       "13             14                          JALISCO          JC\n",
       "14             15                           MÉXICO          MC\n",
       "15             16              MICHOACÁN DE OCAMPO          MN\n",
       "16             17                          MORELOS          MS\n",
       "17             18                          NAYARIT          NT\n",
       "18             19                       NUEVO LEÓN          NL\n",
       "19             20                           OAXACA          OC\n",
       "20             21                           PUEBLA          PL\n",
       "21             22                        QUERÉTARO          QT\n",
       "22             23                     QUINTANA ROO          QR\n",
       "23             24                  SAN LUIS POTOSÍ          SP\n",
       "24             25                          SINALOA          SL\n",
       "25             26                           SONORA          SR\n",
       "26             27                          TABASCO          TC\n",
       "27             28                       TAMAULIPAS          TS\n",
       "28             29                         TLAXCALA          TL\n",
       "29             30  VERACRUZ DE IGNACIO DE LA LLAVE          VZ\n",
       "30             31                          YUCATÁN          YN\n",
       "31             32                        ZACATECAS          ZS\n",
       "32             36         ESTADOS UNIDOS MEXICANOS         EUM\n",
       "33             97                        NO APLICA         NaN\n",
       "34             98                        SE IGNORA          SI\n",
       "35             99                  NO ESPECIFICADO          NE"
      ],
      "text/html": "<div>\n<style scoped>\n    .dataframe tbody tr th:only-of-type {\n        vertical-align: middle;\n    }\n\n    .dataframe tbody tr th {\n        vertical-align: top;\n    }\n\n    .dataframe thead th {\n        text-align: right;\n    }\n</style>\n<table border=\"1\" class=\"dataframe\">\n  <thead>\n    <tr style=\"text-align: right;\">\n      <th></th>\n      <th>CLAVE_ENTIDAD</th>\n      <th>ENTIDAD_FEDERATIVA</th>\n      <th>ABREVIATURA</th>\n    </tr>\n  </thead>\n  <tbody>\n    <tr>\n      <th>0</th>\n      <td>1</td>\n      <td>AGUASCALIENTES</td>\n      <td>AS</td>\n    </tr>\n    <tr>\n      <th>1</th>\n      <td>2</td>\n      <td>BAJA CALIFORNIA</td>\n      <td>BC</td>\n    </tr>\n    <tr>\n      <th>2</th>\n      <td>3</td>\n      <td>BAJA CALIFORNIA SUR</td>\n      <td>BS</td>\n    </tr>\n    <tr>\n      <th>3</th>\n      <td>4</td>\n      <td>CAMPECHE</td>\n      <td>CC</td>\n    </tr>\n    <tr>\n      <th>4</th>\n      <td>5</td>\n      <td>COAHUILA DE ZARAGOZA</td>\n      <td>CL</td>\n    </tr>\n    <tr>\n      <th>5</th>\n      <td>6</td>\n      <td>COLIMA</td>\n      <td>CM</td>\n    </tr>\n    <tr>\n      <th>6</th>\n      <td>7</td>\n      <td>CHIAPAS</td>\n      <td>CS</td>\n    </tr>\n    <tr>\n      <th>7</th>\n      <td>8</td>\n      <td>CHIHUAHUA</td>\n      <td>CH</td>\n    </tr>\n    <tr>\n      <th>8</th>\n      <td>9</td>\n      <td>CIUDAD DE MÉXICO</td>\n      <td>DF</td>\n    </tr>\n    <tr>\n      <th>9</th>\n      <td>10</td>\n      <td>DURANGO</td>\n      <td>DG</td>\n    </tr>\n    <tr>\n      <th>10</th>\n      <td>11</td>\n      <td>GUANAJUATO</td>\n      <td>GT</td>\n    </tr>\n    <tr>\n      <th>11</th>\n      <td>12</td>\n      <td>GUERRERO</td>\n      <td>GR</td>\n    </tr>\n    <tr>\n      <th>12</th>\n      <td>13</td>\n      <td>HIDALGO</td>\n      <td>HG</td>\n    </tr>\n    <tr>\n      <th>13</th>\n      <td>14</td>\n      <td>JALISCO</td>\n      <td>JC</td>\n    </tr>\n    <tr>\n      <th>14</th>\n      <td>15</td>\n      <td>MÉXICO</td>\n      <td>MC</td>\n    </tr>\n    <tr>\n      <th>15</th>\n      <td>16</td>\n      <td>MICHOACÁN DE OCAMPO</td>\n      <td>MN</td>\n    </tr>\n    <tr>\n      <th>16</th>\n      <td>17</td>\n      <td>MORELOS</td>\n      <td>MS</td>\n    </tr>\n    <tr>\n      <th>17</th>\n      <td>18</td>\n      <td>NAYARIT</td>\n      <td>NT</td>\n    </tr>\n    <tr>\n      <th>18</th>\n      <td>19</td>\n      <td>NUEVO LEÓN</td>\n      <td>NL</td>\n    </tr>\n    <tr>\n      <th>19</th>\n      <td>20</td>\n      <td>OAXACA</td>\n      <td>OC</td>\n    </tr>\n    <tr>\n      <th>20</th>\n      <td>21</td>\n      <td>PUEBLA</td>\n      <td>PL</td>\n    </tr>\n    <tr>\n      <th>21</th>\n      <td>22</td>\n      <td>QUERÉTARO</td>\n      <td>QT</td>\n    </tr>\n    <tr>\n      <th>22</th>\n      <td>23</td>\n      <td>QUINTANA ROO</td>\n      <td>QR</td>\n    </tr>\n    <tr>\n      <th>23</th>\n      <td>24</td>\n      <td>SAN LUIS POTOSÍ</td>\n      <td>SP</td>\n    </tr>\n    <tr>\n      <th>24</th>\n      <td>25</td>\n      <td>SINALOA</td>\n      <td>SL</td>\n    </tr>\n    <tr>\n      <th>25</th>\n      <td>26</td>\n      <td>SONORA</td>\n      <td>SR</td>\n    </tr>\n    <tr>\n      <th>26</th>\n      <td>27</td>\n      <td>TABASCO</td>\n      <td>TC</td>\n    </tr>\n    <tr>\n      <th>27</th>\n      <td>28</td>\n      <td>TAMAULIPAS</td>\n      <td>TS</td>\n    </tr>\n    <tr>\n      <th>28</th>\n      <td>29</td>\n      <td>TLAXCALA</td>\n      <td>TL</td>\n    </tr>\n    <tr>\n      <th>29</th>\n      <td>30</td>\n      <td>VERACRUZ DE IGNACIO DE LA LLAVE</td>\n      <td>VZ</td>\n    </tr>\n    <tr>\n      <th>30</th>\n      <td>31</td>\n      <td>YUCATÁN</td>\n      <td>YN</td>\n    </tr>\n    <tr>\n      <th>31</th>\n      <td>32</td>\n      <td>ZACATECAS</td>\n      <td>ZS</td>\n    </tr>\n    <tr>\n      <th>32</th>\n      <td>36</td>\n      <td>ESTADOS UNIDOS MEXICANOS</td>\n      <td>EUM</td>\n    </tr>\n    <tr>\n      <th>33</th>\n      <td>97</td>\n      <td>NO APLICA</td>\n      <td>NaN</td>\n    </tr>\n    <tr>\n      <th>34</th>\n      <td>98</td>\n      <td>SE IGNORA</td>\n      <td>SI</td>\n    </tr>\n    <tr>\n      <th>35</th>\n      <td>99</td>\n      <td>NO ESPECIFICADO</td>\n      <td>NE</td>\n    </tr>\n  </tbody>\n</table>\n</div>"
     },
     "metadata": {},
     "execution_count": 49
    }
   ],
   "source": [
    "dic_estados = dics[\"Catálogo de ENTIDADES\"]\n",
    "dic_estados"
   ]
  },
  {
   "source": [
    "## Mezclando dos DataFrames\n",
    "\n",
    "Listo, tenemos la información que queremos en dos DataFrames, por un lado tenemos el número de casos confirmados en el DataFrame \"confirmados_por_estado\" y por otro lado tenemos la información del nombre de cada estado en el DataFrame \"dic_estados\".\n",
    "\n",
    "Pandas nos permite mezclar dos DataFrames de acuerdo a los valores que existan en alguna columna que tenga valores en común. En este caso ambos DataFrames tienen una columna con la clave de la entidad. Esta operación se llama \"merge\".\n",
    "\n",
    "Si nos fijamos con atención algunos de los valores en estas columnas se corresponden y existen otros que solamente están en una columna o en otra. Un merge se hace entre dos DataFrames, de acuerdo a donde lo colocamos en la función les llamamos \"left\" al que ponemos a la izquierda y \"right\" al que ponemos a la derecha. Cuando hacemos un merge podemos decidir que filas queremos mantener, las del DataFrame de la izquierda (left), las filas del DataFrame de la derecha (right), todas las filas de ambos DataFrames (outer) o solamente las filas que en ambos DataFrames existen. \n",
    "\n",
    "Al hacer un merge tenemos que indicar dentro de la función los DataFrames a mezclar, la manera en la que los vamos a mezclar, y las columnas que usaremos para mezclarlas. En este caso queremos mantener solo las filas del DataFrame de casos confirmados y dado que lo pondremos a la izquierda haremos un merge a la izquierda. En el DataFrame de la izquierda usaremos la columna \"ENTIDAD_RES\" y en el de la derecha usaremos la columna \"CLAVE_ENTIDAD\".\n",
    "\n",
    "El resultado lo guardaremos en la variable \"confirmados_edo\""
   ],
   "cell_type": "markdown",
   "metadata": {}
  },
  {
   "cell_type": "code",
   "execution_count": 50,
   "metadata": {},
   "outputs": [
    {
     "output_type": "execute_result",
     "data": {
      "text/plain": [
       "    ENTIDAD_RES  casos confirmados  CLAVE_ENTIDAD  \\\n",
       "0             1               8406              1   \n",
       "1             2              21767              2   \n",
       "2             3              11578              3   \n",
       "3             4               6336              4   \n",
       "4             5              30211              5   \n",
       "5             6               6113              6   \n",
       "6             7               7428              7   \n",
       "7             8              14366              8   \n",
       "8             9             146952              9   \n",
       "9            10              11126             10   \n",
       "10           11              44965             11   \n",
       "11           12              21206             12   \n",
       "12           13              14552             13   \n",
       "13           14              31093             14   \n",
       "14           15              91571             15   \n",
       "15           16              23094             16   \n",
       "16           17               6532             17   \n",
       "17           18               6480             18   \n",
       "18           19              47793             19   \n",
       "19           20              19831             20   \n",
       "20           21              33942             21   \n",
       "21           22              11425             22   \n",
       "22           23              13028             23   \n",
       "23           24              26190             24   \n",
       "24           25              20779             25   \n",
       "25           26              36414             26   \n",
       "26           27              33587             27   \n",
       "27           28              30828             28   \n",
       "28           29               8156             29   \n",
       "29           30              35818             30   \n",
       "30           31              20318             31   \n",
       "31           32               9342             32   \n",
       "\n",
       "                 ENTIDAD_FEDERATIVA ABREVIATURA  \n",
       "0                    AGUASCALIENTES          AS  \n",
       "1                   BAJA CALIFORNIA          BC  \n",
       "2               BAJA CALIFORNIA SUR          BS  \n",
       "3                          CAMPECHE          CC  \n",
       "4              COAHUILA DE ZARAGOZA          CL  \n",
       "5                            COLIMA          CM  \n",
       "6                           CHIAPAS          CS  \n",
       "7                         CHIHUAHUA          CH  \n",
       "8                  CIUDAD DE MÉXICO          DF  \n",
       "9                           DURANGO          DG  \n",
       "10                       GUANAJUATO          GT  \n",
       "11                         GUERRERO          GR  \n",
       "12                          HIDALGO          HG  \n",
       "13                          JALISCO          JC  \n",
       "14                           MÉXICO          MC  \n",
       "15              MICHOACÁN DE OCAMPO          MN  \n",
       "16                          MORELOS          MS  \n",
       "17                          NAYARIT          NT  \n",
       "18                       NUEVO LEÓN          NL  \n",
       "19                           OAXACA          OC  \n",
       "20                           PUEBLA          PL  \n",
       "21                        QUERÉTARO          QT  \n",
       "22                     QUINTANA ROO          QR  \n",
       "23                  SAN LUIS POTOSÍ          SP  \n",
       "24                          SINALOA          SL  \n",
       "25                           SONORA          SR  \n",
       "26                          TABASCO          TC  \n",
       "27                       TAMAULIPAS          TS  \n",
       "28                         TLAXCALA          TL  \n",
       "29  VERACRUZ DE IGNACIO DE LA LLAVE          VZ  \n",
       "30                          YUCATÁN          YN  \n",
       "31                        ZACATECAS          ZS  "
      ],
      "text/html": "<div>\n<style scoped>\n    .dataframe tbody tr th:only-of-type {\n        vertical-align: middle;\n    }\n\n    .dataframe tbody tr th {\n        vertical-align: top;\n    }\n\n    .dataframe thead th {\n        text-align: right;\n    }\n</style>\n<table border=\"1\" class=\"dataframe\">\n  <thead>\n    <tr style=\"text-align: right;\">\n      <th></th>\n      <th>ENTIDAD_RES</th>\n      <th>casos confirmados</th>\n      <th>CLAVE_ENTIDAD</th>\n      <th>ENTIDAD_FEDERATIVA</th>\n      <th>ABREVIATURA</th>\n    </tr>\n  </thead>\n  <tbody>\n    <tr>\n      <th>0</th>\n      <td>1</td>\n      <td>8406</td>\n      <td>1</td>\n      <td>AGUASCALIENTES</td>\n      <td>AS</td>\n    </tr>\n    <tr>\n      <th>1</th>\n      <td>2</td>\n      <td>21767</td>\n      <td>2</td>\n      <td>BAJA CALIFORNIA</td>\n      <td>BC</td>\n    </tr>\n    <tr>\n      <th>2</th>\n      <td>3</td>\n      <td>11578</td>\n      <td>3</td>\n      <td>BAJA CALIFORNIA SUR</td>\n      <td>BS</td>\n    </tr>\n    <tr>\n      <th>3</th>\n      <td>4</td>\n      <td>6336</td>\n      <td>4</td>\n      <td>CAMPECHE</td>\n      <td>CC</td>\n    </tr>\n    <tr>\n      <th>4</th>\n      <td>5</td>\n      <td>30211</td>\n      <td>5</td>\n      <td>COAHUILA DE ZARAGOZA</td>\n      <td>CL</td>\n    </tr>\n    <tr>\n      <th>5</th>\n      <td>6</td>\n      <td>6113</td>\n      <td>6</td>\n      <td>COLIMA</td>\n      <td>CM</td>\n    </tr>\n    <tr>\n      <th>6</th>\n      <td>7</td>\n      <td>7428</td>\n      <td>7</td>\n      <td>CHIAPAS</td>\n      <td>CS</td>\n    </tr>\n    <tr>\n      <th>7</th>\n      <td>8</td>\n      <td>14366</td>\n      <td>8</td>\n      <td>CHIHUAHUA</td>\n      <td>CH</td>\n    </tr>\n    <tr>\n      <th>8</th>\n      <td>9</td>\n      <td>146952</td>\n      <td>9</td>\n      <td>CIUDAD DE MÉXICO</td>\n      <td>DF</td>\n    </tr>\n    <tr>\n      <th>9</th>\n      <td>10</td>\n      <td>11126</td>\n      <td>10</td>\n      <td>DURANGO</td>\n      <td>DG</td>\n    </tr>\n    <tr>\n      <th>10</th>\n      <td>11</td>\n      <td>44965</td>\n      <td>11</td>\n      <td>GUANAJUATO</td>\n      <td>GT</td>\n    </tr>\n    <tr>\n      <th>11</th>\n      <td>12</td>\n      <td>21206</td>\n      <td>12</td>\n      <td>GUERRERO</td>\n      <td>GR</td>\n    </tr>\n    <tr>\n      <th>12</th>\n      <td>13</td>\n      <td>14552</td>\n      <td>13</td>\n      <td>HIDALGO</td>\n      <td>HG</td>\n    </tr>\n    <tr>\n      <th>13</th>\n      <td>14</td>\n      <td>31093</td>\n      <td>14</td>\n      <td>JALISCO</td>\n      <td>JC</td>\n    </tr>\n    <tr>\n      <th>14</th>\n      <td>15</td>\n      <td>91571</td>\n      <td>15</td>\n      <td>MÉXICO</td>\n      <td>MC</td>\n    </tr>\n    <tr>\n      <th>15</th>\n      <td>16</td>\n      <td>23094</td>\n      <td>16</td>\n      <td>MICHOACÁN DE OCAMPO</td>\n      <td>MN</td>\n    </tr>\n    <tr>\n      <th>16</th>\n      <td>17</td>\n      <td>6532</td>\n      <td>17</td>\n      <td>MORELOS</td>\n      <td>MS</td>\n    </tr>\n    <tr>\n      <th>17</th>\n      <td>18</td>\n      <td>6480</td>\n      <td>18</td>\n      <td>NAYARIT</td>\n      <td>NT</td>\n    </tr>\n    <tr>\n      <th>18</th>\n      <td>19</td>\n      <td>47793</td>\n      <td>19</td>\n      <td>NUEVO LEÓN</td>\n      <td>NL</td>\n    </tr>\n    <tr>\n      <th>19</th>\n      <td>20</td>\n      <td>19831</td>\n      <td>20</td>\n      <td>OAXACA</td>\n      <td>OC</td>\n    </tr>\n    <tr>\n      <th>20</th>\n      <td>21</td>\n      <td>33942</td>\n      <td>21</td>\n      <td>PUEBLA</td>\n      <td>PL</td>\n    </tr>\n    <tr>\n      <th>21</th>\n      <td>22</td>\n      <td>11425</td>\n      <td>22</td>\n      <td>QUERÉTARO</td>\n      <td>QT</td>\n    </tr>\n    <tr>\n      <th>22</th>\n      <td>23</td>\n      <td>13028</td>\n      <td>23</td>\n      <td>QUINTANA ROO</td>\n      <td>QR</td>\n    </tr>\n    <tr>\n      <th>23</th>\n      <td>24</td>\n      <td>26190</td>\n      <td>24</td>\n      <td>SAN LUIS POTOSÍ</td>\n      <td>SP</td>\n    </tr>\n    <tr>\n      <th>24</th>\n      <td>25</td>\n      <td>20779</td>\n      <td>25</td>\n      <td>SINALOA</td>\n      <td>SL</td>\n    </tr>\n    <tr>\n      <th>25</th>\n      <td>26</td>\n      <td>36414</td>\n      <td>26</td>\n      <td>SONORA</td>\n      <td>SR</td>\n    </tr>\n    <tr>\n      <th>26</th>\n      <td>27</td>\n      <td>33587</td>\n      <td>27</td>\n      <td>TABASCO</td>\n      <td>TC</td>\n    </tr>\n    <tr>\n      <th>27</th>\n      <td>28</td>\n      <td>30828</td>\n      <td>28</td>\n      <td>TAMAULIPAS</td>\n      <td>TS</td>\n    </tr>\n    <tr>\n      <th>28</th>\n      <td>29</td>\n      <td>8156</td>\n      <td>29</td>\n      <td>TLAXCALA</td>\n      <td>TL</td>\n    </tr>\n    <tr>\n      <th>29</th>\n      <td>30</td>\n      <td>35818</td>\n      <td>30</td>\n      <td>VERACRUZ DE IGNACIO DE LA LLAVE</td>\n      <td>VZ</td>\n    </tr>\n    <tr>\n      <th>30</th>\n      <td>31</td>\n      <td>20318</td>\n      <td>31</td>\n      <td>YUCATÁN</td>\n      <td>YN</td>\n    </tr>\n    <tr>\n      <th>31</th>\n      <td>32</td>\n      <td>9342</td>\n      <td>32</td>\n      <td>ZACATECAS</td>\n      <td>ZS</td>\n    </tr>\n  </tbody>\n</table>\n</div>"
     },
     "metadata": {},
     "execution_count": 50
    }
   ],
   "source": [
    "confirmados_edo = pd.merge(confirmados_por_estado,dic_estados,how=\"left\",left_on=\"ENTIDAD_RES\",right_on=\"CLAVE_ENTIDAD\")\n",
    "confirmados_edo"
   ]
  },
  {
   "source": [
    "Este nuevo DataFrame contiene toda la información que necesitamos para la siguiente gráfica. Chequémos el tipo de datos que existen en cada columna"
   ],
   "cell_type": "markdown",
   "metadata": {}
  },
  {
   "cell_type": "code",
   "execution_count": 51,
   "metadata": {},
   "outputs": [
    {
     "output_type": "execute_result",
     "data": {
      "text/plain": [
       "ENTIDAD_RES            int64\n",
       "casos confirmados      int64\n",
       "CLAVE_ENTIDAD          int64\n",
       "ENTIDAD_FEDERATIVA    object\n",
       "ABREVIATURA           object\n",
       "dtype: object"
      ]
     },
     "metadata": {},
     "execution_count": 51
    }
   ],
   "source": [
    "confirmados_edo.dtypes"
   ]
  },
  {
   "source": [
    "Vemos que tenemos 3 columnas de enteros y dos columnas de tipo \"object\". La gráfica que haremos es una gráfica de barras en donde en el eje x pondremos el estado identificado por su abreviatura y en el eje y pondremos el número de casos para cada estado. Las dos columnas que nos interesan \"ABREVIATURA\" y \"casos confirmados\" son de tipo \"object\" y de tipo entero. Con esos tipos podemos graficar sin problema"
   ],
   "cell_type": "markdown",
   "metadata": {}
  },
  {
   "source": [
    "## Graficando los casos por estado\n",
    "\n",
    "Definimos un nuevo plot y lo guardamos en la variable \"s\". En la definición debemos especificar que el eje x será un eje con variables categóricas, la manera de especificar esto es usando la opción x_range y pasandole una lista con las categorías que usaremos en el orden que las usaremos. En nuestro caso las categorías son los estados, específicamente las abreviaturas."
   ],
   "cell_type": "markdown",
   "metadata": {}
  },
  {
   "cell_type": "code",
   "execution_count": 52,
   "metadata": {},
   "outputs": [],
   "source": [
    "s = bpl.figure(x_range=confirmados_edo[\"ABREVIATURA\"], plot_width=800, plot_height=600)"
   ]
  },
  {
   "source": [
    "Despues de definir el plot podemos agregar elementos gráficos. En este caso agregaremos glifos llamados \"vbar\" que hacen referencia a barras verticales. Las barras verticales requieren que especifiquemos la coordenada en x, que en este caso es la columna con las abreviaturas, además podemos especificar el valor del eje y en donde empieza y en donde termina el rectangulo correspondiente a la barra. Usualmente especificaremos únicamente el valor donde terminan usando la opción \"top\", la opción de \"bottom\" indica donde empiezan y su valor por default es 0. Otro parámetro que es necesario es la opción \"width\" que especifica el ancho de la barra, barras de ancho 1 son barras de un ancho igual al espacio disponible para cada categoría."
   ],
   "cell_type": "markdown",
   "metadata": {}
  },
  {
   "cell_type": "code",
   "execution_count": 53,
   "metadata": {},
   "outputs": [
    {
     "output_type": "execute_result",
     "data": {
      "text/plain": [
       "GlyphRenderer(id='1459', ...)"
      ],
      "text/html": "<div style=\"display: table;\"><div style=\"display: table-row;\"><div style=\"display: table-cell;\"><b title=\"bokeh.models.renderers.GlyphRenderer\">GlyphRenderer</b>(</div><div style=\"display: table-cell;\">id&nbsp;=&nbsp;'1459', <span id=\"1462\" style=\"cursor: pointer;\">&hellip;)</span></div></div><div class=\"1461\" style=\"display: none;\"><div style=\"display: table-cell;\"></div><div style=\"display: table-cell;\">data_source&nbsp;=&nbsp;ColumnDataSource(id='1456', ...),</div></div><div class=\"1461\" style=\"display: none;\"><div style=\"display: table-cell;\"></div><div style=\"display: table-cell;\">glyph&nbsp;=&nbsp;VBar(id='1457', ...),</div></div><div class=\"1461\" style=\"display: none;\"><div style=\"display: table-cell;\"></div><div style=\"display: table-cell;\">hover_glyph&nbsp;=&nbsp;None,</div></div><div class=\"1461\" style=\"display: none;\"><div style=\"display: table-cell;\"></div><div style=\"display: table-cell;\">js_event_callbacks&nbsp;=&nbsp;{},</div></div><div class=\"1461\" style=\"display: none;\"><div style=\"display: table-cell;\"></div><div style=\"display: table-cell;\">js_property_callbacks&nbsp;=&nbsp;{},</div></div><div class=\"1461\" style=\"display: none;\"><div style=\"display: table-cell;\"></div><div style=\"display: table-cell;\">level&nbsp;=&nbsp;'glyph',</div></div><div class=\"1461\" style=\"display: none;\"><div style=\"display: table-cell;\"></div><div style=\"display: table-cell;\">muted&nbsp;=&nbsp;False,</div></div><div class=\"1461\" style=\"display: none;\"><div style=\"display: table-cell;\"></div><div style=\"display: table-cell;\">muted_glyph&nbsp;=&nbsp;None,</div></div><div class=\"1461\" style=\"display: none;\"><div style=\"display: table-cell;\"></div><div style=\"display: table-cell;\">name&nbsp;=&nbsp;None,</div></div><div class=\"1461\" style=\"display: none;\"><div style=\"display: table-cell;\"></div><div style=\"display: table-cell;\">nonselection_glyph&nbsp;=&nbsp;VBar(id='1458', ...),</div></div><div class=\"1461\" style=\"display: none;\"><div style=\"display: table-cell;\"></div><div style=\"display: table-cell;\">selection_glyph&nbsp;=&nbsp;None,</div></div><div class=\"1461\" style=\"display: none;\"><div style=\"display: table-cell;\"></div><div style=\"display: table-cell;\">subscribed_events&nbsp;=&nbsp;[],</div></div><div class=\"1461\" style=\"display: none;\"><div style=\"display: table-cell;\"></div><div style=\"display: table-cell;\">tags&nbsp;=&nbsp;[],</div></div><div class=\"1461\" style=\"display: none;\"><div style=\"display: table-cell;\"></div><div style=\"display: table-cell;\">view&nbsp;=&nbsp;CDSView(id='1460', ...),</div></div><div class=\"1461\" style=\"display: none;\"><div style=\"display: table-cell;\"></div><div style=\"display: table-cell;\">visible&nbsp;=&nbsp;True,</div></div><div class=\"1461\" style=\"display: none;\"><div style=\"display: table-cell;\"></div><div style=\"display: table-cell;\">x_range_name&nbsp;=&nbsp;'default',</div></div><div class=\"1461\" style=\"display: none;\"><div style=\"display: table-cell;\"></div><div style=\"display: table-cell;\">y_range_name&nbsp;=&nbsp;'default')</div></div></div>\n<script>\n(function() {\n  var expanded = false;\n  var ellipsis = document.getElementById(\"1462\");\n  ellipsis.addEventListener(\"click\", function() {\n    var rows = document.getElementsByClassName(\"1461\");\n    for (var i = 0; i < rows.length; i++) {\n      var el = rows[i];\n      el.style.display = expanded ? \"none\" : \"table-row\";\n    }\n    ellipsis.innerHTML = expanded ? \"&hellip;)\" : \"&lsaquo;&lsaquo;&lsaquo;\";\n    expanded = !expanded;\n  });\n})();\n</script>\n"
     },
     "metadata": {},
     "execution_count": 53
    }
   ],
   "source": [
    "s.vbar(x=confirmados_edo[\"ABREVIATURA\"],top=confirmados_edo[\"casos confirmados\"], width=0.7)"
   ]
  },
  {
   "cell_type": "code",
   "execution_count": 54,
   "metadata": {},
   "outputs": [
    {
     "output_type": "display_data",
     "data": {
      "text/html": "\n\n\n\n\n\n  <div class=\"bk-root\" id=\"2f5a7e68-e4f2-4028-99f6-a7c9fe310581\" data-root-id=\"1426\"></div>\n"
     },
     "metadata": {}
    },
    {
     "output_type": "display_data",
     "data": {
      "application/javascript": "(function(root) {\n  function embed_document(root) {\n    \n  var docs_json = {\"e8b1144c-81ac-49ec-91d0-106a7d620c15\":{\"roots\":{\"references\":[{\"attributes\":{\"below\":[{\"id\":\"1435\"}],\"center\":[{\"id\":\"1437\"},{\"id\":\"1441\"}],\"left\":[{\"id\":\"1438\"}],\"plot_width\":800,\"renderers\":[{\"id\":\"1459\"}],\"title\":{\"id\":\"1486\"},\"toolbar\":{\"id\":\"1449\"},\"x_range\":{\"id\":\"1427\"},\"x_scale\":{\"id\":\"1431\"},\"y_range\":{\"id\":\"1429\"},\"y_scale\":{\"id\":\"1433\"}},\"id\":\"1426\",\"subtype\":\"Figure\",\"type\":\"Plot\"},{\"attributes\":{\"axis\":{\"id\":\"1438\"},\"dimension\":1,\"ticker\":null},\"id\":\"1441\",\"type\":\"Grid\"},{\"attributes\":{\"formatter\":{\"id\":\"1490\"},\"ticker\":{\"id\":\"1439\"}},\"id\":\"1438\",\"type\":\"LinearAxis\"},{\"attributes\":{\"data_source\":{\"id\":\"1456\"},\"glyph\":{\"id\":\"1457\"},\"hover_glyph\":null,\"muted_glyph\":null,\"nonselection_glyph\":{\"id\":\"1458\"},\"selection_glyph\":null,\"view\":{\"id\":\"1460\"}},\"id\":\"1459\",\"type\":\"GlyphRenderer\"},{\"attributes\":{},\"id\":\"1431\",\"type\":\"CategoricalScale\"},{\"attributes\":{},\"id\":\"1490\",\"type\":\"BasicTickFormatter\"},{\"attributes\":{},\"id\":\"1445\",\"type\":\"SaveTool\"},{\"attributes\":{},\"id\":\"1443\",\"type\":\"WheelZoomTool\"},{\"attributes\":{},\"id\":\"1436\",\"type\":\"CategoricalTicker\"},{\"attributes\":{\"overlay\":{\"id\":\"1448\"}},\"id\":\"1444\",\"type\":\"BoxZoomTool\"},{\"attributes\":{},\"id\":\"1492\",\"type\":\"UnionRenderers\"},{\"attributes\":{\"fill_alpha\":{\"value\":0.1},\"fill_color\":{\"value\":\"#1f77b4\"},\"line_alpha\":{\"value\":0.1},\"line_color\":{\"value\":\"#1f77b4\"},\"top\":{\"field\":\"top\"},\"width\":{\"value\":0.7},\"x\":{\"field\":\"x\"}},\"id\":\"1458\",\"type\":\"VBar\"},{\"attributes\":{},\"id\":\"1493\",\"type\":\"Selection\"},{\"attributes\":{},\"id\":\"1442\",\"type\":\"PanTool\"},{\"attributes\":{},\"id\":\"1446\",\"type\":\"ResetTool\"},{\"attributes\":{},\"id\":\"1429\",\"type\":\"DataRange1d\"},{\"attributes\":{\"data\":{\"top\":[8406,21767,11578,6336,30211,6113,7428,14366,146952,11126,44965,21206,14552,31093,91571,23094,6532,6480,47793,19831,33942,11425,13028,26190,20779,36414,33587,30828,8156,35818,20318,9342],\"x\":[\"AS\",\"BC\",\"BS\",\"CC\",\"CL\",\"CM\",\"CS\",\"CH\",\"DF\",\"DG\",\"GT\",\"GR\",\"HG\",\"JC\",\"MC\",\"MN\",\"MS\",\"NT\",\"NL\",\"OC\",\"PL\",\"QT\",\"QR\",\"SP\",\"SL\",\"SR\",\"TC\",\"TS\",\"TL\",\"VZ\",\"YN\",\"ZS\"]},\"selected\":{\"id\":\"1493\"},\"selection_policy\":{\"id\":\"1492\"}},\"id\":\"1456\",\"type\":\"ColumnDataSource\"},{\"attributes\":{\"factors\":[\"AS\",\"BC\",\"BS\",\"CC\",\"CL\",\"CM\",\"CS\",\"CH\",\"DF\",\"DG\",\"GT\",\"GR\",\"HG\",\"JC\",\"MC\",\"MN\",\"MS\",\"NT\",\"NL\",\"OC\",\"PL\",\"QT\",\"QR\",\"SP\",\"SL\",\"SR\",\"TC\",\"TS\",\"TL\",\"VZ\",\"YN\",\"ZS\"]},\"id\":\"1427\",\"type\":\"FactorRange\"},{\"attributes\":{\"formatter\":{\"id\":\"1488\"},\"ticker\":{\"id\":\"1436\"}},\"id\":\"1435\",\"type\":\"CategoricalAxis\"},{\"attributes\":{\"axis\":{\"id\":\"1435\"},\"ticker\":null},\"id\":\"1437\",\"type\":\"Grid\"},{\"attributes\":{},\"id\":\"1447\",\"type\":\"HelpTool\"},{\"attributes\":{\"active_drag\":\"auto\",\"active_inspect\":\"auto\",\"active_multi\":null,\"active_scroll\":\"auto\",\"active_tap\":\"auto\",\"tools\":[{\"id\":\"1442\"},{\"id\":\"1443\"},{\"id\":\"1444\"},{\"id\":\"1445\"},{\"id\":\"1446\"},{\"id\":\"1447\"}]},\"id\":\"1449\",\"type\":\"Toolbar\"},{\"attributes\":{\"fill_color\":{\"value\":\"#1f77b4\"},\"line_color\":{\"value\":\"#1f77b4\"},\"top\":{\"field\":\"top\"},\"width\":{\"value\":0.7},\"x\":{\"field\":\"x\"}},\"id\":\"1457\",\"type\":\"VBar\"},{\"attributes\":{},\"id\":\"1488\",\"type\":\"CategoricalTickFormatter\"},{\"attributes\":{\"text\":\"\"},\"id\":\"1486\",\"type\":\"Title\"},{\"attributes\":{\"source\":{\"id\":\"1456\"}},\"id\":\"1460\",\"type\":\"CDSView\"},{\"attributes\":{\"bottom_units\":\"screen\",\"fill_alpha\":0.5,\"fill_color\":\"lightgrey\",\"left_units\":\"screen\",\"level\":\"overlay\",\"line_alpha\":1.0,\"line_color\":\"black\",\"line_dash\":[4,4],\"line_width\":2,\"right_units\":\"screen\",\"top_units\":\"screen\"},\"id\":\"1448\",\"type\":\"BoxAnnotation\"},{\"attributes\":{},\"id\":\"1433\",\"type\":\"LinearScale\"},{\"attributes\":{},\"id\":\"1439\",\"type\":\"BasicTicker\"}],\"root_ids\":[\"1426\"]},\"title\":\"Bokeh Application\",\"version\":\"2.2.1\"}};\n  var render_items = [{\"docid\":\"e8b1144c-81ac-49ec-91d0-106a7d620c15\",\"root_ids\":[\"1426\"],\"roots\":{\"1426\":\"2f5a7e68-e4f2-4028-99f6-a7c9fe310581\"}}];\n  root.Bokeh.embed.embed_items_notebook(docs_json, render_items);\n\n  }\n  if (root.Bokeh !== undefined) {\n    embed_document(root);\n  } else {\n    var attempts = 0;\n    var timer = setInterval(function(root) {\n      if (root.Bokeh !== undefined) {\n        clearInterval(timer);\n        embed_document(root);\n      } else {\n        attempts++;\n        if (attempts > 100) {\n          clearInterval(timer);\n          console.log(\"Bokeh: ERROR: Unable to run BokehJS code because BokehJS library is missing\");\n        }\n      }\n    }, 10, root)\n  }\n})(window);",
      "application/vnd.bokehjs_exec.v0+json": ""
     },
     "metadata": {
      "application/vnd.bokehjs_exec.v0+json": {
       "id": "1426"
      }
     }
    }
   ],
   "source": [
    "bpl.show(s)"
   ]
  },
  {
   "source": [
    "En la gráfica anterior los estados se ordenan de forma alfabética, podríamos ordenarlos de acuerdo al monto. Para esto necesitamos modificar nuestro DataFrame con la función sort_values(). Esta función requiere como parámetro el nombre de la columna con la cual ordenaremos los valores, en este caso los casos confirmados, además podemos especificar usando la opción ascending=\"False\" que queremos ordenar el DataFrame de mayor a menor. Además usamos la opción inplace=True para que el resultado se almacene en el mismo DataFrame y no tengamos que guardarlo en otra variable."
   ],
   "cell_type": "markdown",
   "metadata": {}
  },
  {
   "cell_type": "code",
   "execution_count": 55,
   "metadata": {},
   "outputs": [
    {
     "output_type": "execute_result",
     "data": {
      "text/plain": [
       "    ENTIDAD_RES  casos confirmados  CLAVE_ENTIDAD  \\\n",
       "8             9             146952              9   \n",
       "14           15              91571             15   \n",
       "18           19              47793             19   \n",
       "10           11              44965             11   \n",
       "25           26              36414             26   \n",
       "29           30              35818             30   \n",
       "20           21              33942             21   \n",
       "26           27              33587             27   \n",
       "13           14              31093             14   \n",
       "27           28              30828             28   \n",
       "4             5              30211              5   \n",
       "23           24              26190             24   \n",
       "15           16              23094             16   \n",
       "1             2              21767              2   \n",
       "11           12              21206             12   \n",
       "24           25              20779             25   \n",
       "30           31              20318             31   \n",
       "19           20              19831             20   \n",
       "12           13              14552             13   \n",
       "7             8              14366              8   \n",
       "22           23              13028             23   \n",
       "2             3              11578              3   \n",
       "21           22              11425             22   \n",
       "9            10              11126             10   \n",
       "31           32               9342             32   \n",
       "0             1               8406              1   \n",
       "28           29               8156             29   \n",
       "6             7               7428              7   \n",
       "16           17               6532             17   \n",
       "17           18               6480             18   \n",
       "3             4               6336              4   \n",
       "5             6               6113              6   \n",
       "\n",
       "                 ENTIDAD_FEDERATIVA ABREVIATURA  \n",
       "8                  CIUDAD DE MÉXICO          DF  \n",
       "14                           MÉXICO          MC  \n",
       "18                       NUEVO LEÓN          NL  \n",
       "10                       GUANAJUATO          GT  \n",
       "25                           SONORA          SR  \n",
       "29  VERACRUZ DE IGNACIO DE LA LLAVE          VZ  \n",
       "20                           PUEBLA          PL  \n",
       "26                          TABASCO          TC  \n",
       "13                          JALISCO          JC  \n",
       "27                       TAMAULIPAS          TS  \n",
       "4              COAHUILA DE ZARAGOZA          CL  \n",
       "23                  SAN LUIS POTOSÍ          SP  \n",
       "15              MICHOACÁN DE OCAMPO          MN  \n",
       "1                   BAJA CALIFORNIA          BC  \n",
       "11                         GUERRERO          GR  \n",
       "24                          SINALOA          SL  \n",
       "30                          YUCATÁN          YN  \n",
       "19                           OAXACA          OC  \n",
       "12                          HIDALGO          HG  \n",
       "7                         CHIHUAHUA          CH  \n",
       "22                     QUINTANA ROO          QR  \n",
       "2               BAJA CALIFORNIA SUR          BS  \n",
       "21                        QUERÉTARO          QT  \n",
       "9                           DURANGO          DG  \n",
       "31                        ZACATECAS          ZS  \n",
       "0                    AGUASCALIENTES          AS  \n",
       "28                         TLAXCALA          TL  \n",
       "6                           CHIAPAS          CS  \n",
       "16                          MORELOS          MS  \n",
       "17                          NAYARIT          NT  \n",
       "3                          CAMPECHE          CC  \n",
       "5                            COLIMA          CM  "
      ],
      "text/html": "<div>\n<style scoped>\n    .dataframe tbody tr th:only-of-type {\n        vertical-align: middle;\n    }\n\n    .dataframe tbody tr th {\n        vertical-align: top;\n    }\n\n    .dataframe thead th {\n        text-align: right;\n    }\n</style>\n<table border=\"1\" class=\"dataframe\">\n  <thead>\n    <tr style=\"text-align: right;\">\n      <th></th>\n      <th>ENTIDAD_RES</th>\n      <th>casos confirmados</th>\n      <th>CLAVE_ENTIDAD</th>\n      <th>ENTIDAD_FEDERATIVA</th>\n      <th>ABREVIATURA</th>\n    </tr>\n  </thead>\n  <tbody>\n    <tr>\n      <th>8</th>\n      <td>9</td>\n      <td>146952</td>\n      <td>9</td>\n      <td>CIUDAD DE MÉXICO</td>\n      <td>DF</td>\n    </tr>\n    <tr>\n      <th>14</th>\n      <td>15</td>\n      <td>91571</td>\n      <td>15</td>\n      <td>MÉXICO</td>\n      <td>MC</td>\n    </tr>\n    <tr>\n      <th>18</th>\n      <td>19</td>\n      <td>47793</td>\n      <td>19</td>\n      <td>NUEVO LEÓN</td>\n      <td>NL</td>\n    </tr>\n    <tr>\n      <th>10</th>\n      <td>11</td>\n      <td>44965</td>\n      <td>11</td>\n      <td>GUANAJUATO</td>\n      <td>GT</td>\n    </tr>\n    <tr>\n      <th>25</th>\n      <td>26</td>\n      <td>36414</td>\n      <td>26</td>\n      <td>SONORA</td>\n      <td>SR</td>\n    </tr>\n    <tr>\n      <th>29</th>\n      <td>30</td>\n      <td>35818</td>\n      <td>30</td>\n      <td>VERACRUZ DE IGNACIO DE LA LLAVE</td>\n      <td>VZ</td>\n    </tr>\n    <tr>\n      <th>20</th>\n      <td>21</td>\n      <td>33942</td>\n      <td>21</td>\n      <td>PUEBLA</td>\n      <td>PL</td>\n    </tr>\n    <tr>\n      <th>26</th>\n      <td>27</td>\n      <td>33587</td>\n      <td>27</td>\n      <td>TABASCO</td>\n      <td>TC</td>\n    </tr>\n    <tr>\n      <th>13</th>\n      <td>14</td>\n      <td>31093</td>\n      <td>14</td>\n      <td>JALISCO</td>\n      <td>JC</td>\n    </tr>\n    <tr>\n      <th>27</th>\n      <td>28</td>\n      <td>30828</td>\n      <td>28</td>\n      <td>TAMAULIPAS</td>\n      <td>TS</td>\n    </tr>\n    <tr>\n      <th>4</th>\n      <td>5</td>\n      <td>30211</td>\n      <td>5</td>\n      <td>COAHUILA DE ZARAGOZA</td>\n      <td>CL</td>\n    </tr>\n    <tr>\n      <th>23</th>\n      <td>24</td>\n      <td>26190</td>\n      <td>24</td>\n      <td>SAN LUIS POTOSÍ</td>\n      <td>SP</td>\n    </tr>\n    <tr>\n      <th>15</th>\n      <td>16</td>\n      <td>23094</td>\n      <td>16</td>\n      <td>MICHOACÁN DE OCAMPO</td>\n      <td>MN</td>\n    </tr>\n    <tr>\n      <th>1</th>\n      <td>2</td>\n      <td>21767</td>\n      <td>2</td>\n      <td>BAJA CALIFORNIA</td>\n      <td>BC</td>\n    </tr>\n    <tr>\n      <th>11</th>\n      <td>12</td>\n      <td>21206</td>\n      <td>12</td>\n      <td>GUERRERO</td>\n      <td>GR</td>\n    </tr>\n    <tr>\n      <th>24</th>\n      <td>25</td>\n      <td>20779</td>\n      <td>25</td>\n      <td>SINALOA</td>\n      <td>SL</td>\n    </tr>\n    <tr>\n      <th>30</th>\n      <td>31</td>\n      <td>20318</td>\n      <td>31</td>\n      <td>YUCATÁN</td>\n      <td>YN</td>\n    </tr>\n    <tr>\n      <th>19</th>\n      <td>20</td>\n      <td>19831</td>\n      <td>20</td>\n      <td>OAXACA</td>\n      <td>OC</td>\n    </tr>\n    <tr>\n      <th>12</th>\n      <td>13</td>\n      <td>14552</td>\n      <td>13</td>\n      <td>HIDALGO</td>\n      <td>HG</td>\n    </tr>\n    <tr>\n      <th>7</th>\n      <td>8</td>\n      <td>14366</td>\n      <td>8</td>\n      <td>CHIHUAHUA</td>\n      <td>CH</td>\n    </tr>\n    <tr>\n      <th>22</th>\n      <td>23</td>\n      <td>13028</td>\n      <td>23</td>\n      <td>QUINTANA ROO</td>\n      <td>QR</td>\n    </tr>\n    <tr>\n      <th>2</th>\n      <td>3</td>\n      <td>11578</td>\n      <td>3</td>\n      <td>BAJA CALIFORNIA SUR</td>\n      <td>BS</td>\n    </tr>\n    <tr>\n      <th>21</th>\n      <td>22</td>\n      <td>11425</td>\n      <td>22</td>\n      <td>QUERÉTARO</td>\n      <td>QT</td>\n    </tr>\n    <tr>\n      <th>9</th>\n      <td>10</td>\n      <td>11126</td>\n      <td>10</td>\n      <td>DURANGO</td>\n      <td>DG</td>\n    </tr>\n    <tr>\n      <th>31</th>\n      <td>32</td>\n      <td>9342</td>\n      <td>32</td>\n      <td>ZACATECAS</td>\n      <td>ZS</td>\n    </tr>\n    <tr>\n      <th>0</th>\n      <td>1</td>\n      <td>8406</td>\n      <td>1</td>\n      <td>AGUASCALIENTES</td>\n      <td>AS</td>\n    </tr>\n    <tr>\n      <th>28</th>\n      <td>29</td>\n      <td>8156</td>\n      <td>29</td>\n      <td>TLAXCALA</td>\n      <td>TL</td>\n    </tr>\n    <tr>\n      <th>6</th>\n      <td>7</td>\n      <td>7428</td>\n      <td>7</td>\n      <td>CHIAPAS</td>\n      <td>CS</td>\n    </tr>\n    <tr>\n      <th>16</th>\n      <td>17</td>\n      <td>6532</td>\n      <td>17</td>\n      <td>MORELOS</td>\n      <td>MS</td>\n    </tr>\n    <tr>\n      <th>17</th>\n      <td>18</td>\n      <td>6480</td>\n      <td>18</td>\n      <td>NAYARIT</td>\n      <td>NT</td>\n    </tr>\n    <tr>\n      <th>3</th>\n      <td>4</td>\n      <td>6336</td>\n      <td>4</td>\n      <td>CAMPECHE</td>\n      <td>CC</td>\n    </tr>\n    <tr>\n      <th>5</th>\n      <td>6</td>\n      <td>6113</td>\n      <td>6</td>\n      <td>COLIMA</td>\n      <td>CM</td>\n    </tr>\n  </tbody>\n</table>\n</div>"
     },
     "metadata": {},
     "execution_count": 55
    }
   ],
   "source": [
    "confirmados_edo.sort_values(\"casos confirmados\", ascending = False, inplace=True)\n",
    "confirmados_edo"
   ]
  },
  {
   "source": [
    "Una vez que tenemos ordenado el DataFrame podemos volver a definir nuestra grafíca y nuestros glifos para pintarla de nuevo"
   ],
   "cell_type": "markdown",
   "metadata": {}
  },
  {
   "cell_type": "code",
   "execution_count": 56,
   "metadata": {},
   "outputs": [
    {
     "output_type": "execute_result",
     "data": {
      "text/plain": [
       "GlyphRenderer(id='1573', ...)"
      ],
      "text/html": "<div style=\"display: table;\"><div style=\"display: table-row;\"><div style=\"display: table-cell;\"><b title=\"bokeh.models.renderers.GlyphRenderer\">GlyphRenderer</b>(</div><div style=\"display: table-cell;\">id&nbsp;=&nbsp;'1573', <span id=\"1576\" style=\"cursor: pointer;\">&hellip;)</span></div></div><div class=\"1575\" style=\"display: none;\"><div style=\"display: table-cell;\"></div><div style=\"display: table-cell;\">data_source&nbsp;=&nbsp;ColumnDataSource(id='1570', ...),</div></div><div class=\"1575\" style=\"display: none;\"><div style=\"display: table-cell;\"></div><div style=\"display: table-cell;\">glyph&nbsp;=&nbsp;VBar(id='1571', ...),</div></div><div class=\"1575\" style=\"display: none;\"><div style=\"display: table-cell;\"></div><div style=\"display: table-cell;\">hover_glyph&nbsp;=&nbsp;None,</div></div><div class=\"1575\" style=\"display: none;\"><div style=\"display: table-cell;\"></div><div style=\"display: table-cell;\">js_event_callbacks&nbsp;=&nbsp;{},</div></div><div class=\"1575\" style=\"display: none;\"><div style=\"display: table-cell;\"></div><div style=\"display: table-cell;\">js_property_callbacks&nbsp;=&nbsp;{},</div></div><div class=\"1575\" style=\"display: none;\"><div style=\"display: table-cell;\"></div><div style=\"display: table-cell;\">level&nbsp;=&nbsp;'glyph',</div></div><div class=\"1575\" style=\"display: none;\"><div style=\"display: table-cell;\"></div><div style=\"display: table-cell;\">muted&nbsp;=&nbsp;False,</div></div><div class=\"1575\" style=\"display: none;\"><div style=\"display: table-cell;\"></div><div style=\"display: table-cell;\">muted_glyph&nbsp;=&nbsp;None,</div></div><div class=\"1575\" style=\"display: none;\"><div style=\"display: table-cell;\"></div><div style=\"display: table-cell;\">name&nbsp;=&nbsp;None,</div></div><div class=\"1575\" style=\"display: none;\"><div style=\"display: table-cell;\"></div><div style=\"display: table-cell;\">nonselection_glyph&nbsp;=&nbsp;VBar(id='1572', ...),</div></div><div class=\"1575\" style=\"display: none;\"><div style=\"display: table-cell;\"></div><div style=\"display: table-cell;\">selection_glyph&nbsp;=&nbsp;None,</div></div><div class=\"1575\" style=\"display: none;\"><div style=\"display: table-cell;\"></div><div style=\"display: table-cell;\">subscribed_events&nbsp;=&nbsp;[],</div></div><div class=\"1575\" style=\"display: none;\"><div style=\"display: table-cell;\"></div><div style=\"display: table-cell;\">tags&nbsp;=&nbsp;[],</div></div><div class=\"1575\" style=\"display: none;\"><div style=\"display: table-cell;\"></div><div style=\"display: table-cell;\">view&nbsp;=&nbsp;CDSView(id='1574', ...),</div></div><div class=\"1575\" style=\"display: none;\"><div style=\"display: table-cell;\"></div><div style=\"display: table-cell;\">visible&nbsp;=&nbsp;True,</div></div><div class=\"1575\" style=\"display: none;\"><div style=\"display: table-cell;\"></div><div style=\"display: table-cell;\">x_range_name&nbsp;=&nbsp;'default',</div></div><div class=\"1575\" style=\"display: none;\"><div style=\"display: table-cell;\"></div><div style=\"display: table-cell;\">y_range_name&nbsp;=&nbsp;'default')</div></div></div>\n<script>\n(function() {\n  var expanded = false;\n  var ellipsis = document.getElementById(\"1576\");\n  ellipsis.addEventListener(\"click\", function() {\n    var rows = document.getElementsByClassName(\"1575\");\n    for (var i = 0; i < rows.length; i++) {\n      var el = rows[i];\n      el.style.display = expanded ? \"none\" : \"table-row\";\n    }\n    ellipsis.innerHTML = expanded ? \"&hellip;)\" : \"&lsaquo;&lsaquo;&lsaquo;\";\n    expanded = !expanded;\n  });\n})();\n</script>\n"
     },
     "metadata": {},
     "execution_count": 56
    }
   ],
   "source": [
    "s = bpl.figure(x_range=confirmados_edo[\"ABREVIATURA\"], plot_width=800, plot_height=600)\n",
    "s.vbar(x=confirmados_edo[\"ABREVIATURA\"],top=confirmados_edo[\"casos confirmados\"], width=0.7)"
   ]
  },
  {
   "source": [
    "Por último mostramos esta nueva gráfica..."
   ],
   "cell_type": "markdown",
   "metadata": {}
  },
  {
   "cell_type": "code",
   "execution_count": 57,
   "metadata": {},
   "outputs": [
    {
     "output_type": "display_data",
     "data": {
      "text/html": "\n\n\n\n\n\n  <div class=\"bk-root\" id=\"07743377-7759-4ac1-bfc9-3de4291eb0e3\" data-root-id=\"1540\"></div>\n"
     },
     "metadata": {}
    },
    {
     "output_type": "display_data",
     "data": {
      "application/javascript": "(function(root) {\n  function embed_document(root) {\n    \n  var docs_json = {\"c7fe95a0-3bc3-45c1-b727-6cb03a72331b\":{\"roots\":{\"references\":[{\"attributes\":{\"below\":[{\"id\":\"1549\"}],\"center\":[{\"id\":\"1551\"},{\"id\":\"1555\"}],\"left\":[{\"id\":\"1552\"}],\"plot_width\":800,\"renderers\":[{\"id\":\"1573\"}],\"title\":{\"id\":\"1609\"},\"toolbar\":{\"id\":\"1563\"},\"x_range\":{\"id\":\"1541\"},\"x_scale\":{\"id\":\"1545\"},\"y_range\":{\"id\":\"1543\"},\"y_scale\":{\"id\":\"1547\"}},\"id\":\"1540\",\"subtype\":\"Figure\",\"type\":\"Plot\"},{\"attributes\":{},\"id\":\"1553\",\"type\":\"BasicTicker\"},{\"attributes\":{\"bottom_units\":\"screen\",\"fill_alpha\":0.5,\"fill_color\":\"lightgrey\",\"left_units\":\"screen\",\"level\":\"overlay\",\"line_alpha\":1.0,\"line_color\":\"black\",\"line_dash\":[4,4],\"line_width\":2,\"right_units\":\"screen\",\"top_units\":\"screen\"},\"id\":\"1562\",\"type\":\"BoxAnnotation\"},{\"attributes\":{},\"id\":\"1557\",\"type\":\"WheelZoomTool\"},{\"attributes\":{\"formatter\":{\"id\":\"1613\"},\"ticker\":{\"id\":\"1553\"}},\"id\":\"1552\",\"type\":\"LinearAxis\"},{\"attributes\":{},\"id\":\"1556\",\"type\":\"PanTool\"},{\"attributes\":{\"overlay\":{\"id\":\"1562\"}},\"id\":\"1558\",\"type\":\"BoxZoomTool\"},{\"attributes\":{\"factors\":[\"DF\",\"MC\",\"NL\",\"GT\",\"SR\",\"VZ\",\"PL\",\"TC\",\"JC\",\"TS\",\"CL\",\"SP\",\"MN\",\"BC\",\"GR\",\"SL\",\"YN\",\"OC\",\"HG\",\"CH\",\"QR\",\"BS\",\"QT\",\"DG\",\"ZS\",\"AS\",\"TL\",\"CS\",\"MS\",\"NT\",\"CC\",\"CM\"]},\"id\":\"1541\",\"type\":\"FactorRange\"},{\"attributes\":{},\"id\":\"1615\",\"type\":\"UnionRenderers\"},{\"attributes\":{},\"id\":\"1559\",\"type\":\"SaveTool\"},{\"attributes\":{},\"id\":\"1616\",\"type\":\"Selection\"},{\"attributes\":{},\"id\":\"1561\",\"type\":\"HelpTool\"},{\"attributes\":{},\"id\":\"1560\",\"type\":\"ResetTool\"},{\"attributes\":{\"formatter\":{\"id\":\"1611\"},\"ticker\":{\"id\":\"1550\"}},\"id\":\"1549\",\"type\":\"CategoricalAxis\"},{\"attributes\":{\"axis\":{\"id\":\"1552\"},\"dimension\":1,\"ticker\":null},\"id\":\"1555\",\"type\":\"Grid\"},{\"attributes\":{\"fill_color\":{\"value\":\"#1f77b4\"},\"line_color\":{\"value\":\"#1f77b4\"},\"top\":{\"field\":\"top\"},\"width\":{\"value\":0.7},\"x\":{\"field\":\"x\"}},\"id\":\"1571\",\"type\":\"VBar\"},{\"attributes\":{\"text\":\"\"},\"id\":\"1609\",\"type\":\"Title\"},{\"attributes\":{\"data_source\":{\"id\":\"1570\"},\"glyph\":{\"id\":\"1571\"},\"hover_glyph\":null,\"muted_glyph\":null,\"nonselection_glyph\":{\"id\":\"1572\"},\"selection_glyph\":null,\"view\":{\"id\":\"1574\"}},\"id\":\"1573\",\"type\":\"GlyphRenderer\"},{\"attributes\":{\"active_drag\":\"auto\",\"active_inspect\":\"auto\",\"active_multi\":null,\"active_scroll\":\"auto\",\"active_tap\":\"auto\",\"tools\":[{\"id\":\"1556\"},{\"id\":\"1557\"},{\"id\":\"1558\"},{\"id\":\"1559\"},{\"id\":\"1560\"},{\"id\":\"1561\"}]},\"id\":\"1563\",\"type\":\"Toolbar\"},{\"attributes\":{},\"id\":\"1550\",\"type\":\"CategoricalTicker\"},{\"attributes\":{\"data\":{\"top\":[146952,91571,47793,44965,36414,35818,33942,33587,31093,30828,30211,26190,23094,21767,21206,20779,20318,19831,14552,14366,13028,11578,11425,11126,9342,8406,8156,7428,6532,6480,6336,6113],\"x\":[\"DF\",\"MC\",\"NL\",\"GT\",\"SR\",\"VZ\",\"PL\",\"TC\",\"JC\",\"TS\",\"CL\",\"SP\",\"MN\",\"BC\",\"GR\",\"SL\",\"YN\",\"OC\",\"HG\",\"CH\",\"QR\",\"BS\",\"QT\",\"DG\",\"ZS\",\"AS\",\"TL\",\"CS\",\"MS\",\"NT\",\"CC\",\"CM\"]},\"selected\":{\"id\":\"1616\"},\"selection_policy\":{\"id\":\"1615\"}},\"id\":\"1570\",\"type\":\"ColumnDataSource\"},{\"attributes\":{},\"id\":\"1545\",\"type\":\"CategoricalScale\"},{\"attributes\":{},\"id\":\"1547\",\"type\":\"LinearScale\"},{\"attributes\":{},\"id\":\"1543\",\"type\":\"DataRange1d\"},{\"attributes\":{\"fill_alpha\":{\"value\":0.1},\"fill_color\":{\"value\":\"#1f77b4\"},\"line_alpha\":{\"value\":0.1},\"line_color\":{\"value\":\"#1f77b4\"},\"top\":{\"field\":\"top\"},\"width\":{\"value\":0.7},\"x\":{\"field\":\"x\"}},\"id\":\"1572\",\"type\":\"VBar\"},{\"attributes\":{\"axis\":{\"id\":\"1549\"},\"ticker\":null},\"id\":\"1551\",\"type\":\"Grid\"},{\"attributes\":{\"source\":{\"id\":\"1570\"}},\"id\":\"1574\",\"type\":\"CDSView\"},{\"attributes\":{},\"id\":\"1611\",\"type\":\"CategoricalTickFormatter\"},{\"attributes\":{},\"id\":\"1613\",\"type\":\"BasicTickFormatter\"}],\"root_ids\":[\"1540\"]},\"title\":\"Bokeh Application\",\"version\":\"2.2.1\"}};\n  var render_items = [{\"docid\":\"c7fe95a0-3bc3-45c1-b727-6cb03a72331b\",\"root_ids\":[\"1540\"],\"roots\":{\"1540\":\"07743377-7759-4ac1-bfc9-3de4291eb0e3\"}}];\n  root.Bokeh.embed.embed_items_notebook(docs_json, render_items);\n\n  }\n  if (root.Bokeh !== undefined) {\n    embed_document(root);\n  } else {\n    var attempts = 0;\n    var timer = setInterval(function(root) {\n      if (root.Bokeh !== undefined) {\n        clearInterval(timer);\n        embed_document(root);\n      } else {\n        attempts++;\n        if (attempts > 100) {\n          clearInterval(timer);\n          console.log(\"Bokeh: ERROR: Unable to run BokehJS code because BokehJS library is missing\");\n        }\n      }\n    }, 10, root)\n  }\n})(window);",
      "application/vnd.bokehjs_exec.v0+json": ""
     },
     "metadata": {
      "application/vnd.bokehjs_exec.v0+json": {
       "id": "1540"
      }
     }
    }
   ],
   "source": [
    "bpl.show(s)"
   ]
  },
  {
   "source": [
    "Nuestra gráfica es buena pero tramposa, no nos permite comparar pues el efecto de la población está escondido. Podemos suponer que en la ciudad de México hay más casos simplemente porque hay más personas, necesitamos tasar por población, es decir calcular el número de casos por cada 100mil habitantes en cada estado. Para ello necesitaremos los datos de la población. Los datos de población a nivel estatal los podemos conseguir de las proyecciones que hace CONAPO las cuales se encuentran [aquí](http://www.conapo.gob.mx/work/models/CONAPO/Datos_Abiertos/Proyecciones2018/pob_mit_proyecciones.csv)\n",
    "\n",
    "En el enlace se encuentran los datos en formato CSV, con lo cual podemos cargarlos sin problema usando Pandas con la función read_csv():"
   ],
   "cell_type": "markdown",
   "metadata": {}
  },
  {
   "cell_type": "code",
   "execution_count": 58,
   "metadata": {},
   "outputs": [],
   "source": [
    "poblaciones = pd.read_csv(\"http://www.conapo.gob.mx/work/models/CONAPO/Datos_Abiertos/Proyecciones2018/pob_mit_proyecciones.csv\", encoding=\"latin1\")"
   ]
  },
  {
   "cell_type": "code",
   "execution_count": 59,
   "metadata": {},
   "outputs": [
    {
     "output_type": "execute_result",
     "data": {
      "text/plain": [
       "        RENGLON   AÑO             ENTIDAD  CVE_GEO  EDAD     SEXO  POBLACION\n",
       "0             1  1950  República Mexicana        0     0  Hombres     572103\n",
       "1             2  1950  República Mexicana        0     0  Mujeres     559162\n",
       "2             3  1950  República Mexicana        0     1  Hombres     514540\n",
       "3             4  1950  República Mexicana        0     1  Mujeres     505269\n",
       "4             5  1950  República Mexicana        0     2  Hombres     478546\n",
       "...         ...   ...                 ...      ...   ...      ...        ...\n",
       "592455   592456  2050           Zacatecas       32   107  Mujeres          4\n",
       "592456   592457  2050           Zacatecas       32   108  Hombres          1\n",
       "592457   592458  2050           Zacatecas       32   108  Mujeres          2\n",
       "592458   592459  2050           Zacatecas       32   109  Hombres          0\n",
       "592459   592460  2050           Zacatecas       32   109  Mujeres          1\n",
       "\n",
       "[592460 rows x 7 columns]"
      ],
      "text/html": "<div>\n<style scoped>\n    .dataframe tbody tr th:only-of-type {\n        vertical-align: middle;\n    }\n\n    .dataframe tbody tr th {\n        vertical-align: top;\n    }\n\n    .dataframe thead th {\n        text-align: right;\n    }\n</style>\n<table border=\"1\" class=\"dataframe\">\n  <thead>\n    <tr style=\"text-align: right;\">\n      <th></th>\n      <th>RENGLON</th>\n      <th>AÑO</th>\n      <th>ENTIDAD</th>\n      <th>CVE_GEO</th>\n      <th>EDAD</th>\n      <th>SEXO</th>\n      <th>POBLACION</th>\n    </tr>\n  </thead>\n  <tbody>\n    <tr>\n      <th>0</th>\n      <td>1</td>\n      <td>1950</td>\n      <td>República Mexicana</td>\n      <td>0</td>\n      <td>0</td>\n      <td>Hombres</td>\n      <td>572103</td>\n    </tr>\n    <tr>\n      <th>1</th>\n      <td>2</td>\n      <td>1950</td>\n      <td>República Mexicana</td>\n      <td>0</td>\n      <td>0</td>\n      <td>Mujeres</td>\n      <td>559162</td>\n    </tr>\n    <tr>\n      <th>2</th>\n      <td>3</td>\n      <td>1950</td>\n      <td>República Mexicana</td>\n      <td>0</td>\n      <td>1</td>\n      <td>Hombres</td>\n      <td>514540</td>\n    </tr>\n    <tr>\n      <th>3</th>\n      <td>4</td>\n      <td>1950</td>\n      <td>República Mexicana</td>\n      <td>0</td>\n      <td>1</td>\n      <td>Mujeres</td>\n      <td>505269</td>\n    </tr>\n    <tr>\n      <th>4</th>\n      <td>5</td>\n      <td>1950</td>\n      <td>República Mexicana</td>\n      <td>0</td>\n      <td>2</td>\n      <td>Hombres</td>\n      <td>478546</td>\n    </tr>\n    <tr>\n      <th>...</th>\n      <td>...</td>\n      <td>...</td>\n      <td>...</td>\n      <td>...</td>\n      <td>...</td>\n      <td>...</td>\n      <td>...</td>\n    </tr>\n    <tr>\n      <th>592455</th>\n      <td>592456</td>\n      <td>2050</td>\n      <td>Zacatecas</td>\n      <td>32</td>\n      <td>107</td>\n      <td>Mujeres</td>\n      <td>4</td>\n    </tr>\n    <tr>\n      <th>592456</th>\n      <td>592457</td>\n      <td>2050</td>\n      <td>Zacatecas</td>\n      <td>32</td>\n      <td>108</td>\n      <td>Hombres</td>\n      <td>1</td>\n    </tr>\n    <tr>\n      <th>592457</th>\n      <td>592458</td>\n      <td>2050</td>\n      <td>Zacatecas</td>\n      <td>32</td>\n      <td>108</td>\n      <td>Mujeres</td>\n      <td>2</td>\n    </tr>\n    <tr>\n      <th>592458</th>\n      <td>592459</td>\n      <td>2050</td>\n      <td>Zacatecas</td>\n      <td>32</td>\n      <td>109</td>\n      <td>Hombres</td>\n      <td>0</td>\n    </tr>\n    <tr>\n      <th>592459</th>\n      <td>592460</td>\n      <td>2050</td>\n      <td>Zacatecas</td>\n      <td>32</td>\n      <td>109</td>\n      <td>Mujeres</td>\n      <td>1</td>\n    </tr>\n  </tbody>\n</table>\n<p>592460 rows × 7 columns</p>\n</div>"
     },
     "metadata": {},
     "execution_count": 59
    }
   ],
   "source": [
    "poblaciones"
   ]
  },
  {
   "source": [
    "Al explorar el DataFrame obtenido podemos observar que las poblaciones vienen desagregadas por año, estado, sexo y edad. Necesitaremos filtrar el DataFrame. Obtengamos un DataFrame con las poblaciones correspondientes a 2020. para filtrar lo hacemos de la misma manera en la que filtramos los casos. El filtro que buscamos son todas las filas que cumplan con la condición de tener el valor 2020 en la columna \"AÑO\""
   ],
   "cell_type": "markdown",
   "metadata": {}
  },
  {
   "cell_type": "code",
   "execution_count": 60,
   "metadata": {},
   "outputs": [
    {
     "output_type": "execute_result",
     "data": {
      "text/plain": [
       "        RENGLON   AÑO             ENTIDAD  CVE_GEO  EDAD     SEXO  POBLACION\n",
       "15400     15401  2020  República Mexicana        0     0  Hombres    1087447\n",
       "15401     15402  2020  República Mexicana        0     0  Mujeres    1048275\n",
       "15402     15403  2020  República Mexicana        0     1  Hombres    1093379\n",
       "15403     15404  2020  República Mexicana        0     1  Mujeres    1054636\n",
       "15404     15405  2020  República Mexicana        0     2  Hombres    1100800\n",
       "...         ...   ...                 ...      ...   ...      ...        ...\n",
       "585855   585856  2020           Zacatecas       32   107  Mujeres          1\n",
       "585856   585857  2020           Zacatecas       32   108  Hombres          0\n",
       "585857   585858  2020           Zacatecas       32   108  Mujeres          0\n",
       "585858   585859  2020           Zacatecas       32   109  Hombres          0\n",
       "585859   585860  2020           Zacatecas       32   109  Mujeres          0\n",
       "\n",
       "[7260 rows x 7 columns]"
      ],
      "text/html": "<div>\n<style scoped>\n    .dataframe tbody tr th:only-of-type {\n        vertical-align: middle;\n    }\n\n    .dataframe tbody tr th {\n        vertical-align: top;\n    }\n\n    .dataframe thead th {\n        text-align: right;\n    }\n</style>\n<table border=\"1\" class=\"dataframe\">\n  <thead>\n    <tr style=\"text-align: right;\">\n      <th></th>\n      <th>RENGLON</th>\n      <th>AÑO</th>\n      <th>ENTIDAD</th>\n      <th>CVE_GEO</th>\n      <th>EDAD</th>\n      <th>SEXO</th>\n      <th>POBLACION</th>\n    </tr>\n  </thead>\n  <tbody>\n    <tr>\n      <th>15400</th>\n      <td>15401</td>\n      <td>2020</td>\n      <td>República Mexicana</td>\n      <td>0</td>\n      <td>0</td>\n      <td>Hombres</td>\n      <td>1087447</td>\n    </tr>\n    <tr>\n      <th>15401</th>\n      <td>15402</td>\n      <td>2020</td>\n      <td>República Mexicana</td>\n      <td>0</td>\n      <td>0</td>\n      <td>Mujeres</td>\n      <td>1048275</td>\n    </tr>\n    <tr>\n      <th>15402</th>\n      <td>15403</td>\n      <td>2020</td>\n      <td>República Mexicana</td>\n      <td>0</td>\n      <td>1</td>\n      <td>Hombres</td>\n      <td>1093379</td>\n    </tr>\n    <tr>\n      <th>15403</th>\n      <td>15404</td>\n      <td>2020</td>\n      <td>República Mexicana</td>\n      <td>0</td>\n      <td>1</td>\n      <td>Mujeres</td>\n      <td>1054636</td>\n    </tr>\n    <tr>\n      <th>15404</th>\n      <td>15405</td>\n      <td>2020</td>\n      <td>República Mexicana</td>\n      <td>0</td>\n      <td>2</td>\n      <td>Hombres</td>\n      <td>1100800</td>\n    </tr>\n    <tr>\n      <th>...</th>\n      <td>...</td>\n      <td>...</td>\n      <td>...</td>\n      <td>...</td>\n      <td>...</td>\n      <td>...</td>\n      <td>...</td>\n    </tr>\n    <tr>\n      <th>585855</th>\n      <td>585856</td>\n      <td>2020</td>\n      <td>Zacatecas</td>\n      <td>32</td>\n      <td>107</td>\n      <td>Mujeres</td>\n      <td>1</td>\n    </tr>\n    <tr>\n      <th>585856</th>\n      <td>585857</td>\n      <td>2020</td>\n      <td>Zacatecas</td>\n      <td>32</td>\n      <td>108</td>\n      <td>Hombres</td>\n      <td>0</td>\n    </tr>\n    <tr>\n      <th>585857</th>\n      <td>585858</td>\n      <td>2020</td>\n      <td>Zacatecas</td>\n      <td>32</td>\n      <td>108</td>\n      <td>Mujeres</td>\n      <td>0</td>\n    </tr>\n    <tr>\n      <th>585858</th>\n      <td>585859</td>\n      <td>2020</td>\n      <td>Zacatecas</td>\n      <td>32</td>\n      <td>109</td>\n      <td>Hombres</td>\n      <td>0</td>\n    </tr>\n    <tr>\n      <th>585859</th>\n      <td>585860</td>\n      <td>2020</td>\n      <td>Zacatecas</td>\n      <td>32</td>\n      <td>109</td>\n      <td>Mujeres</td>\n      <td>0</td>\n    </tr>\n  </tbody>\n</table>\n<p>7260 rows × 7 columns</p>\n</div>"
     },
     "metadata": {},
     "execution_count": 60
    }
   ],
   "source": [
    "pob2020 = poblaciones[poblaciones[\"AÑO\"]==2020]\n",
    "pob2020"
   ]
  },
  {
   "source": [
    "Nos interesa agrupar por estado, entonces agrupamos por la columna \"CVE_GEO\" (esta clave es la misma clave que hemos manejado para cada estado) y además conservaremos la columna con el nombre del estado \"ENTIDAD\", esto para poder checar que las claves correspondan en los dos DataFrames."
   ],
   "cell_type": "markdown",
   "metadata": {}
  },
  {
   "cell_type": "code",
   "execution_count": 61,
   "metadata": {},
   "outputs": [],
   "source": [
    "grupos_poblacion = pob2020.groupby([\"CVE_GEO\",\"ENTIDAD\"])"
   ]
  },
  {
   "source": [
    "Cada elemento de este grupo es una estructura tipo DataFrame sobre la cual podemos operar. Anteriormente solamente habíamos contado el número de filas en cada elemento. Esta vez la operación que necesitamos es más compleja, tomaremos todas las filas pertenecientes al grupo y sumaremos el valor que tengan en la columna \"POBLACION\", para hacerlo necesitamos indicar que sobre la columna \"POBLACION\" vamos a aplicar la función sum(), lo hacemos de la siguiente manera..."
   ],
   "cell_type": "markdown",
   "metadata": {}
  },
  {
   "cell_type": "code",
   "execution_count": 62,
   "metadata": {},
   "outputs": [
    {
     "output_type": "execute_result",
     "data": {
      "text/plain": [
       "CVE_GEO  ENTIDAD            \n",
       "0        República Mexicana     127792286\n",
       "1        Aguascalientes           1434635\n",
       "2        Baja California          3634868\n",
       "3        Baja California Sur       804708\n",
       "4        Campeche                 1000617\n",
       "5        Coahuila                 3218720\n",
       "6        Colima                    785153\n",
       "7        Chiapas                  5730367\n",
       "8        Chihuahua                3801487\n",
       "9        Ciudad de México         9018645\n",
       "10       Durango                  1868996\n",
       "11       Guanajuato               6228175\n",
       "12       Guerrero                 3657048\n",
       "13       Hidalgo                  3086414\n",
       "14       Jalisco                  8409693\n",
       "15       México                  17427790\n",
       "16       Michoacán                4825401\n",
       "17       Morelos                  2044058\n",
       "18       Nayarit                  1288571\n",
       "19       Nuevo León               5610153\n",
       "20       Oaxaca                   4143593\n",
       "21       Puebla                   6604451\n",
       "22       Querétaro                2279637\n",
       "23       Quintana Roo             1723259\n",
       "24       San Luis Potosí          2866142\n",
       "25       Sinaloa                  3156674\n",
       "26       Sonora                   3074745\n",
       "27       Tabasco                  2572287\n",
       "28       Tamaulipas               3650602\n",
       "29       Tlaxcala                 1380011\n",
       "30       Veracruz                 8539862\n",
       "31       Yucatán                  2259098\n",
       "32       Zacatecas                1666426\n",
       "Name: POBLACION, dtype: int64"
      ]
     },
     "metadata": {},
     "execution_count": 62
    }
   ],
   "source": [
    "grupos_poblacion[\"POBLACION\"].sum()"
   ]
  },
  {
   "source": [
    "El resultado obtenido es una serie con la suma de los valores, cada fila en esta serie corresponde con cada uno de los elementos en el grupo creado. Transformaremos esta serie en un DataFrame de la misma manera en la que lo hicimos anteriormente y lo guardaremos en una variable nueva"
   ],
   "cell_type": "markdown",
   "metadata": {}
  },
  {
   "cell_type": "code",
   "execution_count": 63,
   "metadata": {},
   "outputs": [
    {
     "output_type": "execute_result",
     "data": {
      "text/plain": [
       "    CVE_GEO              ENTIDAD  poblacion\n",
       "0         0   República Mexicana  127792286\n",
       "1         1       Aguascalientes    1434635\n",
       "2         2      Baja California    3634868\n",
       "3         3  Baja California Sur     804708\n",
       "4         4             Campeche    1000617\n",
       "5         5             Coahuila    3218720\n",
       "6         6               Colima     785153\n",
       "7         7              Chiapas    5730367\n",
       "8         8            Chihuahua    3801487\n",
       "9         9     Ciudad de México    9018645\n",
       "10       10              Durango    1868996\n",
       "11       11           Guanajuato    6228175\n",
       "12       12             Guerrero    3657048\n",
       "13       13              Hidalgo    3086414\n",
       "14       14              Jalisco    8409693\n",
       "15       15               México   17427790\n",
       "16       16            Michoacán    4825401\n",
       "17       17              Morelos    2044058\n",
       "18       18              Nayarit    1288571\n",
       "19       19           Nuevo León    5610153\n",
       "20       20               Oaxaca    4143593\n",
       "21       21               Puebla    6604451\n",
       "22       22            Querétaro    2279637\n",
       "23       23         Quintana Roo    1723259\n",
       "24       24      San Luis Potosí    2866142\n",
       "25       25              Sinaloa    3156674\n",
       "26       26               Sonora    3074745\n",
       "27       27              Tabasco    2572287\n",
       "28       28           Tamaulipas    3650602\n",
       "29       29             Tlaxcala    1380011\n",
       "30       30             Veracruz    8539862\n",
       "31       31              Yucatán    2259098\n",
       "32       32            Zacatecas    1666426"
      ],
      "text/html": "<div>\n<style scoped>\n    .dataframe tbody tr th:only-of-type {\n        vertical-align: middle;\n    }\n\n    .dataframe tbody tr th {\n        vertical-align: top;\n    }\n\n    .dataframe thead th {\n        text-align: right;\n    }\n</style>\n<table border=\"1\" class=\"dataframe\">\n  <thead>\n    <tr style=\"text-align: right;\">\n      <th></th>\n      <th>CVE_GEO</th>\n      <th>ENTIDAD</th>\n      <th>poblacion</th>\n    </tr>\n  </thead>\n  <tbody>\n    <tr>\n      <th>0</th>\n      <td>0</td>\n      <td>República Mexicana</td>\n      <td>127792286</td>\n    </tr>\n    <tr>\n      <th>1</th>\n      <td>1</td>\n      <td>Aguascalientes</td>\n      <td>1434635</td>\n    </tr>\n    <tr>\n      <th>2</th>\n      <td>2</td>\n      <td>Baja California</td>\n      <td>3634868</td>\n    </tr>\n    <tr>\n      <th>3</th>\n      <td>3</td>\n      <td>Baja California Sur</td>\n      <td>804708</td>\n    </tr>\n    <tr>\n      <th>4</th>\n      <td>4</td>\n      <td>Campeche</td>\n      <td>1000617</td>\n    </tr>\n    <tr>\n      <th>5</th>\n      <td>5</td>\n      <td>Coahuila</td>\n      <td>3218720</td>\n    </tr>\n    <tr>\n      <th>6</th>\n      <td>6</td>\n      <td>Colima</td>\n      <td>785153</td>\n    </tr>\n    <tr>\n      <th>7</th>\n      <td>7</td>\n      <td>Chiapas</td>\n      <td>5730367</td>\n    </tr>\n    <tr>\n      <th>8</th>\n      <td>8</td>\n      <td>Chihuahua</td>\n      <td>3801487</td>\n    </tr>\n    <tr>\n      <th>9</th>\n      <td>9</td>\n      <td>Ciudad de México</td>\n      <td>9018645</td>\n    </tr>\n    <tr>\n      <th>10</th>\n      <td>10</td>\n      <td>Durango</td>\n      <td>1868996</td>\n    </tr>\n    <tr>\n      <th>11</th>\n      <td>11</td>\n      <td>Guanajuato</td>\n      <td>6228175</td>\n    </tr>\n    <tr>\n      <th>12</th>\n      <td>12</td>\n      <td>Guerrero</td>\n      <td>3657048</td>\n    </tr>\n    <tr>\n      <th>13</th>\n      <td>13</td>\n      <td>Hidalgo</td>\n      <td>3086414</td>\n    </tr>\n    <tr>\n      <th>14</th>\n      <td>14</td>\n      <td>Jalisco</td>\n      <td>8409693</td>\n    </tr>\n    <tr>\n      <th>15</th>\n      <td>15</td>\n      <td>México</td>\n      <td>17427790</td>\n    </tr>\n    <tr>\n      <th>16</th>\n      <td>16</td>\n      <td>Michoacán</td>\n      <td>4825401</td>\n    </tr>\n    <tr>\n      <th>17</th>\n      <td>17</td>\n      <td>Morelos</td>\n      <td>2044058</td>\n    </tr>\n    <tr>\n      <th>18</th>\n      <td>18</td>\n      <td>Nayarit</td>\n      <td>1288571</td>\n    </tr>\n    <tr>\n      <th>19</th>\n      <td>19</td>\n      <td>Nuevo León</td>\n      <td>5610153</td>\n    </tr>\n    <tr>\n      <th>20</th>\n      <td>20</td>\n      <td>Oaxaca</td>\n      <td>4143593</td>\n    </tr>\n    <tr>\n      <th>21</th>\n      <td>21</td>\n      <td>Puebla</td>\n      <td>6604451</td>\n    </tr>\n    <tr>\n      <th>22</th>\n      <td>22</td>\n      <td>Querétaro</td>\n      <td>2279637</td>\n    </tr>\n    <tr>\n      <th>23</th>\n      <td>23</td>\n      <td>Quintana Roo</td>\n      <td>1723259</td>\n    </tr>\n    <tr>\n      <th>24</th>\n      <td>24</td>\n      <td>San Luis Potosí</td>\n      <td>2866142</td>\n    </tr>\n    <tr>\n      <th>25</th>\n      <td>25</td>\n      <td>Sinaloa</td>\n      <td>3156674</td>\n    </tr>\n    <tr>\n      <th>26</th>\n      <td>26</td>\n      <td>Sonora</td>\n      <td>3074745</td>\n    </tr>\n    <tr>\n      <th>27</th>\n      <td>27</td>\n      <td>Tabasco</td>\n      <td>2572287</td>\n    </tr>\n    <tr>\n      <th>28</th>\n      <td>28</td>\n      <td>Tamaulipas</td>\n      <td>3650602</td>\n    </tr>\n    <tr>\n      <th>29</th>\n      <td>29</td>\n      <td>Tlaxcala</td>\n      <td>1380011</td>\n    </tr>\n    <tr>\n      <th>30</th>\n      <td>30</td>\n      <td>Veracruz</td>\n      <td>8539862</td>\n    </tr>\n    <tr>\n      <th>31</th>\n      <td>31</td>\n      <td>Yucatán</td>\n      <td>2259098</td>\n    </tr>\n    <tr>\n      <th>32</th>\n      <td>32</td>\n      <td>Zacatecas</td>\n      <td>1666426</td>\n    </tr>\n  </tbody>\n</table>\n</div>"
     },
     "metadata": {},
     "execution_count": 63
    }
   ],
   "source": [
    "poblacion_edo = grupos_poblacion[\"POBLACION\"].sum().to_frame(\"poblacion\").reset_index()\n",
    "poblacion_edo"
   ]
  },
  {
   "source": [
    "Ya que tenemos la información de la población haremos merge entre este DataFrame y nuestro DataFrame de casos confirmados por estado. Pondremos los casos confirmados a la izquierda, las poblaciones a la derecha y usaremos las columnas de las claves para mezclarlos y lo guardaremos en una nueva variable"
   ],
   "cell_type": "markdown",
   "metadata": {}
  },
  {
   "cell_type": "code",
   "execution_count": 64,
   "metadata": {},
   "outputs": [
    {
     "output_type": "execute_result",
     "data": {
      "text/plain": [
       "    ENTIDAD_RES  casos confirmados  CLAVE_ENTIDAD  \\\n",
       "0             9             146952              9   \n",
       "1            15              91571             15   \n",
       "2            19              47793             19   \n",
       "3            11              44965             11   \n",
       "4            26              36414             26   \n",
       "5            30              35818             30   \n",
       "6            21              33942             21   \n",
       "7            27              33587             27   \n",
       "8            14              31093             14   \n",
       "9            28              30828             28   \n",
       "10            5              30211              5   \n",
       "11           24              26190             24   \n",
       "12           16              23094             16   \n",
       "13            2              21767              2   \n",
       "14           12              21206             12   \n",
       "15           25              20779             25   \n",
       "16           31              20318             31   \n",
       "17           20              19831             20   \n",
       "18           13              14552             13   \n",
       "19            8              14366              8   \n",
       "20           23              13028             23   \n",
       "21            3              11578              3   \n",
       "22           22              11425             22   \n",
       "23           10              11126             10   \n",
       "24           32               9342             32   \n",
       "25            1               8406              1   \n",
       "26           29               8156             29   \n",
       "27            7               7428              7   \n",
       "28           17               6532             17   \n",
       "29           18               6480             18   \n",
       "30            4               6336              4   \n",
       "31            6               6113              6   \n",
       "\n",
       "                 ENTIDAD_FEDERATIVA ABREVIATURA  CVE_GEO              ENTIDAD  \\\n",
       "0                  CIUDAD DE MÉXICO          DF        9     Ciudad de México   \n",
       "1                            MÉXICO          MC       15               México   \n",
       "2                        NUEVO LEÓN          NL       19           Nuevo León   \n",
       "3                        GUANAJUATO          GT       11           Guanajuato   \n",
       "4                            SONORA          SR       26               Sonora   \n",
       "5   VERACRUZ DE IGNACIO DE LA LLAVE          VZ       30             Veracruz   \n",
       "6                            PUEBLA          PL       21               Puebla   \n",
       "7                           TABASCO          TC       27              Tabasco   \n",
       "8                           JALISCO          JC       14              Jalisco   \n",
       "9                        TAMAULIPAS          TS       28           Tamaulipas   \n",
       "10             COAHUILA DE ZARAGOZA          CL        5             Coahuila   \n",
       "11                  SAN LUIS POTOSÍ          SP       24      San Luis Potosí   \n",
       "12              MICHOACÁN DE OCAMPO          MN       16            Michoacán   \n",
       "13                  BAJA CALIFORNIA          BC        2      Baja California   \n",
       "14                         GUERRERO          GR       12             Guerrero   \n",
       "15                          SINALOA          SL       25              Sinaloa   \n",
       "16                          YUCATÁN          YN       31              Yucatán   \n",
       "17                           OAXACA          OC       20               Oaxaca   \n",
       "18                          HIDALGO          HG       13              Hidalgo   \n",
       "19                        CHIHUAHUA          CH        8            Chihuahua   \n",
       "20                     QUINTANA ROO          QR       23         Quintana Roo   \n",
       "21              BAJA CALIFORNIA SUR          BS        3  Baja California Sur   \n",
       "22                        QUERÉTARO          QT       22            Querétaro   \n",
       "23                          DURANGO          DG       10              Durango   \n",
       "24                        ZACATECAS          ZS       32            Zacatecas   \n",
       "25                   AGUASCALIENTES          AS        1       Aguascalientes   \n",
       "26                         TLAXCALA          TL       29             Tlaxcala   \n",
       "27                          CHIAPAS          CS        7              Chiapas   \n",
       "28                          MORELOS          MS       17              Morelos   \n",
       "29                          NAYARIT          NT       18              Nayarit   \n",
       "30                         CAMPECHE          CC        4             Campeche   \n",
       "31                           COLIMA          CM        6               Colima   \n",
       "\n",
       "    poblacion  \n",
       "0     9018645  \n",
       "1    17427790  \n",
       "2     5610153  \n",
       "3     6228175  \n",
       "4     3074745  \n",
       "5     8539862  \n",
       "6     6604451  \n",
       "7     2572287  \n",
       "8     8409693  \n",
       "9     3650602  \n",
       "10    3218720  \n",
       "11    2866142  \n",
       "12    4825401  \n",
       "13    3634868  \n",
       "14    3657048  \n",
       "15    3156674  \n",
       "16    2259098  \n",
       "17    4143593  \n",
       "18    3086414  \n",
       "19    3801487  \n",
       "20    1723259  \n",
       "21     804708  \n",
       "22    2279637  \n",
       "23    1868996  \n",
       "24    1666426  \n",
       "25    1434635  \n",
       "26    1380011  \n",
       "27    5730367  \n",
       "28    2044058  \n",
       "29    1288571  \n",
       "30    1000617  \n",
       "31     785153  "
      ],
      "text/html": "<div>\n<style scoped>\n    .dataframe tbody tr th:only-of-type {\n        vertical-align: middle;\n    }\n\n    .dataframe tbody tr th {\n        vertical-align: top;\n    }\n\n    .dataframe thead th {\n        text-align: right;\n    }\n</style>\n<table border=\"1\" class=\"dataframe\">\n  <thead>\n    <tr style=\"text-align: right;\">\n      <th></th>\n      <th>ENTIDAD_RES</th>\n      <th>casos confirmados</th>\n      <th>CLAVE_ENTIDAD</th>\n      <th>ENTIDAD_FEDERATIVA</th>\n      <th>ABREVIATURA</th>\n      <th>CVE_GEO</th>\n      <th>ENTIDAD</th>\n      <th>poblacion</th>\n    </tr>\n  </thead>\n  <tbody>\n    <tr>\n      <th>0</th>\n      <td>9</td>\n      <td>146952</td>\n      <td>9</td>\n      <td>CIUDAD DE MÉXICO</td>\n      <td>DF</td>\n      <td>9</td>\n      <td>Ciudad de México</td>\n      <td>9018645</td>\n    </tr>\n    <tr>\n      <th>1</th>\n      <td>15</td>\n      <td>91571</td>\n      <td>15</td>\n      <td>MÉXICO</td>\n      <td>MC</td>\n      <td>15</td>\n      <td>México</td>\n      <td>17427790</td>\n    </tr>\n    <tr>\n      <th>2</th>\n      <td>19</td>\n      <td>47793</td>\n      <td>19</td>\n      <td>NUEVO LEÓN</td>\n      <td>NL</td>\n      <td>19</td>\n      <td>Nuevo León</td>\n      <td>5610153</td>\n    </tr>\n    <tr>\n      <th>3</th>\n      <td>11</td>\n      <td>44965</td>\n      <td>11</td>\n      <td>GUANAJUATO</td>\n      <td>GT</td>\n      <td>11</td>\n      <td>Guanajuato</td>\n      <td>6228175</td>\n    </tr>\n    <tr>\n      <th>4</th>\n      <td>26</td>\n      <td>36414</td>\n      <td>26</td>\n      <td>SONORA</td>\n      <td>SR</td>\n      <td>26</td>\n      <td>Sonora</td>\n      <td>3074745</td>\n    </tr>\n    <tr>\n      <th>5</th>\n      <td>30</td>\n      <td>35818</td>\n      <td>30</td>\n      <td>VERACRUZ DE IGNACIO DE LA LLAVE</td>\n      <td>VZ</td>\n      <td>30</td>\n      <td>Veracruz</td>\n      <td>8539862</td>\n    </tr>\n    <tr>\n      <th>6</th>\n      <td>21</td>\n      <td>33942</td>\n      <td>21</td>\n      <td>PUEBLA</td>\n      <td>PL</td>\n      <td>21</td>\n      <td>Puebla</td>\n      <td>6604451</td>\n    </tr>\n    <tr>\n      <th>7</th>\n      <td>27</td>\n      <td>33587</td>\n      <td>27</td>\n      <td>TABASCO</td>\n      <td>TC</td>\n      <td>27</td>\n      <td>Tabasco</td>\n      <td>2572287</td>\n    </tr>\n    <tr>\n      <th>8</th>\n      <td>14</td>\n      <td>31093</td>\n      <td>14</td>\n      <td>JALISCO</td>\n      <td>JC</td>\n      <td>14</td>\n      <td>Jalisco</td>\n      <td>8409693</td>\n    </tr>\n    <tr>\n      <th>9</th>\n      <td>28</td>\n      <td>30828</td>\n      <td>28</td>\n      <td>TAMAULIPAS</td>\n      <td>TS</td>\n      <td>28</td>\n      <td>Tamaulipas</td>\n      <td>3650602</td>\n    </tr>\n    <tr>\n      <th>10</th>\n      <td>5</td>\n      <td>30211</td>\n      <td>5</td>\n      <td>COAHUILA DE ZARAGOZA</td>\n      <td>CL</td>\n      <td>5</td>\n      <td>Coahuila</td>\n      <td>3218720</td>\n    </tr>\n    <tr>\n      <th>11</th>\n      <td>24</td>\n      <td>26190</td>\n      <td>24</td>\n      <td>SAN LUIS POTOSÍ</td>\n      <td>SP</td>\n      <td>24</td>\n      <td>San Luis Potosí</td>\n      <td>2866142</td>\n    </tr>\n    <tr>\n      <th>12</th>\n      <td>16</td>\n      <td>23094</td>\n      <td>16</td>\n      <td>MICHOACÁN DE OCAMPO</td>\n      <td>MN</td>\n      <td>16</td>\n      <td>Michoacán</td>\n      <td>4825401</td>\n    </tr>\n    <tr>\n      <th>13</th>\n      <td>2</td>\n      <td>21767</td>\n      <td>2</td>\n      <td>BAJA CALIFORNIA</td>\n      <td>BC</td>\n      <td>2</td>\n      <td>Baja California</td>\n      <td>3634868</td>\n    </tr>\n    <tr>\n      <th>14</th>\n      <td>12</td>\n      <td>21206</td>\n      <td>12</td>\n      <td>GUERRERO</td>\n      <td>GR</td>\n      <td>12</td>\n      <td>Guerrero</td>\n      <td>3657048</td>\n    </tr>\n    <tr>\n      <th>15</th>\n      <td>25</td>\n      <td>20779</td>\n      <td>25</td>\n      <td>SINALOA</td>\n      <td>SL</td>\n      <td>25</td>\n      <td>Sinaloa</td>\n      <td>3156674</td>\n    </tr>\n    <tr>\n      <th>16</th>\n      <td>31</td>\n      <td>20318</td>\n      <td>31</td>\n      <td>YUCATÁN</td>\n      <td>YN</td>\n      <td>31</td>\n      <td>Yucatán</td>\n      <td>2259098</td>\n    </tr>\n    <tr>\n      <th>17</th>\n      <td>20</td>\n      <td>19831</td>\n      <td>20</td>\n      <td>OAXACA</td>\n      <td>OC</td>\n      <td>20</td>\n      <td>Oaxaca</td>\n      <td>4143593</td>\n    </tr>\n    <tr>\n      <th>18</th>\n      <td>13</td>\n      <td>14552</td>\n      <td>13</td>\n      <td>HIDALGO</td>\n      <td>HG</td>\n      <td>13</td>\n      <td>Hidalgo</td>\n      <td>3086414</td>\n    </tr>\n    <tr>\n      <th>19</th>\n      <td>8</td>\n      <td>14366</td>\n      <td>8</td>\n      <td>CHIHUAHUA</td>\n      <td>CH</td>\n      <td>8</td>\n      <td>Chihuahua</td>\n      <td>3801487</td>\n    </tr>\n    <tr>\n      <th>20</th>\n      <td>23</td>\n      <td>13028</td>\n      <td>23</td>\n      <td>QUINTANA ROO</td>\n      <td>QR</td>\n      <td>23</td>\n      <td>Quintana Roo</td>\n      <td>1723259</td>\n    </tr>\n    <tr>\n      <th>21</th>\n      <td>3</td>\n      <td>11578</td>\n      <td>3</td>\n      <td>BAJA CALIFORNIA SUR</td>\n      <td>BS</td>\n      <td>3</td>\n      <td>Baja California Sur</td>\n      <td>804708</td>\n    </tr>\n    <tr>\n      <th>22</th>\n      <td>22</td>\n      <td>11425</td>\n      <td>22</td>\n      <td>QUERÉTARO</td>\n      <td>QT</td>\n      <td>22</td>\n      <td>Querétaro</td>\n      <td>2279637</td>\n    </tr>\n    <tr>\n      <th>23</th>\n      <td>10</td>\n      <td>11126</td>\n      <td>10</td>\n      <td>DURANGO</td>\n      <td>DG</td>\n      <td>10</td>\n      <td>Durango</td>\n      <td>1868996</td>\n    </tr>\n    <tr>\n      <th>24</th>\n      <td>32</td>\n      <td>9342</td>\n      <td>32</td>\n      <td>ZACATECAS</td>\n      <td>ZS</td>\n      <td>32</td>\n      <td>Zacatecas</td>\n      <td>1666426</td>\n    </tr>\n    <tr>\n      <th>25</th>\n      <td>1</td>\n      <td>8406</td>\n      <td>1</td>\n      <td>AGUASCALIENTES</td>\n      <td>AS</td>\n      <td>1</td>\n      <td>Aguascalientes</td>\n      <td>1434635</td>\n    </tr>\n    <tr>\n      <th>26</th>\n      <td>29</td>\n      <td>8156</td>\n      <td>29</td>\n      <td>TLAXCALA</td>\n      <td>TL</td>\n      <td>29</td>\n      <td>Tlaxcala</td>\n      <td>1380011</td>\n    </tr>\n    <tr>\n      <th>27</th>\n      <td>7</td>\n      <td>7428</td>\n      <td>7</td>\n      <td>CHIAPAS</td>\n      <td>CS</td>\n      <td>7</td>\n      <td>Chiapas</td>\n      <td>5730367</td>\n    </tr>\n    <tr>\n      <th>28</th>\n      <td>17</td>\n      <td>6532</td>\n      <td>17</td>\n      <td>MORELOS</td>\n      <td>MS</td>\n      <td>17</td>\n      <td>Morelos</td>\n      <td>2044058</td>\n    </tr>\n    <tr>\n      <th>29</th>\n      <td>18</td>\n      <td>6480</td>\n      <td>18</td>\n      <td>NAYARIT</td>\n      <td>NT</td>\n      <td>18</td>\n      <td>Nayarit</td>\n      <td>1288571</td>\n    </tr>\n    <tr>\n      <th>30</th>\n      <td>4</td>\n      <td>6336</td>\n      <td>4</td>\n      <td>CAMPECHE</td>\n      <td>CC</td>\n      <td>4</td>\n      <td>Campeche</td>\n      <td>1000617</td>\n    </tr>\n    <tr>\n      <th>31</th>\n      <td>6</td>\n      <td>6113</td>\n      <td>6</td>\n      <td>COLIMA</td>\n      <td>CM</td>\n      <td>6</td>\n      <td>Colima</td>\n      <td>785153</td>\n    </tr>\n  </tbody>\n</table>\n</div>"
     },
     "metadata": {},
     "execution_count": 64
    }
   ],
   "source": [
    "conf_pob_edo = pd.merge(confirmados_edo,poblacion_edo,how=\"left\",left_on=\"CLAVE_ENTIDAD\",right_on=\"CVE_GEO\")\n",
    "conf_pob_edo"
   ]
  },
  {
   "source": [
    "Para calcular la tasa de casos confirmados dividimos el número de casos entre la población del estado y lo multiplicamos por 100mil. Pandas nos permite hacer estas operaciones en todas las filas al mismo tiempo"
   ],
   "cell_type": "markdown",
   "metadata": {}
  },
  {
   "cell_type": "code",
   "execution_count": 65,
   "metadata": {},
   "outputs": [
    {
     "output_type": "execute_result",
     "data": {
      "text/plain": [
       "0     1629.424376\n",
       "1      525.430935\n",
       "2      851.901900\n",
       "3      721.961088\n",
       "4     1184.293332\n",
       "5      419.421297\n",
       "6      513.926139\n",
       "7     1305.725217\n",
       "8      369.728122\n",
       "9      844.463461\n",
       "10     938.602923\n",
       "11     913.771893\n",
       "12     478.592349\n",
       "13     598.838802\n",
       "14     579.866603\n",
       "15     658.256127\n",
       "16     899.385507\n",
       "17     478.594302\n",
       "18     471.485679\n",
       "19     377.904751\n",
       "20     756.009398\n",
       "21    1438.782763\n",
       "22     501.176284\n",
       "23     595.292874\n",
       "24     560.600951\n",
       "25     585.933007\n",
       "26     591.009782\n",
       "27     129.625206\n",
       "28     319.560404\n",
       "29     502.882651\n",
       "30     633.209310\n",
       "31     778.574367\n",
       "dtype: float64"
      ]
     },
     "metadata": {},
     "execution_count": 65
    }
   ],
   "source": [
    "conf_pob_edo[\"casos confirmados\"]/conf_pob_edo[\"poblacion\"]*100000"
   ]
  },
  {
   "source": [
    "El resultado es una serie y lo guardaremos en una columna nueva de nuestro DataFrame"
   ],
   "cell_type": "markdown",
   "metadata": {}
  },
  {
   "cell_type": "code",
   "execution_count": 66,
   "metadata": {},
   "outputs": [],
   "source": [
    "conf_pob_edo[\"tasa de casos\"] = conf_pob_edo[\"casos confirmados\"]/conf_pob_edo[\"poblacion\"]*100000"
   ]
  },
  {
   "source": [
    "Cambiemos el orden de nuestro DataFrame una vez más, esta ves usando la columna \"tasa de casos\""
   ],
   "cell_type": "markdown",
   "metadata": {}
  },
  {
   "cell_type": "code",
   "execution_count": 67,
   "metadata": {},
   "outputs": [
    {
     "output_type": "execute_result",
     "data": {
      "text/plain": [
       "    ENTIDAD_RES  casos confirmados  CLAVE_ENTIDAD  \\\n",
       "0             9             146952              9   \n",
       "21            3              11578              3   \n",
       "7            27              33587             27   \n",
       "4            26              36414             26   \n",
       "10            5              30211              5   \n",
       "11           24              26190             24   \n",
       "16           31              20318             31   \n",
       "2            19              47793             19   \n",
       "9            28              30828             28   \n",
       "31            6               6113              6   \n",
       "20           23              13028             23   \n",
       "3            11              44965             11   \n",
       "15           25              20779             25   \n",
       "30            4               6336              4   \n",
       "13            2              21767              2   \n",
       "23           10              11126             10   \n",
       "26           29               8156             29   \n",
       "25            1               8406              1   \n",
       "14           12              21206             12   \n",
       "24           32               9342             32   \n",
       "1            15              91571             15   \n",
       "6            21              33942             21   \n",
       "29           18               6480             18   \n",
       "22           22              11425             22   \n",
       "17           20              19831             20   \n",
       "12           16              23094             16   \n",
       "18           13              14552             13   \n",
       "5            30              35818             30   \n",
       "19            8              14366              8   \n",
       "8            14              31093             14   \n",
       "28           17               6532             17   \n",
       "27            7               7428              7   \n",
       "\n",
       "                 ENTIDAD_FEDERATIVA ABREVIATURA  CVE_GEO              ENTIDAD  \\\n",
       "0                  CIUDAD DE MÉXICO          DF        9     Ciudad de México   \n",
       "21              BAJA CALIFORNIA SUR          BS        3  Baja California Sur   \n",
       "7                           TABASCO          TC       27              Tabasco   \n",
       "4                            SONORA          SR       26               Sonora   \n",
       "10             COAHUILA DE ZARAGOZA          CL        5             Coahuila   \n",
       "11                  SAN LUIS POTOSÍ          SP       24      San Luis Potosí   \n",
       "16                          YUCATÁN          YN       31              Yucatán   \n",
       "2                        NUEVO LEÓN          NL       19           Nuevo León   \n",
       "9                        TAMAULIPAS          TS       28           Tamaulipas   \n",
       "31                           COLIMA          CM        6               Colima   \n",
       "20                     QUINTANA ROO          QR       23         Quintana Roo   \n",
       "3                        GUANAJUATO          GT       11           Guanajuato   \n",
       "15                          SINALOA          SL       25              Sinaloa   \n",
       "30                         CAMPECHE          CC        4             Campeche   \n",
       "13                  BAJA CALIFORNIA          BC        2      Baja California   \n",
       "23                          DURANGO          DG       10              Durango   \n",
       "26                         TLAXCALA          TL       29             Tlaxcala   \n",
       "25                   AGUASCALIENTES          AS        1       Aguascalientes   \n",
       "14                         GUERRERO          GR       12             Guerrero   \n",
       "24                        ZACATECAS          ZS       32            Zacatecas   \n",
       "1                            MÉXICO          MC       15               México   \n",
       "6                            PUEBLA          PL       21               Puebla   \n",
       "29                          NAYARIT          NT       18              Nayarit   \n",
       "22                        QUERÉTARO          QT       22            Querétaro   \n",
       "17                           OAXACA          OC       20               Oaxaca   \n",
       "12              MICHOACÁN DE OCAMPO          MN       16            Michoacán   \n",
       "18                          HIDALGO          HG       13              Hidalgo   \n",
       "5   VERACRUZ DE IGNACIO DE LA LLAVE          VZ       30             Veracruz   \n",
       "19                        CHIHUAHUA          CH        8            Chihuahua   \n",
       "8                           JALISCO          JC       14              Jalisco   \n",
       "28                          MORELOS          MS       17              Morelos   \n",
       "27                          CHIAPAS          CS        7              Chiapas   \n",
       "\n",
       "    poblacion  tasa de casos  \n",
       "0     9018645    1629.424376  \n",
       "21     804708    1438.782763  \n",
       "7     2572287    1305.725217  \n",
       "4     3074745    1184.293332  \n",
       "10    3218720     938.602923  \n",
       "11    2866142     913.771893  \n",
       "16    2259098     899.385507  \n",
       "2     5610153     851.901900  \n",
       "9     3650602     844.463461  \n",
       "31     785153     778.574367  \n",
       "20    1723259     756.009398  \n",
       "3     6228175     721.961088  \n",
       "15    3156674     658.256127  \n",
       "30    1000617     633.209310  \n",
       "13    3634868     598.838802  \n",
       "23    1868996     595.292874  \n",
       "26    1380011     591.009782  \n",
       "25    1434635     585.933007  \n",
       "14    3657048     579.866603  \n",
       "24    1666426     560.600951  \n",
       "1    17427790     525.430935  \n",
       "6     6604451     513.926139  \n",
       "29    1288571     502.882651  \n",
       "22    2279637     501.176284  \n",
       "17    4143593     478.594302  \n",
       "12    4825401     478.592349  \n",
       "18    3086414     471.485679  \n",
       "5     8539862     419.421297  \n",
       "19    3801487     377.904751  \n",
       "8     8409693     369.728122  \n",
       "28    2044058     319.560404  \n",
       "27    5730367     129.625206  "
      ],
      "text/html": "<div>\n<style scoped>\n    .dataframe tbody tr th:only-of-type {\n        vertical-align: middle;\n    }\n\n    .dataframe tbody tr th {\n        vertical-align: top;\n    }\n\n    .dataframe thead th {\n        text-align: right;\n    }\n</style>\n<table border=\"1\" class=\"dataframe\">\n  <thead>\n    <tr style=\"text-align: right;\">\n      <th></th>\n      <th>ENTIDAD_RES</th>\n      <th>casos confirmados</th>\n      <th>CLAVE_ENTIDAD</th>\n      <th>ENTIDAD_FEDERATIVA</th>\n      <th>ABREVIATURA</th>\n      <th>CVE_GEO</th>\n      <th>ENTIDAD</th>\n      <th>poblacion</th>\n      <th>tasa de casos</th>\n    </tr>\n  </thead>\n  <tbody>\n    <tr>\n      <th>0</th>\n      <td>9</td>\n      <td>146952</td>\n      <td>9</td>\n      <td>CIUDAD DE MÉXICO</td>\n      <td>DF</td>\n      <td>9</td>\n      <td>Ciudad de México</td>\n      <td>9018645</td>\n      <td>1629.424376</td>\n    </tr>\n    <tr>\n      <th>21</th>\n      <td>3</td>\n      <td>11578</td>\n      <td>3</td>\n      <td>BAJA CALIFORNIA SUR</td>\n      <td>BS</td>\n      <td>3</td>\n      <td>Baja California Sur</td>\n      <td>804708</td>\n      <td>1438.782763</td>\n    </tr>\n    <tr>\n      <th>7</th>\n      <td>27</td>\n      <td>33587</td>\n      <td>27</td>\n      <td>TABASCO</td>\n      <td>TC</td>\n      <td>27</td>\n      <td>Tabasco</td>\n      <td>2572287</td>\n      <td>1305.725217</td>\n    </tr>\n    <tr>\n      <th>4</th>\n      <td>26</td>\n      <td>36414</td>\n      <td>26</td>\n      <td>SONORA</td>\n      <td>SR</td>\n      <td>26</td>\n      <td>Sonora</td>\n      <td>3074745</td>\n      <td>1184.293332</td>\n    </tr>\n    <tr>\n      <th>10</th>\n      <td>5</td>\n      <td>30211</td>\n      <td>5</td>\n      <td>COAHUILA DE ZARAGOZA</td>\n      <td>CL</td>\n      <td>5</td>\n      <td>Coahuila</td>\n      <td>3218720</td>\n      <td>938.602923</td>\n    </tr>\n    <tr>\n      <th>11</th>\n      <td>24</td>\n      <td>26190</td>\n      <td>24</td>\n      <td>SAN LUIS POTOSÍ</td>\n      <td>SP</td>\n      <td>24</td>\n      <td>San Luis Potosí</td>\n      <td>2866142</td>\n      <td>913.771893</td>\n    </tr>\n    <tr>\n      <th>16</th>\n      <td>31</td>\n      <td>20318</td>\n      <td>31</td>\n      <td>YUCATÁN</td>\n      <td>YN</td>\n      <td>31</td>\n      <td>Yucatán</td>\n      <td>2259098</td>\n      <td>899.385507</td>\n    </tr>\n    <tr>\n      <th>2</th>\n      <td>19</td>\n      <td>47793</td>\n      <td>19</td>\n      <td>NUEVO LEÓN</td>\n      <td>NL</td>\n      <td>19</td>\n      <td>Nuevo León</td>\n      <td>5610153</td>\n      <td>851.901900</td>\n    </tr>\n    <tr>\n      <th>9</th>\n      <td>28</td>\n      <td>30828</td>\n      <td>28</td>\n      <td>TAMAULIPAS</td>\n      <td>TS</td>\n      <td>28</td>\n      <td>Tamaulipas</td>\n      <td>3650602</td>\n      <td>844.463461</td>\n    </tr>\n    <tr>\n      <th>31</th>\n      <td>6</td>\n      <td>6113</td>\n      <td>6</td>\n      <td>COLIMA</td>\n      <td>CM</td>\n      <td>6</td>\n      <td>Colima</td>\n      <td>785153</td>\n      <td>778.574367</td>\n    </tr>\n    <tr>\n      <th>20</th>\n      <td>23</td>\n      <td>13028</td>\n      <td>23</td>\n      <td>QUINTANA ROO</td>\n      <td>QR</td>\n      <td>23</td>\n      <td>Quintana Roo</td>\n      <td>1723259</td>\n      <td>756.009398</td>\n    </tr>\n    <tr>\n      <th>3</th>\n      <td>11</td>\n      <td>44965</td>\n      <td>11</td>\n      <td>GUANAJUATO</td>\n      <td>GT</td>\n      <td>11</td>\n      <td>Guanajuato</td>\n      <td>6228175</td>\n      <td>721.961088</td>\n    </tr>\n    <tr>\n      <th>15</th>\n      <td>25</td>\n      <td>20779</td>\n      <td>25</td>\n      <td>SINALOA</td>\n      <td>SL</td>\n      <td>25</td>\n      <td>Sinaloa</td>\n      <td>3156674</td>\n      <td>658.256127</td>\n    </tr>\n    <tr>\n      <th>30</th>\n      <td>4</td>\n      <td>6336</td>\n      <td>4</td>\n      <td>CAMPECHE</td>\n      <td>CC</td>\n      <td>4</td>\n      <td>Campeche</td>\n      <td>1000617</td>\n      <td>633.209310</td>\n    </tr>\n    <tr>\n      <th>13</th>\n      <td>2</td>\n      <td>21767</td>\n      <td>2</td>\n      <td>BAJA CALIFORNIA</td>\n      <td>BC</td>\n      <td>2</td>\n      <td>Baja California</td>\n      <td>3634868</td>\n      <td>598.838802</td>\n    </tr>\n    <tr>\n      <th>23</th>\n      <td>10</td>\n      <td>11126</td>\n      <td>10</td>\n      <td>DURANGO</td>\n      <td>DG</td>\n      <td>10</td>\n      <td>Durango</td>\n      <td>1868996</td>\n      <td>595.292874</td>\n    </tr>\n    <tr>\n      <th>26</th>\n      <td>29</td>\n      <td>8156</td>\n      <td>29</td>\n      <td>TLAXCALA</td>\n      <td>TL</td>\n      <td>29</td>\n      <td>Tlaxcala</td>\n      <td>1380011</td>\n      <td>591.009782</td>\n    </tr>\n    <tr>\n      <th>25</th>\n      <td>1</td>\n      <td>8406</td>\n      <td>1</td>\n      <td>AGUASCALIENTES</td>\n      <td>AS</td>\n      <td>1</td>\n      <td>Aguascalientes</td>\n      <td>1434635</td>\n      <td>585.933007</td>\n    </tr>\n    <tr>\n      <th>14</th>\n      <td>12</td>\n      <td>21206</td>\n      <td>12</td>\n      <td>GUERRERO</td>\n      <td>GR</td>\n      <td>12</td>\n      <td>Guerrero</td>\n      <td>3657048</td>\n      <td>579.866603</td>\n    </tr>\n    <tr>\n      <th>24</th>\n      <td>32</td>\n      <td>9342</td>\n      <td>32</td>\n      <td>ZACATECAS</td>\n      <td>ZS</td>\n      <td>32</td>\n      <td>Zacatecas</td>\n      <td>1666426</td>\n      <td>560.600951</td>\n    </tr>\n    <tr>\n      <th>1</th>\n      <td>15</td>\n      <td>91571</td>\n      <td>15</td>\n      <td>MÉXICO</td>\n      <td>MC</td>\n      <td>15</td>\n      <td>México</td>\n      <td>17427790</td>\n      <td>525.430935</td>\n    </tr>\n    <tr>\n      <th>6</th>\n      <td>21</td>\n      <td>33942</td>\n      <td>21</td>\n      <td>PUEBLA</td>\n      <td>PL</td>\n      <td>21</td>\n      <td>Puebla</td>\n      <td>6604451</td>\n      <td>513.926139</td>\n    </tr>\n    <tr>\n      <th>29</th>\n      <td>18</td>\n      <td>6480</td>\n      <td>18</td>\n      <td>NAYARIT</td>\n      <td>NT</td>\n      <td>18</td>\n      <td>Nayarit</td>\n      <td>1288571</td>\n      <td>502.882651</td>\n    </tr>\n    <tr>\n      <th>22</th>\n      <td>22</td>\n      <td>11425</td>\n      <td>22</td>\n      <td>QUERÉTARO</td>\n      <td>QT</td>\n      <td>22</td>\n      <td>Querétaro</td>\n      <td>2279637</td>\n      <td>501.176284</td>\n    </tr>\n    <tr>\n      <th>17</th>\n      <td>20</td>\n      <td>19831</td>\n      <td>20</td>\n      <td>OAXACA</td>\n      <td>OC</td>\n      <td>20</td>\n      <td>Oaxaca</td>\n      <td>4143593</td>\n      <td>478.594302</td>\n    </tr>\n    <tr>\n      <th>12</th>\n      <td>16</td>\n      <td>23094</td>\n      <td>16</td>\n      <td>MICHOACÁN DE OCAMPO</td>\n      <td>MN</td>\n      <td>16</td>\n      <td>Michoacán</td>\n      <td>4825401</td>\n      <td>478.592349</td>\n    </tr>\n    <tr>\n      <th>18</th>\n      <td>13</td>\n      <td>14552</td>\n      <td>13</td>\n      <td>HIDALGO</td>\n      <td>HG</td>\n      <td>13</td>\n      <td>Hidalgo</td>\n      <td>3086414</td>\n      <td>471.485679</td>\n    </tr>\n    <tr>\n      <th>5</th>\n      <td>30</td>\n      <td>35818</td>\n      <td>30</td>\n      <td>VERACRUZ DE IGNACIO DE LA LLAVE</td>\n      <td>VZ</td>\n      <td>30</td>\n      <td>Veracruz</td>\n      <td>8539862</td>\n      <td>419.421297</td>\n    </tr>\n    <tr>\n      <th>19</th>\n      <td>8</td>\n      <td>14366</td>\n      <td>8</td>\n      <td>CHIHUAHUA</td>\n      <td>CH</td>\n      <td>8</td>\n      <td>Chihuahua</td>\n      <td>3801487</td>\n      <td>377.904751</td>\n    </tr>\n    <tr>\n      <th>8</th>\n      <td>14</td>\n      <td>31093</td>\n      <td>14</td>\n      <td>JALISCO</td>\n      <td>JC</td>\n      <td>14</td>\n      <td>Jalisco</td>\n      <td>8409693</td>\n      <td>369.728122</td>\n    </tr>\n    <tr>\n      <th>28</th>\n      <td>17</td>\n      <td>6532</td>\n      <td>17</td>\n      <td>MORELOS</td>\n      <td>MS</td>\n      <td>17</td>\n      <td>Morelos</td>\n      <td>2044058</td>\n      <td>319.560404</td>\n    </tr>\n    <tr>\n      <th>27</th>\n      <td>7</td>\n      <td>7428</td>\n      <td>7</td>\n      <td>CHIAPAS</td>\n      <td>CS</td>\n      <td>7</td>\n      <td>Chiapas</td>\n      <td>5730367</td>\n      <td>129.625206</td>\n    </tr>\n  </tbody>\n</table>\n</div>"
     },
     "metadata": {},
     "execution_count": 67
    }
   ],
   "source": [
    "conf_pob_edo.sort_values(\"tasa de casos\", ascending=False, inplace=True)\n",
    "conf_pob_edo"
   ]
  },
  {
   "source": [
    "Volvamos a graficar pero ahora utilizando el nuevo DataFrame y la columna \"tasa de casos\""
   ],
   "cell_type": "markdown",
   "metadata": {}
  },
  {
   "cell_type": "code",
   "execution_count": 68,
   "metadata": {},
   "outputs": [
    {
     "output_type": "execute_result",
     "data": {
      "text/plain": [
       "GlyphRenderer(id='1696', ...)"
      ],
      "text/html": "<div style=\"display: table;\"><div style=\"display: table-row;\"><div style=\"display: table-cell;\"><b title=\"bokeh.models.renderers.GlyphRenderer\">GlyphRenderer</b>(</div><div style=\"display: table-cell;\">id&nbsp;=&nbsp;'1696', <span id=\"1699\" style=\"cursor: pointer;\">&hellip;)</span></div></div><div class=\"1698\" style=\"display: none;\"><div style=\"display: table-cell;\"></div><div style=\"display: table-cell;\">data_source&nbsp;=&nbsp;ColumnDataSource(id='1693', ...),</div></div><div class=\"1698\" style=\"display: none;\"><div style=\"display: table-cell;\"></div><div style=\"display: table-cell;\">glyph&nbsp;=&nbsp;VBar(id='1694', ...),</div></div><div class=\"1698\" style=\"display: none;\"><div style=\"display: table-cell;\"></div><div style=\"display: table-cell;\">hover_glyph&nbsp;=&nbsp;None,</div></div><div class=\"1698\" style=\"display: none;\"><div style=\"display: table-cell;\"></div><div style=\"display: table-cell;\">js_event_callbacks&nbsp;=&nbsp;{},</div></div><div class=\"1698\" style=\"display: none;\"><div style=\"display: table-cell;\"></div><div style=\"display: table-cell;\">js_property_callbacks&nbsp;=&nbsp;{},</div></div><div class=\"1698\" style=\"display: none;\"><div style=\"display: table-cell;\"></div><div style=\"display: table-cell;\">level&nbsp;=&nbsp;'glyph',</div></div><div class=\"1698\" style=\"display: none;\"><div style=\"display: table-cell;\"></div><div style=\"display: table-cell;\">muted&nbsp;=&nbsp;False,</div></div><div class=\"1698\" style=\"display: none;\"><div style=\"display: table-cell;\"></div><div style=\"display: table-cell;\">muted_glyph&nbsp;=&nbsp;None,</div></div><div class=\"1698\" style=\"display: none;\"><div style=\"display: table-cell;\"></div><div style=\"display: table-cell;\">name&nbsp;=&nbsp;None,</div></div><div class=\"1698\" style=\"display: none;\"><div style=\"display: table-cell;\"></div><div style=\"display: table-cell;\">nonselection_glyph&nbsp;=&nbsp;VBar(id='1695', ...),</div></div><div class=\"1698\" style=\"display: none;\"><div style=\"display: table-cell;\"></div><div style=\"display: table-cell;\">selection_glyph&nbsp;=&nbsp;None,</div></div><div class=\"1698\" style=\"display: none;\"><div style=\"display: table-cell;\"></div><div style=\"display: table-cell;\">subscribed_events&nbsp;=&nbsp;[],</div></div><div class=\"1698\" style=\"display: none;\"><div style=\"display: table-cell;\"></div><div style=\"display: table-cell;\">tags&nbsp;=&nbsp;[],</div></div><div class=\"1698\" style=\"display: none;\"><div style=\"display: table-cell;\"></div><div style=\"display: table-cell;\">view&nbsp;=&nbsp;CDSView(id='1697', ...),</div></div><div class=\"1698\" style=\"display: none;\"><div style=\"display: table-cell;\"></div><div style=\"display: table-cell;\">visible&nbsp;=&nbsp;True,</div></div><div class=\"1698\" style=\"display: none;\"><div style=\"display: table-cell;\"></div><div style=\"display: table-cell;\">x_range_name&nbsp;=&nbsp;'default',</div></div><div class=\"1698\" style=\"display: none;\"><div style=\"display: table-cell;\"></div><div style=\"display: table-cell;\">y_range_name&nbsp;=&nbsp;'default')</div></div></div>\n<script>\n(function() {\n  var expanded = false;\n  var ellipsis = document.getElementById(\"1699\");\n  ellipsis.addEventListener(\"click\", function() {\n    var rows = document.getElementsByClassName(\"1698\");\n    for (var i = 0; i < rows.length; i++) {\n      var el = rows[i];\n      el.style.display = expanded ? \"none\" : \"table-row\";\n    }\n    ellipsis.innerHTML = expanded ? \"&hellip;)\" : \"&lsaquo;&lsaquo;&lsaquo;\";\n    expanded = !expanded;\n  });\n})();\n</script>\n"
     },
     "metadata": {},
     "execution_count": 68
    }
   ],
   "source": [
    "s = bpl.figure(x_range=conf_pob_edo[\"ABREVIATURA\"], plot_width=800, plot_height=600)\n",
    "s.vbar(x=conf_pob_edo[\"ABREVIATURA\"],top=conf_pob_edo[\"tasa de casos\"], width=0.7)"
   ]
  },
  {
   "cell_type": "code",
   "execution_count": 69,
   "metadata": {},
   "outputs": [
    {
     "output_type": "display_data",
     "data": {
      "text/html": "\n\n\n\n\n\n  <div class=\"bk-root\" id=\"922318a4-6227-4718-b5c5-092c7e6345ff\" data-root-id=\"1663\"></div>\n"
     },
     "metadata": {}
    },
    {
     "output_type": "display_data",
     "data": {
      "application/javascript": "(function(root) {\n  function embed_document(root) {\n    \n  var docs_json = {\"218e8386-1b1c-4e2d-b796-a5d9a5267b6d\":{\"roots\":{\"references\":[{\"attributes\":{\"below\":[{\"id\":\"1672\"}],\"center\":[{\"id\":\"1674\"},{\"id\":\"1678\"}],\"left\":[{\"id\":\"1675\"}],\"plot_width\":800,\"renderers\":[{\"id\":\"1696\"}],\"title\":{\"id\":\"1741\"},\"toolbar\":{\"id\":\"1686\"},\"x_range\":{\"id\":\"1664\"},\"x_scale\":{\"id\":\"1668\"},\"y_range\":{\"id\":\"1666\"},\"y_scale\":{\"id\":\"1670\"}},\"id\":\"1663\",\"subtype\":\"Figure\",\"type\":\"Plot\"},{\"attributes\":{},\"id\":\"1745\",\"type\":\"BasicTickFormatter\"},{\"attributes\":{\"factors\":[\"DF\",\"BS\",\"TC\",\"SR\",\"CL\",\"SP\",\"YN\",\"NL\",\"TS\",\"CM\",\"QR\",\"GT\",\"SL\",\"CC\",\"BC\",\"DG\",\"TL\",\"AS\",\"GR\",\"ZS\",\"MC\",\"PL\",\"NT\",\"QT\",\"OC\",\"MN\",\"HG\",\"VZ\",\"CH\",\"JC\",\"MS\",\"CS\"]},\"id\":\"1664\",\"type\":\"FactorRange\"},{\"attributes\":{\"fill_alpha\":{\"value\":0.1},\"fill_color\":{\"value\":\"#1f77b4\"},\"line_alpha\":{\"value\":0.1},\"line_color\":{\"value\":\"#1f77b4\"},\"top\":{\"field\":\"top\"},\"width\":{\"value\":0.7},\"x\":{\"field\":\"x\"}},\"id\":\"1695\",\"type\":\"VBar\"},{\"attributes\":{},\"id\":\"1680\",\"type\":\"WheelZoomTool\"},{\"attributes\":{},\"id\":\"1682\",\"type\":\"SaveTool\"},{\"attributes\":{\"formatter\":{\"id\":\"1745\"},\"ticker\":{\"id\":\"1676\"}},\"id\":\"1675\",\"type\":\"LinearAxis\"},{\"attributes\":{},\"id\":\"1668\",\"type\":\"CategoricalScale\"},{\"attributes\":{},\"id\":\"1666\",\"type\":\"DataRange1d\"},{\"attributes\":{},\"id\":\"1670\",\"type\":\"LinearScale\"},{\"attributes\":{\"formatter\":{\"id\":\"1743\"},\"ticker\":{\"id\":\"1673\"}},\"id\":\"1672\",\"type\":\"CategoricalAxis\"},{\"attributes\":{\"bottom_units\":\"screen\",\"fill_alpha\":0.5,\"fill_color\":\"lightgrey\",\"left_units\":\"screen\",\"level\":\"overlay\",\"line_alpha\":1.0,\"line_color\":\"black\",\"line_dash\":[4,4],\"line_width\":2,\"right_units\":\"screen\",\"top_units\":\"screen\"},\"id\":\"1685\",\"type\":\"BoxAnnotation\"},{\"attributes\":{},\"id\":\"1673\",\"type\":\"CategoricalTicker\"},{\"attributes\":{\"axis\":{\"id\":\"1672\"},\"ticker\":null},\"id\":\"1674\",\"type\":\"Grid\"},{\"attributes\":{\"overlay\":{\"id\":\"1685\"}},\"id\":\"1681\",\"type\":\"BoxZoomTool\"},{\"attributes\":{\"text\":\"\"},\"id\":\"1741\",\"type\":\"Title\"},{\"attributes\":{\"axis\":{\"id\":\"1675\"},\"dimension\":1,\"ticker\":null},\"id\":\"1678\",\"type\":\"Grid\"},{\"attributes\":{\"source\":{\"id\":\"1693\"}},\"id\":\"1697\",\"type\":\"CDSView\"},{\"attributes\":{},\"id\":\"1684\",\"type\":\"HelpTool\"},{\"attributes\":{\"data\":{\"top\":{\"__ndarray__\":\"fy2Uj7J1mUCjDL2MIXuWQCUeKJ/mZpRAbUchXyyBkkBv7z3J0lSNQKNhENYsjoxAUymshBUbjEAOG1kXN5+KQNksFyu1Y4pALF6+TZhUiEDdcYE/E6CHQPfV906wj4ZAfbkSjAyShEDJS6WqrMmDQMJKCN61toJAP9k6zleagkDryXsIFHiCQMnDjsx2T4JAuI1xze4egkDP90e/zoSBQA+PNY5ya4BAX6Vau2gPgEBVUkNWH25/QAul7Q7SUn9ActPpQoLpfUDKIhBDeul9QAJiL1fFd31AqHZior02ekBr2LDceZ53QKR7UWOmG3dAgJYKavf4c0BbNvquATRgQA==\",\"dtype\":\"float64\",\"order\":\"little\",\"shape\":[32]},\"x\":[\"DF\",\"BS\",\"TC\",\"SR\",\"CL\",\"SP\",\"YN\",\"NL\",\"TS\",\"CM\",\"QR\",\"GT\",\"SL\",\"CC\",\"BC\",\"DG\",\"TL\",\"AS\",\"GR\",\"ZS\",\"MC\",\"PL\",\"NT\",\"QT\",\"OC\",\"MN\",\"HG\",\"VZ\",\"CH\",\"JC\",\"MS\",\"CS\"]},\"selected\":{\"id\":\"1748\"},\"selection_policy\":{\"id\":\"1747\"}},\"id\":\"1693\",\"type\":\"ColumnDataSource\"},{\"attributes\":{},\"id\":\"1683\",\"type\":\"ResetTool\"},{\"attributes\":{},\"id\":\"1743\",\"type\":\"CategoricalTickFormatter\"},{\"attributes\":{},\"id\":\"1676\",\"type\":\"BasicTicker\"},{\"attributes\":{\"data_source\":{\"id\":\"1693\"},\"glyph\":{\"id\":\"1694\"},\"hover_glyph\":null,\"muted_glyph\":null,\"nonselection_glyph\":{\"id\":\"1695\"},\"selection_glyph\":null,\"view\":{\"id\":\"1697\"}},\"id\":\"1696\",\"type\":\"GlyphRenderer\"},{\"attributes\":{},\"id\":\"1747\",\"type\":\"UnionRenderers\"},{\"attributes\":{\"fill_color\":{\"value\":\"#1f77b4\"},\"line_color\":{\"value\":\"#1f77b4\"},\"top\":{\"field\":\"top\"},\"width\":{\"value\":0.7},\"x\":{\"field\":\"x\"}},\"id\":\"1694\",\"type\":\"VBar\"},{\"attributes\":{\"active_drag\":\"auto\",\"active_inspect\":\"auto\",\"active_multi\":null,\"active_scroll\":\"auto\",\"active_tap\":\"auto\",\"tools\":[{\"id\":\"1679\"},{\"id\":\"1680\"},{\"id\":\"1681\"},{\"id\":\"1682\"},{\"id\":\"1683\"},{\"id\":\"1684\"}]},\"id\":\"1686\",\"type\":\"Toolbar\"},{\"attributes\":{},\"id\":\"1748\",\"type\":\"Selection\"},{\"attributes\":{},\"id\":\"1679\",\"type\":\"PanTool\"}],\"root_ids\":[\"1663\"]},\"title\":\"Bokeh Application\",\"version\":\"2.2.1\"}};\n  var render_items = [{\"docid\":\"218e8386-1b1c-4e2d-b796-a5d9a5267b6d\",\"root_ids\":[\"1663\"],\"roots\":{\"1663\":\"922318a4-6227-4718-b5c5-092c7e6345ff\"}}];\n  root.Bokeh.embed.embed_items_notebook(docs_json, render_items);\n\n  }\n  if (root.Bokeh !== undefined) {\n    embed_document(root);\n  } else {\n    var attempts = 0;\n    var timer = setInterval(function(root) {\n      if (root.Bokeh !== undefined) {\n        clearInterval(timer);\n        embed_document(root);\n      } else {\n        attempts++;\n        if (attempts > 100) {\n          clearInterval(timer);\n          console.log(\"Bokeh: ERROR: Unable to run BokehJS code because BokehJS library is missing\");\n        }\n      }\n    }, 10, root)\n  }\n})(window);",
      "application/vnd.bokehjs_exec.v0+json": ""
     },
     "metadata": {
      "application/vnd.bokehjs_exec.v0+json": {
       "id": "1663"
      }
     }
    }
   ],
   "source": [
    "bpl.show(s)"
   ]
  },
  {
   "cell_type": "code",
   "execution_count": null,
   "metadata": {},
   "outputs": [],
   "source": []
  }
 ]
}